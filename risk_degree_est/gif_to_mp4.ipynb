{
 "cells": [
  {
   "cell_type": "code",
   "execution_count": 4,
   "metadata": {},
   "outputs": [
    {
     "name": "stdout",
     "output_type": "stream",
     "text": [
      "Moviepy - Building video C:/Users/naoki/anaconda_work/Faster-R-CNN-pytorch-main/data/ori_data/drama_clip/0/clip.mp4.\n",
      "Moviepy - Writing video C:/Users/naoki/anaconda_work/Faster-R-CNN-pytorch-main/data/ori_data/drama_clip/0/clip.mp4\n",
      "\n"
     ]
    },
    {
     "name": "stderr",
     "output_type": "stream",
     "text": [
      "                                                            \r"
     ]
    },
    {
     "name": "stdout",
     "output_type": "stream",
     "text": [
      "Moviepy - Done !\n",
      "Moviepy - video ready C:/Users/naoki/anaconda_work/Faster-R-CNN-pytorch-main/data/ori_data/drama_clip/0/clip.mp4\n",
      "Moviepy - Building video C:/Users/naoki/anaconda_work/Faster-R-CNN-pytorch-main/data/ori_data/drama_clip/1/clip.mp4.\n",
      "Moviepy - Writing video C:/Users/naoki/anaconda_work/Faster-R-CNN-pytorch-main/data/ori_data/drama_clip/1/clip.mp4\n",
      "\n"
     ]
    },
    {
     "name": "stderr",
     "output_type": "stream",
     "text": [
      "                                                            \r"
     ]
    },
    {
     "name": "stdout",
     "output_type": "stream",
     "text": [
      "Moviepy - Done !\n",
      "Moviepy - video ready C:/Users/naoki/anaconda_work/Faster-R-CNN-pytorch-main/data/ori_data/drama_clip/1/clip.mp4\n",
      "Moviepy - Building video C:/Users/naoki/anaconda_work/Faster-R-CNN-pytorch-main/data/ori_data/drama_clip/2/clip.mp4.\n",
      "Moviepy - Writing video C:/Users/naoki/anaconda_work/Faster-R-CNN-pytorch-main/data/ori_data/drama_clip/2/clip.mp4\n",
      "\n"
     ]
    },
    {
     "name": "stderr",
     "output_type": "stream",
     "text": [
      "                                                            \r"
     ]
    },
    {
     "name": "stdout",
     "output_type": "stream",
     "text": [
      "Moviepy - Done !\n",
      "Moviepy - video ready C:/Users/naoki/anaconda_work/Faster-R-CNN-pytorch-main/data/ori_data/drama_clip/2/clip.mp4\n",
      "Moviepy - Building video C:/Users/naoki/anaconda_work/Faster-R-CNN-pytorch-main/data/ori_data/drama_clip/3/clip.mp4.\n",
      "Moviepy - Writing video C:/Users/naoki/anaconda_work/Faster-R-CNN-pytorch-main/data/ori_data/drama_clip/3/clip.mp4\n",
      "\n"
     ]
    },
    {
     "name": "stderr",
     "output_type": "stream",
     "text": [
      "                                                            \r"
     ]
    },
    {
     "name": "stdout",
     "output_type": "stream",
     "text": [
      "Moviepy - Done !\n",
      "Moviepy - video ready C:/Users/naoki/anaconda_work/Faster-R-CNN-pytorch-main/data/ori_data/drama_clip/3/clip.mp4\n",
      "Moviepy - Building video C:/Users/naoki/anaconda_work/Faster-R-CNN-pytorch-main/data/ori_data/drama_clip/4/clip.mp4.\n",
      "Moviepy - Writing video C:/Users/naoki/anaconda_work/Faster-R-CNN-pytorch-main/data/ori_data/drama_clip/4/clip.mp4\n",
      "\n"
     ]
    },
    {
     "name": "stderr",
     "output_type": "stream",
     "text": [
      "                                                            \r"
     ]
    },
    {
     "name": "stdout",
     "output_type": "stream",
     "text": [
      "Moviepy - Done !\n",
      "Moviepy - video ready C:/Users/naoki/anaconda_work/Faster-R-CNN-pytorch-main/data/ori_data/drama_clip/4/clip.mp4\n",
      "Moviepy - Building video C:/Users/naoki/anaconda_work/Faster-R-CNN-pytorch-main/data/ori_data/drama_clip/5/clip.mp4.\n",
      "Moviepy - Writing video C:/Users/naoki/anaconda_work/Faster-R-CNN-pytorch-main/data/ori_data/drama_clip/5/clip.mp4\n",
      "\n"
     ]
    },
    {
     "name": "stderr",
     "output_type": "stream",
     "text": [
      "                                                            \r"
     ]
    },
    {
     "name": "stdout",
     "output_type": "stream",
     "text": [
      "Moviepy - Done !\n",
      "Moviepy - video ready C:/Users/naoki/anaconda_work/Faster-R-CNN-pytorch-main/data/ori_data/drama_clip/5/clip.mp4\n",
      "Moviepy - Building video C:/Users/naoki/anaconda_work/Faster-R-CNN-pytorch-main/data/ori_data/drama_clip/6/clip.mp4.\n",
      "Moviepy - Writing video C:/Users/naoki/anaconda_work/Faster-R-CNN-pytorch-main/data/ori_data/drama_clip/6/clip.mp4\n",
      "\n"
     ]
    },
    {
     "name": "stderr",
     "output_type": "stream",
     "text": [
      "                                                            \r"
     ]
    },
    {
     "name": "stdout",
     "output_type": "stream",
     "text": [
      "Moviepy - Done !\n",
      "Moviepy - video ready C:/Users/naoki/anaconda_work/Faster-R-CNN-pytorch-main/data/ori_data/drama_clip/6/clip.mp4\n",
      "Moviepy - Building video C:/Users/naoki/anaconda_work/Faster-R-CNN-pytorch-main/data/ori_data/drama_clip/7/clip.mp4.\n",
      "Moviepy - Writing video C:/Users/naoki/anaconda_work/Faster-R-CNN-pytorch-main/data/ori_data/drama_clip/7/clip.mp4\n",
      "\n"
     ]
    },
    {
     "name": "stderr",
     "output_type": "stream",
     "text": [
      "                                                            \r"
     ]
    },
    {
     "name": "stdout",
     "output_type": "stream",
     "text": [
      "Moviepy - Done !\n",
      "Moviepy - video ready C:/Users/naoki/anaconda_work/Faster-R-CNN-pytorch-main/data/ori_data/drama_clip/7/clip.mp4\n",
      "Moviepy - Building video C:/Users/naoki/anaconda_work/Faster-R-CNN-pytorch-main/data/ori_data/drama_clip/8/clip.mp4.\n",
      "Moviepy - Writing video C:/Users/naoki/anaconda_work/Faster-R-CNN-pytorch-main/data/ori_data/drama_clip/8/clip.mp4\n",
      "\n"
     ]
    },
    {
     "name": "stderr",
     "output_type": "stream",
     "text": [
      "                                                            \r"
     ]
    },
    {
     "name": "stdout",
     "output_type": "stream",
     "text": [
      "Moviepy - Done !\n",
      "Moviepy - video ready C:/Users/naoki/anaconda_work/Faster-R-CNN-pytorch-main/data/ori_data/drama_clip/8/clip.mp4\n",
      "Moviepy - Building video C:/Users/naoki/anaconda_work/Faster-R-CNN-pytorch-main/data/ori_data/drama_clip/9/clip.mp4.\n",
      "Moviepy - Writing video C:/Users/naoki/anaconda_work/Faster-R-CNN-pytorch-main/data/ori_data/drama_clip/9/clip.mp4\n",
      "\n"
     ]
    },
    {
     "name": "stderr",
     "output_type": "stream",
     "text": [
      "                                                            \r"
     ]
    },
    {
     "name": "stdout",
     "output_type": "stream",
     "text": [
      "Moviepy - Done !\n",
      "Moviepy - video ready C:/Users/naoki/anaconda_work/Faster-R-CNN-pytorch-main/data/ori_data/drama_clip/9/clip.mp4\n",
      "Moviepy - Building video C:/Users/naoki/anaconda_work/Faster-R-CNN-pytorch-main/data/ori_data/drama_clip/10/clip.mp4.\n",
      "Moviepy - Writing video C:/Users/naoki/anaconda_work/Faster-R-CNN-pytorch-main/data/ori_data/drama_clip/10/clip.mp4\n",
      "\n"
     ]
    },
    {
     "name": "stderr",
     "output_type": "stream",
     "text": [
      "                                                            \r"
     ]
    },
    {
     "name": "stdout",
     "output_type": "stream",
     "text": [
      "Moviepy - Done !\n",
      "Moviepy - video ready C:/Users/naoki/anaconda_work/Faster-R-CNN-pytorch-main/data/ori_data/drama_clip/10/clip.mp4\n",
      "Moviepy - Building video C:/Users/naoki/anaconda_work/Faster-R-CNN-pytorch-main/data/ori_data/drama_clip/11/clip.mp4.\n",
      "Moviepy - Writing video C:/Users/naoki/anaconda_work/Faster-R-CNN-pytorch-main/data/ori_data/drama_clip/11/clip.mp4\n",
      "\n"
     ]
    },
    {
     "name": "stderr",
     "output_type": "stream",
     "text": [
      "                                                            \r"
     ]
    },
    {
     "name": "stdout",
     "output_type": "stream",
     "text": [
      "Moviepy - Done !\n",
      "Moviepy - video ready C:/Users/naoki/anaconda_work/Faster-R-CNN-pytorch-main/data/ori_data/drama_clip/11/clip.mp4\n",
      "Moviepy - Building video C:/Users/naoki/anaconda_work/Faster-R-CNN-pytorch-main/data/ori_data/drama_clip/12/clip.mp4.\n",
      "Moviepy - Writing video C:/Users/naoki/anaconda_work/Faster-R-CNN-pytorch-main/data/ori_data/drama_clip/12/clip.mp4\n",
      "\n"
     ]
    },
    {
     "name": "stderr",
     "output_type": "stream",
     "text": [
      "                                                            \r"
     ]
    },
    {
     "name": "stdout",
     "output_type": "stream",
     "text": [
      "Moviepy - Done !\n",
      "Moviepy - video ready C:/Users/naoki/anaconda_work/Faster-R-CNN-pytorch-main/data/ori_data/drama_clip/12/clip.mp4\n",
      "Moviepy - Building video C:/Users/naoki/anaconda_work/Faster-R-CNN-pytorch-main/data/ori_data/drama_clip/13/clip.mp4.\n",
      "Moviepy - Writing video C:/Users/naoki/anaconda_work/Faster-R-CNN-pytorch-main/data/ori_data/drama_clip/13/clip.mp4\n",
      "\n"
     ]
    },
    {
     "name": "stderr",
     "output_type": "stream",
     "text": [
      "                                                              \r"
     ]
    },
    {
     "name": "stdout",
     "output_type": "stream",
     "text": [
      "Moviepy - Done !\n",
      "Moviepy - video ready C:/Users/naoki/anaconda_work/Faster-R-CNN-pytorch-main/data/ori_data/drama_clip/13/clip.mp4\n",
      "Moviepy - Building video C:/Users/naoki/anaconda_work/Faster-R-CNN-pytorch-main/data/ori_data/drama_clip/14/clip.mp4.\n",
      "Moviepy - Writing video C:/Users/naoki/anaconda_work/Faster-R-CNN-pytorch-main/data/ori_data/drama_clip/14/clip.mp4\n",
      "\n"
     ]
    },
    {
     "name": "stderr",
     "output_type": "stream",
     "text": [
      "                                                            \r"
     ]
    },
    {
     "name": "stdout",
     "output_type": "stream",
     "text": [
      "Moviepy - Done !\n",
      "Moviepy - video ready C:/Users/naoki/anaconda_work/Faster-R-CNN-pytorch-main/data/ori_data/drama_clip/14/clip.mp4\n",
      "Moviepy - Building video C:/Users/naoki/anaconda_work/Faster-R-CNN-pytorch-main/data/ori_data/drama_clip/15/clip.mp4.\n",
      "Moviepy - Writing video C:/Users/naoki/anaconda_work/Faster-R-CNN-pytorch-main/data/ori_data/drama_clip/15/clip.mp4\n",
      "\n"
     ]
    },
    {
     "name": "stderr",
     "output_type": "stream",
     "text": [
      "                                                            \r"
     ]
    },
    {
     "name": "stdout",
     "output_type": "stream",
     "text": [
      "Moviepy - Done !\n",
      "Moviepy - video ready C:/Users/naoki/anaconda_work/Faster-R-CNN-pytorch-main/data/ori_data/drama_clip/15/clip.mp4\n",
      "Moviepy - Building video C:/Users/naoki/anaconda_work/Faster-R-CNN-pytorch-main/data/ori_data/drama_clip/16/clip.mp4.\n",
      "Moviepy - Writing video C:/Users/naoki/anaconda_work/Faster-R-CNN-pytorch-main/data/ori_data/drama_clip/16/clip.mp4\n",
      "\n"
     ]
    },
    {
     "name": "stderr",
     "output_type": "stream",
     "text": [
      "                                                              \r"
     ]
    },
    {
     "name": "stdout",
     "output_type": "stream",
     "text": [
      "Moviepy - Done !\n",
      "Moviepy - video ready C:/Users/naoki/anaconda_work/Faster-R-CNN-pytorch-main/data/ori_data/drama_clip/16/clip.mp4\n",
      "Moviepy - Building video C:/Users/naoki/anaconda_work/Faster-R-CNN-pytorch-main/data/ori_data/drama_clip/17/clip.mp4.\n",
      "Moviepy - Writing video C:/Users/naoki/anaconda_work/Faster-R-CNN-pytorch-main/data/ori_data/drama_clip/17/clip.mp4\n",
      "\n"
     ]
    },
    {
     "name": "stderr",
     "output_type": "stream",
     "text": [
      "                                                            \r"
     ]
    },
    {
     "name": "stdout",
     "output_type": "stream",
     "text": [
      "Moviepy - Done !\n",
      "Moviepy - video ready C:/Users/naoki/anaconda_work/Faster-R-CNN-pytorch-main/data/ori_data/drama_clip/17/clip.mp4\n",
      "Moviepy - Building video C:/Users/naoki/anaconda_work/Faster-R-CNN-pytorch-main/data/ori_data/drama_clip/18/clip.mp4.\n",
      "Moviepy - Writing video C:/Users/naoki/anaconda_work/Faster-R-CNN-pytorch-main/data/ori_data/drama_clip/18/clip.mp4\n",
      "\n"
     ]
    },
    {
     "name": "stderr",
     "output_type": "stream",
     "text": [
      "                                                            \r"
     ]
    },
    {
     "name": "stdout",
     "output_type": "stream",
     "text": [
      "Moviepy - Done !\n",
      "Moviepy - video ready C:/Users/naoki/anaconda_work/Faster-R-CNN-pytorch-main/data/ori_data/drama_clip/18/clip.mp4\n",
      "Moviepy - Building video C:/Users/naoki/anaconda_work/Faster-R-CNN-pytorch-main/data/ori_data/drama_clip/19/clip.mp4.\n",
      "Moviepy - Writing video C:/Users/naoki/anaconda_work/Faster-R-CNN-pytorch-main/data/ori_data/drama_clip/19/clip.mp4\n",
      "\n"
     ]
    },
    {
     "name": "stderr",
     "output_type": "stream",
     "text": [
      "                                                              \r"
     ]
    },
    {
     "name": "stdout",
     "output_type": "stream",
     "text": [
      "Moviepy - Done !\n",
      "Moviepy - video ready C:/Users/naoki/anaconda_work/Faster-R-CNN-pytorch-main/data/ori_data/drama_clip/19/clip.mp4\n",
      "Moviepy - Building video C:/Users/naoki/anaconda_work/Faster-R-CNN-pytorch-main/data/ori_data/drama_clip/20/clip.mp4.\n",
      "Moviepy - Writing video C:/Users/naoki/anaconda_work/Faster-R-CNN-pytorch-main/data/ori_data/drama_clip/20/clip.mp4\n",
      "\n"
     ]
    },
    {
     "name": "stderr",
     "output_type": "stream",
     "text": [
      "                                                            \r"
     ]
    },
    {
     "name": "stdout",
     "output_type": "stream",
     "text": [
      "Moviepy - Done !\n",
      "Moviepy - video ready C:/Users/naoki/anaconda_work/Faster-R-CNN-pytorch-main/data/ori_data/drama_clip/20/clip.mp4\n",
      "Moviepy - Building video C:/Users/naoki/anaconda_work/Faster-R-CNN-pytorch-main/data/ori_data/drama_clip/21/clip.mp4.\n",
      "Moviepy - Writing video C:/Users/naoki/anaconda_work/Faster-R-CNN-pytorch-main/data/ori_data/drama_clip/21/clip.mp4\n",
      "\n"
     ]
    },
    {
     "name": "stderr",
     "output_type": "stream",
     "text": [
      "                                                            \r"
     ]
    },
    {
     "name": "stdout",
     "output_type": "stream",
     "text": [
      "Moviepy - Done !\n",
      "Moviepy - video ready C:/Users/naoki/anaconda_work/Faster-R-CNN-pytorch-main/data/ori_data/drama_clip/21/clip.mp4\n",
      "Moviepy - Building video C:/Users/naoki/anaconda_work/Faster-R-CNN-pytorch-main/data/ori_data/drama_clip/22/clip.mp4.\n",
      "Moviepy - Writing video C:/Users/naoki/anaconda_work/Faster-R-CNN-pytorch-main/data/ori_data/drama_clip/22/clip.mp4\n",
      "\n"
     ]
    },
    {
     "name": "stderr",
     "output_type": "stream",
     "text": [
      "                                                            \r"
     ]
    },
    {
     "name": "stdout",
     "output_type": "stream",
     "text": [
      "Moviepy - Done !\n",
      "Moviepy - video ready C:/Users/naoki/anaconda_work/Faster-R-CNN-pytorch-main/data/ori_data/drama_clip/22/clip.mp4\n",
      "Moviepy - Building video C:/Users/naoki/anaconda_work/Faster-R-CNN-pytorch-main/data/ori_data/drama_clip/23/clip.mp4.\n",
      "Moviepy - Writing video C:/Users/naoki/anaconda_work/Faster-R-CNN-pytorch-main/data/ori_data/drama_clip/23/clip.mp4\n",
      "\n"
     ]
    },
    {
     "name": "stderr",
     "output_type": "stream",
     "text": [
      "                                                              \r"
     ]
    },
    {
     "name": "stdout",
     "output_type": "stream",
     "text": [
      "Moviepy - Done !\n",
      "Moviepy - video ready C:/Users/naoki/anaconda_work/Faster-R-CNN-pytorch-main/data/ori_data/drama_clip/23/clip.mp4\n",
      "Moviepy - Building video C:/Users/naoki/anaconda_work/Faster-R-CNN-pytorch-main/data/ori_data/drama_clip/24/clip.mp4.\n",
      "Moviepy - Writing video C:/Users/naoki/anaconda_work/Faster-R-CNN-pytorch-main/data/ori_data/drama_clip/24/clip.mp4\n",
      "\n"
     ]
    },
    {
     "name": "stderr",
     "output_type": "stream",
     "text": [
      "                                                            \r"
     ]
    },
    {
     "name": "stdout",
     "output_type": "stream",
     "text": [
      "Moviepy - Done !\n",
      "Moviepy - video ready C:/Users/naoki/anaconda_work/Faster-R-CNN-pytorch-main/data/ori_data/drama_clip/24/clip.mp4\n",
      "Moviepy - Building video C:/Users/naoki/anaconda_work/Faster-R-CNN-pytorch-main/data/ori_data/drama_clip/25/clip.mp4.\n",
      "Moviepy - Writing video C:/Users/naoki/anaconda_work/Faster-R-CNN-pytorch-main/data/ori_data/drama_clip/25/clip.mp4\n",
      "\n"
     ]
    },
    {
     "name": "stderr",
     "output_type": "stream",
     "text": [
      "                                                            \r"
     ]
    },
    {
     "name": "stdout",
     "output_type": "stream",
     "text": [
      "Moviepy - Done !\n",
      "Moviepy - video ready C:/Users/naoki/anaconda_work/Faster-R-CNN-pytorch-main/data/ori_data/drama_clip/25/clip.mp4\n",
      "Moviepy - Building video C:/Users/naoki/anaconda_work/Faster-R-CNN-pytorch-main/data/ori_data/drama_clip/26/clip.mp4.\n",
      "Moviepy - Writing video C:/Users/naoki/anaconda_work/Faster-R-CNN-pytorch-main/data/ori_data/drama_clip/26/clip.mp4\n",
      "\n"
     ]
    },
    {
     "name": "stderr",
     "output_type": "stream",
     "text": [
      "                                                            \r"
     ]
    },
    {
     "name": "stdout",
     "output_type": "stream",
     "text": [
      "Moviepy - Done !\n",
      "Moviepy - video ready C:/Users/naoki/anaconda_work/Faster-R-CNN-pytorch-main/data/ori_data/drama_clip/26/clip.mp4\n",
      "Moviepy - Building video C:/Users/naoki/anaconda_work/Faster-R-CNN-pytorch-main/data/ori_data/drama_clip/27/clip.mp4.\n",
      "Moviepy - Writing video C:/Users/naoki/anaconda_work/Faster-R-CNN-pytorch-main/data/ori_data/drama_clip/27/clip.mp4\n",
      "\n"
     ]
    },
    {
     "name": "stderr",
     "output_type": "stream",
     "text": [
      "                                                            \r"
     ]
    },
    {
     "name": "stdout",
     "output_type": "stream",
     "text": [
      "Moviepy - Done !\n",
      "Moviepy - video ready C:/Users/naoki/anaconda_work/Faster-R-CNN-pytorch-main/data/ori_data/drama_clip/27/clip.mp4\n",
      "Moviepy - Building video C:/Users/naoki/anaconda_work/Faster-R-CNN-pytorch-main/data/ori_data/drama_clip/28/clip.mp4.\n",
      "Moviepy - Writing video C:/Users/naoki/anaconda_work/Faster-R-CNN-pytorch-main/data/ori_data/drama_clip/28/clip.mp4\n",
      "\n"
     ]
    },
    {
     "name": "stderr",
     "output_type": "stream",
     "text": [
      "                                                            \r"
     ]
    },
    {
     "name": "stdout",
     "output_type": "stream",
     "text": [
      "Moviepy - Done !\n",
      "Moviepy - video ready C:/Users/naoki/anaconda_work/Faster-R-CNN-pytorch-main/data/ori_data/drama_clip/28/clip.mp4\n",
      "Moviepy - Building video C:/Users/naoki/anaconda_work/Faster-R-CNN-pytorch-main/data/ori_data/drama_clip/29/clip.mp4.\n",
      "Moviepy - Writing video C:/Users/naoki/anaconda_work/Faster-R-CNN-pytorch-main/data/ori_data/drama_clip/29/clip.mp4\n",
      "\n"
     ]
    },
    {
     "name": "stderr",
     "output_type": "stream",
     "text": [
      "                                                            \r"
     ]
    },
    {
     "name": "stdout",
     "output_type": "stream",
     "text": [
      "Moviepy - Done !\n",
      "Moviepy - video ready C:/Users/naoki/anaconda_work/Faster-R-CNN-pytorch-main/data/ori_data/drama_clip/29/clip.mp4\n",
      "Moviepy - Building video C:/Users/naoki/anaconda_work/Faster-R-CNN-pytorch-main/data/ori_data/drama_clip/30/clip.mp4.\n",
      "Moviepy - Writing video C:/Users/naoki/anaconda_work/Faster-R-CNN-pytorch-main/data/ori_data/drama_clip/30/clip.mp4\n",
      "\n"
     ]
    },
    {
     "name": "stderr",
     "output_type": "stream",
     "text": [
      "                                                            \r"
     ]
    },
    {
     "name": "stdout",
     "output_type": "stream",
     "text": [
      "Moviepy - Done !\n",
      "Moviepy - video ready C:/Users/naoki/anaconda_work/Faster-R-CNN-pytorch-main/data/ori_data/drama_clip/30/clip.mp4\n",
      "Moviepy - Building video C:/Users/naoki/anaconda_work/Faster-R-CNN-pytorch-main/data/ori_data/drama_clip/31/clip.mp4.\n",
      "Moviepy - Writing video C:/Users/naoki/anaconda_work/Faster-R-CNN-pytorch-main/data/ori_data/drama_clip/31/clip.mp4\n",
      "\n"
     ]
    },
    {
     "name": "stderr",
     "output_type": "stream",
     "text": [
      "                                                            \r"
     ]
    },
    {
     "name": "stdout",
     "output_type": "stream",
     "text": [
      "Moviepy - Done !\n",
      "Moviepy - video ready C:/Users/naoki/anaconda_work/Faster-R-CNN-pytorch-main/data/ori_data/drama_clip/31/clip.mp4\n",
      "Moviepy - Building video C:/Users/naoki/anaconda_work/Faster-R-CNN-pytorch-main/data/ori_data/drama_clip/32/clip.mp4.\n",
      "Moviepy - Writing video C:/Users/naoki/anaconda_work/Faster-R-CNN-pytorch-main/data/ori_data/drama_clip/32/clip.mp4\n",
      "\n"
     ]
    },
    {
     "name": "stderr",
     "output_type": "stream",
     "text": [
      "                                                            \r"
     ]
    },
    {
     "name": "stdout",
     "output_type": "stream",
     "text": [
      "Moviepy - Done !\n",
      "Moviepy - video ready C:/Users/naoki/anaconda_work/Faster-R-CNN-pytorch-main/data/ori_data/drama_clip/32/clip.mp4\n",
      "Moviepy - Building video C:/Users/naoki/anaconda_work/Faster-R-CNN-pytorch-main/data/ori_data/drama_clip/33/clip.mp4.\n",
      "Moviepy - Writing video C:/Users/naoki/anaconda_work/Faster-R-CNN-pytorch-main/data/ori_data/drama_clip/33/clip.mp4\n",
      "\n"
     ]
    },
    {
     "name": "stderr",
     "output_type": "stream",
     "text": [
      "                                                            \r"
     ]
    },
    {
     "name": "stdout",
     "output_type": "stream",
     "text": [
      "Moviepy - Done !\n",
      "Moviepy - video ready C:/Users/naoki/anaconda_work/Faster-R-CNN-pytorch-main/data/ori_data/drama_clip/33/clip.mp4\n",
      "Moviepy - Building video C:/Users/naoki/anaconda_work/Faster-R-CNN-pytorch-main/data/ori_data/drama_clip/34/clip.mp4.\n",
      "Moviepy - Writing video C:/Users/naoki/anaconda_work/Faster-R-CNN-pytorch-main/data/ori_data/drama_clip/34/clip.mp4\n",
      "\n"
     ]
    },
    {
     "name": "stderr",
     "output_type": "stream",
     "text": [
      "                                                            \r"
     ]
    },
    {
     "name": "stdout",
     "output_type": "stream",
     "text": [
      "Moviepy - Done !\n",
      "Moviepy - video ready C:/Users/naoki/anaconda_work/Faster-R-CNN-pytorch-main/data/ori_data/drama_clip/34/clip.mp4\n",
      "Moviepy - Building video C:/Users/naoki/anaconda_work/Faster-R-CNN-pytorch-main/data/ori_data/drama_clip/35/clip.mp4.\n",
      "Moviepy - Writing video C:/Users/naoki/anaconda_work/Faster-R-CNN-pytorch-main/data/ori_data/drama_clip/35/clip.mp4\n",
      "\n"
     ]
    },
    {
     "name": "stderr",
     "output_type": "stream",
     "text": [
      "                                                            \r"
     ]
    },
    {
     "name": "stdout",
     "output_type": "stream",
     "text": [
      "Moviepy - Done !\n",
      "Moviepy - video ready C:/Users/naoki/anaconda_work/Faster-R-CNN-pytorch-main/data/ori_data/drama_clip/35/clip.mp4\n",
      "Moviepy - Building video C:/Users/naoki/anaconda_work/Faster-R-CNN-pytorch-main/data/ori_data/drama_clip/36/clip.mp4.\n",
      "Moviepy - Writing video C:/Users/naoki/anaconda_work/Faster-R-CNN-pytorch-main/data/ori_data/drama_clip/36/clip.mp4\n",
      "\n"
     ]
    },
    {
     "name": "stderr",
     "output_type": "stream",
     "text": [
      "                                                            \r"
     ]
    },
    {
     "name": "stdout",
     "output_type": "stream",
     "text": [
      "Moviepy - Done !\n",
      "Moviepy - video ready C:/Users/naoki/anaconda_work/Faster-R-CNN-pytorch-main/data/ori_data/drama_clip/36/clip.mp4\n",
      "Moviepy - Building video C:/Users/naoki/anaconda_work/Faster-R-CNN-pytorch-main/data/ori_data/drama_clip/37/clip.mp4.\n",
      "Moviepy - Writing video C:/Users/naoki/anaconda_work/Faster-R-CNN-pytorch-main/data/ori_data/drama_clip/37/clip.mp4\n",
      "\n"
     ]
    },
    {
     "name": "stderr",
     "output_type": "stream",
     "text": [
      "                                                            \r"
     ]
    },
    {
     "name": "stdout",
     "output_type": "stream",
     "text": [
      "Moviepy - Done !\n",
      "Moviepy - video ready C:/Users/naoki/anaconda_work/Faster-R-CNN-pytorch-main/data/ori_data/drama_clip/37/clip.mp4\n",
      "Moviepy - Building video C:/Users/naoki/anaconda_work/Faster-R-CNN-pytorch-main/data/ori_data/drama_clip/38/clip.mp4.\n",
      "Moviepy - Writing video C:/Users/naoki/anaconda_work/Faster-R-CNN-pytorch-main/data/ori_data/drama_clip/38/clip.mp4\n",
      "\n"
     ]
    },
    {
     "name": "stderr",
     "output_type": "stream",
     "text": [
      "                                                            \r"
     ]
    },
    {
     "name": "stdout",
     "output_type": "stream",
     "text": [
      "Moviepy - Done !\n",
      "Moviepy - video ready C:/Users/naoki/anaconda_work/Faster-R-CNN-pytorch-main/data/ori_data/drama_clip/38/clip.mp4\n",
      "Moviepy - Building video C:/Users/naoki/anaconda_work/Faster-R-CNN-pytorch-main/data/ori_data/drama_clip/39/clip.mp4.\n",
      "Moviepy - Writing video C:/Users/naoki/anaconda_work/Faster-R-CNN-pytorch-main/data/ori_data/drama_clip/39/clip.mp4\n",
      "\n"
     ]
    },
    {
     "name": "stderr",
     "output_type": "stream",
     "text": [
      "                                                            \r"
     ]
    },
    {
     "name": "stdout",
     "output_type": "stream",
     "text": [
      "Moviepy - Done !\n",
      "Moviepy - video ready C:/Users/naoki/anaconda_work/Faster-R-CNN-pytorch-main/data/ori_data/drama_clip/39/clip.mp4\n",
      "Moviepy - Building video C:/Users/naoki/anaconda_work/Faster-R-CNN-pytorch-main/data/ori_data/drama_clip/40/clip.mp4.\n",
      "Moviepy - Writing video C:/Users/naoki/anaconda_work/Faster-R-CNN-pytorch-main/data/ori_data/drama_clip/40/clip.mp4\n",
      "\n"
     ]
    },
    {
     "name": "stderr",
     "output_type": "stream",
     "text": [
      "                                                            \r"
     ]
    },
    {
     "name": "stdout",
     "output_type": "stream",
     "text": [
      "Moviepy - Done !\n",
      "Moviepy - video ready C:/Users/naoki/anaconda_work/Faster-R-CNN-pytorch-main/data/ori_data/drama_clip/40/clip.mp4\n",
      "Moviepy - Building video C:/Users/naoki/anaconda_work/Faster-R-CNN-pytorch-main/data/ori_data/drama_clip/41/clip.mp4.\n",
      "Moviepy - Writing video C:/Users/naoki/anaconda_work/Faster-R-CNN-pytorch-main/data/ori_data/drama_clip/41/clip.mp4\n",
      "\n"
     ]
    },
    {
     "name": "stderr",
     "output_type": "stream",
     "text": [
      "                                                            \r"
     ]
    },
    {
     "name": "stdout",
     "output_type": "stream",
     "text": [
      "Moviepy - Done !\n",
      "Moviepy - video ready C:/Users/naoki/anaconda_work/Faster-R-CNN-pytorch-main/data/ori_data/drama_clip/41/clip.mp4\n",
      "Moviepy - Building video C:/Users/naoki/anaconda_work/Faster-R-CNN-pytorch-main/data/ori_data/drama_clip/42/clip.mp4.\n",
      "Moviepy - Writing video C:/Users/naoki/anaconda_work/Faster-R-CNN-pytorch-main/data/ori_data/drama_clip/42/clip.mp4\n",
      "\n"
     ]
    },
    {
     "name": "stderr",
     "output_type": "stream",
     "text": [
      "                                                            \r"
     ]
    },
    {
     "name": "stdout",
     "output_type": "stream",
     "text": [
      "Moviepy - Done !\n",
      "Moviepy - video ready C:/Users/naoki/anaconda_work/Faster-R-CNN-pytorch-main/data/ori_data/drama_clip/42/clip.mp4\n",
      "Moviepy - Building video C:/Users/naoki/anaconda_work/Faster-R-CNN-pytorch-main/data/ori_data/drama_clip/43/clip.mp4.\n",
      "Moviepy - Writing video C:/Users/naoki/anaconda_work/Faster-R-CNN-pytorch-main/data/ori_data/drama_clip/43/clip.mp4\n",
      "\n"
     ]
    },
    {
     "name": "stderr",
     "output_type": "stream",
     "text": [
      "                                                            \r"
     ]
    },
    {
     "name": "stdout",
     "output_type": "stream",
     "text": [
      "Moviepy - Done !\n",
      "Moviepy - video ready C:/Users/naoki/anaconda_work/Faster-R-CNN-pytorch-main/data/ori_data/drama_clip/43/clip.mp4\n",
      "Moviepy - Building video C:/Users/naoki/anaconda_work/Faster-R-CNN-pytorch-main/data/ori_data/drama_clip/44/clip.mp4.\n",
      "Moviepy - Writing video C:/Users/naoki/anaconda_work/Faster-R-CNN-pytorch-main/data/ori_data/drama_clip/44/clip.mp4\n",
      "\n"
     ]
    },
    {
     "name": "stderr",
     "output_type": "stream",
     "text": [
      "                                                            \r"
     ]
    },
    {
     "name": "stdout",
     "output_type": "stream",
     "text": [
      "Moviepy - Done !\n",
      "Moviepy - video ready C:/Users/naoki/anaconda_work/Faster-R-CNN-pytorch-main/data/ori_data/drama_clip/44/clip.mp4\n",
      "Moviepy - Building video C:/Users/naoki/anaconda_work/Faster-R-CNN-pytorch-main/data/ori_data/drama_clip/45/clip.mp4.\n",
      "Moviepy - Writing video C:/Users/naoki/anaconda_work/Faster-R-CNN-pytorch-main/data/ori_data/drama_clip/45/clip.mp4\n",
      "\n"
     ]
    },
    {
     "name": "stderr",
     "output_type": "stream",
     "text": [
      "                                                            \r"
     ]
    },
    {
     "name": "stdout",
     "output_type": "stream",
     "text": [
      "Moviepy - Done !\n",
      "Moviepy - video ready C:/Users/naoki/anaconda_work/Faster-R-CNN-pytorch-main/data/ori_data/drama_clip/45/clip.mp4\n",
      "Moviepy - Building video C:/Users/naoki/anaconda_work/Faster-R-CNN-pytorch-main/data/ori_data/drama_clip/46/clip.mp4.\n",
      "Moviepy - Writing video C:/Users/naoki/anaconda_work/Faster-R-CNN-pytorch-main/data/ori_data/drama_clip/46/clip.mp4\n",
      "\n"
     ]
    },
    {
     "name": "stderr",
     "output_type": "stream",
     "text": [
      "                                                            \r"
     ]
    },
    {
     "name": "stdout",
     "output_type": "stream",
     "text": [
      "Moviepy - Done !\n",
      "Moviepy - video ready C:/Users/naoki/anaconda_work/Faster-R-CNN-pytorch-main/data/ori_data/drama_clip/46/clip.mp4\n",
      "Moviepy - Building video C:/Users/naoki/anaconda_work/Faster-R-CNN-pytorch-main/data/ori_data/drama_clip/47/clip.mp4.\n",
      "Moviepy - Writing video C:/Users/naoki/anaconda_work/Faster-R-CNN-pytorch-main/data/ori_data/drama_clip/47/clip.mp4\n",
      "\n"
     ]
    },
    {
     "name": "stderr",
     "output_type": "stream",
     "text": [
      "                                                            \r"
     ]
    },
    {
     "name": "stdout",
     "output_type": "stream",
     "text": [
      "Moviepy - Done !\n",
      "Moviepy - video ready C:/Users/naoki/anaconda_work/Faster-R-CNN-pytorch-main/data/ori_data/drama_clip/47/clip.mp4\n",
      "Moviepy - Building video C:/Users/naoki/anaconda_work/Faster-R-CNN-pytorch-main/data/ori_data/drama_clip/48/clip.mp4.\n",
      "Moviepy - Writing video C:/Users/naoki/anaconda_work/Faster-R-CNN-pytorch-main/data/ori_data/drama_clip/48/clip.mp4\n",
      "\n"
     ]
    },
    {
     "name": "stderr",
     "output_type": "stream",
     "text": [
      "                                                            \r"
     ]
    },
    {
     "name": "stdout",
     "output_type": "stream",
     "text": [
      "Moviepy - Done !\n",
      "Moviepy - video ready C:/Users/naoki/anaconda_work/Faster-R-CNN-pytorch-main/data/ori_data/drama_clip/48/clip.mp4\n",
      "Moviepy - Building video C:/Users/naoki/anaconda_work/Faster-R-CNN-pytorch-main/data/ori_data/drama_clip/49/clip.mp4.\n",
      "Moviepy - Writing video C:/Users/naoki/anaconda_work/Faster-R-CNN-pytorch-main/data/ori_data/drama_clip/49/clip.mp4\n",
      "\n"
     ]
    },
    {
     "name": "stderr",
     "output_type": "stream",
     "text": [
      "                                                            \r"
     ]
    },
    {
     "name": "stdout",
     "output_type": "stream",
     "text": [
      "Moviepy - Done !\n",
      "Moviepy - video ready C:/Users/naoki/anaconda_work/Faster-R-CNN-pytorch-main/data/ori_data/drama_clip/49/clip.mp4\n",
      "Moviepy - Building video C:/Users/naoki/anaconda_work/Faster-R-CNN-pytorch-main/data/ori_data/drama_clip/50/clip.mp4.\n",
      "Moviepy - Writing video C:/Users/naoki/anaconda_work/Faster-R-CNN-pytorch-main/data/ori_data/drama_clip/50/clip.mp4\n",
      "\n"
     ]
    },
    {
     "name": "stderr",
     "output_type": "stream",
     "text": [
      "                                                            \r"
     ]
    },
    {
     "name": "stdout",
     "output_type": "stream",
     "text": [
      "Moviepy - Done !\n",
      "Moviepy - video ready C:/Users/naoki/anaconda_work/Faster-R-CNN-pytorch-main/data/ori_data/drama_clip/50/clip.mp4\n",
      "Moviepy - Building video C:/Users/naoki/anaconda_work/Faster-R-CNN-pytorch-main/data/ori_data/drama_clip/51/clip.mp4.\n",
      "Moviepy - Writing video C:/Users/naoki/anaconda_work/Faster-R-CNN-pytorch-main/data/ori_data/drama_clip/51/clip.mp4\n",
      "\n"
     ]
    },
    {
     "name": "stderr",
     "output_type": "stream",
     "text": [
      "                                                            \r"
     ]
    },
    {
     "name": "stdout",
     "output_type": "stream",
     "text": [
      "Moviepy - Done !\n",
      "Moviepy - video ready C:/Users/naoki/anaconda_work/Faster-R-CNN-pytorch-main/data/ori_data/drama_clip/51/clip.mp4\n",
      "Moviepy - Building video C:/Users/naoki/anaconda_work/Faster-R-CNN-pytorch-main/data/ori_data/drama_clip/52/clip.mp4.\n",
      "Moviepy - Writing video C:/Users/naoki/anaconda_work/Faster-R-CNN-pytorch-main/data/ori_data/drama_clip/52/clip.mp4\n",
      "\n"
     ]
    },
    {
     "name": "stderr",
     "output_type": "stream",
     "text": [
      "                                                            \r"
     ]
    },
    {
     "name": "stdout",
     "output_type": "stream",
     "text": [
      "Moviepy - Done !\n",
      "Moviepy - video ready C:/Users/naoki/anaconda_work/Faster-R-CNN-pytorch-main/data/ori_data/drama_clip/52/clip.mp4\n",
      "Moviepy - Building video C:/Users/naoki/anaconda_work/Faster-R-CNN-pytorch-main/data/ori_data/drama_clip/53/clip.mp4.\n",
      "Moviepy - Writing video C:/Users/naoki/anaconda_work/Faster-R-CNN-pytorch-main/data/ori_data/drama_clip/53/clip.mp4\n",
      "\n"
     ]
    },
    {
     "name": "stderr",
     "output_type": "stream",
     "text": [
      "                                                              \r"
     ]
    },
    {
     "name": "stdout",
     "output_type": "stream",
     "text": [
      "Moviepy - Done !\n",
      "Moviepy - video ready C:/Users/naoki/anaconda_work/Faster-R-CNN-pytorch-main/data/ori_data/drama_clip/53/clip.mp4\n",
      "Moviepy - Building video C:/Users/naoki/anaconda_work/Faster-R-CNN-pytorch-main/data/ori_data/drama_clip/54/clip.mp4.\n",
      "Moviepy - Writing video C:/Users/naoki/anaconda_work/Faster-R-CNN-pytorch-main/data/ori_data/drama_clip/54/clip.mp4\n",
      "\n"
     ]
    },
    {
     "name": "stderr",
     "output_type": "stream",
     "text": [
      "                                                            \r"
     ]
    },
    {
     "name": "stdout",
     "output_type": "stream",
     "text": [
      "Moviepy - Done !\n",
      "Moviepy - video ready C:/Users/naoki/anaconda_work/Faster-R-CNN-pytorch-main/data/ori_data/drama_clip/54/clip.mp4\n",
      "Moviepy - Building video C:/Users/naoki/anaconda_work/Faster-R-CNN-pytorch-main/data/ori_data/drama_clip/55/clip.mp4.\n",
      "Moviepy - Writing video C:/Users/naoki/anaconda_work/Faster-R-CNN-pytorch-main/data/ori_data/drama_clip/55/clip.mp4\n",
      "\n"
     ]
    },
    {
     "name": "stderr",
     "output_type": "stream",
     "text": [
      "                                                            \r"
     ]
    },
    {
     "name": "stdout",
     "output_type": "stream",
     "text": [
      "Moviepy - Done !\n",
      "Moviepy - video ready C:/Users/naoki/anaconda_work/Faster-R-CNN-pytorch-main/data/ori_data/drama_clip/55/clip.mp4\n",
      "Moviepy - Building video C:/Users/naoki/anaconda_work/Faster-R-CNN-pytorch-main/data/ori_data/drama_clip/56/clip.mp4.\n",
      "Moviepy - Writing video C:/Users/naoki/anaconda_work/Faster-R-CNN-pytorch-main/data/ori_data/drama_clip/56/clip.mp4\n",
      "\n"
     ]
    },
    {
     "name": "stderr",
     "output_type": "stream",
     "text": [
      "                                                              \r"
     ]
    },
    {
     "name": "stdout",
     "output_type": "stream",
     "text": [
      "Moviepy - Done !\n",
      "Moviepy - video ready C:/Users/naoki/anaconda_work/Faster-R-CNN-pytorch-main/data/ori_data/drama_clip/56/clip.mp4\n",
      "Moviepy - Building video C:/Users/naoki/anaconda_work/Faster-R-CNN-pytorch-main/data/ori_data/drama_clip/57/clip.mp4.\n",
      "Moviepy - Writing video C:/Users/naoki/anaconda_work/Faster-R-CNN-pytorch-main/data/ori_data/drama_clip/57/clip.mp4\n",
      "\n"
     ]
    },
    {
     "name": "stderr",
     "output_type": "stream",
     "text": [
      "                                                            \r"
     ]
    },
    {
     "name": "stdout",
     "output_type": "stream",
     "text": [
      "Moviepy - Done !\n",
      "Moviepy - video ready C:/Users/naoki/anaconda_work/Faster-R-CNN-pytorch-main/data/ori_data/drama_clip/57/clip.mp4\n",
      "Moviepy - Building video C:/Users/naoki/anaconda_work/Faster-R-CNN-pytorch-main/data/ori_data/drama_clip/58/clip.mp4.\n",
      "Moviepy - Writing video C:/Users/naoki/anaconda_work/Faster-R-CNN-pytorch-main/data/ori_data/drama_clip/58/clip.mp4\n",
      "\n"
     ]
    },
    {
     "name": "stderr",
     "output_type": "stream",
     "text": [
      "                                                            \r"
     ]
    },
    {
     "name": "stdout",
     "output_type": "stream",
     "text": [
      "Moviepy - Done !\n",
      "Moviepy - video ready C:/Users/naoki/anaconda_work/Faster-R-CNN-pytorch-main/data/ori_data/drama_clip/58/clip.mp4\n",
      "Moviepy - Building video C:/Users/naoki/anaconda_work/Faster-R-CNN-pytorch-main/data/ori_data/drama_clip/59/clip.mp4.\n",
      "Moviepy - Writing video C:/Users/naoki/anaconda_work/Faster-R-CNN-pytorch-main/data/ori_data/drama_clip/59/clip.mp4\n",
      "\n"
     ]
    },
    {
     "name": "stderr",
     "output_type": "stream",
     "text": [
      "                                                              \r"
     ]
    },
    {
     "name": "stdout",
     "output_type": "stream",
     "text": [
      "Moviepy - Done !\n",
      "Moviepy - video ready C:/Users/naoki/anaconda_work/Faster-R-CNN-pytorch-main/data/ori_data/drama_clip/59/clip.mp4\n",
      "Moviepy - Building video C:/Users/naoki/anaconda_work/Faster-R-CNN-pytorch-main/data/ori_data/drama_clip/60/clip.mp4.\n",
      "Moviepy - Writing video C:/Users/naoki/anaconda_work/Faster-R-CNN-pytorch-main/data/ori_data/drama_clip/60/clip.mp4\n",
      "\n"
     ]
    },
    {
     "name": "stderr",
     "output_type": "stream",
     "text": [
      "                                                            \r"
     ]
    },
    {
     "name": "stdout",
     "output_type": "stream",
     "text": [
      "Moviepy - Done !\n",
      "Moviepy - video ready C:/Users/naoki/anaconda_work/Faster-R-CNN-pytorch-main/data/ori_data/drama_clip/60/clip.mp4\n",
      "Moviepy - Building video C:/Users/naoki/anaconda_work/Faster-R-CNN-pytorch-main/data/ori_data/drama_clip/61/clip.mp4.\n",
      "Moviepy - Writing video C:/Users/naoki/anaconda_work/Faster-R-CNN-pytorch-main/data/ori_data/drama_clip/61/clip.mp4\n",
      "\n"
     ]
    },
    {
     "name": "stderr",
     "output_type": "stream",
     "text": [
      "                                                            \r"
     ]
    },
    {
     "name": "stdout",
     "output_type": "stream",
     "text": [
      "Moviepy - Done !\n",
      "Moviepy - video ready C:/Users/naoki/anaconda_work/Faster-R-CNN-pytorch-main/data/ori_data/drama_clip/61/clip.mp4\n",
      "Moviepy - Building video C:/Users/naoki/anaconda_work/Faster-R-CNN-pytorch-main/data/ori_data/drama_clip/62/clip.mp4.\n",
      "Moviepy - Writing video C:/Users/naoki/anaconda_work/Faster-R-CNN-pytorch-main/data/ori_data/drama_clip/62/clip.mp4\n",
      "\n"
     ]
    },
    {
     "name": "stderr",
     "output_type": "stream",
     "text": [
      "                                                            \r"
     ]
    },
    {
     "name": "stdout",
     "output_type": "stream",
     "text": [
      "Moviepy - Done !\n",
      "Moviepy - video ready C:/Users/naoki/anaconda_work/Faster-R-CNN-pytorch-main/data/ori_data/drama_clip/62/clip.mp4\n",
      "Moviepy - Building video C:/Users/naoki/anaconda_work/Faster-R-CNN-pytorch-main/data/ori_data/drama_clip/63/clip.mp4.\n",
      "Moviepy - Writing video C:/Users/naoki/anaconda_work/Faster-R-CNN-pytorch-main/data/ori_data/drama_clip/63/clip.mp4\n",
      "\n"
     ]
    },
    {
     "name": "stderr",
     "output_type": "stream",
     "text": [
      "                                                            \r"
     ]
    },
    {
     "name": "stdout",
     "output_type": "stream",
     "text": [
      "Moviepy - Done !\n",
      "Moviepy - video ready C:/Users/naoki/anaconda_work/Faster-R-CNN-pytorch-main/data/ori_data/drama_clip/63/clip.mp4\n",
      "Moviepy - Building video C:/Users/naoki/anaconda_work/Faster-R-CNN-pytorch-main/data/ori_data/drama_clip/64/clip.mp4.\n",
      "Moviepy - Writing video C:/Users/naoki/anaconda_work/Faster-R-CNN-pytorch-main/data/ori_data/drama_clip/64/clip.mp4\n",
      "\n"
     ]
    },
    {
     "name": "stderr",
     "output_type": "stream",
     "text": [
      "                                                            \r"
     ]
    },
    {
     "name": "stdout",
     "output_type": "stream",
     "text": [
      "Moviepy - Done !\n",
      "Moviepy - video ready C:/Users/naoki/anaconda_work/Faster-R-CNN-pytorch-main/data/ori_data/drama_clip/64/clip.mp4\n",
      "Moviepy - Building video C:/Users/naoki/anaconda_work/Faster-R-CNN-pytorch-main/data/ori_data/drama_clip/65/clip.mp4.\n",
      "Moviepy - Writing video C:/Users/naoki/anaconda_work/Faster-R-CNN-pytorch-main/data/ori_data/drama_clip/65/clip.mp4\n",
      "\n"
     ]
    },
    {
     "name": "stderr",
     "output_type": "stream",
     "text": [
      "                                                            \r"
     ]
    },
    {
     "name": "stdout",
     "output_type": "stream",
     "text": [
      "Moviepy - Done !\n",
      "Moviepy - video ready C:/Users/naoki/anaconda_work/Faster-R-CNN-pytorch-main/data/ori_data/drama_clip/65/clip.mp4\n",
      "Moviepy - Building video C:/Users/naoki/anaconda_work/Faster-R-CNN-pytorch-main/data/ori_data/drama_clip/66/clip.mp4.\n",
      "Moviepy - Writing video C:/Users/naoki/anaconda_work/Faster-R-CNN-pytorch-main/data/ori_data/drama_clip/66/clip.mp4\n",
      "\n"
     ]
    },
    {
     "name": "stderr",
     "output_type": "stream",
     "text": [
      "                                                              \r"
     ]
    },
    {
     "name": "stdout",
     "output_type": "stream",
     "text": [
      "Moviepy - Done !\n",
      "Moviepy - video ready C:/Users/naoki/anaconda_work/Faster-R-CNN-pytorch-main/data/ori_data/drama_clip/66/clip.mp4\n",
      "Moviepy - Building video C:/Users/naoki/anaconda_work/Faster-R-CNN-pytorch-main/data/ori_data/drama_clip/67/clip.mp4.\n",
      "Moviepy - Writing video C:/Users/naoki/anaconda_work/Faster-R-CNN-pytorch-main/data/ori_data/drama_clip/67/clip.mp4\n",
      "\n"
     ]
    },
    {
     "name": "stderr",
     "output_type": "stream",
     "text": [
      "                                                            \r"
     ]
    },
    {
     "name": "stdout",
     "output_type": "stream",
     "text": [
      "Moviepy - Done !\n",
      "Moviepy - video ready C:/Users/naoki/anaconda_work/Faster-R-CNN-pytorch-main/data/ori_data/drama_clip/67/clip.mp4\n",
      "Moviepy - Building video C:/Users/naoki/anaconda_work/Faster-R-CNN-pytorch-main/data/ori_data/drama_clip/68/clip.mp4.\n",
      "Moviepy - Writing video C:/Users/naoki/anaconda_work/Faster-R-CNN-pytorch-main/data/ori_data/drama_clip/68/clip.mp4\n",
      "\n"
     ]
    },
    {
     "name": "stderr",
     "output_type": "stream",
     "text": [
      "                                                            \r"
     ]
    },
    {
     "name": "stdout",
     "output_type": "stream",
     "text": [
      "Moviepy - Done !\n",
      "Moviepy - video ready C:/Users/naoki/anaconda_work/Faster-R-CNN-pytorch-main/data/ori_data/drama_clip/68/clip.mp4\n",
      "Moviepy - Building video C:/Users/naoki/anaconda_work/Faster-R-CNN-pytorch-main/data/ori_data/drama_clip/69/clip.mp4.\n",
      "Moviepy - Writing video C:/Users/naoki/anaconda_work/Faster-R-CNN-pytorch-main/data/ori_data/drama_clip/69/clip.mp4\n",
      "\n"
     ]
    },
    {
     "name": "stderr",
     "output_type": "stream",
     "text": [
      "                                                            \r"
     ]
    },
    {
     "name": "stdout",
     "output_type": "stream",
     "text": [
      "Moviepy - Done !\n",
      "Moviepy - video ready C:/Users/naoki/anaconda_work/Faster-R-CNN-pytorch-main/data/ori_data/drama_clip/69/clip.mp4\n",
      "Moviepy - Building video C:/Users/naoki/anaconda_work/Faster-R-CNN-pytorch-main/data/ori_data/drama_clip/70/clip.mp4.\n",
      "Moviepy - Writing video C:/Users/naoki/anaconda_work/Faster-R-CNN-pytorch-main/data/ori_data/drama_clip/70/clip.mp4\n",
      "\n"
     ]
    },
    {
     "name": "stderr",
     "output_type": "stream",
     "text": [
      "                                                              \r"
     ]
    },
    {
     "name": "stdout",
     "output_type": "stream",
     "text": [
      "Moviepy - Done !\n",
      "Moviepy - video ready C:/Users/naoki/anaconda_work/Faster-R-CNN-pytorch-main/data/ori_data/drama_clip/70/clip.mp4\n",
      "Moviepy - Building video C:/Users/naoki/anaconda_work/Faster-R-CNN-pytorch-main/data/ori_data/drama_clip/71/clip.mp4.\n",
      "Moviepy - Writing video C:/Users/naoki/anaconda_work/Faster-R-CNN-pytorch-main/data/ori_data/drama_clip/71/clip.mp4\n",
      "\n"
     ]
    },
    {
     "name": "stderr",
     "output_type": "stream",
     "text": [
      "                                                            \r"
     ]
    },
    {
     "name": "stdout",
     "output_type": "stream",
     "text": [
      "Moviepy - Done !\n",
      "Moviepy - video ready C:/Users/naoki/anaconda_work/Faster-R-CNN-pytorch-main/data/ori_data/drama_clip/71/clip.mp4\n",
      "Moviepy - Building video C:/Users/naoki/anaconda_work/Faster-R-CNN-pytorch-main/data/ori_data/drama_clip/72/clip.mp4.\n",
      "Moviepy - Writing video C:/Users/naoki/anaconda_work/Faster-R-CNN-pytorch-main/data/ori_data/drama_clip/72/clip.mp4\n",
      "\n"
     ]
    },
    {
     "name": "stderr",
     "output_type": "stream",
     "text": [
      "                                                            \r"
     ]
    },
    {
     "name": "stdout",
     "output_type": "stream",
     "text": [
      "Moviepy - Done !\n",
      "Moviepy - video ready C:/Users/naoki/anaconda_work/Faster-R-CNN-pytorch-main/data/ori_data/drama_clip/72/clip.mp4\n",
      "Moviepy - Building video C:/Users/naoki/anaconda_work/Faster-R-CNN-pytorch-main/data/ori_data/drama_clip/73/clip.mp4.\n",
      "Moviepy - Writing video C:/Users/naoki/anaconda_work/Faster-R-CNN-pytorch-main/data/ori_data/drama_clip/73/clip.mp4\n",
      "\n"
     ]
    },
    {
     "name": "stderr",
     "output_type": "stream",
     "text": [
      "                                                            \r"
     ]
    },
    {
     "name": "stdout",
     "output_type": "stream",
     "text": [
      "Moviepy - Done !\n",
      "Moviepy - video ready C:/Users/naoki/anaconda_work/Faster-R-CNN-pytorch-main/data/ori_data/drama_clip/73/clip.mp4\n",
      "Moviepy - Building video C:/Users/naoki/anaconda_work/Faster-R-CNN-pytorch-main/data/ori_data/drama_clip/74/clip.mp4.\n",
      "Moviepy - Writing video C:/Users/naoki/anaconda_work/Faster-R-CNN-pytorch-main/data/ori_data/drama_clip/74/clip.mp4\n",
      "\n"
     ]
    },
    {
     "name": "stderr",
     "output_type": "stream",
     "text": [
      "                                                              \r"
     ]
    },
    {
     "name": "stdout",
     "output_type": "stream",
     "text": [
      "Moviepy - Done !\n",
      "Moviepy - video ready C:/Users/naoki/anaconda_work/Faster-R-CNN-pytorch-main/data/ori_data/drama_clip/74/clip.mp4\n",
      "Moviepy - Building video C:/Users/naoki/anaconda_work/Faster-R-CNN-pytorch-main/data/ori_data/drama_clip/75/clip.mp4.\n",
      "Moviepy - Writing video C:/Users/naoki/anaconda_work/Faster-R-CNN-pytorch-main/data/ori_data/drama_clip/75/clip.mp4\n",
      "\n"
     ]
    },
    {
     "name": "stderr",
     "output_type": "stream",
     "text": [
      "                                                            \r"
     ]
    },
    {
     "name": "stdout",
     "output_type": "stream",
     "text": [
      "Moviepy - Done !\n",
      "Moviepy - video ready C:/Users/naoki/anaconda_work/Faster-R-CNN-pytorch-main/data/ori_data/drama_clip/75/clip.mp4\n",
      "Moviepy - Building video C:/Users/naoki/anaconda_work/Faster-R-CNN-pytorch-main/data/ori_data/drama_clip/76/clip.mp4.\n",
      "Moviepy - Writing video C:/Users/naoki/anaconda_work/Faster-R-CNN-pytorch-main/data/ori_data/drama_clip/76/clip.mp4\n",
      "\n"
     ]
    },
    {
     "name": "stderr",
     "output_type": "stream",
     "text": [
      "                                                            \r"
     ]
    },
    {
     "name": "stdout",
     "output_type": "stream",
     "text": [
      "Moviepy - Done !\n",
      "Moviepy - video ready C:/Users/naoki/anaconda_work/Faster-R-CNN-pytorch-main/data/ori_data/drama_clip/76/clip.mp4\n",
      "Moviepy - Building video C:/Users/naoki/anaconda_work/Faster-R-CNN-pytorch-main/data/ori_data/drama_clip/77/clip.mp4.\n",
      "Moviepy - Writing video C:/Users/naoki/anaconda_work/Faster-R-CNN-pytorch-main/data/ori_data/drama_clip/77/clip.mp4\n",
      "\n"
     ]
    },
    {
     "name": "stderr",
     "output_type": "stream",
     "text": [
      "                                                              \r"
     ]
    },
    {
     "name": "stdout",
     "output_type": "stream",
     "text": [
      "Moviepy - Done !\n",
      "Moviepy - video ready C:/Users/naoki/anaconda_work/Faster-R-CNN-pytorch-main/data/ori_data/drama_clip/77/clip.mp4\n",
      "Moviepy - Building video C:/Users/naoki/anaconda_work/Faster-R-CNN-pytorch-main/data/ori_data/drama_clip/78/clip.mp4.\n",
      "Moviepy - Writing video C:/Users/naoki/anaconda_work/Faster-R-CNN-pytorch-main/data/ori_data/drama_clip/78/clip.mp4\n",
      "\n"
     ]
    },
    {
     "name": "stderr",
     "output_type": "stream",
     "text": [
      "                                                            \r"
     ]
    },
    {
     "name": "stdout",
     "output_type": "stream",
     "text": [
      "Moviepy - Done !\n",
      "Moviepy - video ready C:/Users/naoki/anaconda_work/Faster-R-CNN-pytorch-main/data/ori_data/drama_clip/78/clip.mp4\n",
      "Moviepy - Building video C:/Users/naoki/anaconda_work/Faster-R-CNN-pytorch-main/data/ori_data/drama_clip/79/clip.mp4.\n",
      "Moviepy - Writing video C:/Users/naoki/anaconda_work/Faster-R-CNN-pytorch-main/data/ori_data/drama_clip/79/clip.mp4\n",
      "\n"
     ]
    },
    {
     "name": "stderr",
     "output_type": "stream",
     "text": [
      "                                                            \r"
     ]
    },
    {
     "name": "stdout",
     "output_type": "stream",
     "text": [
      "Moviepy - Done !\n",
      "Moviepy - video ready C:/Users/naoki/anaconda_work/Faster-R-CNN-pytorch-main/data/ori_data/drama_clip/79/clip.mp4\n",
      "Moviepy - Building video C:/Users/naoki/anaconda_work/Faster-R-CNN-pytorch-main/data/ori_data/drama_clip/80/clip.mp4.\n",
      "Moviepy - Writing video C:/Users/naoki/anaconda_work/Faster-R-CNN-pytorch-main/data/ori_data/drama_clip/80/clip.mp4\n",
      "\n"
     ]
    },
    {
     "name": "stderr",
     "output_type": "stream",
     "text": [
      "                                                            \r"
     ]
    },
    {
     "name": "stdout",
     "output_type": "stream",
     "text": [
      "Moviepy - Done !\n",
      "Moviepy - video ready C:/Users/naoki/anaconda_work/Faster-R-CNN-pytorch-main/data/ori_data/drama_clip/80/clip.mp4\n",
      "Moviepy - Building video C:/Users/naoki/anaconda_work/Faster-R-CNN-pytorch-main/data/ori_data/drama_clip/81/clip.mp4.\n",
      "Moviepy - Writing video C:/Users/naoki/anaconda_work/Faster-R-CNN-pytorch-main/data/ori_data/drama_clip/81/clip.mp4\n",
      "\n"
     ]
    },
    {
     "name": "stderr",
     "output_type": "stream",
     "text": [
      "                                                            \r"
     ]
    },
    {
     "name": "stdout",
     "output_type": "stream",
     "text": [
      "Moviepy - Done !\n",
      "Moviepy - video ready C:/Users/naoki/anaconda_work/Faster-R-CNN-pytorch-main/data/ori_data/drama_clip/81/clip.mp4\n",
      "Moviepy - Building video C:/Users/naoki/anaconda_work/Faster-R-CNN-pytorch-main/data/ori_data/drama_clip/82/clip.mp4.\n",
      "Moviepy - Writing video C:/Users/naoki/anaconda_work/Faster-R-CNN-pytorch-main/data/ori_data/drama_clip/82/clip.mp4\n",
      "\n"
     ]
    },
    {
     "name": "stderr",
     "output_type": "stream",
     "text": [
      "                                                            \r"
     ]
    },
    {
     "name": "stdout",
     "output_type": "stream",
     "text": [
      "Moviepy - Done !\n",
      "Moviepy - video ready C:/Users/naoki/anaconda_work/Faster-R-CNN-pytorch-main/data/ori_data/drama_clip/82/clip.mp4\n",
      "Moviepy - Building video C:/Users/naoki/anaconda_work/Faster-R-CNN-pytorch-main/data/ori_data/drama_clip/83/clip.mp4.\n",
      "Moviepy - Writing video C:/Users/naoki/anaconda_work/Faster-R-CNN-pytorch-main/data/ori_data/drama_clip/83/clip.mp4\n",
      "\n"
     ]
    },
    {
     "name": "stderr",
     "output_type": "stream",
     "text": [
      "                                                            \r"
     ]
    },
    {
     "name": "stdout",
     "output_type": "stream",
     "text": [
      "Moviepy - Done !\n",
      "Moviepy - video ready C:/Users/naoki/anaconda_work/Faster-R-CNN-pytorch-main/data/ori_data/drama_clip/83/clip.mp4\n",
      "Moviepy - Building video C:/Users/naoki/anaconda_work/Faster-R-CNN-pytorch-main/data/ori_data/drama_clip/84/clip.mp4.\n",
      "Moviepy - Writing video C:/Users/naoki/anaconda_work/Faster-R-CNN-pytorch-main/data/ori_data/drama_clip/84/clip.mp4\n",
      "\n"
     ]
    },
    {
     "name": "stderr",
     "output_type": "stream",
     "text": [
      "                                                            \r"
     ]
    },
    {
     "name": "stdout",
     "output_type": "stream",
     "text": [
      "Moviepy - Done !\n",
      "Moviepy - video ready C:/Users/naoki/anaconda_work/Faster-R-CNN-pytorch-main/data/ori_data/drama_clip/84/clip.mp4\n",
      "Moviepy - Building video C:/Users/naoki/anaconda_work/Faster-R-CNN-pytorch-main/data/ori_data/drama_clip/85/clip.mp4.\n",
      "Moviepy - Writing video C:/Users/naoki/anaconda_work/Faster-R-CNN-pytorch-main/data/ori_data/drama_clip/85/clip.mp4\n",
      "\n"
     ]
    },
    {
     "name": "stderr",
     "output_type": "stream",
     "text": [
      "                                                            \r"
     ]
    },
    {
     "name": "stdout",
     "output_type": "stream",
     "text": [
      "Moviepy - Done !\n",
      "Moviepy - video ready C:/Users/naoki/anaconda_work/Faster-R-CNN-pytorch-main/data/ori_data/drama_clip/85/clip.mp4\n",
      "Moviepy - Building video C:/Users/naoki/anaconda_work/Faster-R-CNN-pytorch-main/data/ori_data/drama_clip/86/clip.mp4.\n",
      "Moviepy - Writing video C:/Users/naoki/anaconda_work/Faster-R-CNN-pytorch-main/data/ori_data/drama_clip/86/clip.mp4\n",
      "\n"
     ]
    },
    {
     "name": "stderr",
     "output_type": "stream",
     "text": [
      "                                                            \r"
     ]
    },
    {
     "name": "stdout",
     "output_type": "stream",
     "text": [
      "Moviepy - Done !\n",
      "Moviepy - video ready C:/Users/naoki/anaconda_work/Faster-R-CNN-pytorch-main/data/ori_data/drama_clip/86/clip.mp4\n",
      "Moviepy - Building video C:/Users/naoki/anaconda_work/Faster-R-CNN-pytorch-main/data/ori_data/drama_clip/87/clip.mp4.\n",
      "Moviepy - Writing video C:/Users/naoki/anaconda_work/Faster-R-CNN-pytorch-main/data/ori_data/drama_clip/87/clip.mp4\n",
      "\n"
     ]
    },
    {
     "name": "stderr",
     "output_type": "stream",
     "text": [
      "                                                            \r"
     ]
    },
    {
     "name": "stdout",
     "output_type": "stream",
     "text": [
      "Moviepy - Done !\n",
      "Moviepy - video ready C:/Users/naoki/anaconda_work/Faster-R-CNN-pytorch-main/data/ori_data/drama_clip/87/clip.mp4\n",
      "Moviepy - Building video C:/Users/naoki/anaconda_work/Faster-R-CNN-pytorch-main/data/ori_data/drama_clip/88/clip.mp4.\n",
      "Moviepy - Writing video C:/Users/naoki/anaconda_work/Faster-R-CNN-pytorch-main/data/ori_data/drama_clip/88/clip.mp4\n",
      "\n"
     ]
    },
    {
     "name": "stderr",
     "output_type": "stream",
     "text": [
      "                                                            \r"
     ]
    },
    {
     "name": "stdout",
     "output_type": "stream",
     "text": [
      "Moviepy - Done !\n",
      "Moviepy - video ready C:/Users/naoki/anaconda_work/Faster-R-CNN-pytorch-main/data/ori_data/drama_clip/88/clip.mp4\n",
      "Moviepy - Building video C:/Users/naoki/anaconda_work/Faster-R-CNN-pytorch-main/data/ori_data/drama_clip/89/clip.mp4.\n",
      "Moviepy - Writing video C:/Users/naoki/anaconda_work/Faster-R-CNN-pytorch-main/data/ori_data/drama_clip/89/clip.mp4\n",
      "\n"
     ]
    },
    {
     "name": "stderr",
     "output_type": "stream",
     "text": [
      "                                                            \r"
     ]
    },
    {
     "name": "stdout",
     "output_type": "stream",
     "text": [
      "Moviepy - Done !\n",
      "Moviepy - video ready C:/Users/naoki/anaconda_work/Faster-R-CNN-pytorch-main/data/ori_data/drama_clip/89/clip.mp4\n",
      "Moviepy - Building video C:/Users/naoki/anaconda_work/Faster-R-CNN-pytorch-main/data/ori_data/drama_clip/90/clip.mp4.\n",
      "Moviepy - Writing video C:/Users/naoki/anaconda_work/Faster-R-CNN-pytorch-main/data/ori_data/drama_clip/90/clip.mp4\n",
      "\n"
     ]
    },
    {
     "name": "stderr",
     "output_type": "stream",
     "text": [
      "                                                            \r"
     ]
    },
    {
     "name": "stdout",
     "output_type": "stream",
     "text": [
      "Moviepy - Done !\n",
      "Moviepy - video ready C:/Users/naoki/anaconda_work/Faster-R-CNN-pytorch-main/data/ori_data/drama_clip/90/clip.mp4\n",
      "Moviepy - Building video C:/Users/naoki/anaconda_work/Faster-R-CNN-pytorch-main/data/ori_data/drama_clip/91/clip.mp4.\n",
      "Moviepy - Writing video C:/Users/naoki/anaconda_work/Faster-R-CNN-pytorch-main/data/ori_data/drama_clip/91/clip.mp4\n",
      "\n"
     ]
    },
    {
     "name": "stderr",
     "output_type": "stream",
     "text": [
      "                                                            \r"
     ]
    },
    {
     "name": "stdout",
     "output_type": "stream",
     "text": [
      "Moviepy - Done !\n",
      "Moviepy - video ready C:/Users/naoki/anaconda_work/Faster-R-CNN-pytorch-main/data/ori_data/drama_clip/91/clip.mp4\n",
      "Moviepy - Building video C:/Users/naoki/anaconda_work/Faster-R-CNN-pytorch-main/data/ori_data/drama_clip/92/clip.mp4.\n",
      "Moviepy - Writing video C:/Users/naoki/anaconda_work/Faster-R-CNN-pytorch-main/data/ori_data/drama_clip/92/clip.mp4\n",
      "\n"
     ]
    },
    {
     "name": "stderr",
     "output_type": "stream",
     "text": [
      "                                                            \r"
     ]
    },
    {
     "name": "stdout",
     "output_type": "stream",
     "text": [
      "Moviepy - Done !\n",
      "Moviepy - video ready C:/Users/naoki/anaconda_work/Faster-R-CNN-pytorch-main/data/ori_data/drama_clip/92/clip.mp4\n",
      "Moviepy - Building video C:/Users/naoki/anaconda_work/Faster-R-CNN-pytorch-main/data/ori_data/drama_clip/93/clip.mp4.\n",
      "Moviepy - Writing video C:/Users/naoki/anaconda_work/Faster-R-CNN-pytorch-main/data/ori_data/drama_clip/93/clip.mp4\n",
      "\n"
     ]
    },
    {
     "name": "stderr",
     "output_type": "stream",
     "text": [
      "                                                            \r"
     ]
    },
    {
     "name": "stdout",
     "output_type": "stream",
     "text": [
      "Moviepy - Done !\n",
      "Moviepy - video ready C:/Users/naoki/anaconda_work/Faster-R-CNN-pytorch-main/data/ori_data/drama_clip/93/clip.mp4\n",
      "Moviepy - Building video C:/Users/naoki/anaconda_work/Faster-R-CNN-pytorch-main/data/ori_data/drama_clip/94/clip.mp4.\n",
      "Moviepy - Writing video C:/Users/naoki/anaconda_work/Faster-R-CNN-pytorch-main/data/ori_data/drama_clip/94/clip.mp4\n",
      "\n"
     ]
    },
    {
     "name": "stderr",
     "output_type": "stream",
     "text": [
      "                                                            \r"
     ]
    },
    {
     "name": "stdout",
     "output_type": "stream",
     "text": [
      "Moviepy - Done !\n",
      "Moviepy - video ready C:/Users/naoki/anaconda_work/Faster-R-CNN-pytorch-main/data/ori_data/drama_clip/94/clip.mp4\n",
      "Moviepy - Building video C:/Users/naoki/anaconda_work/Faster-R-CNN-pytorch-main/data/ori_data/drama_clip/95/clip.mp4.\n",
      "Moviepy - Writing video C:/Users/naoki/anaconda_work/Faster-R-CNN-pytorch-main/data/ori_data/drama_clip/95/clip.mp4\n",
      "\n"
     ]
    },
    {
     "name": "stderr",
     "output_type": "stream",
     "text": [
      "                                                            \r"
     ]
    },
    {
     "name": "stdout",
     "output_type": "stream",
     "text": [
      "Moviepy - Done !\n",
      "Moviepy - video ready C:/Users/naoki/anaconda_work/Faster-R-CNN-pytorch-main/data/ori_data/drama_clip/95/clip.mp4\n",
      "Moviepy - Building video C:/Users/naoki/anaconda_work/Faster-R-CNN-pytorch-main/data/ori_data/drama_clip/96/clip.mp4.\n",
      "Moviepy - Writing video C:/Users/naoki/anaconda_work/Faster-R-CNN-pytorch-main/data/ori_data/drama_clip/96/clip.mp4\n",
      "\n"
     ]
    },
    {
     "name": "stderr",
     "output_type": "stream",
     "text": [
      "                                                              \r"
     ]
    },
    {
     "name": "stdout",
     "output_type": "stream",
     "text": [
      "Moviepy - Done !\n",
      "Moviepy - video ready C:/Users/naoki/anaconda_work/Faster-R-CNN-pytorch-main/data/ori_data/drama_clip/96/clip.mp4\n",
      "Moviepy - Building video C:/Users/naoki/anaconda_work/Faster-R-CNN-pytorch-main/data/ori_data/drama_clip/97/clip.mp4.\n",
      "Moviepy - Writing video C:/Users/naoki/anaconda_work/Faster-R-CNN-pytorch-main/data/ori_data/drama_clip/97/clip.mp4\n",
      "\n"
     ]
    },
    {
     "name": "stderr",
     "output_type": "stream",
     "text": [
      "                                                            \r"
     ]
    },
    {
     "name": "stdout",
     "output_type": "stream",
     "text": [
      "Moviepy - Done !\n",
      "Moviepy - video ready C:/Users/naoki/anaconda_work/Faster-R-CNN-pytorch-main/data/ori_data/drama_clip/97/clip.mp4\n",
      "Moviepy - Building video C:/Users/naoki/anaconda_work/Faster-R-CNN-pytorch-main/data/ori_data/drama_clip/98/clip.mp4.\n",
      "Moviepy - Writing video C:/Users/naoki/anaconda_work/Faster-R-CNN-pytorch-main/data/ori_data/drama_clip/98/clip.mp4\n",
      "\n"
     ]
    },
    {
     "name": "stderr",
     "output_type": "stream",
     "text": [
      "                                                            \r"
     ]
    },
    {
     "name": "stdout",
     "output_type": "stream",
     "text": [
      "Moviepy - Done !\n",
      "Moviepy - video ready C:/Users/naoki/anaconda_work/Faster-R-CNN-pytorch-main/data/ori_data/drama_clip/98/clip.mp4\n",
      "Moviepy - Building video C:/Users/naoki/anaconda_work/Faster-R-CNN-pytorch-main/data/ori_data/drama_clip/99/clip.mp4.\n",
      "Moviepy - Writing video C:/Users/naoki/anaconda_work/Faster-R-CNN-pytorch-main/data/ori_data/drama_clip/99/clip.mp4\n",
      "\n"
     ]
    },
    {
     "name": "stderr",
     "output_type": "stream",
     "text": [
      "                                                            \r"
     ]
    },
    {
     "name": "stdout",
     "output_type": "stream",
     "text": [
      "Moviepy - Done !\n",
      "Moviepy - video ready C:/Users/naoki/anaconda_work/Faster-R-CNN-pytorch-main/data/ori_data/drama_clip/99/clip.mp4\n",
      "Moviepy - Building video C:/Users/naoki/anaconda_work/Faster-R-CNN-pytorch-main/data/ori_data/drama_clip/100/clip.mp4.\n",
      "Moviepy - Writing video C:/Users/naoki/anaconda_work/Faster-R-CNN-pytorch-main/data/ori_data/drama_clip/100/clip.mp4\n",
      "\n"
     ]
    },
    {
     "name": "stderr",
     "output_type": "stream",
     "text": [
      "                                                            \r"
     ]
    },
    {
     "name": "stdout",
     "output_type": "stream",
     "text": [
      "Moviepy - Done !\n",
      "Moviepy - video ready C:/Users/naoki/anaconda_work/Faster-R-CNN-pytorch-main/data/ori_data/drama_clip/100/clip.mp4\n",
      "Moviepy - Building video C:/Users/naoki/anaconda_work/Faster-R-CNN-pytorch-main/data/ori_data/drama_clip/101/clip.mp4.\n",
      "Moviepy - Writing video C:/Users/naoki/anaconda_work/Faster-R-CNN-pytorch-main/data/ori_data/drama_clip/101/clip.mp4\n",
      "\n"
     ]
    },
    {
     "name": "stderr",
     "output_type": "stream",
     "text": [
      "                                                            \r"
     ]
    },
    {
     "name": "stdout",
     "output_type": "stream",
     "text": [
      "Moviepy - Done !\n",
      "Moviepy - video ready C:/Users/naoki/anaconda_work/Faster-R-CNN-pytorch-main/data/ori_data/drama_clip/101/clip.mp4\n",
      "Moviepy - Building video C:/Users/naoki/anaconda_work/Faster-R-CNN-pytorch-main/data/ori_data/drama_clip/102/clip.mp4.\n",
      "Moviepy - Writing video C:/Users/naoki/anaconda_work/Faster-R-CNN-pytorch-main/data/ori_data/drama_clip/102/clip.mp4\n",
      "\n"
     ]
    },
    {
     "name": "stderr",
     "output_type": "stream",
     "text": [
      "                                                            \r"
     ]
    },
    {
     "name": "stdout",
     "output_type": "stream",
     "text": [
      "Moviepy - Done !\n",
      "Moviepy - video ready C:/Users/naoki/anaconda_work/Faster-R-CNN-pytorch-main/data/ori_data/drama_clip/102/clip.mp4\n",
      "Moviepy - Building video C:/Users/naoki/anaconda_work/Faster-R-CNN-pytorch-main/data/ori_data/drama_clip/103/clip.mp4.\n",
      "Moviepy - Writing video C:/Users/naoki/anaconda_work/Faster-R-CNN-pytorch-main/data/ori_data/drama_clip/103/clip.mp4\n",
      "\n"
     ]
    },
    {
     "name": "stderr",
     "output_type": "stream",
     "text": [
      "                                                            \r"
     ]
    },
    {
     "name": "stdout",
     "output_type": "stream",
     "text": [
      "Moviepy - Done !\n",
      "Moviepy - video ready C:/Users/naoki/anaconda_work/Faster-R-CNN-pytorch-main/data/ori_data/drama_clip/103/clip.mp4\n",
      "Moviepy - Building video C:/Users/naoki/anaconda_work/Faster-R-CNN-pytorch-main/data/ori_data/drama_clip/104/clip.mp4.\n",
      "Moviepy - Writing video C:/Users/naoki/anaconda_work/Faster-R-CNN-pytorch-main/data/ori_data/drama_clip/104/clip.mp4\n",
      "\n"
     ]
    },
    {
     "name": "stderr",
     "output_type": "stream",
     "text": [
      "                                                            \r"
     ]
    },
    {
     "name": "stdout",
     "output_type": "stream",
     "text": [
      "Moviepy - Done !\n",
      "Moviepy - video ready C:/Users/naoki/anaconda_work/Faster-R-CNN-pytorch-main/data/ori_data/drama_clip/104/clip.mp4\n",
      "Moviepy - Building video C:/Users/naoki/anaconda_work/Faster-R-CNN-pytorch-main/data/ori_data/drama_clip/105/clip.mp4.\n",
      "Moviepy - Writing video C:/Users/naoki/anaconda_work/Faster-R-CNN-pytorch-main/data/ori_data/drama_clip/105/clip.mp4\n",
      "\n"
     ]
    },
    {
     "name": "stderr",
     "output_type": "stream",
     "text": [
      "                                                              \r"
     ]
    },
    {
     "name": "stdout",
     "output_type": "stream",
     "text": [
      "Moviepy - Done !\n",
      "Moviepy - video ready C:/Users/naoki/anaconda_work/Faster-R-CNN-pytorch-main/data/ori_data/drama_clip/105/clip.mp4\n",
      "Moviepy - Building video C:/Users/naoki/anaconda_work/Faster-R-CNN-pytorch-main/data/ori_data/drama_clip/106/clip.mp4.\n",
      "Moviepy - Writing video C:/Users/naoki/anaconda_work/Faster-R-CNN-pytorch-main/data/ori_data/drama_clip/106/clip.mp4\n",
      "\n"
     ]
    },
    {
     "name": "stderr",
     "output_type": "stream",
     "text": [
      "                                                            \r"
     ]
    },
    {
     "name": "stdout",
     "output_type": "stream",
     "text": [
      "Moviepy - Done !\n",
      "Moviepy - video ready C:/Users/naoki/anaconda_work/Faster-R-CNN-pytorch-main/data/ori_data/drama_clip/106/clip.mp4\n",
      "Moviepy - Building video C:/Users/naoki/anaconda_work/Faster-R-CNN-pytorch-main/data/ori_data/drama_clip/107/clip.mp4.\n",
      "Moviepy - Writing video C:/Users/naoki/anaconda_work/Faster-R-CNN-pytorch-main/data/ori_data/drama_clip/107/clip.mp4\n",
      "\n"
     ]
    },
    {
     "name": "stderr",
     "output_type": "stream",
     "text": [
      "                                                              \r"
     ]
    },
    {
     "name": "stdout",
     "output_type": "stream",
     "text": [
      "Moviepy - Done !\n",
      "Moviepy - video ready C:/Users/naoki/anaconda_work/Faster-R-CNN-pytorch-main/data/ori_data/drama_clip/107/clip.mp4\n",
      "Moviepy - Building video C:/Users/naoki/anaconda_work/Faster-R-CNN-pytorch-main/data/ori_data/drama_clip/108/clip.mp4.\n",
      "Moviepy - Writing video C:/Users/naoki/anaconda_work/Faster-R-CNN-pytorch-main/data/ori_data/drama_clip/108/clip.mp4\n",
      "\n"
     ]
    },
    {
     "name": "stderr",
     "output_type": "stream",
     "text": [
      "                                                            \r"
     ]
    },
    {
     "name": "stdout",
     "output_type": "stream",
     "text": [
      "Moviepy - Done !\n",
      "Moviepy - video ready C:/Users/naoki/anaconda_work/Faster-R-CNN-pytorch-main/data/ori_data/drama_clip/108/clip.mp4\n",
      "Moviepy - Building video C:/Users/naoki/anaconda_work/Faster-R-CNN-pytorch-main/data/ori_data/drama_clip/109/clip.mp4.\n",
      "Moviepy - Writing video C:/Users/naoki/anaconda_work/Faster-R-CNN-pytorch-main/data/ori_data/drama_clip/109/clip.mp4\n",
      "\n"
     ]
    },
    {
     "name": "stderr",
     "output_type": "stream",
     "text": [
      "                                                              \r"
     ]
    },
    {
     "name": "stdout",
     "output_type": "stream",
     "text": [
      "Moviepy - Done !\n",
      "Moviepy - video ready C:/Users/naoki/anaconda_work/Faster-R-CNN-pytorch-main/data/ori_data/drama_clip/109/clip.mp4\n",
      "Moviepy - Building video C:/Users/naoki/anaconda_work/Faster-R-CNN-pytorch-main/data/ori_data/drama_clip/110/clip.mp4.\n",
      "Moviepy - Writing video C:/Users/naoki/anaconda_work/Faster-R-CNN-pytorch-main/data/ori_data/drama_clip/110/clip.mp4\n",
      "\n"
     ]
    },
    {
     "name": "stderr",
     "output_type": "stream",
     "text": [
      "                                                              \r"
     ]
    },
    {
     "name": "stdout",
     "output_type": "stream",
     "text": [
      "Moviepy - Done !\n",
      "Moviepy - video ready C:/Users/naoki/anaconda_work/Faster-R-CNN-pytorch-main/data/ori_data/drama_clip/110/clip.mp4\n",
      "Moviepy - Building video C:/Users/naoki/anaconda_work/Faster-R-CNN-pytorch-main/data/ori_data/drama_clip/111/clip.mp4.\n",
      "Moviepy - Writing video C:/Users/naoki/anaconda_work/Faster-R-CNN-pytorch-main/data/ori_data/drama_clip/111/clip.mp4\n",
      "\n"
     ]
    },
    {
     "name": "stderr",
     "output_type": "stream",
     "text": [
      "                                                            \r"
     ]
    },
    {
     "name": "stdout",
     "output_type": "stream",
     "text": [
      "Moviepy - Done !\n",
      "Moviepy - video ready C:/Users/naoki/anaconda_work/Faster-R-CNN-pytorch-main/data/ori_data/drama_clip/111/clip.mp4\n",
      "Moviepy - Building video C:/Users/naoki/anaconda_work/Faster-R-CNN-pytorch-main/data/ori_data/drama_clip/112/clip.mp4.\n",
      "Moviepy - Writing video C:/Users/naoki/anaconda_work/Faster-R-CNN-pytorch-main/data/ori_data/drama_clip/112/clip.mp4\n",
      "\n"
     ]
    },
    {
     "name": "stderr",
     "output_type": "stream",
     "text": [
      "                                                            \r"
     ]
    },
    {
     "name": "stdout",
     "output_type": "stream",
     "text": [
      "Moviepy - Done !\n",
      "Moviepy - video ready C:/Users/naoki/anaconda_work/Faster-R-CNN-pytorch-main/data/ori_data/drama_clip/112/clip.mp4\n",
      "Moviepy - Building video C:/Users/naoki/anaconda_work/Faster-R-CNN-pytorch-main/data/ori_data/drama_clip/113/clip.mp4.\n",
      "Moviepy - Writing video C:/Users/naoki/anaconda_work/Faster-R-CNN-pytorch-main/data/ori_data/drama_clip/113/clip.mp4\n",
      "\n"
     ]
    },
    {
     "name": "stderr",
     "output_type": "stream",
     "text": [
      "                                                            \r"
     ]
    },
    {
     "name": "stdout",
     "output_type": "stream",
     "text": [
      "Moviepy - Done !\n",
      "Moviepy - video ready C:/Users/naoki/anaconda_work/Faster-R-CNN-pytorch-main/data/ori_data/drama_clip/113/clip.mp4\n",
      "Moviepy - Building video C:/Users/naoki/anaconda_work/Faster-R-CNN-pytorch-main/data/ori_data/drama_clip/114/clip.mp4.\n",
      "Moviepy - Writing video C:/Users/naoki/anaconda_work/Faster-R-CNN-pytorch-main/data/ori_data/drama_clip/114/clip.mp4\n",
      "\n"
     ]
    },
    {
     "name": "stderr",
     "output_type": "stream",
     "text": [
      "                                                            \r"
     ]
    },
    {
     "name": "stdout",
     "output_type": "stream",
     "text": [
      "Moviepy - Done !\n",
      "Moviepy - video ready C:/Users/naoki/anaconda_work/Faster-R-CNN-pytorch-main/data/ori_data/drama_clip/114/clip.mp4\n",
      "Moviepy - Building video C:/Users/naoki/anaconda_work/Faster-R-CNN-pytorch-main/data/ori_data/drama_clip/115/clip.mp4.\n",
      "Moviepy - Writing video C:/Users/naoki/anaconda_work/Faster-R-CNN-pytorch-main/data/ori_data/drama_clip/115/clip.mp4\n",
      "\n"
     ]
    },
    {
     "name": "stderr",
     "output_type": "stream",
     "text": [
      "                                                            \r"
     ]
    },
    {
     "name": "stdout",
     "output_type": "stream",
     "text": [
      "Moviepy - Done !\n",
      "Moviepy - video ready C:/Users/naoki/anaconda_work/Faster-R-CNN-pytorch-main/data/ori_data/drama_clip/115/clip.mp4\n",
      "Moviepy - Building video C:/Users/naoki/anaconda_work/Faster-R-CNN-pytorch-main/data/ori_data/drama_clip/116/clip.mp4.\n",
      "Moviepy - Writing video C:/Users/naoki/anaconda_work/Faster-R-CNN-pytorch-main/data/ori_data/drama_clip/116/clip.mp4\n",
      "\n"
     ]
    },
    {
     "name": "stderr",
     "output_type": "stream",
     "text": [
      "                                                            \r"
     ]
    },
    {
     "name": "stdout",
     "output_type": "stream",
     "text": [
      "Moviepy - Done !\n",
      "Moviepy - video ready C:/Users/naoki/anaconda_work/Faster-R-CNN-pytorch-main/data/ori_data/drama_clip/116/clip.mp4\n",
      "Moviepy - Building video C:/Users/naoki/anaconda_work/Faster-R-CNN-pytorch-main/data/ori_data/drama_clip/117/clip.mp4.\n",
      "Moviepy - Writing video C:/Users/naoki/anaconda_work/Faster-R-CNN-pytorch-main/data/ori_data/drama_clip/117/clip.mp4\n",
      "\n"
     ]
    },
    {
     "name": "stderr",
     "output_type": "stream",
     "text": [
      "                                                            \r"
     ]
    },
    {
     "name": "stdout",
     "output_type": "stream",
     "text": [
      "Moviepy - Done !\n",
      "Moviepy - video ready C:/Users/naoki/anaconda_work/Faster-R-CNN-pytorch-main/data/ori_data/drama_clip/117/clip.mp4\n",
      "Moviepy - Building video C:/Users/naoki/anaconda_work/Faster-R-CNN-pytorch-main/data/ori_data/drama_clip/118/clip.mp4.\n",
      "Moviepy - Writing video C:/Users/naoki/anaconda_work/Faster-R-CNN-pytorch-main/data/ori_data/drama_clip/118/clip.mp4\n",
      "\n"
     ]
    },
    {
     "name": "stderr",
     "output_type": "stream",
     "text": [
      "                                                            \r"
     ]
    },
    {
     "name": "stdout",
     "output_type": "stream",
     "text": [
      "Moviepy - Done !\n",
      "Moviepy - video ready C:/Users/naoki/anaconda_work/Faster-R-CNN-pytorch-main/data/ori_data/drama_clip/118/clip.mp4\n",
      "Moviepy - Building video C:/Users/naoki/anaconda_work/Faster-R-CNN-pytorch-main/data/ori_data/drama_clip/119/clip.mp4.\n",
      "Moviepy - Writing video C:/Users/naoki/anaconda_work/Faster-R-CNN-pytorch-main/data/ori_data/drama_clip/119/clip.mp4\n",
      "\n"
     ]
    },
    {
     "name": "stderr",
     "output_type": "stream",
     "text": [
      "                                                              \r"
     ]
    },
    {
     "name": "stdout",
     "output_type": "stream",
     "text": [
      "Moviepy - Done !\n",
      "Moviepy - video ready C:/Users/naoki/anaconda_work/Faster-R-CNN-pytorch-main/data/ori_data/drama_clip/119/clip.mp4\n",
      "Moviepy - Building video C:/Users/naoki/anaconda_work/Faster-R-CNN-pytorch-main/data/ori_data/drama_clip/120/clip.mp4.\n",
      "Moviepy - Writing video C:/Users/naoki/anaconda_work/Faster-R-CNN-pytorch-main/data/ori_data/drama_clip/120/clip.mp4\n",
      "\n"
     ]
    },
    {
     "name": "stderr",
     "output_type": "stream",
     "text": [
      "                                                            \r"
     ]
    },
    {
     "name": "stdout",
     "output_type": "stream",
     "text": [
      "Moviepy - Done !\n",
      "Moviepy - video ready C:/Users/naoki/anaconda_work/Faster-R-CNN-pytorch-main/data/ori_data/drama_clip/120/clip.mp4\n",
      "Moviepy - Building video C:/Users/naoki/anaconda_work/Faster-R-CNN-pytorch-main/data/ori_data/drama_clip/121/clip.mp4.\n",
      "Moviepy - Writing video C:/Users/naoki/anaconda_work/Faster-R-CNN-pytorch-main/data/ori_data/drama_clip/121/clip.mp4\n",
      "\n"
     ]
    },
    {
     "name": "stderr",
     "output_type": "stream",
     "text": [
      "                                                            \r"
     ]
    },
    {
     "name": "stdout",
     "output_type": "stream",
     "text": [
      "Moviepy - Done !\n",
      "Moviepy - video ready C:/Users/naoki/anaconda_work/Faster-R-CNN-pytorch-main/data/ori_data/drama_clip/121/clip.mp4\n",
      "Moviepy - Building video C:/Users/naoki/anaconda_work/Faster-R-CNN-pytorch-main/data/ori_data/drama_clip/122/clip.mp4.\n",
      "Moviepy - Writing video C:/Users/naoki/anaconda_work/Faster-R-CNN-pytorch-main/data/ori_data/drama_clip/122/clip.mp4\n",
      "\n"
     ]
    },
    {
     "name": "stderr",
     "output_type": "stream",
     "text": [
      "                                                            \r"
     ]
    },
    {
     "name": "stdout",
     "output_type": "stream",
     "text": [
      "Moviepy - Done !\n",
      "Moviepy - video ready C:/Users/naoki/anaconda_work/Faster-R-CNN-pytorch-main/data/ori_data/drama_clip/122/clip.mp4\n",
      "Moviepy - Building video C:/Users/naoki/anaconda_work/Faster-R-CNN-pytorch-main/data/ori_data/drama_clip/123/clip.mp4.\n",
      "Moviepy - Writing video C:/Users/naoki/anaconda_work/Faster-R-CNN-pytorch-main/data/ori_data/drama_clip/123/clip.mp4\n",
      "\n"
     ]
    },
    {
     "name": "stderr",
     "output_type": "stream",
     "text": [
      "                                                            \r"
     ]
    },
    {
     "name": "stdout",
     "output_type": "stream",
     "text": [
      "Moviepy - Done !\n",
      "Moviepy - video ready C:/Users/naoki/anaconda_work/Faster-R-CNN-pytorch-main/data/ori_data/drama_clip/123/clip.mp4\n",
      "Moviepy - Building video C:/Users/naoki/anaconda_work/Faster-R-CNN-pytorch-main/data/ori_data/drama_clip/124/clip.mp4.\n",
      "Moviepy - Writing video C:/Users/naoki/anaconda_work/Faster-R-CNN-pytorch-main/data/ori_data/drama_clip/124/clip.mp4\n",
      "\n"
     ]
    },
    {
     "name": "stderr",
     "output_type": "stream",
     "text": [
      "                                                            \r"
     ]
    },
    {
     "name": "stdout",
     "output_type": "stream",
     "text": [
      "Moviepy - Done !\n",
      "Moviepy - video ready C:/Users/naoki/anaconda_work/Faster-R-CNN-pytorch-main/data/ori_data/drama_clip/124/clip.mp4\n",
      "Moviepy - Building video C:/Users/naoki/anaconda_work/Faster-R-CNN-pytorch-main/data/ori_data/drama_clip/125/clip.mp4.\n",
      "Moviepy - Writing video C:/Users/naoki/anaconda_work/Faster-R-CNN-pytorch-main/data/ori_data/drama_clip/125/clip.mp4\n",
      "\n"
     ]
    },
    {
     "name": "stderr",
     "output_type": "stream",
     "text": [
      "                                                            \r"
     ]
    },
    {
     "name": "stdout",
     "output_type": "stream",
     "text": [
      "Moviepy - Done !\n",
      "Moviepy - video ready C:/Users/naoki/anaconda_work/Faster-R-CNN-pytorch-main/data/ori_data/drama_clip/125/clip.mp4\n",
      "Moviepy - Building video C:/Users/naoki/anaconda_work/Faster-R-CNN-pytorch-main/data/ori_data/drama_clip/126/clip.mp4.\n",
      "Moviepy - Writing video C:/Users/naoki/anaconda_work/Faster-R-CNN-pytorch-main/data/ori_data/drama_clip/126/clip.mp4\n",
      "\n"
     ]
    },
    {
     "name": "stderr",
     "output_type": "stream",
     "text": [
      "                                                              \r"
     ]
    },
    {
     "name": "stdout",
     "output_type": "stream",
     "text": [
      "Moviepy - Done !\n",
      "Moviepy - video ready C:/Users/naoki/anaconda_work/Faster-R-CNN-pytorch-main/data/ori_data/drama_clip/126/clip.mp4\n",
      "Moviepy - Building video C:/Users/naoki/anaconda_work/Faster-R-CNN-pytorch-main/data/ori_data/drama_clip/127/clip.mp4.\n",
      "Moviepy - Writing video C:/Users/naoki/anaconda_work/Faster-R-CNN-pytorch-main/data/ori_data/drama_clip/127/clip.mp4\n",
      "\n"
     ]
    },
    {
     "name": "stderr",
     "output_type": "stream",
     "text": [
      "                                                            \r"
     ]
    },
    {
     "name": "stdout",
     "output_type": "stream",
     "text": [
      "Moviepy - Done !\n",
      "Moviepy - video ready C:/Users/naoki/anaconda_work/Faster-R-CNN-pytorch-main/data/ori_data/drama_clip/127/clip.mp4\n",
      "Moviepy - Building video C:/Users/naoki/anaconda_work/Faster-R-CNN-pytorch-main/data/ori_data/drama_clip/128/clip.mp4.\n",
      "Moviepy - Writing video C:/Users/naoki/anaconda_work/Faster-R-CNN-pytorch-main/data/ori_data/drama_clip/128/clip.mp4\n",
      "\n"
     ]
    },
    {
     "name": "stderr",
     "output_type": "stream",
     "text": [
      "                                                            \r"
     ]
    },
    {
     "name": "stdout",
     "output_type": "stream",
     "text": [
      "Moviepy - Done !\n",
      "Moviepy - video ready C:/Users/naoki/anaconda_work/Faster-R-CNN-pytorch-main/data/ori_data/drama_clip/128/clip.mp4\n",
      "Moviepy - Building video C:/Users/naoki/anaconda_work/Faster-R-CNN-pytorch-main/data/ori_data/drama_clip/129/clip.mp4.\n",
      "Moviepy - Writing video C:/Users/naoki/anaconda_work/Faster-R-CNN-pytorch-main/data/ori_data/drama_clip/129/clip.mp4\n",
      "\n"
     ]
    },
    {
     "name": "stderr",
     "output_type": "stream",
     "text": [
      "                                                            \r"
     ]
    },
    {
     "name": "stdout",
     "output_type": "stream",
     "text": [
      "Moviepy - Done !\n",
      "Moviepy - video ready C:/Users/naoki/anaconda_work/Faster-R-CNN-pytorch-main/data/ori_data/drama_clip/129/clip.mp4\n",
      "Moviepy - Building video C:/Users/naoki/anaconda_work/Faster-R-CNN-pytorch-main/data/ori_data/drama_clip/130/clip.mp4.\n",
      "Moviepy - Writing video C:/Users/naoki/anaconda_work/Faster-R-CNN-pytorch-main/data/ori_data/drama_clip/130/clip.mp4\n",
      "\n"
     ]
    },
    {
     "name": "stderr",
     "output_type": "stream",
     "text": [
      "                                                            \r"
     ]
    },
    {
     "name": "stdout",
     "output_type": "stream",
     "text": [
      "Moviepy - Done !\n",
      "Moviepy - video ready C:/Users/naoki/anaconda_work/Faster-R-CNN-pytorch-main/data/ori_data/drama_clip/130/clip.mp4\n",
      "Moviepy - Building video C:/Users/naoki/anaconda_work/Faster-R-CNN-pytorch-main/data/ori_data/drama_clip/131/clip.mp4.\n",
      "Moviepy - Writing video C:/Users/naoki/anaconda_work/Faster-R-CNN-pytorch-main/data/ori_data/drama_clip/131/clip.mp4\n",
      "\n"
     ]
    },
    {
     "name": "stderr",
     "output_type": "stream",
     "text": [
      "                                                            \r"
     ]
    },
    {
     "name": "stdout",
     "output_type": "stream",
     "text": [
      "Moviepy - Done !\n",
      "Moviepy - video ready C:/Users/naoki/anaconda_work/Faster-R-CNN-pytorch-main/data/ori_data/drama_clip/131/clip.mp4\n",
      "Moviepy - Building video C:/Users/naoki/anaconda_work/Faster-R-CNN-pytorch-main/data/ori_data/drama_clip/132/clip.mp4.\n",
      "Moviepy - Writing video C:/Users/naoki/anaconda_work/Faster-R-CNN-pytorch-main/data/ori_data/drama_clip/132/clip.mp4\n",
      "\n"
     ]
    },
    {
     "name": "stderr",
     "output_type": "stream",
     "text": [
      "                                                            \r"
     ]
    },
    {
     "name": "stdout",
     "output_type": "stream",
     "text": [
      "Moviepy - Done !\n",
      "Moviepy - video ready C:/Users/naoki/anaconda_work/Faster-R-CNN-pytorch-main/data/ori_data/drama_clip/132/clip.mp4\n",
      "Moviepy - Building video C:/Users/naoki/anaconda_work/Faster-R-CNN-pytorch-main/data/ori_data/drama_clip/133/clip.mp4.\n",
      "Moviepy - Writing video C:/Users/naoki/anaconda_work/Faster-R-CNN-pytorch-main/data/ori_data/drama_clip/133/clip.mp4\n",
      "\n"
     ]
    },
    {
     "name": "stderr",
     "output_type": "stream",
     "text": [
      "                                                              \r"
     ]
    },
    {
     "name": "stdout",
     "output_type": "stream",
     "text": [
      "Moviepy - Done !\n",
      "Moviepy - video ready C:/Users/naoki/anaconda_work/Faster-R-CNN-pytorch-main/data/ori_data/drama_clip/133/clip.mp4\n",
      "Moviepy - Building video C:/Users/naoki/anaconda_work/Faster-R-CNN-pytorch-main/data/ori_data/drama_clip/134/clip.mp4.\n",
      "Moviepy - Writing video C:/Users/naoki/anaconda_work/Faster-R-CNN-pytorch-main/data/ori_data/drama_clip/134/clip.mp4\n",
      "\n"
     ]
    },
    {
     "name": "stderr",
     "output_type": "stream",
     "text": [
      "                                                            \r"
     ]
    },
    {
     "name": "stdout",
     "output_type": "stream",
     "text": [
      "Moviepy - Done !\n",
      "Moviepy - video ready C:/Users/naoki/anaconda_work/Faster-R-CNN-pytorch-main/data/ori_data/drama_clip/134/clip.mp4\n",
      "Moviepy - Building video C:/Users/naoki/anaconda_work/Faster-R-CNN-pytorch-main/data/ori_data/drama_clip/135/clip.mp4.\n",
      "Moviepy - Writing video C:/Users/naoki/anaconda_work/Faster-R-CNN-pytorch-main/data/ori_data/drama_clip/135/clip.mp4\n",
      "\n"
     ]
    },
    {
     "name": "stderr",
     "output_type": "stream",
     "text": [
      "                                                            \r"
     ]
    },
    {
     "name": "stdout",
     "output_type": "stream",
     "text": [
      "Moviepy - Done !\n",
      "Moviepy - video ready C:/Users/naoki/anaconda_work/Faster-R-CNN-pytorch-main/data/ori_data/drama_clip/135/clip.mp4\n",
      "Moviepy - Building video C:/Users/naoki/anaconda_work/Faster-R-CNN-pytorch-main/data/ori_data/drama_clip/136/clip.mp4.\n",
      "Moviepy - Writing video C:/Users/naoki/anaconda_work/Faster-R-CNN-pytorch-main/data/ori_data/drama_clip/136/clip.mp4\n",
      "\n"
     ]
    },
    {
     "name": "stderr",
     "output_type": "stream",
     "text": [
      "                                                            \r"
     ]
    },
    {
     "name": "stdout",
     "output_type": "stream",
     "text": [
      "Moviepy - Done !\n",
      "Moviepy - video ready C:/Users/naoki/anaconda_work/Faster-R-CNN-pytorch-main/data/ori_data/drama_clip/136/clip.mp4\n",
      "Moviepy - Building video C:/Users/naoki/anaconda_work/Faster-R-CNN-pytorch-main/data/ori_data/drama_clip/137/clip.mp4.\n",
      "Moviepy - Writing video C:/Users/naoki/anaconda_work/Faster-R-CNN-pytorch-main/data/ori_data/drama_clip/137/clip.mp4\n",
      "\n"
     ]
    },
    {
     "name": "stderr",
     "output_type": "stream",
     "text": [
      "                                                            \r"
     ]
    },
    {
     "name": "stdout",
     "output_type": "stream",
     "text": [
      "Moviepy - Done !\n",
      "Moviepy - video ready C:/Users/naoki/anaconda_work/Faster-R-CNN-pytorch-main/data/ori_data/drama_clip/137/clip.mp4\n",
      "Moviepy - Building video C:/Users/naoki/anaconda_work/Faster-R-CNN-pytorch-main/data/ori_data/drama_clip/138/clip.mp4.\n",
      "Moviepy - Writing video C:/Users/naoki/anaconda_work/Faster-R-CNN-pytorch-main/data/ori_data/drama_clip/138/clip.mp4\n",
      "\n"
     ]
    },
    {
     "name": "stderr",
     "output_type": "stream",
     "text": [
      "                                                            \r"
     ]
    },
    {
     "name": "stdout",
     "output_type": "stream",
     "text": [
      "Moviepy - Done !\n",
      "Moviepy - video ready C:/Users/naoki/anaconda_work/Faster-R-CNN-pytorch-main/data/ori_data/drama_clip/138/clip.mp4\n",
      "Moviepy - Building video C:/Users/naoki/anaconda_work/Faster-R-CNN-pytorch-main/data/ori_data/drama_clip/139/clip.mp4.\n",
      "Moviepy - Writing video C:/Users/naoki/anaconda_work/Faster-R-CNN-pytorch-main/data/ori_data/drama_clip/139/clip.mp4\n",
      "\n"
     ]
    },
    {
     "name": "stderr",
     "output_type": "stream",
     "text": [
      "                                                              \r"
     ]
    },
    {
     "name": "stdout",
     "output_type": "stream",
     "text": [
      "Moviepy - Done !\n",
      "Moviepy - video ready C:/Users/naoki/anaconda_work/Faster-R-CNN-pytorch-main/data/ori_data/drama_clip/139/clip.mp4\n",
      "Moviepy - Building video C:/Users/naoki/anaconda_work/Faster-R-CNN-pytorch-main/data/ori_data/drama_clip/140/clip.mp4.\n",
      "Moviepy - Writing video C:/Users/naoki/anaconda_work/Faster-R-CNN-pytorch-main/data/ori_data/drama_clip/140/clip.mp4\n",
      "\n"
     ]
    },
    {
     "name": "stderr",
     "output_type": "stream",
     "text": [
      "                                                            \r"
     ]
    },
    {
     "name": "stdout",
     "output_type": "stream",
     "text": [
      "Moviepy - Done !\n",
      "Moviepy - video ready C:/Users/naoki/anaconda_work/Faster-R-CNN-pytorch-main/data/ori_data/drama_clip/140/clip.mp4\n",
      "Moviepy - Building video C:/Users/naoki/anaconda_work/Faster-R-CNN-pytorch-main/data/ori_data/drama_clip/141/clip.mp4.\n",
      "Moviepy - Writing video C:/Users/naoki/anaconda_work/Faster-R-CNN-pytorch-main/data/ori_data/drama_clip/141/clip.mp4\n",
      "\n"
     ]
    },
    {
     "name": "stderr",
     "output_type": "stream",
     "text": [
      "                                                            \r"
     ]
    },
    {
     "name": "stdout",
     "output_type": "stream",
     "text": [
      "Moviepy - Done !\n",
      "Moviepy - video ready C:/Users/naoki/anaconda_work/Faster-R-CNN-pytorch-main/data/ori_data/drama_clip/141/clip.mp4\n",
      "Moviepy - Building video C:/Users/naoki/anaconda_work/Faster-R-CNN-pytorch-main/data/ori_data/drama_clip/142/clip.mp4.\n",
      "Moviepy - Writing video C:/Users/naoki/anaconda_work/Faster-R-CNN-pytorch-main/data/ori_data/drama_clip/142/clip.mp4\n",
      "\n"
     ]
    },
    {
     "name": "stderr",
     "output_type": "stream",
     "text": [
      "                                                            \r"
     ]
    },
    {
     "name": "stdout",
     "output_type": "stream",
     "text": [
      "Moviepy - Done !\n",
      "Moviepy - video ready C:/Users/naoki/anaconda_work/Faster-R-CNN-pytorch-main/data/ori_data/drama_clip/142/clip.mp4\n",
      "Moviepy - Building video C:/Users/naoki/anaconda_work/Faster-R-CNN-pytorch-main/data/ori_data/drama_clip/143/clip.mp4.\n",
      "Moviepy - Writing video C:/Users/naoki/anaconda_work/Faster-R-CNN-pytorch-main/data/ori_data/drama_clip/143/clip.mp4\n",
      "\n"
     ]
    },
    {
     "name": "stderr",
     "output_type": "stream",
     "text": [
      "                                                            \r"
     ]
    },
    {
     "name": "stdout",
     "output_type": "stream",
     "text": [
      "Moviepy - Done !\n",
      "Moviepy - video ready C:/Users/naoki/anaconda_work/Faster-R-CNN-pytorch-main/data/ori_data/drama_clip/143/clip.mp4\n",
      "Moviepy - Building video C:/Users/naoki/anaconda_work/Faster-R-CNN-pytorch-main/data/ori_data/drama_clip/144/clip.mp4.\n",
      "Moviepy - Writing video C:/Users/naoki/anaconda_work/Faster-R-CNN-pytorch-main/data/ori_data/drama_clip/144/clip.mp4\n",
      "\n"
     ]
    },
    {
     "name": "stderr",
     "output_type": "stream",
     "text": [
      "                                                            \r"
     ]
    },
    {
     "name": "stdout",
     "output_type": "stream",
     "text": [
      "Moviepy - Done !\n",
      "Moviepy - video ready C:/Users/naoki/anaconda_work/Faster-R-CNN-pytorch-main/data/ori_data/drama_clip/144/clip.mp4\n",
      "Moviepy - Building video C:/Users/naoki/anaconda_work/Faster-R-CNN-pytorch-main/data/ori_data/drama_clip/145/clip.mp4.\n",
      "Moviepy - Writing video C:/Users/naoki/anaconda_work/Faster-R-CNN-pytorch-main/data/ori_data/drama_clip/145/clip.mp4\n",
      "\n"
     ]
    },
    {
     "name": "stderr",
     "output_type": "stream",
     "text": [
      "                                                            \r"
     ]
    },
    {
     "name": "stdout",
     "output_type": "stream",
     "text": [
      "Moviepy - Done !\n",
      "Moviepy - video ready C:/Users/naoki/anaconda_work/Faster-R-CNN-pytorch-main/data/ori_data/drama_clip/145/clip.mp4\n",
      "Moviepy - Building video C:/Users/naoki/anaconda_work/Faster-R-CNN-pytorch-main/data/ori_data/drama_clip/146/clip.mp4.\n",
      "Moviepy - Writing video C:/Users/naoki/anaconda_work/Faster-R-CNN-pytorch-main/data/ori_data/drama_clip/146/clip.mp4\n",
      "\n"
     ]
    },
    {
     "name": "stderr",
     "output_type": "stream",
     "text": [
      "                                                              \r"
     ]
    },
    {
     "name": "stdout",
     "output_type": "stream",
     "text": [
      "Moviepy - Done !\n",
      "Moviepy - video ready C:/Users/naoki/anaconda_work/Faster-R-CNN-pytorch-main/data/ori_data/drama_clip/146/clip.mp4\n",
      "Moviepy - Building video C:/Users/naoki/anaconda_work/Faster-R-CNN-pytorch-main/data/ori_data/drama_clip/147/clip.mp4.\n",
      "Moviepy - Writing video C:/Users/naoki/anaconda_work/Faster-R-CNN-pytorch-main/data/ori_data/drama_clip/147/clip.mp4\n",
      "\n"
     ]
    },
    {
     "name": "stderr",
     "output_type": "stream",
     "text": [
      "                                                            \r"
     ]
    },
    {
     "name": "stdout",
     "output_type": "stream",
     "text": [
      "Moviepy - Done !\n",
      "Moviepy - video ready C:/Users/naoki/anaconda_work/Faster-R-CNN-pytorch-main/data/ori_data/drama_clip/147/clip.mp4\n",
      "Moviepy - Building video C:/Users/naoki/anaconda_work/Faster-R-CNN-pytorch-main/data/ori_data/drama_clip/148/clip.mp4.\n",
      "Moviepy - Writing video C:/Users/naoki/anaconda_work/Faster-R-CNN-pytorch-main/data/ori_data/drama_clip/148/clip.mp4\n",
      "\n"
     ]
    },
    {
     "name": "stderr",
     "output_type": "stream",
     "text": [
      "                                                            \r"
     ]
    },
    {
     "name": "stdout",
     "output_type": "stream",
     "text": [
      "Moviepy - Done !\n",
      "Moviepy - video ready C:/Users/naoki/anaconda_work/Faster-R-CNN-pytorch-main/data/ori_data/drama_clip/148/clip.mp4\n",
      "Moviepy - Building video C:/Users/naoki/anaconda_work/Faster-R-CNN-pytorch-main/data/ori_data/drama_clip/149/clip.mp4.\n",
      "Moviepy - Writing video C:/Users/naoki/anaconda_work/Faster-R-CNN-pytorch-main/data/ori_data/drama_clip/149/clip.mp4\n",
      "\n"
     ]
    },
    {
     "name": "stderr",
     "output_type": "stream",
     "text": [
      "                                                            \r"
     ]
    },
    {
     "name": "stdout",
     "output_type": "stream",
     "text": [
      "Moviepy - Done !\n",
      "Moviepy - video ready C:/Users/naoki/anaconda_work/Faster-R-CNN-pytorch-main/data/ori_data/drama_clip/149/clip.mp4\n",
      "Moviepy - Building video C:/Users/naoki/anaconda_work/Faster-R-CNN-pytorch-main/data/ori_data/drama_clip/150/clip.mp4.\n",
      "Moviepy - Writing video C:/Users/naoki/anaconda_work/Faster-R-CNN-pytorch-main/data/ori_data/drama_clip/150/clip.mp4\n",
      "\n"
     ]
    },
    {
     "name": "stderr",
     "output_type": "stream",
     "text": [
      "                                                            \r"
     ]
    },
    {
     "name": "stdout",
     "output_type": "stream",
     "text": [
      "Moviepy - Done !\n",
      "Moviepy - video ready C:/Users/naoki/anaconda_work/Faster-R-CNN-pytorch-main/data/ori_data/drama_clip/150/clip.mp4\n",
      "Moviepy - Building video C:/Users/naoki/anaconda_work/Faster-R-CNN-pytorch-main/data/ori_data/drama_clip/151/clip.mp4.\n",
      "Moviepy - Writing video C:/Users/naoki/anaconda_work/Faster-R-CNN-pytorch-main/data/ori_data/drama_clip/151/clip.mp4\n",
      "\n"
     ]
    },
    {
     "name": "stderr",
     "output_type": "stream",
     "text": [
      "                                                            \r"
     ]
    },
    {
     "name": "stdout",
     "output_type": "stream",
     "text": [
      "Moviepy - Done !\n",
      "Moviepy - video ready C:/Users/naoki/anaconda_work/Faster-R-CNN-pytorch-main/data/ori_data/drama_clip/151/clip.mp4\n",
      "Moviepy - Building video C:/Users/naoki/anaconda_work/Faster-R-CNN-pytorch-main/data/ori_data/drama_clip/152/clip.mp4.\n",
      "Moviepy - Writing video C:/Users/naoki/anaconda_work/Faster-R-CNN-pytorch-main/data/ori_data/drama_clip/152/clip.mp4\n",
      "\n"
     ]
    },
    {
     "name": "stderr",
     "output_type": "stream",
     "text": [
      "                                                            \r"
     ]
    },
    {
     "name": "stdout",
     "output_type": "stream",
     "text": [
      "Moviepy - Done !\n",
      "Moviepy - video ready C:/Users/naoki/anaconda_work/Faster-R-CNN-pytorch-main/data/ori_data/drama_clip/152/clip.mp4\n",
      "Moviepy - Building video C:/Users/naoki/anaconda_work/Faster-R-CNN-pytorch-main/data/ori_data/drama_clip/153/clip.mp4.\n",
      "Moviepy - Writing video C:/Users/naoki/anaconda_work/Faster-R-CNN-pytorch-main/data/ori_data/drama_clip/153/clip.mp4\n",
      "\n"
     ]
    },
    {
     "name": "stderr",
     "output_type": "stream",
     "text": [
      "                                                            \r"
     ]
    },
    {
     "name": "stdout",
     "output_type": "stream",
     "text": [
      "Moviepy - Done !\n",
      "Moviepy - video ready C:/Users/naoki/anaconda_work/Faster-R-CNN-pytorch-main/data/ori_data/drama_clip/153/clip.mp4\n",
      "Moviepy - Building video C:/Users/naoki/anaconda_work/Faster-R-CNN-pytorch-main/data/ori_data/drama_clip/154/clip.mp4.\n",
      "Moviepy - Writing video C:/Users/naoki/anaconda_work/Faster-R-CNN-pytorch-main/data/ori_data/drama_clip/154/clip.mp4\n",
      "\n"
     ]
    },
    {
     "name": "stderr",
     "output_type": "stream",
     "text": [
      "                                                            \r"
     ]
    },
    {
     "name": "stdout",
     "output_type": "stream",
     "text": [
      "Moviepy - Done !\n",
      "Moviepy - video ready C:/Users/naoki/anaconda_work/Faster-R-CNN-pytorch-main/data/ori_data/drama_clip/154/clip.mp4\n",
      "Moviepy - Building video C:/Users/naoki/anaconda_work/Faster-R-CNN-pytorch-main/data/ori_data/drama_clip/155/clip.mp4.\n",
      "Moviepy - Writing video C:/Users/naoki/anaconda_work/Faster-R-CNN-pytorch-main/data/ori_data/drama_clip/155/clip.mp4\n",
      "\n"
     ]
    },
    {
     "name": "stderr",
     "output_type": "stream",
     "text": [
      "                                                              \r"
     ]
    },
    {
     "name": "stdout",
     "output_type": "stream",
     "text": [
      "Moviepy - Done !\n",
      "Moviepy - video ready C:/Users/naoki/anaconda_work/Faster-R-CNN-pytorch-main/data/ori_data/drama_clip/155/clip.mp4\n",
      "Moviepy - Building video C:/Users/naoki/anaconda_work/Faster-R-CNN-pytorch-main/data/ori_data/drama_clip/156/clip.mp4.\n",
      "Moviepy - Writing video C:/Users/naoki/anaconda_work/Faster-R-CNN-pytorch-main/data/ori_data/drama_clip/156/clip.mp4\n",
      "\n"
     ]
    },
    {
     "name": "stderr",
     "output_type": "stream",
     "text": [
      "                                                            \r"
     ]
    },
    {
     "name": "stdout",
     "output_type": "stream",
     "text": [
      "Moviepy - Done !\n",
      "Moviepy - video ready C:/Users/naoki/anaconda_work/Faster-R-CNN-pytorch-main/data/ori_data/drama_clip/156/clip.mp4\n",
      "Moviepy - Building video C:/Users/naoki/anaconda_work/Faster-R-CNN-pytorch-main/data/ori_data/drama_clip/157/clip.mp4.\n",
      "Moviepy - Writing video C:/Users/naoki/anaconda_work/Faster-R-CNN-pytorch-main/data/ori_data/drama_clip/157/clip.mp4\n",
      "\n"
     ]
    },
    {
     "name": "stderr",
     "output_type": "stream",
     "text": [
      "                                                            \r"
     ]
    },
    {
     "name": "stdout",
     "output_type": "stream",
     "text": [
      "Moviepy - Done !\n",
      "Moviepy - video ready C:/Users/naoki/anaconda_work/Faster-R-CNN-pytorch-main/data/ori_data/drama_clip/157/clip.mp4\n",
      "Moviepy - Building video C:/Users/naoki/anaconda_work/Faster-R-CNN-pytorch-main/data/ori_data/drama_clip/158/clip.mp4.\n",
      "Moviepy - Writing video C:/Users/naoki/anaconda_work/Faster-R-CNN-pytorch-main/data/ori_data/drama_clip/158/clip.mp4\n",
      "\n"
     ]
    },
    {
     "name": "stderr",
     "output_type": "stream",
     "text": [
      "                                                            \r"
     ]
    },
    {
     "name": "stdout",
     "output_type": "stream",
     "text": [
      "Moviepy - Done !\n",
      "Moviepy - video ready C:/Users/naoki/anaconda_work/Faster-R-CNN-pytorch-main/data/ori_data/drama_clip/158/clip.mp4\n",
      "Moviepy - Building video C:/Users/naoki/anaconda_work/Faster-R-CNN-pytorch-main/data/ori_data/drama_clip/159/clip.mp4.\n",
      "Moviepy - Writing video C:/Users/naoki/anaconda_work/Faster-R-CNN-pytorch-main/data/ori_data/drama_clip/159/clip.mp4\n",
      "\n"
     ]
    },
    {
     "name": "stderr",
     "output_type": "stream",
     "text": [
      "                                                            \r"
     ]
    },
    {
     "name": "stdout",
     "output_type": "stream",
     "text": [
      "Moviepy - Done !\n",
      "Moviepy - video ready C:/Users/naoki/anaconda_work/Faster-R-CNN-pytorch-main/data/ori_data/drama_clip/159/clip.mp4\n",
      "Moviepy - Building video C:/Users/naoki/anaconda_work/Faster-R-CNN-pytorch-main/data/ori_data/drama_clip/160/clip.mp4.\n",
      "Moviepy - Writing video C:/Users/naoki/anaconda_work/Faster-R-CNN-pytorch-main/data/ori_data/drama_clip/160/clip.mp4\n",
      "\n"
     ]
    },
    {
     "name": "stderr",
     "output_type": "stream",
     "text": [
      "                                                            \r"
     ]
    },
    {
     "name": "stdout",
     "output_type": "stream",
     "text": [
      "Moviepy - Done !\n",
      "Moviepy - video ready C:/Users/naoki/anaconda_work/Faster-R-CNN-pytorch-main/data/ori_data/drama_clip/160/clip.mp4\n",
      "Moviepy - Building video C:/Users/naoki/anaconda_work/Faster-R-CNN-pytorch-main/data/ori_data/drama_clip/161/clip.mp4.\n",
      "Moviepy - Writing video C:/Users/naoki/anaconda_work/Faster-R-CNN-pytorch-main/data/ori_data/drama_clip/161/clip.mp4\n",
      "\n"
     ]
    },
    {
     "name": "stderr",
     "output_type": "stream",
     "text": [
      "                                                            \r"
     ]
    },
    {
     "name": "stdout",
     "output_type": "stream",
     "text": [
      "Moviepy - Done !\n",
      "Moviepy - video ready C:/Users/naoki/anaconda_work/Faster-R-CNN-pytorch-main/data/ori_data/drama_clip/161/clip.mp4\n",
      "Moviepy - Building video C:/Users/naoki/anaconda_work/Faster-R-CNN-pytorch-main/data/ori_data/drama_clip/162/clip.mp4.\n",
      "Moviepy - Writing video C:/Users/naoki/anaconda_work/Faster-R-CNN-pytorch-main/data/ori_data/drama_clip/162/clip.mp4\n",
      "\n"
     ]
    },
    {
     "name": "stderr",
     "output_type": "stream",
     "text": [
      "                                                            \r"
     ]
    },
    {
     "name": "stdout",
     "output_type": "stream",
     "text": [
      "Moviepy - Done !\n",
      "Moviepy - video ready C:/Users/naoki/anaconda_work/Faster-R-CNN-pytorch-main/data/ori_data/drama_clip/162/clip.mp4\n",
      "Moviepy - Building video C:/Users/naoki/anaconda_work/Faster-R-CNN-pytorch-main/data/ori_data/drama_clip/163/clip.mp4.\n",
      "Moviepy - Writing video C:/Users/naoki/anaconda_work/Faster-R-CNN-pytorch-main/data/ori_data/drama_clip/163/clip.mp4\n",
      "\n"
     ]
    },
    {
     "name": "stderr",
     "output_type": "stream",
     "text": [
      "                                                            \r"
     ]
    },
    {
     "name": "stdout",
     "output_type": "stream",
     "text": [
      "Moviepy - Done !\n",
      "Moviepy - video ready C:/Users/naoki/anaconda_work/Faster-R-CNN-pytorch-main/data/ori_data/drama_clip/163/clip.mp4\n",
      "Moviepy - Building video C:/Users/naoki/anaconda_work/Faster-R-CNN-pytorch-main/data/ori_data/drama_clip/164/clip.mp4.\n",
      "Moviepy - Writing video C:/Users/naoki/anaconda_work/Faster-R-CNN-pytorch-main/data/ori_data/drama_clip/164/clip.mp4\n",
      "\n"
     ]
    },
    {
     "name": "stderr",
     "output_type": "stream",
     "text": [
      "                                                            \r"
     ]
    },
    {
     "name": "stdout",
     "output_type": "stream",
     "text": [
      "Moviepy - Done !\n",
      "Moviepy - video ready C:/Users/naoki/anaconda_work/Faster-R-CNN-pytorch-main/data/ori_data/drama_clip/164/clip.mp4\n",
      "Moviepy - Building video C:/Users/naoki/anaconda_work/Faster-R-CNN-pytorch-main/data/ori_data/drama_clip/165/clip.mp4.\n",
      "Moviepy - Writing video C:/Users/naoki/anaconda_work/Faster-R-CNN-pytorch-main/data/ori_data/drama_clip/165/clip.mp4\n",
      "\n"
     ]
    },
    {
     "name": "stderr",
     "output_type": "stream",
     "text": [
      "                                                            \r"
     ]
    },
    {
     "name": "stdout",
     "output_type": "stream",
     "text": [
      "Moviepy - Done !\n",
      "Moviepy - video ready C:/Users/naoki/anaconda_work/Faster-R-CNN-pytorch-main/data/ori_data/drama_clip/165/clip.mp4\n",
      "Moviepy - Building video C:/Users/naoki/anaconda_work/Faster-R-CNN-pytorch-main/data/ori_data/drama_clip/166/clip.mp4.\n",
      "Moviepy - Writing video C:/Users/naoki/anaconda_work/Faster-R-CNN-pytorch-main/data/ori_data/drama_clip/166/clip.mp4\n",
      "\n"
     ]
    },
    {
     "name": "stderr",
     "output_type": "stream",
     "text": [
      "                                                            \r"
     ]
    },
    {
     "name": "stdout",
     "output_type": "stream",
     "text": [
      "Moviepy - Done !\n",
      "Moviepy - video ready C:/Users/naoki/anaconda_work/Faster-R-CNN-pytorch-main/data/ori_data/drama_clip/166/clip.mp4\n",
      "Moviepy - Building video C:/Users/naoki/anaconda_work/Faster-R-CNN-pytorch-main/data/ori_data/drama_clip/167/clip.mp4.\n",
      "Moviepy - Writing video C:/Users/naoki/anaconda_work/Faster-R-CNN-pytorch-main/data/ori_data/drama_clip/167/clip.mp4\n",
      "\n"
     ]
    },
    {
     "name": "stderr",
     "output_type": "stream",
     "text": [
      "                                                            \r"
     ]
    },
    {
     "name": "stdout",
     "output_type": "stream",
     "text": [
      "Moviepy - Done !\n",
      "Moviepy - video ready C:/Users/naoki/anaconda_work/Faster-R-CNN-pytorch-main/data/ori_data/drama_clip/167/clip.mp4\n",
      "Moviepy - Building video C:/Users/naoki/anaconda_work/Faster-R-CNN-pytorch-main/data/ori_data/drama_clip/168/clip.mp4.\n",
      "Moviepy - Writing video C:/Users/naoki/anaconda_work/Faster-R-CNN-pytorch-main/data/ori_data/drama_clip/168/clip.mp4\n",
      "\n"
     ]
    },
    {
     "name": "stderr",
     "output_type": "stream",
     "text": [
      "                                                            \r"
     ]
    },
    {
     "name": "stdout",
     "output_type": "stream",
     "text": [
      "Moviepy - Done !\n",
      "Moviepy - video ready C:/Users/naoki/anaconda_work/Faster-R-CNN-pytorch-main/data/ori_data/drama_clip/168/clip.mp4\n",
      "Moviepy - Building video C:/Users/naoki/anaconda_work/Faster-R-CNN-pytorch-main/data/ori_data/drama_clip/169/clip.mp4.\n",
      "Moviepy - Writing video C:/Users/naoki/anaconda_work/Faster-R-CNN-pytorch-main/data/ori_data/drama_clip/169/clip.mp4\n",
      "\n"
     ]
    },
    {
     "name": "stderr",
     "output_type": "stream",
     "text": [
      "                                                            \r"
     ]
    },
    {
     "name": "stdout",
     "output_type": "stream",
     "text": [
      "Moviepy - Done !\n",
      "Moviepy - video ready C:/Users/naoki/anaconda_work/Faster-R-CNN-pytorch-main/data/ori_data/drama_clip/169/clip.mp4\n",
      "Moviepy - Building video C:/Users/naoki/anaconda_work/Faster-R-CNN-pytorch-main/data/ori_data/drama_clip/170/clip.mp4.\n",
      "Moviepy - Writing video C:/Users/naoki/anaconda_work/Faster-R-CNN-pytorch-main/data/ori_data/drama_clip/170/clip.mp4\n",
      "\n"
     ]
    },
    {
     "name": "stderr",
     "output_type": "stream",
     "text": [
      "                                                            \r"
     ]
    },
    {
     "name": "stdout",
     "output_type": "stream",
     "text": [
      "Moviepy - Done !\n",
      "Moviepy - video ready C:/Users/naoki/anaconda_work/Faster-R-CNN-pytorch-main/data/ori_data/drama_clip/170/clip.mp4\n",
      "Moviepy - Building video C:/Users/naoki/anaconda_work/Faster-R-CNN-pytorch-main/data/ori_data/drama_clip/171/clip.mp4.\n",
      "Moviepy - Writing video C:/Users/naoki/anaconda_work/Faster-R-CNN-pytorch-main/data/ori_data/drama_clip/171/clip.mp4\n",
      "\n"
     ]
    },
    {
     "name": "stderr",
     "output_type": "stream",
     "text": [
      "                                                            \r"
     ]
    },
    {
     "name": "stdout",
     "output_type": "stream",
     "text": [
      "Moviepy - Done !\n",
      "Moviepy - video ready C:/Users/naoki/anaconda_work/Faster-R-CNN-pytorch-main/data/ori_data/drama_clip/171/clip.mp4\n",
      "Moviepy - Building video C:/Users/naoki/anaconda_work/Faster-R-CNN-pytorch-main/data/ori_data/drama_clip/172/clip.mp4.\n",
      "Moviepy - Writing video C:/Users/naoki/anaconda_work/Faster-R-CNN-pytorch-main/data/ori_data/drama_clip/172/clip.mp4\n",
      "\n"
     ]
    },
    {
     "name": "stderr",
     "output_type": "stream",
     "text": [
      "                                                            \r"
     ]
    },
    {
     "name": "stdout",
     "output_type": "stream",
     "text": [
      "Moviepy - Done !\n",
      "Moviepy - video ready C:/Users/naoki/anaconda_work/Faster-R-CNN-pytorch-main/data/ori_data/drama_clip/172/clip.mp4\n",
      "Moviepy - Building video C:/Users/naoki/anaconda_work/Faster-R-CNN-pytorch-main/data/ori_data/drama_clip/173/clip.mp4.\n",
      "Moviepy - Writing video C:/Users/naoki/anaconda_work/Faster-R-CNN-pytorch-main/data/ori_data/drama_clip/173/clip.mp4\n",
      "\n"
     ]
    },
    {
     "name": "stderr",
     "output_type": "stream",
     "text": [
      "                                                            \r"
     ]
    },
    {
     "name": "stdout",
     "output_type": "stream",
     "text": [
      "Moviepy - Done !\n",
      "Moviepy - video ready C:/Users/naoki/anaconda_work/Faster-R-CNN-pytorch-main/data/ori_data/drama_clip/173/clip.mp4\n",
      "Moviepy - Building video C:/Users/naoki/anaconda_work/Faster-R-CNN-pytorch-main/data/ori_data/drama_clip/174/clip.mp4.\n",
      "Moviepy - Writing video C:/Users/naoki/anaconda_work/Faster-R-CNN-pytorch-main/data/ori_data/drama_clip/174/clip.mp4\n",
      "\n"
     ]
    },
    {
     "name": "stderr",
     "output_type": "stream",
     "text": [
      "                                                            \r"
     ]
    },
    {
     "name": "stdout",
     "output_type": "stream",
     "text": [
      "Moviepy - Done !\n",
      "Moviepy - video ready C:/Users/naoki/anaconda_work/Faster-R-CNN-pytorch-main/data/ori_data/drama_clip/174/clip.mp4\n",
      "Moviepy - Building video C:/Users/naoki/anaconda_work/Faster-R-CNN-pytorch-main/data/ori_data/drama_clip/175/clip.mp4.\n",
      "Moviepy - Writing video C:/Users/naoki/anaconda_work/Faster-R-CNN-pytorch-main/data/ori_data/drama_clip/175/clip.mp4\n",
      "\n"
     ]
    },
    {
     "name": "stderr",
     "output_type": "stream",
     "text": [
      "                                                            \r"
     ]
    },
    {
     "name": "stdout",
     "output_type": "stream",
     "text": [
      "Moviepy - Done !\n",
      "Moviepy - video ready C:/Users/naoki/anaconda_work/Faster-R-CNN-pytorch-main/data/ori_data/drama_clip/175/clip.mp4\n",
      "Moviepy - Building video C:/Users/naoki/anaconda_work/Faster-R-CNN-pytorch-main/data/ori_data/drama_clip/176/clip.mp4.\n",
      "Moviepy - Writing video C:/Users/naoki/anaconda_work/Faster-R-CNN-pytorch-main/data/ori_data/drama_clip/176/clip.mp4\n",
      "\n"
     ]
    },
    {
     "name": "stderr",
     "output_type": "stream",
     "text": [
      "                                                            \r"
     ]
    },
    {
     "name": "stdout",
     "output_type": "stream",
     "text": [
      "Moviepy - Done !\n",
      "Moviepy - video ready C:/Users/naoki/anaconda_work/Faster-R-CNN-pytorch-main/data/ori_data/drama_clip/176/clip.mp4\n",
      "Moviepy - Building video C:/Users/naoki/anaconda_work/Faster-R-CNN-pytorch-main/data/ori_data/drama_clip/177/clip.mp4.\n",
      "Moviepy - Writing video C:/Users/naoki/anaconda_work/Faster-R-CNN-pytorch-main/data/ori_data/drama_clip/177/clip.mp4\n",
      "\n"
     ]
    },
    {
     "name": "stderr",
     "output_type": "stream",
     "text": [
      "                                                            \r"
     ]
    },
    {
     "name": "stdout",
     "output_type": "stream",
     "text": [
      "Moviepy - Done !\n",
      "Moviepy - video ready C:/Users/naoki/anaconda_work/Faster-R-CNN-pytorch-main/data/ori_data/drama_clip/177/clip.mp4\n",
      "Moviepy - Building video C:/Users/naoki/anaconda_work/Faster-R-CNN-pytorch-main/data/ori_data/drama_clip/178/clip.mp4.\n",
      "Moviepy - Writing video C:/Users/naoki/anaconda_work/Faster-R-CNN-pytorch-main/data/ori_data/drama_clip/178/clip.mp4\n",
      "\n"
     ]
    },
    {
     "name": "stderr",
     "output_type": "stream",
     "text": [
      "                                                            \r"
     ]
    },
    {
     "name": "stdout",
     "output_type": "stream",
     "text": [
      "Moviepy - Done !\n",
      "Moviepy - video ready C:/Users/naoki/anaconda_work/Faster-R-CNN-pytorch-main/data/ori_data/drama_clip/178/clip.mp4\n",
      "Moviepy - Building video C:/Users/naoki/anaconda_work/Faster-R-CNN-pytorch-main/data/ori_data/drama_clip/179/clip.mp4.\n",
      "Moviepy - Writing video C:/Users/naoki/anaconda_work/Faster-R-CNN-pytorch-main/data/ori_data/drama_clip/179/clip.mp4\n",
      "\n"
     ]
    },
    {
     "name": "stderr",
     "output_type": "stream",
     "text": [
      "                                                            \r"
     ]
    },
    {
     "name": "stdout",
     "output_type": "stream",
     "text": [
      "Moviepy - Done !\n",
      "Moviepy - video ready C:/Users/naoki/anaconda_work/Faster-R-CNN-pytorch-main/data/ori_data/drama_clip/179/clip.mp4\n",
      "Moviepy - Building video C:/Users/naoki/anaconda_work/Faster-R-CNN-pytorch-main/data/ori_data/drama_clip/180/clip.mp4.\n",
      "Moviepy - Writing video C:/Users/naoki/anaconda_work/Faster-R-CNN-pytorch-main/data/ori_data/drama_clip/180/clip.mp4\n",
      "\n"
     ]
    },
    {
     "name": "stderr",
     "output_type": "stream",
     "text": [
      "                                                            \r"
     ]
    },
    {
     "name": "stdout",
     "output_type": "stream",
     "text": [
      "Moviepy - Done !\n",
      "Moviepy - video ready C:/Users/naoki/anaconda_work/Faster-R-CNN-pytorch-main/data/ori_data/drama_clip/180/clip.mp4\n",
      "Moviepy - Building video C:/Users/naoki/anaconda_work/Faster-R-CNN-pytorch-main/data/ori_data/drama_clip/181/clip.mp4.\n",
      "Moviepy - Writing video C:/Users/naoki/anaconda_work/Faster-R-CNN-pytorch-main/data/ori_data/drama_clip/181/clip.mp4\n",
      "\n"
     ]
    },
    {
     "name": "stderr",
     "output_type": "stream",
     "text": [
      "                                                            \r"
     ]
    },
    {
     "name": "stdout",
     "output_type": "stream",
     "text": [
      "Moviepy - Done !\n",
      "Moviepy - video ready C:/Users/naoki/anaconda_work/Faster-R-CNN-pytorch-main/data/ori_data/drama_clip/181/clip.mp4\n",
      "Moviepy - Building video C:/Users/naoki/anaconda_work/Faster-R-CNN-pytorch-main/data/ori_data/drama_clip/182/clip.mp4.\n",
      "Moviepy - Writing video C:/Users/naoki/anaconda_work/Faster-R-CNN-pytorch-main/data/ori_data/drama_clip/182/clip.mp4\n",
      "\n"
     ]
    },
    {
     "name": "stderr",
     "output_type": "stream",
     "text": [
      "                                                            \r"
     ]
    },
    {
     "name": "stdout",
     "output_type": "stream",
     "text": [
      "Moviepy - Done !\n",
      "Moviepy - video ready C:/Users/naoki/anaconda_work/Faster-R-CNN-pytorch-main/data/ori_data/drama_clip/182/clip.mp4\n",
      "Moviepy - Building video C:/Users/naoki/anaconda_work/Faster-R-CNN-pytorch-main/data/ori_data/drama_clip/183/clip.mp4.\n",
      "Moviepy - Writing video C:/Users/naoki/anaconda_work/Faster-R-CNN-pytorch-main/data/ori_data/drama_clip/183/clip.mp4\n",
      "\n"
     ]
    },
    {
     "name": "stderr",
     "output_type": "stream",
     "text": [
      "                                                            \r"
     ]
    },
    {
     "name": "stdout",
     "output_type": "stream",
     "text": [
      "Moviepy - Done !\n",
      "Moviepy - video ready C:/Users/naoki/anaconda_work/Faster-R-CNN-pytorch-main/data/ori_data/drama_clip/183/clip.mp4\n",
      "Moviepy - Building video C:/Users/naoki/anaconda_work/Faster-R-CNN-pytorch-main/data/ori_data/drama_clip/184/clip.mp4.\n",
      "Moviepy - Writing video C:/Users/naoki/anaconda_work/Faster-R-CNN-pytorch-main/data/ori_data/drama_clip/184/clip.mp4\n",
      "\n"
     ]
    },
    {
     "name": "stderr",
     "output_type": "stream",
     "text": [
      "                                                            \r"
     ]
    },
    {
     "name": "stdout",
     "output_type": "stream",
     "text": [
      "Moviepy - Done !\n",
      "Moviepy - video ready C:/Users/naoki/anaconda_work/Faster-R-CNN-pytorch-main/data/ori_data/drama_clip/184/clip.mp4\n",
      "Moviepy - Building video C:/Users/naoki/anaconda_work/Faster-R-CNN-pytorch-main/data/ori_data/drama_clip/185/clip.mp4.\n",
      "Moviepy - Writing video C:/Users/naoki/anaconda_work/Faster-R-CNN-pytorch-main/data/ori_data/drama_clip/185/clip.mp4\n",
      "\n"
     ]
    },
    {
     "name": "stderr",
     "output_type": "stream",
     "text": [
      "                                                            \r"
     ]
    },
    {
     "name": "stdout",
     "output_type": "stream",
     "text": [
      "Moviepy - Done !\n",
      "Moviepy - video ready C:/Users/naoki/anaconda_work/Faster-R-CNN-pytorch-main/data/ori_data/drama_clip/185/clip.mp4\n",
      "Moviepy - Building video C:/Users/naoki/anaconda_work/Faster-R-CNN-pytorch-main/data/ori_data/drama_clip/186/clip.mp4.\n",
      "Moviepy - Writing video C:/Users/naoki/anaconda_work/Faster-R-CNN-pytorch-main/data/ori_data/drama_clip/186/clip.mp4\n",
      "\n"
     ]
    },
    {
     "name": "stderr",
     "output_type": "stream",
     "text": [
      "                                                            \r"
     ]
    },
    {
     "name": "stdout",
     "output_type": "stream",
     "text": [
      "Moviepy - Done !\n",
      "Moviepy - video ready C:/Users/naoki/anaconda_work/Faster-R-CNN-pytorch-main/data/ori_data/drama_clip/186/clip.mp4\n",
      "Moviepy - Building video C:/Users/naoki/anaconda_work/Faster-R-CNN-pytorch-main/data/ori_data/drama_clip/187/clip.mp4.\n",
      "Moviepy - Writing video C:/Users/naoki/anaconda_work/Faster-R-CNN-pytorch-main/data/ori_data/drama_clip/187/clip.mp4\n",
      "\n"
     ]
    },
    {
     "name": "stderr",
     "output_type": "stream",
     "text": [
      "                                                            \r"
     ]
    },
    {
     "name": "stdout",
     "output_type": "stream",
     "text": [
      "Moviepy - Done !\n",
      "Moviepy - video ready C:/Users/naoki/anaconda_work/Faster-R-CNN-pytorch-main/data/ori_data/drama_clip/187/clip.mp4\n",
      "Moviepy - Building video C:/Users/naoki/anaconda_work/Faster-R-CNN-pytorch-main/data/ori_data/drama_clip/188/clip.mp4.\n",
      "Moviepy - Writing video C:/Users/naoki/anaconda_work/Faster-R-CNN-pytorch-main/data/ori_data/drama_clip/188/clip.mp4\n",
      "\n"
     ]
    },
    {
     "name": "stderr",
     "output_type": "stream",
     "text": [
      "                                                            \r"
     ]
    },
    {
     "name": "stdout",
     "output_type": "stream",
     "text": [
      "Moviepy - Done !\n",
      "Moviepy - video ready C:/Users/naoki/anaconda_work/Faster-R-CNN-pytorch-main/data/ori_data/drama_clip/188/clip.mp4\n",
      "Moviepy - Building video C:/Users/naoki/anaconda_work/Faster-R-CNN-pytorch-main/data/ori_data/drama_clip/189/clip.mp4.\n",
      "Moviepy - Writing video C:/Users/naoki/anaconda_work/Faster-R-CNN-pytorch-main/data/ori_data/drama_clip/189/clip.mp4\n",
      "\n"
     ]
    },
    {
     "name": "stderr",
     "output_type": "stream",
     "text": [
      "                                                            \r"
     ]
    },
    {
     "name": "stdout",
     "output_type": "stream",
     "text": [
      "Moviepy - Done !\n",
      "Moviepy - video ready C:/Users/naoki/anaconda_work/Faster-R-CNN-pytorch-main/data/ori_data/drama_clip/189/clip.mp4\n",
      "Moviepy - Building video C:/Users/naoki/anaconda_work/Faster-R-CNN-pytorch-main/data/ori_data/drama_clip/190/clip.mp4.\n",
      "Moviepy - Writing video C:/Users/naoki/anaconda_work/Faster-R-CNN-pytorch-main/data/ori_data/drama_clip/190/clip.mp4\n",
      "\n"
     ]
    },
    {
     "name": "stderr",
     "output_type": "stream",
     "text": [
      "                                                            \r"
     ]
    },
    {
     "name": "stdout",
     "output_type": "stream",
     "text": [
      "Moviepy - Done !\n",
      "Moviepy - video ready C:/Users/naoki/anaconda_work/Faster-R-CNN-pytorch-main/data/ori_data/drama_clip/190/clip.mp4\n",
      "Moviepy - Building video C:/Users/naoki/anaconda_work/Faster-R-CNN-pytorch-main/data/ori_data/drama_clip/191/clip.mp4.\n",
      "Moviepy - Writing video C:/Users/naoki/anaconda_work/Faster-R-CNN-pytorch-main/data/ori_data/drama_clip/191/clip.mp4\n",
      "\n"
     ]
    },
    {
     "name": "stderr",
     "output_type": "stream",
     "text": [
      "                                                            \r"
     ]
    },
    {
     "name": "stdout",
     "output_type": "stream",
     "text": [
      "Moviepy - Done !\n",
      "Moviepy - video ready C:/Users/naoki/anaconda_work/Faster-R-CNN-pytorch-main/data/ori_data/drama_clip/191/clip.mp4\n",
      "Moviepy - Building video C:/Users/naoki/anaconda_work/Faster-R-CNN-pytorch-main/data/ori_data/drama_clip/192/clip.mp4.\n",
      "Moviepy - Writing video C:/Users/naoki/anaconda_work/Faster-R-CNN-pytorch-main/data/ori_data/drama_clip/192/clip.mp4\n",
      "\n"
     ]
    },
    {
     "name": "stderr",
     "output_type": "stream",
     "text": [
      "                                                            \r"
     ]
    },
    {
     "name": "stdout",
     "output_type": "stream",
     "text": [
      "Moviepy - Done !\n",
      "Moviepy - video ready C:/Users/naoki/anaconda_work/Faster-R-CNN-pytorch-main/data/ori_data/drama_clip/192/clip.mp4\n",
      "Moviepy - Building video C:/Users/naoki/anaconda_work/Faster-R-CNN-pytorch-main/data/ori_data/drama_clip/193/clip.mp4.\n",
      "Moviepy - Writing video C:/Users/naoki/anaconda_work/Faster-R-CNN-pytorch-main/data/ori_data/drama_clip/193/clip.mp4\n",
      "\n"
     ]
    },
    {
     "name": "stderr",
     "output_type": "stream",
     "text": [
      "                                                            \r"
     ]
    },
    {
     "name": "stdout",
     "output_type": "stream",
     "text": [
      "Moviepy - Done !\n",
      "Moviepy - video ready C:/Users/naoki/anaconda_work/Faster-R-CNN-pytorch-main/data/ori_data/drama_clip/193/clip.mp4\n",
      "Moviepy - Building video C:/Users/naoki/anaconda_work/Faster-R-CNN-pytorch-main/data/ori_data/drama_clip/194/clip.mp4.\n",
      "Moviepy - Writing video C:/Users/naoki/anaconda_work/Faster-R-CNN-pytorch-main/data/ori_data/drama_clip/194/clip.mp4\n",
      "\n"
     ]
    },
    {
     "name": "stderr",
     "output_type": "stream",
     "text": [
      "                                                              \r"
     ]
    },
    {
     "name": "stdout",
     "output_type": "stream",
     "text": [
      "Moviepy - Done !\n",
      "Moviepy - video ready C:/Users/naoki/anaconda_work/Faster-R-CNN-pytorch-main/data/ori_data/drama_clip/194/clip.mp4\n",
      "Moviepy - Building video C:/Users/naoki/anaconda_work/Faster-R-CNN-pytorch-main/data/ori_data/drama_clip/195/clip.mp4.\n",
      "Moviepy - Writing video C:/Users/naoki/anaconda_work/Faster-R-CNN-pytorch-main/data/ori_data/drama_clip/195/clip.mp4\n",
      "\n"
     ]
    },
    {
     "name": "stderr",
     "output_type": "stream",
     "text": [
      "                                                              \r"
     ]
    },
    {
     "name": "stdout",
     "output_type": "stream",
     "text": [
      "Moviepy - Done !\n",
      "Moviepy - video ready C:/Users/naoki/anaconda_work/Faster-R-CNN-pytorch-main/data/ori_data/drama_clip/195/clip.mp4\n",
      "Moviepy - Building video C:/Users/naoki/anaconda_work/Faster-R-CNN-pytorch-main/data/ori_data/drama_clip/196/clip.mp4.\n",
      "Moviepy - Writing video C:/Users/naoki/anaconda_work/Faster-R-CNN-pytorch-main/data/ori_data/drama_clip/196/clip.mp4\n",
      "\n"
     ]
    },
    {
     "name": "stderr",
     "output_type": "stream",
     "text": [
      "                                                            \r"
     ]
    },
    {
     "name": "stdout",
     "output_type": "stream",
     "text": [
      "Moviepy - Done !\n",
      "Moviepy - video ready C:/Users/naoki/anaconda_work/Faster-R-CNN-pytorch-main/data/ori_data/drama_clip/196/clip.mp4\n",
      "Moviepy - Building video C:/Users/naoki/anaconda_work/Faster-R-CNN-pytorch-main/data/ori_data/drama_clip/197/clip.mp4.\n",
      "Moviepy - Writing video C:/Users/naoki/anaconda_work/Faster-R-CNN-pytorch-main/data/ori_data/drama_clip/197/clip.mp4\n",
      "\n"
     ]
    },
    {
     "name": "stderr",
     "output_type": "stream",
     "text": [
      "                                                              \r"
     ]
    },
    {
     "name": "stdout",
     "output_type": "stream",
     "text": [
      "Moviepy - Done !\n",
      "Moviepy - video ready C:/Users/naoki/anaconda_work/Faster-R-CNN-pytorch-main/data/ori_data/drama_clip/197/clip.mp4\n",
      "Moviepy - Building video C:/Users/naoki/anaconda_work/Faster-R-CNN-pytorch-main/data/ori_data/drama_clip/198/clip.mp4.\n",
      "Moviepy - Writing video C:/Users/naoki/anaconda_work/Faster-R-CNN-pytorch-main/data/ori_data/drama_clip/198/clip.mp4\n",
      "\n"
     ]
    },
    {
     "name": "stderr",
     "output_type": "stream",
     "text": [
      "                                                            \r"
     ]
    },
    {
     "name": "stdout",
     "output_type": "stream",
     "text": [
      "Moviepy - Done !\n",
      "Moviepy - video ready C:/Users/naoki/anaconda_work/Faster-R-CNN-pytorch-main/data/ori_data/drama_clip/198/clip.mp4\n",
      "Moviepy - Building video C:/Users/naoki/anaconda_work/Faster-R-CNN-pytorch-main/data/ori_data/drama_clip/199/clip.mp4.\n",
      "Moviepy - Writing video C:/Users/naoki/anaconda_work/Faster-R-CNN-pytorch-main/data/ori_data/drama_clip/199/clip.mp4\n",
      "\n"
     ]
    },
    {
     "name": "stderr",
     "output_type": "stream",
     "text": [
      "                                                            \r"
     ]
    },
    {
     "name": "stdout",
     "output_type": "stream",
     "text": [
      "Moviepy - Done !\n",
      "Moviepy - video ready C:/Users/naoki/anaconda_work/Faster-R-CNN-pytorch-main/data/ori_data/drama_clip/199/clip.mp4\n",
      "Moviepy - Building video C:/Users/naoki/anaconda_work/Faster-R-CNN-pytorch-main/data/ori_data/drama_clip/200/clip.mp4.\n",
      "Moviepy - Writing video C:/Users/naoki/anaconda_work/Faster-R-CNN-pytorch-main/data/ori_data/drama_clip/200/clip.mp4\n",
      "\n"
     ]
    },
    {
     "name": "stderr",
     "output_type": "stream",
     "text": [
      "                                                            \r"
     ]
    },
    {
     "name": "stdout",
     "output_type": "stream",
     "text": [
      "Moviepy - Done !\n",
      "Moviepy - video ready C:/Users/naoki/anaconda_work/Faster-R-CNN-pytorch-main/data/ori_data/drama_clip/200/clip.mp4\n",
      "Moviepy - Building video C:/Users/naoki/anaconda_work/Faster-R-CNN-pytorch-main/data/ori_data/drama_clip/201/clip.mp4.\n",
      "Moviepy - Writing video C:/Users/naoki/anaconda_work/Faster-R-CNN-pytorch-main/data/ori_data/drama_clip/201/clip.mp4\n",
      "\n"
     ]
    },
    {
     "name": "stderr",
     "output_type": "stream",
     "text": [
      "                                                            \r"
     ]
    },
    {
     "name": "stdout",
     "output_type": "stream",
     "text": [
      "Moviepy - Done !\n",
      "Moviepy - video ready C:/Users/naoki/anaconda_work/Faster-R-CNN-pytorch-main/data/ori_data/drama_clip/201/clip.mp4\n",
      "Moviepy - Building video C:/Users/naoki/anaconda_work/Faster-R-CNN-pytorch-main/data/ori_data/drama_clip/202/clip.mp4.\n",
      "Moviepy - Writing video C:/Users/naoki/anaconda_work/Faster-R-CNN-pytorch-main/data/ori_data/drama_clip/202/clip.mp4\n",
      "\n"
     ]
    },
    {
     "name": "stderr",
     "output_type": "stream",
     "text": [
      "                                                            \r"
     ]
    },
    {
     "name": "stdout",
     "output_type": "stream",
     "text": [
      "Moviepy - Done !\n",
      "Moviepy - video ready C:/Users/naoki/anaconda_work/Faster-R-CNN-pytorch-main/data/ori_data/drama_clip/202/clip.mp4\n",
      "Moviepy - Building video C:/Users/naoki/anaconda_work/Faster-R-CNN-pytorch-main/data/ori_data/drama_clip/203/clip.mp4.\n",
      "Moviepy - Writing video C:/Users/naoki/anaconda_work/Faster-R-CNN-pytorch-main/data/ori_data/drama_clip/203/clip.mp4\n",
      "\n"
     ]
    },
    {
     "name": "stderr",
     "output_type": "stream",
     "text": [
      "                                                            \r"
     ]
    },
    {
     "name": "stdout",
     "output_type": "stream",
     "text": [
      "Moviepy - Done !\n",
      "Moviepy - video ready C:/Users/naoki/anaconda_work/Faster-R-CNN-pytorch-main/data/ori_data/drama_clip/203/clip.mp4\n",
      "Moviepy - Building video C:/Users/naoki/anaconda_work/Faster-R-CNN-pytorch-main/data/ori_data/drama_clip/204/clip.mp4.\n",
      "Moviepy - Writing video C:/Users/naoki/anaconda_work/Faster-R-CNN-pytorch-main/data/ori_data/drama_clip/204/clip.mp4\n",
      "\n"
     ]
    },
    {
     "name": "stderr",
     "output_type": "stream",
     "text": [
      "                                                            \r"
     ]
    },
    {
     "name": "stdout",
     "output_type": "stream",
     "text": [
      "Moviepy - Done !\n",
      "Moviepy - video ready C:/Users/naoki/anaconda_work/Faster-R-CNN-pytorch-main/data/ori_data/drama_clip/204/clip.mp4\n",
      "Moviepy - Building video C:/Users/naoki/anaconda_work/Faster-R-CNN-pytorch-main/data/ori_data/drama_clip/205/clip.mp4.\n",
      "Moviepy - Writing video C:/Users/naoki/anaconda_work/Faster-R-CNN-pytorch-main/data/ori_data/drama_clip/205/clip.mp4\n",
      "\n"
     ]
    },
    {
     "name": "stderr",
     "output_type": "stream",
     "text": [
      "                                                            \r"
     ]
    },
    {
     "name": "stdout",
     "output_type": "stream",
     "text": [
      "Moviepy - Done !\n",
      "Moviepy - video ready C:/Users/naoki/anaconda_work/Faster-R-CNN-pytorch-main/data/ori_data/drama_clip/205/clip.mp4\n",
      "Moviepy - Building video C:/Users/naoki/anaconda_work/Faster-R-CNN-pytorch-main/data/ori_data/drama_clip/206/clip.mp4.\n",
      "Moviepy - Writing video C:/Users/naoki/anaconda_work/Faster-R-CNN-pytorch-main/data/ori_data/drama_clip/206/clip.mp4\n",
      "\n"
     ]
    },
    {
     "name": "stderr",
     "output_type": "stream",
     "text": [
      "                                                            \r"
     ]
    },
    {
     "name": "stdout",
     "output_type": "stream",
     "text": [
      "Moviepy - Done !\n",
      "Moviepy - video ready C:/Users/naoki/anaconda_work/Faster-R-CNN-pytorch-main/data/ori_data/drama_clip/206/clip.mp4\n",
      "Moviepy - Building video C:/Users/naoki/anaconda_work/Faster-R-CNN-pytorch-main/data/ori_data/drama_clip/207/clip.mp4.\n",
      "Moviepy - Writing video C:/Users/naoki/anaconda_work/Faster-R-CNN-pytorch-main/data/ori_data/drama_clip/207/clip.mp4\n",
      "\n"
     ]
    },
    {
     "name": "stderr",
     "output_type": "stream",
     "text": [
      "                                                            \r"
     ]
    },
    {
     "name": "stdout",
     "output_type": "stream",
     "text": [
      "Moviepy - Done !\n",
      "Moviepy - video ready C:/Users/naoki/anaconda_work/Faster-R-CNN-pytorch-main/data/ori_data/drama_clip/207/clip.mp4\n",
      "Moviepy - Building video C:/Users/naoki/anaconda_work/Faster-R-CNN-pytorch-main/data/ori_data/drama_clip/208/clip.mp4.\n",
      "Moviepy - Writing video C:/Users/naoki/anaconda_work/Faster-R-CNN-pytorch-main/data/ori_data/drama_clip/208/clip.mp4\n",
      "\n"
     ]
    },
    {
     "name": "stderr",
     "output_type": "stream",
     "text": [
      "                                                            \r"
     ]
    },
    {
     "name": "stdout",
     "output_type": "stream",
     "text": [
      "Moviepy - Done !\n",
      "Moviepy - video ready C:/Users/naoki/anaconda_work/Faster-R-CNN-pytorch-main/data/ori_data/drama_clip/208/clip.mp4\n",
      "Moviepy - Building video C:/Users/naoki/anaconda_work/Faster-R-CNN-pytorch-main/data/ori_data/drama_clip/209/clip.mp4.\n",
      "Moviepy - Writing video C:/Users/naoki/anaconda_work/Faster-R-CNN-pytorch-main/data/ori_data/drama_clip/209/clip.mp4\n",
      "\n"
     ]
    },
    {
     "name": "stderr",
     "output_type": "stream",
     "text": [
      "                                                            \r"
     ]
    },
    {
     "name": "stdout",
     "output_type": "stream",
     "text": [
      "Moviepy - Done !\n",
      "Moviepy - video ready C:/Users/naoki/anaconda_work/Faster-R-CNN-pytorch-main/data/ori_data/drama_clip/209/clip.mp4\n",
      "Moviepy - Building video C:/Users/naoki/anaconda_work/Faster-R-CNN-pytorch-main/data/ori_data/drama_clip/210/clip.mp4.\n",
      "Moviepy - Writing video C:/Users/naoki/anaconda_work/Faster-R-CNN-pytorch-main/data/ori_data/drama_clip/210/clip.mp4\n",
      "\n"
     ]
    },
    {
     "name": "stderr",
     "output_type": "stream",
     "text": [
      "                                                            \r"
     ]
    },
    {
     "name": "stdout",
     "output_type": "stream",
     "text": [
      "Moviepy - Done !\n",
      "Moviepy - video ready C:/Users/naoki/anaconda_work/Faster-R-CNN-pytorch-main/data/ori_data/drama_clip/210/clip.mp4\n",
      "Moviepy - Building video C:/Users/naoki/anaconda_work/Faster-R-CNN-pytorch-main/data/ori_data/drama_clip/211/clip.mp4.\n",
      "Moviepy - Writing video C:/Users/naoki/anaconda_work/Faster-R-CNN-pytorch-main/data/ori_data/drama_clip/211/clip.mp4\n",
      "\n"
     ]
    },
    {
     "name": "stderr",
     "output_type": "stream",
     "text": [
      "                                                            \r"
     ]
    },
    {
     "name": "stdout",
     "output_type": "stream",
     "text": [
      "Moviepy - Done !\n",
      "Moviepy - video ready C:/Users/naoki/anaconda_work/Faster-R-CNN-pytorch-main/data/ori_data/drama_clip/211/clip.mp4\n",
      "Moviepy - Building video C:/Users/naoki/anaconda_work/Faster-R-CNN-pytorch-main/data/ori_data/drama_clip/212/clip.mp4.\n",
      "Moviepy - Writing video C:/Users/naoki/anaconda_work/Faster-R-CNN-pytorch-main/data/ori_data/drama_clip/212/clip.mp4\n",
      "\n"
     ]
    },
    {
     "name": "stderr",
     "output_type": "stream",
     "text": [
      "                                                            \r"
     ]
    },
    {
     "name": "stdout",
     "output_type": "stream",
     "text": [
      "Moviepy - Done !\n",
      "Moviepy - video ready C:/Users/naoki/anaconda_work/Faster-R-CNN-pytorch-main/data/ori_data/drama_clip/212/clip.mp4\n",
      "Moviepy - Building video C:/Users/naoki/anaconda_work/Faster-R-CNN-pytorch-main/data/ori_data/drama_clip/213/clip.mp4.\n",
      "Moviepy - Writing video C:/Users/naoki/anaconda_work/Faster-R-CNN-pytorch-main/data/ori_data/drama_clip/213/clip.mp4\n",
      "\n"
     ]
    },
    {
     "name": "stderr",
     "output_type": "stream",
     "text": [
      "                                                            \r"
     ]
    },
    {
     "name": "stdout",
     "output_type": "stream",
     "text": [
      "Moviepy - Done !\n",
      "Moviepy - video ready C:/Users/naoki/anaconda_work/Faster-R-CNN-pytorch-main/data/ori_data/drama_clip/213/clip.mp4\n",
      "Moviepy - Building video C:/Users/naoki/anaconda_work/Faster-R-CNN-pytorch-main/data/ori_data/drama_clip/214/clip.mp4.\n",
      "Moviepy - Writing video C:/Users/naoki/anaconda_work/Faster-R-CNN-pytorch-main/data/ori_data/drama_clip/214/clip.mp4\n",
      "\n"
     ]
    },
    {
     "name": "stderr",
     "output_type": "stream",
     "text": [
      "                                                              \r"
     ]
    },
    {
     "name": "stdout",
     "output_type": "stream",
     "text": [
      "Moviepy - Done !\n",
      "Moviepy - video ready C:/Users/naoki/anaconda_work/Faster-R-CNN-pytorch-main/data/ori_data/drama_clip/214/clip.mp4\n",
      "Moviepy - Building video C:/Users/naoki/anaconda_work/Faster-R-CNN-pytorch-main/data/ori_data/drama_clip/215/clip.mp4.\n",
      "Moviepy - Writing video C:/Users/naoki/anaconda_work/Faster-R-CNN-pytorch-main/data/ori_data/drama_clip/215/clip.mp4\n",
      "\n"
     ]
    },
    {
     "name": "stderr",
     "output_type": "stream",
     "text": [
      "                                                            \r"
     ]
    },
    {
     "name": "stdout",
     "output_type": "stream",
     "text": [
      "Moviepy - Done !\n",
      "Moviepy - video ready C:/Users/naoki/anaconda_work/Faster-R-CNN-pytorch-main/data/ori_data/drama_clip/215/clip.mp4\n",
      "Moviepy - Building video C:/Users/naoki/anaconda_work/Faster-R-CNN-pytorch-main/data/ori_data/drama_clip/216/clip.mp4.\n",
      "Moviepy - Writing video C:/Users/naoki/anaconda_work/Faster-R-CNN-pytorch-main/data/ori_data/drama_clip/216/clip.mp4\n",
      "\n"
     ]
    },
    {
     "name": "stderr",
     "output_type": "stream",
     "text": [
      "                                                            \r"
     ]
    },
    {
     "name": "stdout",
     "output_type": "stream",
     "text": [
      "Moviepy - Done !\n",
      "Moviepy - video ready C:/Users/naoki/anaconda_work/Faster-R-CNN-pytorch-main/data/ori_data/drama_clip/216/clip.mp4\n",
      "Moviepy - Building video C:/Users/naoki/anaconda_work/Faster-R-CNN-pytorch-main/data/ori_data/drama_clip/217/clip.mp4.\n",
      "Moviepy - Writing video C:/Users/naoki/anaconda_work/Faster-R-CNN-pytorch-main/data/ori_data/drama_clip/217/clip.mp4\n",
      "\n"
     ]
    },
    {
     "name": "stderr",
     "output_type": "stream",
     "text": [
      "                                                            \r"
     ]
    },
    {
     "name": "stdout",
     "output_type": "stream",
     "text": [
      "Moviepy - Done !\n",
      "Moviepy - video ready C:/Users/naoki/anaconda_work/Faster-R-CNN-pytorch-main/data/ori_data/drama_clip/217/clip.mp4\n",
      "Moviepy - Building video C:/Users/naoki/anaconda_work/Faster-R-CNN-pytorch-main/data/ori_data/drama_clip/218/clip.mp4.\n",
      "Moviepy - Writing video C:/Users/naoki/anaconda_work/Faster-R-CNN-pytorch-main/data/ori_data/drama_clip/218/clip.mp4\n",
      "\n"
     ]
    },
    {
     "name": "stderr",
     "output_type": "stream",
     "text": [
      "                                                            \r"
     ]
    },
    {
     "name": "stdout",
     "output_type": "stream",
     "text": [
      "Moviepy - Done !\n",
      "Moviepy - video ready C:/Users/naoki/anaconda_work/Faster-R-CNN-pytorch-main/data/ori_data/drama_clip/218/clip.mp4\n",
      "Moviepy - Building video C:/Users/naoki/anaconda_work/Faster-R-CNN-pytorch-main/data/ori_data/drama_clip/219/clip.mp4.\n",
      "Moviepy - Writing video C:/Users/naoki/anaconda_work/Faster-R-CNN-pytorch-main/data/ori_data/drama_clip/219/clip.mp4\n",
      "\n"
     ]
    },
    {
     "name": "stderr",
     "output_type": "stream",
     "text": [
      "                                                              \r"
     ]
    },
    {
     "name": "stdout",
     "output_type": "stream",
     "text": [
      "Moviepy - Done !\n",
      "Moviepy - video ready C:/Users/naoki/anaconda_work/Faster-R-CNN-pytorch-main/data/ori_data/drama_clip/219/clip.mp4\n",
      "Moviepy - Building video C:/Users/naoki/anaconda_work/Faster-R-CNN-pytorch-main/data/ori_data/drama_clip/220/clip.mp4.\n",
      "Moviepy - Writing video C:/Users/naoki/anaconda_work/Faster-R-CNN-pytorch-main/data/ori_data/drama_clip/220/clip.mp4\n",
      "\n"
     ]
    },
    {
     "name": "stderr",
     "output_type": "stream",
     "text": [
      "                                                            \r"
     ]
    },
    {
     "name": "stdout",
     "output_type": "stream",
     "text": [
      "Moviepy - Done !\n",
      "Moviepy - video ready C:/Users/naoki/anaconda_work/Faster-R-CNN-pytorch-main/data/ori_data/drama_clip/220/clip.mp4\n",
      "Moviepy - Building video C:/Users/naoki/anaconda_work/Faster-R-CNN-pytorch-main/data/ori_data/drama_clip/221/clip.mp4.\n",
      "Moviepy - Writing video C:/Users/naoki/anaconda_work/Faster-R-CNN-pytorch-main/data/ori_data/drama_clip/221/clip.mp4\n",
      "\n"
     ]
    },
    {
     "name": "stderr",
     "output_type": "stream",
     "text": [
      "                                                            \r"
     ]
    },
    {
     "name": "stdout",
     "output_type": "stream",
     "text": [
      "Moviepy - Done !\n",
      "Moviepy - video ready C:/Users/naoki/anaconda_work/Faster-R-CNN-pytorch-main/data/ori_data/drama_clip/221/clip.mp4\n",
      "Moviepy - Building video C:/Users/naoki/anaconda_work/Faster-R-CNN-pytorch-main/data/ori_data/drama_clip/222/clip.mp4.\n",
      "Moviepy - Writing video C:/Users/naoki/anaconda_work/Faster-R-CNN-pytorch-main/data/ori_data/drama_clip/222/clip.mp4\n",
      "\n"
     ]
    },
    {
     "name": "stderr",
     "output_type": "stream",
     "text": [
      "                                                            \r"
     ]
    },
    {
     "name": "stdout",
     "output_type": "stream",
     "text": [
      "Moviepy - Done !\n",
      "Moviepy - video ready C:/Users/naoki/anaconda_work/Faster-R-CNN-pytorch-main/data/ori_data/drama_clip/222/clip.mp4\n",
      "Moviepy - Building video C:/Users/naoki/anaconda_work/Faster-R-CNN-pytorch-main/data/ori_data/drama_clip/223/clip.mp4.\n",
      "Moviepy - Writing video C:/Users/naoki/anaconda_work/Faster-R-CNN-pytorch-main/data/ori_data/drama_clip/223/clip.mp4\n",
      "\n"
     ]
    },
    {
     "name": "stderr",
     "output_type": "stream",
     "text": [
      "                                                              \r"
     ]
    },
    {
     "name": "stdout",
     "output_type": "stream",
     "text": [
      "Moviepy - Done !\n",
      "Moviepy - video ready C:/Users/naoki/anaconda_work/Faster-R-CNN-pytorch-main/data/ori_data/drama_clip/223/clip.mp4\n",
      "Moviepy - Building video C:/Users/naoki/anaconda_work/Faster-R-CNN-pytorch-main/data/ori_data/drama_clip/224/clip.mp4.\n",
      "Moviepy - Writing video C:/Users/naoki/anaconda_work/Faster-R-CNN-pytorch-main/data/ori_data/drama_clip/224/clip.mp4\n",
      "\n"
     ]
    },
    {
     "name": "stderr",
     "output_type": "stream",
     "text": [
      "                                                            \r"
     ]
    },
    {
     "name": "stdout",
     "output_type": "stream",
     "text": [
      "Moviepy - Done !\n",
      "Moviepy - video ready C:/Users/naoki/anaconda_work/Faster-R-CNN-pytorch-main/data/ori_data/drama_clip/224/clip.mp4\n",
      "Moviepy - Building video C:/Users/naoki/anaconda_work/Faster-R-CNN-pytorch-main/data/ori_data/drama_clip/225/clip.mp4.\n",
      "Moviepy - Writing video C:/Users/naoki/anaconda_work/Faster-R-CNN-pytorch-main/data/ori_data/drama_clip/225/clip.mp4\n",
      "\n"
     ]
    },
    {
     "name": "stderr",
     "output_type": "stream",
     "text": [
      "                                                              \r"
     ]
    },
    {
     "name": "stdout",
     "output_type": "stream",
     "text": [
      "Moviepy - Done !\n",
      "Moviepy - video ready C:/Users/naoki/anaconda_work/Faster-R-CNN-pytorch-main/data/ori_data/drama_clip/225/clip.mp4\n",
      "Moviepy - Building video C:/Users/naoki/anaconda_work/Faster-R-CNN-pytorch-main/data/ori_data/drama_clip/226/clip.mp4.\n",
      "Moviepy - Writing video C:/Users/naoki/anaconda_work/Faster-R-CNN-pytorch-main/data/ori_data/drama_clip/226/clip.mp4\n",
      "\n"
     ]
    },
    {
     "name": "stderr",
     "output_type": "stream",
     "text": [
      "                                                            \r"
     ]
    },
    {
     "name": "stdout",
     "output_type": "stream",
     "text": [
      "Moviepy - Done !\n",
      "Moviepy - video ready C:/Users/naoki/anaconda_work/Faster-R-CNN-pytorch-main/data/ori_data/drama_clip/226/clip.mp4\n",
      "Moviepy - Building video C:/Users/naoki/anaconda_work/Faster-R-CNN-pytorch-main/data/ori_data/drama_clip/227/clip.mp4.\n",
      "Moviepy - Writing video C:/Users/naoki/anaconda_work/Faster-R-CNN-pytorch-main/data/ori_data/drama_clip/227/clip.mp4\n",
      "\n"
     ]
    },
    {
     "name": "stderr",
     "output_type": "stream",
     "text": [
      "                                                              \r"
     ]
    },
    {
     "name": "stdout",
     "output_type": "stream",
     "text": [
      "Moviepy - Done !\n",
      "Moviepy - video ready C:/Users/naoki/anaconda_work/Faster-R-CNN-pytorch-main/data/ori_data/drama_clip/227/clip.mp4\n",
      "Moviepy - Building video C:/Users/naoki/anaconda_work/Faster-R-CNN-pytorch-main/data/ori_data/drama_clip/228/clip.mp4.\n",
      "Moviepy - Writing video C:/Users/naoki/anaconda_work/Faster-R-CNN-pytorch-main/data/ori_data/drama_clip/228/clip.mp4\n",
      "\n"
     ]
    },
    {
     "name": "stderr",
     "output_type": "stream",
     "text": [
      "                                                            \r"
     ]
    },
    {
     "name": "stdout",
     "output_type": "stream",
     "text": [
      "Moviepy - Done !\n",
      "Moviepy - video ready C:/Users/naoki/anaconda_work/Faster-R-CNN-pytorch-main/data/ori_data/drama_clip/228/clip.mp4\n",
      "Moviepy - Building video C:/Users/naoki/anaconda_work/Faster-R-CNN-pytorch-main/data/ori_data/drama_clip/229/clip.mp4.\n",
      "Moviepy - Writing video C:/Users/naoki/anaconda_work/Faster-R-CNN-pytorch-main/data/ori_data/drama_clip/229/clip.mp4\n",
      "\n"
     ]
    },
    {
     "name": "stderr",
     "output_type": "stream",
     "text": [
      "                                                            \r"
     ]
    },
    {
     "name": "stdout",
     "output_type": "stream",
     "text": [
      "Moviepy - Done !\n",
      "Moviepy - video ready C:/Users/naoki/anaconda_work/Faster-R-CNN-pytorch-main/data/ori_data/drama_clip/229/clip.mp4\n",
      "Moviepy - Building video C:/Users/naoki/anaconda_work/Faster-R-CNN-pytorch-main/data/ori_data/drama_clip/230/clip.mp4.\n",
      "Moviepy - Writing video C:/Users/naoki/anaconda_work/Faster-R-CNN-pytorch-main/data/ori_data/drama_clip/230/clip.mp4\n",
      "\n"
     ]
    },
    {
     "name": "stderr",
     "output_type": "stream",
     "text": [
      "                                                            \r"
     ]
    },
    {
     "name": "stdout",
     "output_type": "stream",
     "text": [
      "Moviepy - Done !\n",
      "Moviepy - video ready C:/Users/naoki/anaconda_work/Faster-R-CNN-pytorch-main/data/ori_data/drama_clip/230/clip.mp4\n",
      "Moviepy - Building video C:/Users/naoki/anaconda_work/Faster-R-CNN-pytorch-main/data/ori_data/drama_clip/231/clip.mp4.\n",
      "Moviepy - Writing video C:/Users/naoki/anaconda_work/Faster-R-CNN-pytorch-main/data/ori_data/drama_clip/231/clip.mp4\n",
      "\n"
     ]
    },
    {
     "name": "stderr",
     "output_type": "stream",
     "text": [
      "                                                              \r"
     ]
    },
    {
     "name": "stdout",
     "output_type": "stream",
     "text": [
      "Moviepy - Done !\n",
      "Moviepy - video ready C:/Users/naoki/anaconda_work/Faster-R-CNN-pytorch-main/data/ori_data/drama_clip/231/clip.mp4\n",
      "Moviepy - Building video C:/Users/naoki/anaconda_work/Faster-R-CNN-pytorch-main/data/ori_data/drama_clip/232/clip.mp4.\n",
      "Moviepy - Writing video C:/Users/naoki/anaconda_work/Faster-R-CNN-pytorch-main/data/ori_data/drama_clip/232/clip.mp4\n",
      "\n"
     ]
    },
    {
     "name": "stderr",
     "output_type": "stream",
     "text": [
      "                                                            \r"
     ]
    },
    {
     "name": "stdout",
     "output_type": "stream",
     "text": [
      "Moviepy - Done !\n",
      "Moviepy - video ready C:/Users/naoki/anaconda_work/Faster-R-CNN-pytorch-main/data/ori_data/drama_clip/232/clip.mp4\n",
      "Moviepy - Building video C:/Users/naoki/anaconda_work/Faster-R-CNN-pytorch-main/data/ori_data/drama_clip/233/clip.mp4.\n",
      "Moviepy - Writing video C:/Users/naoki/anaconda_work/Faster-R-CNN-pytorch-main/data/ori_data/drama_clip/233/clip.mp4\n",
      "\n"
     ]
    },
    {
     "name": "stderr",
     "output_type": "stream",
     "text": [
      "                                                            \r"
     ]
    },
    {
     "name": "stdout",
     "output_type": "stream",
     "text": [
      "Moviepy - Done !\n",
      "Moviepy - video ready C:/Users/naoki/anaconda_work/Faster-R-CNN-pytorch-main/data/ori_data/drama_clip/233/clip.mp4\n",
      "Moviepy - Building video C:/Users/naoki/anaconda_work/Faster-R-CNN-pytorch-main/data/ori_data/drama_clip/234/clip.mp4.\n",
      "Moviepy - Writing video C:/Users/naoki/anaconda_work/Faster-R-CNN-pytorch-main/data/ori_data/drama_clip/234/clip.mp4\n",
      "\n"
     ]
    },
    {
     "name": "stderr",
     "output_type": "stream",
     "text": [
      "                                                            \r"
     ]
    },
    {
     "name": "stdout",
     "output_type": "stream",
     "text": [
      "Moviepy - Done !\n",
      "Moviepy - video ready C:/Users/naoki/anaconda_work/Faster-R-CNN-pytorch-main/data/ori_data/drama_clip/234/clip.mp4\n",
      "Moviepy - Building video C:/Users/naoki/anaconda_work/Faster-R-CNN-pytorch-main/data/ori_data/drama_clip/235/clip.mp4.\n",
      "Moviepy - Writing video C:/Users/naoki/anaconda_work/Faster-R-CNN-pytorch-main/data/ori_data/drama_clip/235/clip.mp4\n",
      "\n"
     ]
    },
    {
     "name": "stderr",
     "output_type": "stream",
     "text": [
      "                                                            \r"
     ]
    },
    {
     "name": "stdout",
     "output_type": "stream",
     "text": [
      "Moviepy - Done !\n",
      "Moviepy - video ready C:/Users/naoki/anaconda_work/Faster-R-CNN-pytorch-main/data/ori_data/drama_clip/235/clip.mp4\n",
      "Moviepy - Building video C:/Users/naoki/anaconda_work/Faster-R-CNN-pytorch-main/data/ori_data/drama_clip/236/clip.mp4.\n",
      "Moviepy - Writing video C:/Users/naoki/anaconda_work/Faster-R-CNN-pytorch-main/data/ori_data/drama_clip/236/clip.mp4\n",
      "\n"
     ]
    },
    {
     "name": "stderr",
     "output_type": "stream",
     "text": [
      "                                                            \r"
     ]
    },
    {
     "name": "stdout",
     "output_type": "stream",
     "text": [
      "Moviepy - Done !\n",
      "Moviepy - video ready C:/Users/naoki/anaconda_work/Faster-R-CNN-pytorch-main/data/ori_data/drama_clip/236/clip.mp4\n",
      "Moviepy - Building video C:/Users/naoki/anaconda_work/Faster-R-CNN-pytorch-main/data/ori_data/drama_clip/237/clip.mp4.\n",
      "Moviepy - Writing video C:/Users/naoki/anaconda_work/Faster-R-CNN-pytorch-main/data/ori_data/drama_clip/237/clip.mp4\n",
      "\n"
     ]
    },
    {
     "name": "stderr",
     "output_type": "stream",
     "text": [
      "                                                              \r"
     ]
    },
    {
     "name": "stdout",
     "output_type": "stream",
     "text": [
      "Moviepy - Done !\n",
      "Moviepy - video ready C:/Users/naoki/anaconda_work/Faster-R-CNN-pytorch-main/data/ori_data/drama_clip/237/clip.mp4\n",
      "Moviepy - Building video C:/Users/naoki/anaconda_work/Faster-R-CNN-pytorch-main/data/ori_data/drama_clip/238/clip.mp4.\n",
      "Moviepy - Writing video C:/Users/naoki/anaconda_work/Faster-R-CNN-pytorch-main/data/ori_data/drama_clip/238/clip.mp4\n",
      "\n"
     ]
    },
    {
     "name": "stderr",
     "output_type": "stream",
     "text": [
      "                                                              \r"
     ]
    },
    {
     "name": "stdout",
     "output_type": "stream",
     "text": [
      "Moviepy - Done !\n",
      "Moviepy - video ready C:/Users/naoki/anaconda_work/Faster-R-CNN-pytorch-main/data/ori_data/drama_clip/238/clip.mp4\n",
      "Moviepy - Building video C:/Users/naoki/anaconda_work/Faster-R-CNN-pytorch-main/data/ori_data/drama_clip/239/clip.mp4.\n",
      "Moviepy - Writing video C:/Users/naoki/anaconda_work/Faster-R-CNN-pytorch-main/data/ori_data/drama_clip/239/clip.mp4\n",
      "\n"
     ]
    },
    {
     "name": "stderr",
     "output_type": "stream",
     "text": [
      "                                                            \r"
     ]
    },
    {
     "name": "stdout",
     "output_type": "stream",
     "text": [
      "Moviepy - Done !\n",
      "Moviepy - video ready C:/Users/naoki/anaconda_work/Faster-R-CNN-pytorch-main/data/ori_data/drama_clip/239/clip.mp4\n",
      "Moviepy - Building video C:/Users/naoki/anaconda_work/Faster-R-CNN-pytorch-main/data/ori_data/drama_clip/240/clip.mp4.\n",
      "Moviepy - Writing video C:/Users/naoki/anaconda_work/Faster-R-CNN-pytorch-main/data/ori_data/drama_clip/240/clip.mp4\n",
      "\n"
     ]
    },
    {
     "name": "stderr",
     "output_type": "stream",
     "text": [
      "                                                            \r"
     ]
    },
    {
     "name": "stdout",
     "output_type": "stream",
     "text": [
      "Moviepy - Done !\n",
      "Moviepy - video ready C:/Users/naoki/anaconda_work/Faster-R-CNN-pytorch-main/data/ori_data/drama_clip/240/clip.mp4\n",
      "Moviepy - Building video C:/Users/naoki/anaconda_work/Faster-R-CNN-pytorch-main/data/ori_data/drama_clip/241/clip.mp4.\n",
      "Moviepy - Writing video C:/Users/naoki/anaconda_work/Faster-R-CNN-pytorch-main/data/ori_data/drama_clip/241/clip.mp4\n",
      "\n"
     ]
    },
    {
     "name": "stderr",
     "output_type": "stream",
     "text": [
      "                                                              \r"
     ]
    },
    {
     "name": "stdout",
     "output_type": "stream",
     "text": [
      "Moviepy - Done !\n",
      "Moviepy - video ready C:/Users/naoki/anaconda_work/Faster-R-CNN-pytorch-main/data/ori_data/drama_clip/241/clip.mp4\n",
      "Moviepy - Building video C:/Users/naoki/anaconda_work/Faster-R-CNN-pytorch-main/data/ori_data/drama_clip/242/clip.mp4.\n",
      "Moviepy - Writing video C:/Users/naoki/anaconda_work/Faster-R-CNN-pytorch-main/data/ori_data/drama_clip/242/clip.mp4\n",
      "\n"
     ]
    },
    {
     "name": "stderr",
     "output_type": "stream",
     "text": [
      "                                                              \r"
     ]
    },
    {
     "name": "stdout",
     "output_type": "stream",
     "text": [
      "Moviepy - Done !\n",
      "Moviepy - video ready C:/Users/naoki/anaconda_work/Faster-R-CNN-pytorch-main/data/ori_data/drama_clip/242/clip.mp4\n",
      "Moviepy - Building video C:/Users/naoki/anaconda_work/Faster-R-CNN-pytorch-main/data/ori_data/drama_clip/243/clip.mp4.\n",
      "Moviepy - Writing video C:/Users/naoki/anaconda_work/Faster-R-CNN-pytorch-main/data/ori_data/drama_clip/243/clip.mp4\n",
      "\n"
     ]
    },
    {
     "name": "stderr",
     "output_type": "stream",
     "text": [
      "                                                            \r"
     ]
    },
    {
     "name": "stdout",
     "output_type": "stream",
     "text": [
      "Moviepy - Done !\n",
      "Moviepy - video ready C:/Users/naoki/anaconda_work/Faster-R-CNN-pytorch-main/data/ori_data/drama_clip/243/clip.mp4\n",
      "Moviepy - Building video C:/Users/naoki/anaconda_work/Faster-R-CNN-pytorch-main/data/ori_data/drama_clip/244/clip.mp4.\n",
      "Moviepy - Writing video C:/Users/naoki/anaconda_work/Faster-R-CNN-pytorch-main/data/ori_data/drama_clip/244/clip.mp4\n",
      "\n"
     ]
    },
    {
     "name": "stderr",
     "output_type": "stream",
     "text": [
      "                                                            \r"
     ]
    },
    {
     "name": "stdout",
     "output_type": "stream",
     "text": [
      "Moviepy - Done !\n",
      "Moviepy - video ready C:/Users/naoki/anaconda_work/Faster-R-CNN-pytorch-main/data/ori_data/drama_clip/244/clip.mp4\n",
      "Moviepy - Building video C:/Users/naoki/anaconda_work/Faster-R-CNN-pytorch-main/data/ori_data/drama_clip/245/clip.mp4.\n",
      "Moviepy - Writing video C:/Users/naoki/anaconda_work/Faster-R-CNN-pytorch-main/data/ori_data/drama_clip/245/clip.mp4\n",
      "\n"
     ]
    },
    {
     "name": "stderr",
     "output_type": "stream",
     "text": [
      "                                                              \r"
     ]
    },
    {
     "name": "stdout",
     "output_type": "stream",
     "text": [
      "Moviepy - Done !\n",
      "Moviepy - video ready C:/Users/naoki/anaconda_work/Faster-R-CNN-pytorch-main/data/ori_data/drama_clip/245/clip.mp4\n",
      "Moviepy - Building video C:/Users/naoki/anaconda_work/Faster-R-CNN-pytorch-main/data/ori_data/drama_clip/246/clip.mp4.\n",
      "Moviepy - Writing video C:/Users/naoki/anaconda_work/Faster-R-CNN-pytorch-main/data/ori_data/drama_clip/246/clip.mp4\n",
      "\n"
     ]
    },
    {
     "name": "stderr",
     "output_type": "stream",
     "text": [
      "                                                            \r"
     ]
    },
    {
     "name": "stdout",
     "output_type": "stream",
     "text": [
      "Moviepy - Done !\n",
      "Moviepy - video ready C:/Users/naoki/anaconda_work/Faster-R-CNN-pytorch-main/data/ori_data/drama_clip/246/clip.mp4\n",
      "Moviepy - Building video C:/Users/naoki/anaconda_work/Faster-R-CNN-pytorch-main/data/ori_data/drama_clip/247/clip.mp4.\n",
      "Moviepy - Writing video C:/Users/naoki/anaconda_work/Faster-R-CNN-pytorch-main/data/ori_data/drama_clip/247/clip.mp4\n",
      "\n"
     ]
    },
    {
     "name": "stderr",
     "output_type": "stream",
     "text": [
      "                                                            \r"
     ]
    },
    {
     "name": "stdout",
     "output_type": "stream",
     "text": [
      "Moviepy - Done !\n",
      "Moviepy - video ready C:/Users/naoki/anaconda_work/Faster-R-CNN-pytorch-main/data/ori_data/drama_clip/247/clip.mp4\n",
      "Moviepy - Building video C:/Users/naoki/anaconda_work/Faster-R-CNN-pytorch-main/data/ori_data/drama_clip/248/clip.mp4.\n",
      "Moviepy - Writing video C:/Users/naoki/anaconda_work/Faster-R-CNN-pytorch-main/data/ori_data/drama_clip/248/clip.mp4\n",
      "\n"
     ]
    },
    {
     "name": "stderr",
     "output_type": "stream",
     "text": [
      "                                                              \r"
     ]
    },
    {
     "name": "stdout",
     "output_type": "stream",
     "text": [
      "Moviepy - Done !\n",
      "Moviepy - video ready C:/Users/naoki/anaconda_work/Faster-R-CNN-pytorch-main/data/ori_data/drama_clip/248/clip.mp4\n",
      "Moviepy - Building video C:/Users/naoki/anaconda_work/Faster-R-CNN-pytorch-main/data/ori_data/drama_clip/249/clip.mp4.\n",
      "Moviepy - Writing video C:/Users/naoki/anaconda_work/Faster-R-CNN-pytorch-main/data/ori_data/drama_clip/249/clip.mp4\n",
      "\n"
     ]
    },
    {
     "name": "stderr",
     "output_type": "stream",
     "text": [
      "                                                            \r"
     ]
    },
    {
     "name": "stdout",
     "output_type": "stream",
     "text": [
      "Moviepy - Done !\n",
      "Moviepy - video ready C:/Users/naoki/anaconda_work/Faster-R-CNN-pytorch-main/data/ori_data/drama_clip/249/clip.mp4\n",
      "Moviepy - Building video C:/Users/naoki/anaconda_work/Faster-R-CNN-pytorch-main/data/ori_data/drama_clip/250/clip.mp4.\n",
      "Moviepy - Writing video C:/Users/naoki/anaconda_work/Faster-R-CNN-pytorch-main/data/ori_data/drama_clip/250/clip.mp4\n",
      "\n"
     ]
    },
    {
     "name": "stderr",
     "output_type": "stream",
     "text": [
      "                                                              \r"
     ]
    },
    {
     "name": "stdout",
     "output_type": "stream",
     "text": [
      "Moviepy - Done !\n",
      "Moviepy - video ready C:/Users/naoki/anaconda_work/Faster-R-CNN-pytorch-main/data/ori_data/drama_clip/250/clip.mp4\n",
      "Moviepy - Building video C:/Users/naoki/anaconda_work/Faster-R-CNN-pytorch-main/data/ori_data/drama_clip/251/clip.mp4.\n",
      "Moviepy - Writing video C:/Users/naoki/anaconda_work/Faster-R-CNN-pytorch-main/data/ori_data/drama_clip/251/clip.mp4\n",
      "\n"
     ]
    },
    {
     "name": "stderr",
     "output_type": "stream",
     "text": [
      "                                                            \r"
     ]
    },
    {
     "name": "stdout",
     "output_type": "stream",
     "text": [
      "Moviepy - Done !\n",
      "Moviepy - video ready C:/Users/naoki/anaconda_work/Faster-R-CNN-pytorch-main/data/ori_data/drama_clip/251/clip.mp4\n",
      "Moviepy - Building video C:/Users/naoki/anaconda_work/Faster-R-CNN-pytorch-main/data/ori_data/drama_clip/252/clip.mp4.\n",
      "Moviepy - Writing video C:/Users/naoki/anaconda_work/Faster-R-CNN-pytorch-main/data/ori_data/drama_clip/252/clip.mp4\n",
      "\n"
     ]
    },
    {
     "name": "stderr",
     "output_type": "stream",
     "text": [
      "                                                            \r"
     ]
    },
    {
     "name": "stdout",
     "output_type": "stream",
     "text": [
      "Moviepy - Done !\n",
      "Moviepy - video ready C:/Users/naoki/anaconda_work/Faster-R-CNN-pytorch-main/data/ori_data/drama_clip/252/clip.mp4\n",
      "Moviepy - Building video C:/Users/naoki/anaconda_work/Faster-R-CNN-pytorch-main/data/ori_data/drama_clip/253/clip.mp4.\n",
      "Moviepy - Writing video C:/Users/naoki/anaconda_work/Faster-R-CNN-pytorch-main/data/ori_data/drama_clip/253/clip.mp4\n",
      "\n"
     ]
    },
    {
     "name": "stderr",
     "output_type": "stream",
     "text": [
      "                                                            \r"
     ]
    },
    {
     "name": "stdout",
     "output_type": "stream",
     "text": [
      "Moviepy - Done !\n",
      "Moviepy - video ready C:/Users/naoki/anaconda_work/Faster-R-CNN-pytorch-main/data/ori_data/drama_clip/253/clip.mp4\n",
      "Moviepy - Building video C:/Users/naoki/anaconda_work/Faster-R-CNN-pytorch-main/data/ori_data/drama_clip/254/clip.mp4.\n",
      "Moviepy - Writing video C:/Users/naoki/anaconda_work/Faster-R-CNN-pytorch-main/data/ori_data/drama_clip/254/clip.mp4\n",
      "\n"
     ]
    },
    {
     "name": "stderr",
     "output_type": "stream",
     "text": [
      "                                                            \r"
     ]
    },
    {
     "name": "stdout",
     "output_type": "stream",
     "text": [
      "Moviepy - Done !\n",
      "Moviepy - video ready C:/Users/naoki/anaconda_work/Faster-R-CNN-pytorch-main/data/ori_data/drama_clip/254/clip.mp4\n",
      "Moviepy - Building video C:/Users/naoki/anaconda_work/Faster-R-CNN-pytorch-main/data/ori_data/drama_clip/255/clip.mp4.\n",
      "Moviepy - Writing video C:/Users/naoki/anaconda_work/Faster-R-CNN-pytorch-main/data/ori_data/drama_clip/255/clip.mp4\n",
      "\n"
     ]
    },
    {
     "name": "stderr",
     "output_type": "stream",
     "text": [
      "                                                              \r"
     ]
    },
    {
     "name": "stdout",
     "output_type": "stream",
     "text": [
      "Moviepy - Done !\n",
      "Moviepy - video ready C:/Users/naoki/anaconda_work/Faster-R-CNN-pytorch-main/data/ori_data/drama_clip/255/clip.mp4\n",
      "Moviepy - Building video C:/Users/naoki/anaconda_work/Faster-R-CNN-pytorch-main/data/ori_data/drama_clip/256/clip.mp4.\n",
      "Moviepy - Writing video C:/Users/naoki/anaconda_work/Faster-R-CNN-pytorch-main/data/ori_data/drama_clip/256/clip.mp4\n",
      "\n"
     ]
    },
    {
     "name": "stderr",
     "output_type": "stream",
     "text": [
      "                                                            \r"
     ]
    },
    {
     "name": "stdout",
     "output_type": "stream",
     "text": [
      "Moviepy - Done !\n",
      "Moviepy - video ready C:/Users/naoki/anaconda_work/Faster-R-CNN-pytorch-main/data/ori_data/drama_clip/256/clip.mp4\n",
      "Moviepy - Building video C:/Users/naoki/anaconda_work/Faster-R-CNN-pytorch-main/data/ori_data/drama_clip/257/clip.mp4.\n",
      "Moviepy - Writing video C:/Users/naoki/anaconda_work/Faster-R-CNN-pytorch-main/data/ori_data/drama_clip/257/clip.mp4\n",
      "\n"
     ]
    },
    {
     "name": "stderr",
     "output_type": "stream",
     "text": [
      "                                                              \r"
     ]
    },
    {
     "name": "stdout",
     "output_type": "stream",
     "text": [
      "Moviepy - Done !\n",
      "Moviepy - video ready C:/Users/naoki/anaconda_work/Faster-R-CNN-pytorch-main/data/ori_data/drama_clip/257/clip.mp4\n",
      "Moviepy - Building video C:/Users/naoki/anaconda_work/Faster-R-CNN-pytorch-main/data/ori_data/drama_clip/258/clip.mp4.\n",
      "Moviepy - Writing video C:/Users/naoki/anaconda_work/Faster-R-CNN-pytorch-main/data/ori_data/drama_clip/258/clip.mp4\n",
      "\n"
     ]
    },
    {
     "name": "stderr",
     "output_type": "stream",
     "text": [
      "                                                            \r"
     ]
    },
    {
     "name": "stdout",
     "output_type": "stream",
     "text": [
      "Moviepy - Done !\n",
      "Moviepy - video ready C:/Users/naoki/anaconda_work/Faster-R-CNN-pytorch-main/data/ori_data/drama_clip/258/clip.mp4\n",
      "Moviepy - Building video C:/Users/naoki/anaconda_work/Faster-R-CNN-pytorch-main/data/ori_data/drama_clip/259/clip.mp4.\n",
      "Moviepy - Writing video C:/Users/naoki/anaconda_work/Faster-R-CNN-pytorch-main/data/ori_data/drama_clip/259/clip.mp4\n",
      "\n"
     ]
    },
    {
     "name": "stderr",
     "output_type": "stream",
     "text": [
      "                                                            \r"
     ]
    },
    {
     "name": "stdout",
     "output_type": "stream",
     "text": [
      "Moviepy - Done !\n",
      "Moviepy - video ready C:/Users/naoki/anaconda_work/Faster-R-CNN-pytorch-main/data/ori_data/drama_clip/259/clip.mp4\n",
      "Moviepy - Building video C:/Users/naoki/anaconda_work/Faster-R-CNN-pytorch-main/data/ori_data/drama_clip/260/clip.mp4.\n",
      "Moviepy - Writing video C:/Users/naoki/anaconda_work/Faster-R-CNN-pytorch-main/data/ori_data/drama_clip/260/clip.mp4\n",
      "\n"
     ]
    },
    {
     "name": "stderr",
     "output_type": "stream",
     "text": [
      "                                                            \r"
     ]
    },
    {
     "name": "stdout",
     "output_type": "stream",
     "text": [
      "Moviepy - Done !\n",
      "Moviepy - video ready C:/Users/naoki/anaconda_work/Faster-R-CNN-pytorch-main/data/ori_data/drama_clip/260/clip.mp4\n",
      "Moviepy - Building video C:/Users/naoki/anaconda_work/Faster-R-CNN-pytorch-main/data/ori_data/drama_clip/261/clip.mp4.\n",
      "Moviepy - Writing video C:/Users/naoki/anaconda_work/Faster-R-CNN-pytorch-main/data/ori_data/drama_clip/261/clip.mp4\n",
      "\n"
     ]
    },
    {
     "name": "stderr",
     "output_type": "stream",
     "text": [
      "                                                            \r"
     ]
    },
    {
     "name": "stdout",
     "output_type": "stream",
     "text": [
      "Moviepy - Done !\n",
      "Moviepy - video ready C:/Users/naoki/anaconda_work/Faster-R-CNN-pytorch-main/data/ori_data/drama_clip/261/clip.mp4\n",
      "Moviepy - Building video C:/Users/naoki/anaconda_work/Faster-R-CNN-pytorch-main/data/ori_data/drama_clip/262/clip.mp4.\n",
      "Moviepy - Writing video C:/Users/naoki/anaconda_work/Faster-R-CNN-pytorch-main/data/ori_data/drama_clip/262/clip.mp4\n",
      "\n"
     ]
    },
    {
     "name": "stderr",
     "output_type": "stream",
     "text": [
      "                                                            \r"
     ]
    },
    {
     "name": "stdout",
     "output_type": "stream",
     "text": [
      "Moviepy - Done !\n",
      "Moviepy - video ready C:/Users/naoki/anaconda_work/Faster-R-CNN-pytorch-main/data/ori_data/drama_clip/262/clip.mp4\n",
      "Moviepy - Building video C:/Users/naoki/anaconda_work/Faster-R-CNN-pytorch-main/data/ori_data/drama_clip/263/clip.mp4.\n",
      "Moviepy - Writing video C:/Users/naoki/anaconda_work/Faster-R-CNN-pytorch-main/data/ori_data/drama_clip/263/clip.mp4\n",
      "\n"
     ]
    },
    {
     "name": "stderr",
     "output_type": "stream",
     "text": [
      "                                                            \r"
     ]
    },
    {
     "name": "stdout",
     "output_type": "stream",
     "text": [
      "Moviepy - Done !\n",
      "Moviepy - video ready C:/Users/naoki/anaconda_work/Faster-R-CNN-pytorch-main/data/ori_data/drama_clip/263/clip.mp4\n",
      "Moviepy - Building video C:/Users/naoki/anaconda_work/Faster-R-CNN-pytorch-main/data/ori_data/drama_clip/264/clip.mp4.\n",
      "Moviepy - Writing video C:/Users/naoki/anaconda_work/Faster-R-CNN-pytorch-main/data/ori_data/drama_clip/264/clip.mp4\n",
      "\n"
     ]
    },
    {
     "name": "stderr",
     "output_type": "stream",
     "text": [
      "                                                            \r"
     ]
    },
    {
     "name": "stdout",
     "output_type": "stream",
     "text": [
      "Moviepy - Done !\n",
      "Moviepy - video ready C:/Users/naoki/anaconda_work/Faster-R-CNN-pytorch-main/data/ori_data/drama_clip/264/clip.mp4\n",
      "Moviepy - Building video C:/Users/naoki/anaconda_work/Faster-R-CNN-pytorch-main/data/ori_data/drama_clip/265/clip.mp4.\n",
      "Moviepy - Writing video C:/Users/naoki/anaconda_work/Faster-R-CNN-pytorch-main/data/ori_data/drama_clip/265/clip.mp4\n",
      "\n"
     ]
    },
    {
     "name": "stderr",
     "output_type": "stream",
     "text": [
      "                                                            \r"
     ]
    },
    {
     "name": "stdout",
     "output_type": "stream",
     "text": [
      "Moviepy - Done !\n",
      "Moviepy - video ready C:/Users/naoki/anaconda_work/Faster-R-CNN-pytorch-main/data/ori_data/drama_clip/265/clip.mp4\n",
      "Moviepy - Building video C:/Users/naoki/anaconda_work/Faster-R-CNN-pytorch-main/data/ori_data/drama_clip/266/clip.mp4.\n",
      "Moviepy - Writing video C:/Users/naoki/anaconda_work/Faster-R-CNN-pytorch-main/data/ori_data/drama_clip/266/clip.mp4\n",
      "\n"
     ]
    },
    {
     "name": "stderr",
     "output_type": "stream",
     "text": [
      "                                                            \r"
     ]
    },
    {
     "name": "stdout",
     "output_type": "stream",
     "text": [
      "Moviepy - Done !\n",
      "Moviepy - video ready C:/Users/naoki/anaconda_work/Faster-R-CNN-pytorch-main/data/ori_data/drama_clip/266/clip.mp4\n",
      "Moviepy - Building video C:/Users/naoki/anaconda_work/Faster-R-CNN-pytorch-main/data/ori_data/drama_clip/267/clip.mp4.\n",
      "Moviepy - Writing video C:/Users/naoki/anaconda_work/Faster-R-CNN-pytorch-main/data/ori_data/drama_clip/267/clip.mp4\n",
      "\n"
     ]
    },
    {
     "name": "stderr",
     "output_type": "stream",
     "text": [
      "                                                            \r"
     ]
    },
    {
     "name": "stdout",
     "output_type": "stream",
     "text": [
      "Moviepy - Done !\n",
      "Moviepy - video ready C:/Users/naoki/anaconda_work/Faster-R-CNN-pytorch-main/data/ori_data/drama_clip/267/clip.mp4\n",
      "Moviepy - Building video C:/Users/naoki/anaconda_work/Faster-R-CNN-pytorch-main/data/ori_data/drama_clip/268/clip.mp4.\n",
      "Moviepy - Writing video C:/Users/naoki/anaconda_work/Faster-R-CNN-pytorch-main/data/ori_data/drama_clip/268/clip.mp4\n",
      "\n"
     ]
    },
    {
     "name": "stderr",
     "output_type": "stream",
     "text": [
      "                                                            \r"
     ]
    },
    {
     "name": "stdout",
     "output_type": "stream",
     "text": [
      "Moviepy - Done !\n",
      "Moviepy - video ready C:/Users/naoki/anaconda_work/Faster-R-CNN-pytorch-main/data/ori_data/drama_clip/268/clip.mp4\n",
      "Moviepy - Building video C:/Users/naoki/anaconda_work/Faster-R-CNN-pytorch-main/data/ori_data/drama_clip/269/clip.mp4.\n",
      "Moviepy - Writing video C:/Users/naoki/anaconda_work/Faster-R-CNN-pytorch-main/data/ori_data/drama_clip/269/clip.mp4\n",
      "\n"
     ]
    },
    {
     "name": "stderr",
     "output_type": "stream",
     "text": [
      "                                                            \r"
     ]
    },
    {
     "name": "stdout",
     "output_type": "stream",
     "text": [
      "Moviepy - Done !\n",
      "Moviepy - video ready C:/Users/naoki/anaconda_work/Faster-R-CNN-pytorch-main/data/ori_data/drama_clip/269/clip.mp4\n",
      "Moviepy - Building video C:/Users/naoki/anaconda_work/Faster-R-CNN-pytorch-main/data/ori_data/drama_clip/270/clip.mp4.\n",
      "Moviepy - Writing video C:/Users/naoki/anaconda_work/Faster-R-CNN-pytorch-main/data/ori_data/drama_clip/270/clip.mp4\n",
      "\n"
     ]
    },
    {
     "name": "stderr",
     "output_type": "stream",
     "text": [
      "                                                            \r"
     ]
    },
    {
     "name": "stdout",
     "output_type": "stream",
     "text": [
      "Moviepy - Done !\n",
      "Moviepy - video ready C:/Users/naoki/anaconda_work/Faster-R-CNN-pytorch-main/data/ori_data/drama_clip/270/clip.mp4\n",
      "Moviepy - Building video C:/Users/naoki/anaconda_work/Faster-R-CNN-pytorch-main/data/ori_data/drama_clip/271/clip.mp4.\n",
      "Moviepy - Writing video C:/Users/naoki/anaconda_work/Faster-R-CNN-pytorch-main/data/ori_data/drama_clip/271/clip.mp4\n",
      "\n"
     ]
    },
    {
     "name": "stderr",
     "output_type": "stream",
     "text": [
      "                                                              \r"
     ]
    },
    {
     "name": "stdout",
     "output_type": "stream",
     "text": [
      "Moviepy - Done !\n",
      "Moviepy - video ready C:/Users/naoki/anaconda_work/Faster-R-CNN-pytorch-main/data/ori_data/drama_clip/271/clip.mp4\n",
      "Moviepy - Building video C:/Users/naoki/anaconda_work/Faster-R-CNN-pytorch-main/data/ori_data/drama_clip/272/clip.mp4.\n",
      "Moviepy - Writing video C:/Users/naoki/anaconda_work/Faster-R-CNN-pytorch-main/data/ori_data/drama_clip/272/clip.mp4\n",
      "\n"
     ]
    },
    {
     "name": "stderr",
     "output_type": "stream",
     "text": [
      "                                                              \r"
     ]
    },
    {
     "name": "stdout",
     "output_type": "stream",
     "text": [
      "Moviepy - Done !\n",
      "Moviepy - video ready C:/Users/naoki/anaconda_work/Faster-R-CNN-pytorch-main/data/ori_data/drama_clip/272/clip.mp4\n",
      "Moviepy - Building video C:/Users/naoki/anaconda_work/Faster-R-CNN-pytorch-main/data/ori_data/drama_clip/273/clip.mp4.\n",
      "Moviepy - Writing video C:/Users/naoki/anaconda_work/Faster-R-CNN-pytorch-main/data/ori_data/drama_clip/273/clip.mp4\n",
      "\n"
     ]
    },
    {
     "name": "stderr",
     "output_type": "stream",
     "text": [
      "                                                            \r"
     ]
    },
    {
     "name": "stdout",
     "output_type": "stream",
     "text": [
      "Moviepy - Done !\n",
      "Moviepy - video ready C:/Users/naoki/anaconda_work/Faster-R-CNN-pytorch-main/data/ori_data/drama_clip/273/clip.mp4\n",
      "Moviepy - Building video C:/Users/naoki/anaconda_work/Faster-R-CNN-pytorch-main/data/ori_data/drama_clip/274/clip.mp4.\n",
      "Moviepy - Writing video C:/Users/naoki/anaconda_work/Faster-R-CNN-pytorch-main/data/ori_data/drama_clip/274/clip.mp4\n",
      "\n"
     ]
    },
    {
     "name": "stderr",
     "output_type": "stream",
     "text": [
      "                                                            \r"
     ]
    },
    {
     "name": "stdout",
     "output_type": "stream",
     "text": [
      "Moviepy - Done !\n",
      "Moviepy - video ready C:/Users/naoki/anaconda_work/Faster-R-CNN-pytorch-main/data/ori_data/drama_clip/274/clip.mp4\n",
      "Moviepy - Building video C:/Users/naoki/anaconda_work/Faster-R-CNN-pytorch-main/data/ori_data/drama_clip/275/clip.mp4.\n",
      "Moviepy - Writing video C:/Users/naoki/anaconda_work/Faster-R-CNN-pytorch-main/data/ori_data/drama_clip/275/clip.mp4\n",
      "\n"
     ]
    },
    {
     "name": "stderr",
     "output_type": "stream",
     "text": [
      "                                                            \r"
     ]
    },
    {
     "name": "stdout",
     "output_type": "stream",
     "text": [
      "Moviepy - Done !\n",
      "Moviepy - video ready C:/Users/naoki/anaconda_work/Faster-R-CNN-pytorch-main/data/ori_data/drama_clip/275/clip.mp4\n",
      "Moviepy - Building video C:/Users/naoki/anaconda_work/Faster-R-CNN-pytorch-main/data/ori_data/drama_clip/276/clip.mp4.\n",
      "Moviepy - Writing video C:/Users/naoki/anaconda_work/Faster-R-CNN-pytorch-main/data/ori_data/drama_clip/276/clip.mp4\n",
      "\n"
     ]
    },
    {
     "name": "stderr",
     "output_type": "stream",
     "text": [
      "                                                            \r"
     ]
    },
    {
     "name": "stdout",
     "output_type": "stream",
     "text": [
      "Moviepy - Done !\n",
      "Moviepy - video ready C:/Users/naoki/anaconda_work/Faster-R-CNN-pytorch-main/data/ori_data/drama_clip/276/clip.mp4\n",
      "Moviepy - Building video C:/Users/naoki/anaconda_work/Faster-R-CNN-pytorch-main/data/ori_data/drama_clip/277/clip.mp4.\n",
      "Moviepy - Writing video C:/Users/naoki/anaconda_work/Faster-R-CNN-pytorch-main/data/ori_data/drama_clip/277/clip.mp4\n",
      "\n"
     ]
    },
    {
     "name": "stderr",
     "output_type": "stream",
     "text": [
      "                                                            \r"
     ]
    },
    {
     "name": "stdout",
     "output_type": "stream",
     "text": [
      "Moviepy - Done !\n",
      "Moviepy - video ready C:/Users/naoki/anaconda_work/Faster-R-CNN-pytorch-main/data/ori_data/drama_clip/277/clip.mp4\n",
      "Moviepy - Building video C:/Users/naoki/anaconda_work/Faster-R-CNN-pytorch-main/data/ori_data/drama_clip/278/clip.mp4.\n",
      "Moviepy - Writing video C:/Users/naoki/anaconda_work/Faster-R-CNN-pytorch-main/data/ori_data/drama_clip/278/clip.mp4\n",
      "\n"
     ]
    },
    {
     "name": "stderr",
     "output_type": "stream",
     "text": [
      "                                                              \r"
     ]
    },
    {
     "name": "stdout",
     "output_type": "stream",
     "text": [
      "Moviepy - Done !\n",
      "Moviepy - video ready C:/Users/naoki/anaconda_work/Faster-R-CNN-pytorch-main/data/ori_data/drama_clip/278/clip.mp4\n",
      "Moviepy - Building video C:/Users/naoki/anaconda_work/Faster-R-CNN-pytorch-main/data/ori_data/drama_clip/279/clip.mp4.\n",
      "Moviepy - Writing video C:/Users/naoki/anaconda_work/Faster-R-CNN-pytorch-main/data/ori_data/drama_clip/279/clip.mp4\n",
      "\n"
     ]
    },
    {
     "name": "stderr",
     "output_type": "stream",
     "text": [
      "                                                            \r"
     ]
    },
    {
     "name": "stdout",
     "output_type": "stream",
     "text": [
      "Moviepy - Done !\n",
      "Moviepy - video ready C:/Users/naoki/anaconda_work/Faster-R-CNN-pytorch-main/data/ori_data/drama_clip/279/clip.mp4\n",
      "Moviepy - Building video C:/Users/naoki/anaconda_work/Faster-R-CNN-pytorch-main/data/ori_data/drama_clip/280/clip.mp4.\n",
      "Moviepy - Writing video C:/Users/naoki/anaconda_work/Faster-R-CNN-pytorch-main/data/ori_data/drama_clip/280/clip.mp4\n",
      "\n"
     ]
    },
    {
     "name": "stderr",
     "output_type": "stream",
     "text": [
      "                                                            \r"
     ]
    },
    {
     "name": "stdout",
     "output_type": "stream",
     "text": [
      "Moviepy - Done !\n",
      "Moviepy - video ready C:/Users/naoki/anaconda_work/Faster-R-CNN-pytorch-main/data/ori_data/drama_clip/280/clip.mp4\n",
      "Moviepy - Building video C:/Users/naoki/anaconda_work/Faster-R-CNN-pytorch-main/data/ori_data/drama_clip/281/clip.mp4.\n",
      "Moviepy - Writing video C:/Users/naoki/anaconda_work/Faster-R-CNN-pytorch-main/data/ori_data/drama_clip/281/clip.mp4\n",
      "\n"
     ]
    },
    {
     "name": "stderr",
     "output_type": "stream",
     "text": [
      "                                                            \r"
     ]
    },
    {
     "name": "stdout",
     "output_type": "stream",
     "text": [
      "Moviepy - Done !\n",
      "Moviepy - video ready C:/Users/naoki/anaconda_work/Faster-R-CNN-pytorch-main/data/ori_data/drama_clip/281/clip.mp4\n",
      "Moviepy - Building video C:/Users/naoki/anaconda_work/Faster-R-CNN-pytorch-main/data/ori_data/drama_clip/282/clip.mp4.\n",
      "Moviepy - Writing video C:/Users/naoki/anaconda_work/Faster-R-CNN-pytorch-main/data/ori_data/drama_clip/282/clip.mp4\n",
      "\n"
     ]
    },
    {
     "name": "stderr",
     "output_type": "stream",
     "text": [
      "                                                            \r"
     ]
    },
    {
     "name": "stdout",
     "output_type": "stream",
     "text": [
      "Moviepy - Done !\n",
      "Moviepy - video ready C:/Users/naoki/anaconda_work/Faster-R-CNN-pytorch-main/data/ori_data/drama_clip/282/clip.mp4\n",
      "Moviepy - Building video C:/Users/naoki/anaconda_work/Faster-R-CNN-pytorch-main/data/ori_data/drama_clip/283/clip.mp4.\n",
      "Moviepy - Writing video C:/Users/naoki/anaconda_work/Faster-R-CNN-pytorch-main/data/ori_data/drama_clip/283/clip.mp4\n",
      "\n"
     ]
    },
    {
     "name": "stderr",
     "output_type": "stream",
     "text": [
      "                                                            \r"
     ]
    },
    {
     "name": "stdout",
     "output_type": "stream",
     "text": [
      "Moviepy - Done !\n",
      "Moviepy - video ready C:/Users/naoki/anaconda_work/Faster-R-CNN-pytorch-main/data/ori_data/drama_clip/283/clip.mp4\n",
      "Moviepy - Building video C:/Users/naoki/anaconda_work/Faster-R-CNN-pytorch-main/data/ori_data/drama_clip/284/clip.mp4.\n",
      "Moviepy - Writing video C:/Users/naoki/anaconda_work/Faster-R-CNN-pytorch-main/data/ori_data/drama_clip/284/clip.mp4\n",
      "\n"
     ]
    },
    {
     "name": "stderr",
     "output_type": "stream",
     "text": [
      "                                                            \r"
     ]
    },
    {
     "name": "stdout",
     "output_type": "stream",
     "text": [
      "Moviepy - Done !\n",
      "Moviepy - video ready C:/Users/naoki/anaconda_work/Faster-R-CNN-pytorch-main/data/ori_data/drama_clip/284/clip.mp4\n",
      "Moviepy - Building video C:/Users/naoki/anaconda_work/Faster-R-CNN-pytorch-main/data/ori_data/drama_clip/285/clip.mp4.\n",
      "Moviepy - Writing video C:/Users/naoki/anaconda_work/Faster-R-CNN-pytorch-main/data/ori_data/drama_clip/285/clip.mp4\n",
      "\n"
     ]
    },
    {
     "name": "stderr",
     "output_type": "stream",
     "text": [
      "                                                            \r"
     ]
    },
    {
     "name": "stdout",
     "output_type": "stream",
     "text": [
      "Moviepy - Done !\n",
      "Moviepy - video ready C:/Users/naoki/anaconda_work/Faster-R-CNN-pytorch-main/data/ori_data/drama_clip/285/clip.mp4\n",
      "Moviepy - Building video C:/Users/naoki/anaconda_work/Faster-R-CNN-pytorch-main/data/ori_data/drama_clip/286/clip.mp4.\n",
      "Moviepy - Writing video C:/Users/naoki/anaconda_work/Faster-R-CNN-pytorch-main/data/ori_data/drama_clip/286/clip.mp4\n",
      "\n"
     ]
    },
    {
     "name": "stderr",
     "output_type": "stream",
     "text": [
      "                                                            \r"
     ]
    },
    {
     "name": "stdout",
     "output_type": "stream",
     "text": [
      "Moviepy - Done !\n",
      "Moviepy - video ready C:/Users/naoki/anaconda_work/Faster-R-CNN-pytorch-main/data/ori_data/drama_clip/286/clip.mp4\n",
      "Moviepy - Building video C:/Users/naoki/anaconda_work/Faster-R-CNN-pytorch-main/data/ori_data/drama_clip/287/clip.mp4.\n",
      "Moviepy - Writing video C:/Users/naoki/anaconda_work/Faster-R-CNN-pytorch-main/data/ori_data/drama_clip/287/clip.mp4\n",
      "\n"
     ]
    },
    {
     "name": "stderr",
     "output_type": "stream",
     "text": [
      "                                                              \r"
     ]
    },
    {
     "name": "stdout",
     "output_type": "stream",
     "text": [
      "Moviepy - Done !\n",
      "Moviepy - video ready C:/Users/naoki/anaconda_work/Faster-R-CNN-pytorch-main/data/ori_data/drama_clip/287/clip.mp4\n",
      "Moviepy - Building video C:/Users/naoki/anaconda_work/Faster-R-CNN-pytorch-main/data/ori_data/drama_clip/288/clip.mp4.\n",
      "Moviepy - Writing video C:/Users/naoki/anaconda_work/Faster-R-CNN-pytorch-main/data/ori_data/drama_clip/288/clip.mp4\n",
      "\n"
     ]
    },
    {
     "name": "stderr",
     "output_type": "stream",
     "text": [
      "                                                            \r"
     ]
    },
    {
     "name": "stdout",
     "output_type": "stream",
     "text": [
      "Moviepy - Done !\n",
      "Moviepy - video ready C:/Users/naoki/anaconda_work/Faster-R-CNN-pytorch-main/data/ori_data/drama_clip/288/clip.mp4\n",
      "Moviepy - Building video C:/Users/naoki/anaconda_work/Faster-R-CNN-pytorch-main/data/ori_data/drama_clip/289/clip.mp4.\n",
      "Moviepy - Writing video C:/Users/naoki/anaconda_work/Faster-R-CNN-pytorch-main/data/ori_data/drama_clip/289/clip.mp4\n",
      "\n"
     ]
    },
    {
     "name": "stderr",
     "output_type": "stream",
     "text": [
      "                                                            \r"
     ]
    },
    {
     "name": "stdout",
     "output_type": "stream",
     "text": [
      "Moviepy - Done !\n",
      "Moviepy - video ready C:/Users/naoki/anaconda_work/Faster-R-CNN-pytorch-main/data/ori_data/drama_clip/289/clip.mp4\n",
      "Moviepy - Building video C:/Users/naoki/anaconda_work/Faster-R-CNN-pytorch-main/data/ori_data/drama_clip/290/clip.mp4.\n",
      "Moviepy - Writing video C:/Users/naoki/anaconda_work/Faster-R-CNN-pytorch-main/data/ori_data/drama_clip/290/clip.mp4\n",
      "\n"
     ]
    },
    {
     "name": "stderr",
     "output_type": "stream",
     "text": [
      "                                                            \r"
     ]
    },
    {
     "name": "stdout",
     "output_type": "stream",
     "text": [
      "Moviepy - Done !\n",
      "Moviepy - video ready C:/Users/naoki/anaconda_work/Faster-R-CNN-pytorch-main/data/ori_data/drama_clip/290/clip.mp4\n",
      "Moviepy - Building video C:/Users/naoki/anaconda_work/Faster-R-CNN-pytorch-main/data/ori_data/drama_clip/291/clip.mp4.\n",
      "Moviepy - Writing video C:/Users/naoki/anaconda_work/Faster-R-CNN-pytorch-main/data/ori_data/drama_clip/291/clip.mp4\n",
      "\n"
     ]
    },
    {
     "name": "stderr",
     "output_type": "stream",
     "text": [
      "                                                            \r"
     ]
    },
    {
     "name": "stdout",
     "output_type": "stream",
     "text": [
      "Moviepy - Done !\n",
      "Moviepy - video ready C:/Users/naoki/anaconda_work/Faster-R-CNN-pytorch-main/data/ori_data/drama_clip/291/clip.mp4\n",
      "Moviepy - Building video C:/Users/naoki/anaconda_work/Faster-R-CNN-pytorch-main/data/ori_data/drama_clip/292/clip.mp4.\n",
      "Moviepy - Writing video C:/Users/naoki/anaconda_work/Faster-R-CNN-pytorch-main/data/ori_data/drama_clip/292/clip.mp4\n",
      "\n"
     ]
    },
    {
     "name": "stderr",
     "output_type": "stream",
     "text": [
      "                                                            \r"
     ]
    },
    {
     "name": "stdout",
     "output_type": "stream",
     "text": [
      "Moviepy - Done !\n",
      "Moviepy - video ready C:/Users/naoki/anaconda_work/Faster-R-CNN-pytorch-main/data/ori_data/drama_clip/292/clip.mp4\n",
      "Moviepy - Building video C:/Users/naoki/anaconda_work/Faster-R-CNN-pytorch-main/data/ori_data/drama_clip/293/clip.mp4.\n",
      "Moviepy - Writing video C:/Users/naoki/anaconda_work/Faster-R-CNN-pytorch-main/data/ori_data/drama_clip/293/clip.mp4\n",
      "\n"
     ]
    },
    {
     "name": "stderr",
     "output_type": "stream",
     "text": [
      "                                                              \r"
     ]
    },
    {
     "name": "stdout",
     "output_type": "stream",
     "text": [
      "Moviepy - Done !\n",
      "Moviepy - video ready C:/Users/naoki/anaconda_work/Faster-R-CNN-pytorch-main/data/ori_data/drama_clip/293/clip.mp4\n",
      "Moviepy - Building video C:/Users/naoki/anaconda_work/Faster-R-CNN-pytorch-main/data/ori_data/drama_clip/294/clip.mp4.\n",
      "Moviepy - Writing video C:/Users/naoki/anaconda_work/Faster-R-CNN-pytorch-main/data/ori_data/drama_clip/294/clip.mp4\n",
      "\n"
     ]
    },
    {
     "name": "stderr",
     "output_type": "stream",
     "text": [
      "                                                            \r"
     ]
    },
    {
     "name": "stdout",
     "output_type": "stream",
     "text": [
      "Moviepy - Done !\n",
      "Moviepy - video ready C:/Users/naoki/anaconda_work/Faster-R-CNN-pytorch-main/data/ori_data/drama_clip/294/clip.mp4\n",
      "Moviepy - Building video C:/Users/naoki/anaconda_work/Faster-R-CNN-pytorch-main/data/ori_data/drama_clip/295/clip.mp4.\n",
      "Moviepy - Writing video C:/Users/naoki/anaconda_work/Faster-R-CNN-pytorch-main/data/ori_data/drama_clip/295/clip.mp4\n",
      "\n"
     ]
    },
    {
     "name": "stderr",
     "output_type": "stream",
     "text": [
      "                                                            \r"
     ]
    },
    {
     "name": "stdout",
     "output_type": "stream",
     "text": [
      "Moviepy - Done !\n",
      "Moviepy - video ready C:/Users/naoki/anaconda_work/Faster-R-CNN-pytorch-main/data/ori_data/drama_clip/295/clip.mp4\n",
      "Moviepy - Building video C:/Users/naoki/anaconda_work/Faster-R-CNN-pytorch-main/data/ori_data/drama_clip/296/clip.mp4.\n",
      "Moviepy - Writing video C:/Users/naoki/anaconda_work/Faster-R-CNN-pytorch-main/data/ori_data/drama_clip/296/clip.mp4\n",
      "\n"
     ]
    },
    {
     "name": "stderr",
     "output_type": "stream",
     "text": [
      "                                                            \r"
     ]
    },
    {
     "name": "stdout",
     "output_type": "stream",
     "text": [
      "Moviepy - Done !\n",
      "Moviepy - video ready C:/Users/naoki/anaconda_work/Faster-R-CNN-pytorch-main/data/ori_data/drama_clip/296/clip.mp4\n",
      "Moviepy - Building video C:/Users/naoki/anaconda_work/Faster-R-CNN-pytorch-main/data/ori_data/drama_clip/297/clip.mp4.\n",
      "Moviepy - Writing video C:/Users/naoki/anaconda_work/Faster-R-CNN-pytorch-main/data/ori_data/drama_clip/297/clip.mp4\n",
      "\n"
     ]
    },
    {
     "name": "stderr",
     "output_type": "stream",
     "text": [
      "                                                            \r"
     ]
    },
    {
     "name": "stdout",
     "output_type": "stream",
     "text": [
      "Moviepy - Done !\n",
      "Moviepy - video ready C:/Users/naoki/anaconda_work/Faster-R-CNN-pytorch-main/data/ori_data/drama_clip/297/clip.mp4\n",
      "Moviepy - Building video C:/Users/naoki/anaconda_work/Faster-R-CNN-pytorch-main/data/ori_data/drama_clip/298/clip.mp4.\n",
      "Moviepy - Writing video C:/Users/naoki/anaconda_work/Faster-R-CNN-pytorch-main/data/ori_data/drama_clip/298/clip.mp4\n",
      "\n"
     ]
    },
    {
     "name": "stderr",
     "output_type": "stream",
     "text": [
      "                                                            \r"
     ]
    },
    {
     "name": "stdout",
     "output_type": "stream",
     "text": [
      "Moviepy - Done !\n",
      "Moviepy - video ready C:/Users/naoki/anaconda_work/Faster-R-CNN-pytorch-main/data/ori_data/drama_clip/298/clip.mp4\n",
      "Moviepy - Building video C:/Users/naoki/anaconda_work/Faster-R-CNN-pytorch-main/data/ori_data/drama_clip/299/clip.mp4.\n",
      "Moviepy - Writing video C:/Users/naoki/anaconda_work/Faster-R-CNN-pytorch-main/data/ori_data/drama_clip/299/clip.mp4\n",
      "\n"
     ]
    },
    {
     "name": "stderr",
     "output_type": "stream",
     "text": [
      "                                                            \r"
     ]
    },
    {
     "name": "stdout",
     "output_type": "stream",
     "text": [
      "Moviepy - Done !\n",
      "Moviepy - video ready C:/Users/naoki/anaconda_work/Faster-R-CNN-pytorch-main/data/ori_data/drama_clip/299/clip.mp4\n",
      "Moviepy - Building video C:/Users/naoki/anaconda_work/Faster-R-CNN-pytorch-main/data/ori_data/drama_clip/300/clip.mp4.\n",
      "Moviepy - Writing video C:/Users/naoki/anaconda_work/Faster-R-CNN-pytorch-main/data/ori_data/drama_clip/300/clip.mp4\n",
      "\n"
     ]
    },
    {
     "name": "stderr",
     "output_type": "stream",
     "text": [
      "                                                            \r"
     ]
    },
    {
     "name": "stdout",
     "output_type": "stream",
     "text": [
      "Moviepy - Done !\n",
      "Moviepy - video ready C:/Users/naoki/anaconda_work/Faster-R-CNN-pytorch-main/data/ori_data/drama_clip/300/clip.mp4\n",
      "Moviepy - Building video C:/Users/naoki/anaconda_work/Faster-R-CNN-pytorch-main/data/ori_data/drama_clip/301/clip.mp4.\n",
      "Moviepy - Writing video C:/Users/naoki/anaconda_work/Faster-R-CNN-pytorch-main/data/ori_data/drama_clip/301/clip.mp4\n",
      "\n"
     ]
    },
    {
     "name": "stderr",
     "output_type": "stream",
     "text": [
      "                                                            \r"
     ]
    },
    {
     "name": "stdout",
     "output_type": "stream",
     "text": [
      "Moviepy - Done !\n",
      "Moviepy - video ready C:/Users/naoki/anaconda_work/Faster-R-CNN-pytorch-main/data/ori_data/drama_clip/301/clip.mp4\n",
      "Moviepy - Building video C:/Users/naoki/anaconda_work/Faster-R-CNN-pytorch-main/data/ori_data/drama_clip/302/clip.mp4.\n",
      "Moviepy - Writing video C:/Users/naoki/anaconda_work/Faster-R-CNN-pytorch-main/data/ori_data/drama_clip/302/clip.mp4\n",
      "\n"
     ]
    },
    {
     "name": "stderr",
     "output_type": "stream",
     "text": [
      "                                                            \r"
     ]
    },
    {
     "name": "stdout",
     "output_type": "stream",
     "text": [
      "Moviepy - Done !\n",
      "Moviepy - video ready C:/Users/naoki/anaconda_work/Faster-R-CNN-pytorch-main/data/ori_data/drama_clip/302/clip.mp4\n",
      "Moviepy - Building video C:/Users/naoki/anaconda_work/Faster-R-CNN-pytorch-main/data/ori_data/drama_clip/303/clip.mp4.\n",
      "Moviepy - Writing video C:/Users/naoki/anaconda_work/Faster-R-CNN-pytorch-main/data/ori_data/drama_clip/303/clip.mp4\n",
      "\n"
     ]
    },
    {
     "name": "stderr",
     "output_type": "stream",
     "text": [
      "                                                            \r"
     ]
    },
    {
     "name": "stdout",
     "output_type": "stream",
     "text": [
      "Moviepy - Done !\n",
      "Moviepy - video ready C:/Users/naoki/anaconda_work/Faster-R-CNN-pytorch-main/data/ori_data/drama_clip/303/clip.mp4\n",
      "Moviepy - Building video C:/Users/naoki/anaconda_work/Faster-R-CNN-pytorch-main/data/ori_data/drama_clip/304/clip.mp4.\n",
      "Moviepy - Writing video C:/Users/naoki/anaconda_work/Faster-R-CNN-pytorch-main/data/ori_data/drama_clip/304/clip.mp4\n",
      "\n"
     ]
    },
    {
     "name": "stderr",
     "output_type": "stream",
     "text": [
      "                                                            \r"
     ]
    },
    {
     "name": "stdout",
     "output_type": "stream",
     "text": [
      "Moviepy - Done !\n",
      "Moviepy - video ready C:/Users/naoki/anaconda_work/Faster-R-CNN-pytorch-main/data/ori_data/drama_clip/304/clip.mp4\n",
      "Moviepy - Building video C:/Users/naoki/anaconda_work/Faster-R-CNN-pytorch-main/data/ori_data/drama_clip/305/clip.mp4.\n",
      "Moviepy - Writing video C:/Users/naoki/anaconda_work/Faster-R-CNN-pytorch-main/data/ori_data/drama_clip/305/clip.mp4\n",
      "\n"
     ]
    },
    {
     "name": "stderr",
     "output_type": "stream",
     "text": [
      "                                                            \r"
     ]
    },
    {
     "name": "stdout",
     "output_type": "stream",
     "text": [
      "Moviepy - Done !\n",
      "Moviepy - video ready C:/Users/naoki/anaconda_work/Faster-R-CNN-pytorch-main/data/ori_data/drama_clip/305/clip.mp4\n",
      "Moviepy - Building video C:/Users/naoki/anaconda_work/Faster-R-CNN-pytorch-main/data/ori_data/drama_clip/306/clip.mp4.\n",
      "Moviepy - Writing video C:/Users/naoki/anaconda_work/Faster-R-CNN-pytorch-main/data/ori_data/drama_clip/306/clip.mp4\n",
      "\n"
     ]
    },
    {
     "name": "stderr",
     "output_type": "stream",
     "text": [
      "                                                            \r"
     ]
    },
    {
     "name": "stdout",
     "output_type": "stream",
     "text": [
      "Moviepy - Done !\n",
      "Moviepy - video ready C:/Users/naoki/anaconda_work/Faster-R-CNN-pytorch-main/data/ori_data/drama_clip/306/clip.mp4\n",
      "Moviepy - Building video C:/Users/naoki/anaconda_work/Faster-R-CNN-pytorch-main/data/ori_data/drama_clip/307/clip.mp4.\n",
      "Moviepy - Writing video C:/Users/naoki/anaconda_work/Faster-R-CNN-pytorch-main/data/ori_data/drama_clip/307/clip.mp4\n",
      "\n"
     ]
    },
    {
     "name": "stderr",
     "output_type": "stream",
     "text": [
      "                                                            \r"
     ]
    },
    {
     "name": "stdout",
     "output_type": "stream",
     "text": [
      "Moviepy - Done !\n",
      "Moviepy - video ready C:/Users/naoki/anaconda_work/Faster-R-CNN-pytorch-main/data/ori_data/drama_clip/307/clip.mp4\n",
      "Moviepy - Building video C:/Users/naoki/anaconda_work/Faster-R-CNN-pytorch-main/data/ori_data/drama_clip/308/clip.mp4.\n",
      "Moviepy - Writing video C:/Users/naoki/anaconda_work/Faster-R-CNN-pytorch-main/data/ori_data/drama_clip/308/clip.mp4\n",
      "\n"
     ]
    },
    {
     "name": "stderr",
     "output_type": "stream",
     "text": [
      "                                                            \r"
     ]
    },
    {
     "name": "stdout",
     "output_type": "stream",
     "text": [
      "Moviepy - Done !\n",
      "Moviepy - video ready C:/Users/naoki/anaconda_work/Faster-R-CNN-pytorch-main/data/ori_data/drama_clip/308/clip.mp4\n",
      "Moviepy - Building video C:/Users/naoki/anaconda_work/Faster-R-CNN-pytorch-main/data/ori_data/drama_clip/309/clip.mp4.\n",
      "Moviepy - Writing video C:/Users/naoki/anaconda_work/Faster-R-CNN-pytorch-main/data/ori_data/drama_clip/309/clip.mp4\n",
      "\n"
     ]
    },
    {
     "name": "stderr",
     "output_type": "stream",
     "text": [
      "                                                            \r"
     ]
    },
    {
     "name": "stdout",
     "output_type": "stream",
     "text": [
      "Moviepy - Done !\n",
      "Moviepy - video ready C:/Users/naoki/anaconda_work/Faster-R-CNN-pytorch-main/data/ori_data/drama_clip/309/clip.mp4\n",
      "Moviepy - Building video C:/Users/naoki/anaconda_work/Faster-R-CNN-pytorch-main/data/ori_data/drama_clip/310/clip.mp4.\n",
      "Moviepy - Writing video C:/Users/naoki/anaconda_work/Faster-R-CNN-pytorch-main/data/ori_data/drama_clip/310/clip.mp4\n",
      "\n"
     ]
    },
    {
     "name": "stderr",
     "output_type": "stream",
     "text": [
      "                                                            \r"
     ]
    },
    {
     "name": "stdout",
     "output_type": "stream",
     "text": [
      "Moviepy - Done !\n",
      "Moviepy - video ready C:/Users/naoki/anaconda_work/Faster-R-CNN-pytorch-main/data/ori_data/drama_clip/310/clip.mp4\n",
      "Moviepy - Building video C:/Users/naoki/anaconda_work/Faster-R-CNN-pytorch-main/data/ori_data/drama_clip/311/clip.mp4.\n",
      "Moviepy - Writing video C:/Users/naoki/anaconda_work/Faster-R-CNN-pytorch-main/data/ori_data/drama_clip/311/clip.mp4\n",
      "\n"
     ]
    },
    {
     "name": "stderr",
     "output_type": "stream",
     "text": [
      "                                                            \r"
     ]
    },
    {
     "name": "stdout",
     "output_type": "stream",
     "text": [
      "Moviepy - Done !\n",
      "Moviepy - video ready C:/Users/naoki/anaconda_work/Faster-R-CNN-pytorch-main/data/ori_data/drama_clip/311/clip.mp4\n",
      "Moviepy - Building video C:/Users/naoki/anaconda_work/Faster-R-CNN-pytorch-main/data/ori_data/drama_clip/312/clip.mp4.\n",
      "Moviepy - Writing video C:/Users/naoki/anaconda_work/Faster-R-CNN-pytorch-main/data/ori_data/drama_clip/312/clip.mp4\n",
      "\n"
     ]
    },
    {
     "name": "stderr",
     "output_type": "stream",
     "text": [
      "                                                              \r"
     ]
    },
    {
     "name": "stdout",
     "output_type": "stream",
     "text": [
      "Moviepy - Done !\n",
      "Moviepy - video ready C:/Users/naoki/anaconda_work/Faster-R-CNN-pytorch-main/data/ori_data/drama_clip/312/clip.mp4\n",
      "Moviepy - Building video C:/Users/naoki/anaconda_work/Faster-R-CNN-pytorch-main/data/ori_data/drama_clip/313/clip.mp4.\n",
      "Moviepy - Writing video C:/Users/naoki/anaconda_work/Faster-R-CNN-pytorch-main/data/ori_data/drama_clip/313/clip.mp4\n",
      "\n"
     ]
    },
    {
     "name": "stderr",
     "output_type": "stream",
     "text": [
      "                                                            \r"
     ]
    },
    {
     "name": "stdout",
     "output_type": "stream",
     "text": [
      "Moviepy - Done !\n",
      "Moviepy - video ready C:/Users/naoki/anaconda_work/Faster-R-CNN-pytorch-main/data/ori_data/drama_clip/313/clip.mp4\n",
      "Moviepy - Building video C:/Users/naoki/anaconda_work/Faster-R-CNN-pytorch-main/data/ori_data/drama_clip/314/clip.mp4.\n",
      "Moviepy - Writing video C:/Users/naoki/anaconda_work/Faster-R-CNN-pytorch-main/data/ori_data/drama_clip/314/clip.mp4\n",
      "\n"
     ]
    },
    {
     "name": "stderr",
     "output_type": "stream",
     "text": [
      "                                                              \r"
     ]
    },
    {
     "name": "stdout",
     "output_type": "stream",
     "text": [
      "Moviepy - Done !\n",
      "Moviepy - video ready C:/Users/naoki/anaconda_work/Faster-R-CNN-pytorch-main/data/ori_data/drama_clip/314/clip.mp4\n",
      "Moviepy - Building video C:/Users/naoki/anaconda_work/Faster-R-CNN-pytorch-main/data/ori_data/drama_clip/315/clip.mp4.\n",
      "Moviepy - Writing video C:/Users/naoki/anaconda_work/Faster-R-CNN-pytorch-main/data/ori_data/drama_clip/315/clip.mp4\n",
      "\n"
     ]
    },
    {
     "name": "stderr",
     "output_type": "stream",
     "text": [
      "                                                              \r"
     ]
    },
    {
     "name": "stdout",
     "output_type": "stream",
     "text": [
      "Moviepy - Done !\n",
      "Moviepy - video ready C:/Users/naoki/anaconda_work/Faster-R-CNN-pytorch-main/data/ori_data/drama_clip/315/clip.mp4\n",
      "Moviepy - Building video C:/Users/naoki/anaconda_work/Faster-R-CNN-pytorch-main/data/ori_data/drama_clip/316/clip.mp4.\n",
      "Moviepy - Writing video C:/Users/naoki/anaconda_work/Faster-R-CNN-pytorch-main/data/ori_data/drama_clip/316/clip.mp4\n",
      "\n"
     ]
    },
    {
     "name": "stderr",
     "output_type": "stream",
     "text": [
      "                                                            \r"
     ]
    },
    {
     "name": "stdout",
     "output_type": "stream",
     "text": [
      "Moviepy - Done !\n",
      "Moviepy - video ready C:/Users/naoki/anaconda_work/Faster-R-CNN-pytorch-main/data/ori_data/drama_clip/316/clip.mp4\n",
      "Moviepy - Building video C:/Users/naoki/anaconda_work/Faster-R-CNN-pytorch-main/data/ori_data/drama_clip/317/clip.mp4.\n",
      "Moviepy - Writing video C:/Users/naoki/anaconda_work/Faster-R-CNN-pytorch-main/data/ori_data/drama_clip/317/clip.mp4\n",
      "\n"
     ]
    },
    {
     "name": "stderr",
     "output_type": "stream",
     "text": [
      "                                                              \r"
     ]
    },
    {
     "name": "stdout",
     "output_type": "stream",
     "text": [
      "Moviepy - Done !\n",
      "Moviepy - video ready C:/Users/naoki/anaconda_work/Faster-R-CNN-pytorch-main/data/ori_data/drama_clip/317/clip.mp4\n",
      "Moviepy - Building video C:/Users/naoki/anaconda_work/Faster-R-CNN-pytorch-main/data/ori_data/drama_clip/318/clip.mp4.\n",
      "Moviepy - Writing video C:/Users/naoki/anaconda_work/Faster-R-CNN-pytorch-main/data/ori_data/drama_clip/318/clip.mp4\n",
      "\n"
     ]
    },
    {
     "name": "stderr",
     "output_type": "stream",
     "text": [
      "                                                            \r"
     ]
    },
    {
     "name": "stdout",
     "output_type": "stream",
     "text": [
      "Moviepy - Done !\n",
      "Moviepy - video ready C:/Users/naoki/anaconda_work/Faster-R-CNN-pytorch-main/data/ori_data/drama_clip/318/clip.mp4\n",
      "Moviepy - Building video C:/Users/naoki/anaconda_work/Faster-R-CNN-pytorch-main/data/ori_data/drama_clip/319/clip.mp4.\n",
      "Moviepy - Writing video C:/Users/naoki/anaconda_work/Faster-R-CNN-pytorch-main/data/ori_data/drama_clip/319/clip.mp4\n",
      "\n"
     ]
    },
    {
     "name": "stderr",
     "output_type": "stream",
     "text": [
      "                                                            \r"
     ]
    },
    {
     "name": "stdout",
     "output_type": "stream",
     "text": [
      "Moviepy - Done !\n",
      "Moviepy - video ready C:/Users/naoki/anaconda_work/Faster-R-CNN-pytorch-main/data/ori_data/drama_clip/319/clip.mp4\n",
      "Moviepy - Building video C:/Users/naoki/anaconda_work/Faster-R-CNN-pytorch-main/data/ori_data/drama_clip/320/clip.mp4.\n",
      "Moviepy - Writing video C:/Users/naoki/anaconda_work/Faster-R-CNN-pytorch-main/data/ori_data/drama_clip/320/clip.mp4\n",
      "\n"
     ]
    },
    {
     "name": "stderr",
     "output_type": "stream",
     "text": [
      "                                                              \r"
     ]
    },
    {
     "name": "stdout",
     "output_type": "stream",
     "text": [
      "Moviepy - Done !\n",
      "Moviepy - video ready C:/Users/naoki/anaconda_work/Faster-R-CNN-pytorch-main/data/ori_data/drama_clip/320/clip.mp4\n",
      "Moviepy - Building video C:/Users/naoki/anaconda_work/Faster-R-CNN-pytorch-main/data/ori_data/drama_clip/321/clip.mp4.\n",
      "Moviepy - Writing video C:/Users/naoki/anaconda_work/Faster-R-CNN-pytorch-main/data/ori_data/drama_clip/321/clip.mp4\n",
      "\n"
     ]
    },
    {
     "name": "stderr",
     "output_type": "stream",
     "text": [
      "                                                            \r"
     ]
    },
    {
     "name": "stdout",
     "output_type": "stream",
     "text": [
      "Moviepy - Done !\n",
      "Moviepy - video ready C:/Users/naoki/anaconda_work/Faster-R-CNN-pytorch-main/data/ori_data/drama_clip/321/clip.mp4\n",
      "Moviepy - Building video C:/Users/naoki/anaconda_work/Faster-R-CNN-pytorch-main/data/ori_data/drama_clip/322/clip.mp4.\n",
      "Moviepy - Writing video C:/Users/naoki/anaconda_work/Faster-R-CNN-pytorch-main/data/ori_data/drama_clip/322/clip.mp4\n",
      "\n"
     ]
    },
    {
     "name": "stderr",
     "output_type": "stream",
     "text": [
      "                                                            \r"
     ]
    },
    {
     "name": "stdout",
     "output_type": "stream",
     "text": [
      "Moviepy - Done !\n",
      "Moviepy - video ready C:/Users/naoki/anaconda_work/Faster-R-CNN-pytorch-main/data/ori_data/drama_clip/322/clip.mp4\n",
      "Moviepy - Building video C:/Users/naoki/anaconda_work/Faster-R-CNN-pytorch-main/data/ori_data/drama_clip/323/clip.mp4.\n",
      "Moviepy - Writing video C:/Users/naoki/anaconda_work/Faster-R-CNN-pytorch-main/data/ori_data/drama_clip/323/clip.mp4\n",
      "\n"
     ]
    },
    {
     "name": "stderr",
     "output_type": "stream",
     "text": [
      "                                                            \r"
     ]
    },
    {
     "name": "stdout",
     "output_type": "stream",
     "text": [
      "Moviepy - Done !\n",
      "Moviepy - video ready C:/Users/naoki/anaconda_work/Faster-R-CNN-pytorch-main/data/ori_data/drama_clip/323/clip.mp4\n",
      "Moviepy - Building video C:/Users/naoki/anaconda_work/Faster-R-CNN-pytorch-main/data/ori_data/drama_clip/324/clip.mp4.\n",
      "Moviepy - Writing video C:/Users/naoki/anaconda_work/Faster-R-CNN-pytorch-main/data/ori_data/drama_clip/324/clip.mp4\n",
      "\n"
     ]
    },
    {
     "name": "stderr",
     "output_type": "stream",
     "text": [
      "                                                            \r"
     ]
    },
    {
     "name": "stdout",
     "output_type": "stream",
     "text": [
      "Moviepy - Done !\n",
      "Moviepy - video ready C:/Users/naoki/anaconda_work/Faster-R-CNN-pytorch-main/data/ori_data/drama_clip/324/clip.mp4\n",
      "Moviepy - Building video C:/Users/naoki/anaconda_work/Faster-R-CNN-pytorch-main/data/ori_data/drama_clip/325/clip.mp4.\n",
      "Moviepy - Writing video C:/Users/naoki/anaconda_work/Faster-R-CNN-pytorch-main/data/ori_data/drama_clip/325/clip.mp4\n",
      "\n"
     ]
    },
    {
     "name": "stderr",
     "output_type": "stream",
     "text": [
      "                                                            \r"
     ]
    },
    {
     "name": "stdout",
     "output_type": "stream",
     "text": [
      "Moviepy - Done !\n",
      "Moviepy - video ready C:/Users/naoki/anaconda_work/Faster-R-CNN-pytorch-main/data/ori_data/drama_clip/325/clip.mp4\n",
      "Moviepy - Building video C:/Users/naoki/anaconda_work/Faster-R-CNN-pytorch-main/data/ori_data/drama_clip/326/clip.mp4.\n",
      "Moviepy - Writing video C:/Users/naoki/anaconda_work/Faster-R-CNN-pytorch-main/data/ori_data/drama_clip/326/clip.mp4\n",
      "\n"
     ]
    },
    {
     "name": "stderr",
     "output_type": "stream",
     "text": [
      "                                                            \r"
     ]
    },
    {
     "name": "stdout",
     "output_type": "stream",
     "text": [
      "Moviepy - Done !\n",
      "Moviepy - video ready C:/Users/naoki/anaconda_work/Faster-R-CNN-pytorch-main/data/ori_data/drama_clip/326/clip.mp4\n",
      "Moviepy - Building video C:/Users/naoki/anaconda_work/Faster-R-CNN-pytorch-main/data/ori_data/drama_clip/327/clip.mp4.\n",
      "Moviepy - Writing video C:/Users/naoki/anaconda_work/Faster-R-CNN-pytorch-main/data/ori_data/drama_clip/327/clip.mp4\n",
      "\n"
     ]
    },
    {
     "name": "stderr",
     "output_type": "stream",
     "text": [
      "                                                            \r"
     ]
    },
    {
     "name": "stdout",
     "output_type": "stream",
     "text": [
      "Moviepy - Done !\n",
      "Moviepy - video ready C:/Users/naoki/anaconda_work/Faster-R-CNN-pytorch-main/data/ori_data/drama_clip/327/clip.mp4\n",
      "Moviepy - Building video C:/Users/naoki/anaconda_work/Faster-R-CNN-pytorch-main/data/ori_data/drama_clip/328/clip.mp4.\n",
      "Moviepy - Writing video C:/Users/naoki/anaconda_work/Faster-R-CNN-pytorch-main/data/ori_data/drama_clip/328/clip.mp4\n",
      "\n"
     ]
    },
    {
     "name": "stderr",
     "output_type": "stream",
     "text": [
      "                                                            \r"
     ]
    },
    {
     "name": "stdout",
     "output_type": "stream",
     "text": [
      "Moviepy - Done !\n",
      "Moviepy - video ready C:/Users/naoki/anaconda_work/Faster-R-CNN-pytorch-main/data/ori_data/drama_clip/328/clip.mp4\n",
      "Moviepy - Building video C:/Users/naoki/anaconda_work/Faster-R-CNN-pytorch-main/data/ori_data/drama_clip/329/clip.mp4.\n",
      "Moviepy - Writing video C:/Users/naoki/anaconda_work/Faster-R-CNN-pytorch-main/data/ori_data/drama_clip/329/clip.mp4\n",
      "\n"
     ]
    },
    {
     "name": "stderr",
     "output_type": "stream",
     "text": [
      "                                                              \r"
     ]
    },
    {
     "name": "stdout",
     "output_type": "stream",
     "text": [
      "Moviepy - Done !\n",
      "Moviepy - video ready C:/Users/naoki/anaconda_work/Faster-R-CNN-pytorch-main/data/ori_data/drama_clip/329/clip.mp4\n",
      "Moviepy - Building video C:/Users/naoki/anaconda_work/Faster-R-CNN-pytorch-main/data/ori_data/drama_clip/330/clip.mp4.\n",
      "Moviepy - Writing video C:/Users/naoki/anaconda_work/Faster-R-CNN-pytorch-main/data/ori_data/drama_clip/330/clip.mp4\n",
      "\n"
     ]
    },
    {
     "name": "stderr",
     "output_type": "stream",
     "text": [
      "                                                              \r"
     ]
    },
    {
     "name": "stdout",
     "output_type": "stream",
     "text": [
      "Moviepy - Done !\n",
      "Moviepy - video ready C:/Users/naoki/anaconda_work/Faster-R-CNN-pytorch-main/data/ori_data/drama_clip/330/clip.mp4\n",
      "Moviepy - Building video C:/Users/naoki/anaconda_work/Faster-R-CNN-pytorch-main/data/ori_data/drama_clip/331/clip.mp4.\n",
      "Moviepy - Writing video C:/Users/naoki/anaconda_work/Faster-R-CNN-pytorch-main/data/ori_data/drama_clip/331/clip.mp4\n",
      "\n"
     ]
    },
    {
     "name": "stderr",
     "output_type": "stream",
     "text": [
      "                                                            \r"
     ]
    },
    {
     "name": "stdout",
     "output_type": "stream",
     "text": [
      "Moviepy - Done !\n",
      "Moviepy - video ready C:/Users/naoki/anaconda_work/Faster-R-CNN-pytorch-main/data/ori_data/drama_clip/331/clip.mp4\n",
      "Moviepy - Building video C:/Users/naoki/anaconda_work/Faster-R-CNN-pytorch-main/data/ori_data/drama_clip/332/clip.mp4.\n",
      "Moviepy - Writing video C:/Users/naoki/anaconda_work/Faster-R-CNN-pytorch-main/data/ori_data/drama_clip/332/clip.mp4\n",
      "\n"
     ]
    },
    {
     "name": "stderr",
     "output_type": "stream",
     "text": [
      "                                                              \r"
     ]
    },
    {
     "name": "stdout",
     "output_type": "stream",
     "text": [
      "Moviepy - Done !\n",
      "Moviepy - video ready C:/Users/naoki/anaconda_work/Faster-R-CNN-pytorch-main/data/ori_data/drama_clip/332/clip.mp4\n",
      "Moviepy - Building video C:/Users/naoki/anaconda_work/Faster-R-CNN-pytorch-main/data/ori_data/drama_clip/333/clip.mp4.\n",
      "Moviepy - Writing video C:/Users/naoki/anaconda_work/Faster-R-CNN-pytorch-main/data/ori_data/drama_clip/333/clip.mp4\n",
      "\n"
     ]
    },
    {
     "name": "stderr",
     "output_type": "stream",
     "text": [
      "                                                            \r"
     ]
    },
    {
     "name": "stdout",
     "output_type": "stream",
     "text": [
      "Moviepy - Done !\n",
      "Moviepy - video ready C:/Users/naoki/anaconda_work/Faster-R-CNN-pytorch-main/data/ori_data/drama_clip/333/clip.mp4\n",
      "Moviepy - Building video C:/Users/naoki/anaconda_work/Faster-R-CNN-pytorch-main/data/ori_data/drama_clip/334/clip.mp4.\n",
      "Moviepy - Writing video C:/Users/naoki/anaconda_work/Faster-R-CNN-pytorch-main/data/ori_data/drama_clip/334/clip.mp4\n",
      "\n"
     ]
    },
    {
     "name": "stderr",
     "output_type": "stream",
     "text": [
      "                                                            \r"
     ]
    },
    {
     "name": "stdout",
     "output_type": "stream",
     "text": [
      "Moviepy - Done !\n",
      "Moviepy - video ready C:/Users/naoki/anaconda_work/Faster-R-CNN-pytorch-main/data/ori_data/drama_clip/334/clip.mp4\n",
      "Moviepy - Building video C:/Users/naoki/anaconda_work/Faster-R-CNN-pytorch-main/data/ori_data/drama_clip/335/clip.mp4.\n",
      "Moviepy - Writing video C:/Users/naoki/anaconda_work/Faster-R-CNN-pytorch-main/data/ori_data/drama_clip/335/clip.mp4\n",
      "\n"
     ]
    },
    {
     "name": "stderr",
     "output_type": "stream",
     "text": [
      "                                                            \r"
     ]
    },
    {
     "name": "stdout",
     "output_type": "stream",
     "text": [
      "Moviepy - Done !\n",
      "Moviepy - video ready C:/Users/naoki/anaconda_work/Faster-R-CNN-pytorch-main/data/ori_data/drama_clip/335/clip.mp4\n",
      "Moviepy - Building video C:/Users/naoki/anaconda_work/Faster-R-CNN-pytorch-main/data/ori_data/drama_clip/336/clip.mp4.\n",
      "Moviepy - Writing video C:/Users/naoki/anaconda_work/Faster-R-CNN-pytorch-main/data/ori_data/drama_clip/336/clip.mp4\n",
      "\n"
     ]
    },
    {
     "name": "stderr",
     "output_type": "stream",
     "text": [
      "                                                            \r"
     ]
    },
    {
     "name": "stdout",
     "output_type": "stream",
     "text": [
      "Moviepy - Done !\n",
      "Moviepy - video ready C:/Users/naoki/anaconda_work/Faster-R-CNN-pytorch-main/data/ori_data/drama_clip/336/clip.mp4\n",
      "Moviepy - Building video C:/Users/naoki/anaconda_work/Faster-R-CNN-pytorch-main/data/ori_data/drama_clip/337/clip.mp4.\n",
      "Moviepy - Writing video C:/Users/naoki/anaconda_work/Faster-R-CNN-pytorch-main/data/ori_data/drama_clip/337/clip.mp4\n",
      "\n"
     ]
    },
    {
     "name": "stderr",
     "output_type": "stream",
     "text": [
      "                                                            \r"
     ]
    },
    {
     "name": "stdout",
     "output_type": "stream",
     "text": [
      "Moviepy - Done !\n",
      "Moviepy - video ready C:/Users/naoki/anaconda_work/Faster-R-CNN-pytorch-main/data/ori_data/drama_clip/337/clip.mp4\n",
      "Moviepy - Building video C:/Users/naoki/anaconda_work/Faster-R-CNN-pytorch-main/data/ori_data/drama_clip/338/clip.mp4.\n",
      "Moviepy - Writing video C:/Users/naoki/anaconda_work/Faster-R-CNN-pytorch-main/data/ori_data/drama_clip/338/clip.mp4\n",
      "\n"
     ]
    },
    {
     "name": "stderr",
     "output_type": "stream",
     "text": [
      "                                                            \r"
     ]
    },
    {
     "name": "stdout",
     "output_type": "stream",
     "text": [
      "Moviepy - Done !\n",
      "Moviepy - video ready C:/Users/naoki/anaconda_work/Faster-R-CNN-pytorch-main/data/ori_data/drama_clip/338/clip.mp4\n",
      "Moviepy - Building video C:/Users/naoki/anaconda_work/Faster-R-CNN-pytorch-main/data/ori_data/drama_clip/339/clip.mp4.\n",
      "Moviepy - Writing video C:/Users/naoki/anaconda_work/Faster-R-CNN-pytorch-main/data/ori_data/drama_clip/339/clip.mp4\n",
      "\n"
     ]
    },
    {
     "name": "stderr",
     "output_type": "stream",
     "text": [
      "                                                            \r"
     ]
    },
    {
     "name": "stdout",
     "output_type": "stream",
     "text": [
      "Moviepy - Done !\n",
      "Moviepy - video ready C:/Users/naoki/anaconda_work/Faster-R-CNN-pytorch-main/data/ori_data/drama_clip/339/clip.mp4\n",
      "Moviepy - Building video C:/Users/naoki/anaconda_work/Faster-R-CNN-pytorch-main/data/ori_data/drama_clip/340/clip.mp4.\n",
      "Moviepy - Writing video C:/Users/naoki/anaconda_work/Faster-R-CNN-pytorch-main/data/ori_data/drama_clip/340/clip.mp4\n",
      "\n"
     ]
    },
    {
     "name": "stderr",
     "output_type": "stream",
     "text": [
      "                                                            \r"
     ]
    },
    {
     "name": "stdout",
     "output_type": "stream",
     "text": [
      "Moviepy - Done !\n",
      "Moviepy - video ready C:/Users/naoki/anaconda_work/Faster-R-CNN-pytorch-main/data/ori_data/drama_clip/340/clip.mp4\n",
      "Moviepy - Building video C:/Users/naoki/anaconda_work/Faster-R-CNN-pytorch-main/data/ori_data/drama_clip/341/clip.mp4.\n",
      "Moviepy - Writing video C:/Users/naoki/anaconda_work/Faster-R-CNN-pytorch-main/data/ori_data/drama_clip/341/clip.mp4\n",
      "\n"
     ]
    },
    {
     "name": "stderr",
     "output_type": "stream",
     "text": [
      "                                                              \r"
     ]
    },
    {
     "name": "stdout",
     "output_type": "stream",
     "text": [
      "Moviepy - Done !\n",
      "Moviepy - video ready C:/Users/naoki/anaconda_work/Faster-R-CNN-pytorch-main/data/ori_data/drama_clip/341/clip.mp4\n",
      "Moviepy - Building video C:/Users/naoki/anaconda_work/Faster-R-CNN-pytorch-main/data/ori_data/drama_clip/342/clip.mp4.\n",
      "Moviepy - Writing video C:/Users/naoki/anaconda_work/Faster-R-CNN-pytorch-main/data/ori_data/drama_clip/342/clip.mp4\n",
      "\n"
     ]
    },
    {
     "name": "stderr",
     "output_type": "stream",
     "text": [
      "                                                            \r"
     ]
    },
    {
     "name": "stdout",
     "output_type": "stream",
     "text": [
      "Moviepy - Done !\n",
      "Moviepy - video ready C:/Users/naoki/anaconda_work/Faster-R-CNN-pytorch-main/data/ori_data/drama_clip/342/clip.mp4\n",
      "Moviepy - Building video C:/Users/naoki/anaconda_work/Faster-R-CNN-pytorch-main/data/ori_data/drama_clip/343/clip.mp4.\n",
      "Moviepy - Writing video C:/Users/naoki/anaconda_work/Faster-R-CNN-pytorch-main/data/ori_data/drama_clip/343/clip.mp4\n",
      "\n"
     ]
    },
    {
     "name": "stderr",
     "output_type": "stream",
     "text": [
      "                                                            \r"
     ]
    },
    {
     "name": "stdout",
     "output_type": "stream",
     "text": [
      "Moviepy - Done !\n",
      "Moviepy - video ready C:/Users/naoki/anaconda_work/Faster-R-CNN-pytorch-main/data/ori_data/drama_clip/343/clip.mp4\n",
      "Moviepy - Building video C:/Users/naoki/anaconda_work/Faster-R-CNN-pytorch-main/data/ori_data/drama_clip/344/clip.mp4.\n",
      "Moviepy - Writing video C:/Users/naoki/anaconda_work/Faster-R-CNN-pytorch-main/data/ori_data/drama_clip/344/clip.mp4\n",
      "\n"
     ]
    },
    {
     "name": "stderr",
     "output_type": "stream",
     "text": [
      "                                                            \r"
     ]
    },
    {
     "name": "stdout",
     "output_type": "stream",
     "text": [
      "Moviepy - Done !\n",
      "Moviepy - video ready C:/Users/naoki/anaconda_work/Faster-R-CNN-pytorch-main/data/ori_data/drama_clip/344/clip.mp4\n",
      "Moviepy - Building video C:/Users/naoki/anaconda_work/Faster-R-CNN-pytorch-main/data/ori_data/drama_clip/345/clip.mp4.\n",
      "Moviepy - Writing video C:/Users/naoki/anaconda_work/Faster-R-CNN-pytorch-main/data/ori_data/drama_clip/345/clip.mp4\n",
      "\n"
     ]
    },
    {
     "name": "stderr",
     "output_type": "stream",
     "text": [
      "                                                            \r"
     ]
    },
    {
     "name": "stdout",
     "output_type": "stream",
     "text": [
      "Moviepy - Done !\n",
      "Moviepy - video ready C:/Users/naoki/anaconda_work/Faster-R-CNN-pytorch-main/data/ori_data/drama_clip/345/clip.mp4\n",
      "Moviepy - Building video C:/Users/naoki/anaconda_work/Faster-R-CNN-pytorch-main/data/ori_data/drama_clip/346/clip.mp4.\n",
      "Moviepy - Writing video C:/Users/naoki/anaconda_work/Faster-R-CNN-pytorch-main/data/ori_data/drama_clip/346/clip.mp4\n",
      "\n"
     ]
    },
    {
     "name": "stderr",
     "output_type": "stream",
     "text": [
      "                                                            \r"
     ]
    },
    {
     "name": "stdout",
     "output_type": "stream",
     "text": [
      "Moviepy - Done !\n",
      "Moviepy - video ready C:/Users/naoki/anaconda_work/Faster-R-CNN-pytorch-main/data/ori_data/drama_clip/346/clip.mp4\n",
      "Moviepy - Building video C:/Users/naoki/anaconda_work/Faster-R-CNN-pytorch-main/data/ori_data/drama_clip/347/clip.mp4.\n",
      "Moviepy - Writing video C:/Users/naoki/anaconda_work/Faster-R-CNN-pytorch-main/data/ori_data/drama_clip/347/clip.mp4\n",
      "\n"
     ]
    },
    {
     "name": "stderr",
     "output_type": "stream",
     "text": [
      "                                                            \r"
     ]
    },
    {
     "name": "stdout",
     "output_type": "stream",
     "text": [
      "Moviepy - Done !\n",
      "Moviepy - video ready C:/Users/naoki/anaconda_work/Faster-R-CNN-pytorch-main/data/ori_data/drama_clip/347/clip.mp4\n",
      "Moviepy - Building video C:/Users/naoki/anaconda_work/Faster-R-CNN-pytorch-main/data/ori_data/drama_clip/348/clip.mp4.\n",
      "Moviepy - Writing video C:/Users/naoki/anaconda_work/Faster-R-CNN-pytorch-main/data/ori_data/drama_clip/348/clip.mp4\n",
      "\n"
     ]
    },
    {
     "name": "stderr",
     "output_type": "stream",
     "text": [
      "                                                            \r"
     ]
    },
    {
     "name": "stdout",
     "output_type": "stream",
     "text": [
      "Moviepy - Done !\n",
      "Moviepy - video ready C:/Users/naoki/anaconda_work/Faster-R-CNN-pytorch-main/data/ori_data/drama_clip/348/clip.mp4\n",
      "Moviepy - Building video C:/Users/naoki/anaconda_work/Faster-R-CNN-pytorch-main/data/ori_data/drama_clip/349/clip.mp4.\n",
      "Moviepy - Writing video C:/Users/naoki/anaconda_work/Faster-R-CNN-pytorch-main/data/ori_data/drama_clip/349/clip.mp4\n",
      "\n"
     ]
    },
    {
     "name": "stderr",
     "output_type": "stream",
     "text": [
      "                                                              \r"
     ]
    },
    {
     "name": "stdout",
     "output_type": "stream",
     "text": [
      "Moviepy - Done !\n",
      "Moviepy - video ready C:/Users/naoki/anaconda_work/Faster-R-CNN-pytorch-main/data/ori_data/drama_clip/349/clip.mp4\n",
      "Moviepy - Building video C:/Users/naoki/anaconda_work/Faster-R-CNN-pytorch-main/data/ori_data/drama_clip/350/clip.mp4.\n",
      "Moviepy - Writing video C:/Users/naoki/anaconda_work/Faster-R-CNN-pytorch-main/data/ori_data/drama_clip/350/clip.mp4\n",
      "\n"
     ]
    },
    {
     "name": "stderr",
     "output_type": "stream",
     "text": [
      "                                                            \r"
     ]
    },
    {
     "name": "stdout",
     "output_type": "stream",
     "text": [
      "Moviepy - Done !\n",
      "Moviepy - video ready C:/Users/naoki/anaconda_work/Faster-R-CNN-pytorch-main/data/ori_data/drama_clip/350/clip.mp4\n",
      "Moviepy - Building video C:/Users/naoki/anaconda_work/Faster-R-CNN-pytorch-main/data/ori_data/drama_clip/351/clip.mp4.\n",
      "Moviepy - Writing video C:/Users/naoki/anaconda_work/Faster-R-CNN-pytorch-main/data/ori_data/drama_clip/351/clip.mp4\n",
      "\n"
     ]
    },
    {
     "name": "stderr",
     "output_type": "stream",
     "text": [
      "                                                            \r"
     ]
    },
    {
     "name": "stdout",
     "output_type": "stream",
     "text": [
      "Moviepy - Done !\n",
      "Moviepy - video ready C:/Users/naoki/anaconda_work/Faster-R-CNN-pytorch-main/data/ori_data/drama_clip/351/clip.mp4\n",
      "Moviepy - Building video C:/Users/naoki/anaconda_work/Faster-R-CNN-pytorch-main/data/ori_data/drama_clip/352/clip.mp4.\n",
      "Moviepy - Writing video C:/Users/naoki/anaconda_work/Faster-R-CNN-pytorch-main/data/ori_data/drama_clip/352/clip.mp4\n",
      "\n"
     ]
    },
    {
     "name": "stderr",
     "output_type": "stream",
     "text": [
      "                                                            \r"
     ]
    },
    {
     "name": "stdout",
     "output_type": "stream",
     "text": [
      "Moviepy - Done !\n",
      "Moviepy - video ready C:/Users/naoki/anaconda_work/Faster-R-CNN-pytorch-main/data/ori_data/drama_clip/352/clip.mp4\n",
      "Moviepy - Building video C:/Users/naoki/anaconda_work/Faster-R-CNN-pytorch-main/data/ori_data/drama_clip/353/clip.mp4.\n",
      "Moviepy - Writing video C:/Users/naoki/anaconda_work/Faster-R-CNN-pytorch-main/data/ori_data/drama_clip/353/clip.mp4\n",
      "\n"
     ]
    },
    {
     "name": "stderr",
     "output_type": "stream",
     "text": [
      "                                                              \r"
     ]
    },
    {
     "name": "stdout",
     "output_type": "stream",
     "text": [
      "Moviepy - Done !\n",
      "Moviepy - video ready C:/Users/naoki/anaconda_work/Faster-R-CNN-pytorch-main/data/ori_data/drama_clip/353/clip.mp4\n",
      "Moviepy - Building video C:/Users/naoki/anaconda_work/Faster-R-CNN-pytorch-main/data/ori_data/drama_clip/354/clip.mp4.\n",
      "Moviepy - Writing video C:/Users/naoki/anaconda_work/Faster-R-CNN-pytorch-main/data/ori_data/drama_clip/354/clip.mp4\n",
      "\n"
     ]
    },
    {
     "name": "stderr",
     "output_type": "stream",
     "text": [
      "                                                            \r"
     ]
    },
    {
     "name": "stdout",
     "output_type": "stream",
     "text": [
      "Moviepy - Done !\n",
      "Moviepy - video ready C:/Users/naoki/anaconda_work/Faster-R-CNN-pytorch-main/data/ori_data/drama_clip/354/clip.mp4\n",
      "Moviepy - Building video C:/Users/naoki/anaconda_work/Faster-R-CNN-pytorch-main/data/ori_data/drama_clip/355/clip.mp4.\n",
      "Moviepy - Writing video C:/Users/naoki/anaconda_work/Faster-R-CNN-pytorch-main/data/ori_data/drama_clip/355/clip.mp4\n",
      "\n"
     ]
    },
    {
     "name": "stderr",
     "output_type": "stream",
     "text": [
      "                                                            \r"
     ]
    },
    {
     "name": "stdout",
     "output_type": "stream",
     "text": [
      "Moviepy - Done !\n",
      "Moviepy - video ready C:/Users/naoki/anaconda_work/Faster-R-CNN-pytorch-main/data/ori_data/drama_clip/355/clip.mp4\n",
      "Moviepy - Building video C:/Users/naoki/anaconda_work/Faster-R-CNN-pytorch-main/data/ori_data/drama_clip/356/clip.mp4.\n",
      "Moviepy - Writing video C:/Users/naoki/anaconda_work/Faster-R-CNN-pytorch-main/data/ori_data/drama_clip/356/clip.mp4\n",
      "\n"
     ]
    },
    {
     "name": "stderr",
     "output_type": "stream",
     "text": [
      "                                                            \r"
     ]
    },
    {
     "name": "stdout",
     "output_type": "stream",
     "text": [
      "Moviepy - Done !\n",
      "Moviepy - video ready C:/Users/naoki/anaconda_work/Faster-R-CNN-pytorch-main/data/ori_data/drama_clip/356/clip.mp4\n",
      "Moviepy - Building video C:/Users/naoki/anaconda_work/Faster-R-CNN-pytorch-main/data/ori_data/drama_clip/357/clip.mp4.\n",
      "Moviepy - Writing video C:/Users/naoki/anaconda_work/Faster-R-CNN-pytorch-main/data/ori_data/drama_clip/357/clip.mp4\n",
      "\n"
     ]
    },
    {
     "name": "stderr",
     "output_type": "stream",
     "text": [
      "                                                            \r"
     ]
    },
    {
     "name": "stdout",
     "output_type": "stream",
     "text": [
      "Moviepy - Done !\n",
      "Moviepy - video ready C:/Users/naoki/anaconda_work/Faster-R-CNN-pytorch-main/data/ori_data/drama_clip/357/clip.mp4\n",
      "Moviepy - Building video C:/Users/naoki/anaconda_work/Faster-R-CNN-pytorch-main/data/ori_data/drama_clip/358/clip.mp4.\n",
      "Moviepy - Writing video C:/Users/naoki/anaconda_work/Faster-R-CNN-pytorch-main/data/ori_data/drama_clip/358/clip.mp4\n",
      "\n"
     ]
    },
    {
     "name": "stderr",
     "output_type": "stream",
     "text": [
      "                                                            \r"
     ]
    },
    {
     "name": "stdout",
     "output_type": "stream",
     "text": [
      "Moviepy - Done !\n",
      "Moviepy - video ready C:/Users/naoki/anaconda_work/Faster-R-CNN-pytorch-main/data/ori_data/drama_clip/358/clip.mp4\n",
      "Moviepy - Building video C:/Users/naoki/anaconda_work/Faster-R-CNN-pytorch-main/data/ori_data/drama_clip/359/clip.mp4.\n",
      "Moviepy - Writing video C:/Users/naoki/anaconda_work/Faster-R-CNN-pytorch-main/data/ori_data/drama_clip/359/clip.mp4\n",
      "\n"
     ]
    },
    {
     "name": "stderr",
     "output_type": "stream",
     "text": [
      "                                                            \r"
     ]
    },
    {
     "name": "stdout",
     "output_type": "stream",
     "text": [
      "Moviepy - Done !\n",
      "Moviepy - video ready C:/Users/naoki/anaconda_work/Faster-R-CNN-pytorch-main/data/ori_data/drama_clip/359/clip.mp4\n",
      "Moviepy - Building video C:/Users/naoki/anaconda_work/Faster-R-CNN-pytorch-main/data/ori_data/drama_clip/360/clip.mp4.\n",
      "Moviepy - Writing video C:/Users/naoki/anaconda_work/Faster-R-CNN-pytorch-main/data/ori_data/drama_clip/360/clip.mp4\n",
      "\n"
     ]
    },
    {
     "name": "stderr",
     "output_type": "stream",
     "text": [
      "                                                            \r"
     ]
    },
    {
     "name": "stdout",
     "output_type": "stream",
     "text": [
      "Moviepy - Done !\n",
      "Moviepy - video ready C:/Users/naoki/anaconda_work/Faster-R-CNN-pytorch-main/data/ori_data/drama_clip/360/clip.mp4\n",
      "Moviepy - Building video C:/Users/naoki/anaconda_work/Faster-R-CNN-pytorch-main/data/ori_data/drama_clip/361/clip.mp4.\n",
      "Moviepy - Writing video C:/Users/naoki/anaconda_work/Faster-R-CNN-pytorch-main/data/ori_data/drama_clip/361/clip.mp4\n",
      "\n"
     ]
    },
    {
     "name": "stderr",
     "output_type": "stream",
     "text": [
      "                                                            \r"
     ]
    },
    {
     "name": "stdout",
     "output_type": "stream",
     "text": [
      "Moviepy - Done !\n",
      "Moviepy - video ready C:/Users/naoki/anaconda_work/Faster-R-CNN-pytorch-main/data/ori_data/drama_clip/361/clip.mp4\n",
      "Moviepy - Building video C:/Users/naoki/anaconda_work/Faster-R-CNN-pytorch-main/data/ori_data/drama_clip/362/clip.mp4.\n",
      "Moviepy - Writing video C:/Users/naoki/anaconda_work/Faster-R-CNN-pytorch-main/data/ori_data/drama_clip/362/clip.mp4\n",
      "\n"
     ]
    },
    {
     "name": "stderr",
     "output_type": "stream",
     "text": [
      "                                                            \r"
     ]
    },
    {
     "name": "stdout",
     "output_type": "stream",
     "text": [
      "Moviepy - Done !\n",
      "Moviepy - video ready C:/Users/naoki/anaconda_work/Faster-R-CNN-pytorch-main/data/ori_data/drama_clip/362/clip.mp4\n",
      "Moviepy - Building video C:/Users/naoki/anaconda_work/Faster-R-CNN-pytorch-main/data/ori_data/drama_clip/363/clip.mp4.\n",
      "Moviepy - Writing video C:/Users/naoki/anaconda_work/Faster-R-CNN-pytorch-main/data/ori_data/drama_clip/363/clip.mp4\n",
      "\n"
     ]
    },
    {
     "name": "stderr",
     "output_type": "stream",
     "text": [
      "                                                            \r"
     ]
    },
    {
     "name": "stdout",
     "output_type": "stream",
     "text": [
      "Moviepy - Done !\n",
      "Moviepy - video ready C:/Users/naoki/anaconda_work/Faster-R-CNN-pytorch-main/data/ori_data/drama_clip/363/clip.mp4\n",
      "Moviepy - Building video C:/Users/naoki/anaconda_work/Faster-R-CNN-pytorch-main/data/ori_data/drama_clip/364/clip.mp4.\n",
      "Moviepy - Writing video C:/Users/naoki/anaconda_work/Faster-R-CNN-pytorch-main/data/ori_data/drama_clip/364/clip.mp4\n",
      "\n"
     ]
    },
    {
     "name": "stderr",
     "output_type": "stream",
     "text": [
      "                                                            \r"
     ]
    },
    {
     "name": "stdout",
     "output_type": "stream",
     "text": [
      "Moviepy - Done !\n",
      "Moviepy - video ready C:/Users/naoki/anaconda_work/Faster-R-CNN-pytorch-main/data/ori_data/drama_clip/364/clip.mp4\n",
      "Moviepy - Building video C:/Users/naoki/anaconda_work/Faster-R-CNN-pytorch-main/data/ori_data/drama_clip/365/clip.mp4.\n",
      "Moviepy - Writing video C:/Users/naoki/anaconda_work/Faster-R-CNN-pytorch-main/data/ori_data/drama_clip/365/clip.mp4\n",
      "\n"
     ]
    },
    {
     "name": "stderr",
     "output_type": "stream",
     "text": [
      "                                                            \r"
     ]
    },
    {
     "name": "stdout",
     "output_type": "stream",
     "text": [
      "Moviepy - Done !\n",
      "Moviepy - video ready C:/Users/naoki/anaconda_work/Faster-R-CNN-pytorch-main/data/ori_data/drama_clip/365/clip.mp4\n",
      "Moviepy - Building video C:/Users/naoki/anaconda_work/Faster-R-CNN-pytorch-main/data/ori_data/drama_clip/366/clip.mp4.\n",
      "Moviepy - Writing video C:/Users/naoki/anaconda_work/Faster-R-CNN-pytorch-main/data/ori_data/drama_clip/366/clip.mp4\n",
      "\n"
     ]
    },
    {
     "name": "stderr",
     "output_type": "stream",
     "text": [
      "                                                            \r"
     ]
    },
    {
     "name": "stdout",
     "output_type": "stream",
     "text": [
      "Moviepy - Done !\n",
      "Moviepy - video ready C:/Users/naoki/anaconda_work/Faster-R-CNN-pytorch-main/data/ori_data/drama_clip/366/clip.mp4\n",
      "Moviepy - Building video C:/Users/naoki/anaconda_work/Faster-R-CNN-pytorch-main/data/ori_data/drama_clip/367/clip.mp4.\n",
      "Moviepy - Writing video C:/Users/naoki/anaconda_work/Faster-R-CNN-pytorch-main/data/ori_data/drama_clip/367/clip.mp4\n",
      "\n"
     ]
    },
    {
     "name": "stderr",
     "output_type": "stream",
     "text": [
      "                                                            \r"
     ]
    },
    {
     "name": "stdout",
     "output_type": "stream",
     "text": [
      "Moviepy - Done !\n",
      "Moviepy - video ready C:/Users/naoki/anaconda_work/Faster-R-CNN-pytorch-main/data/ori_data/drama_clip/367/clip.mp4\n",
      "Moviepy - Building video C:/Users/naoki/anaconda_work/Faster-R-CNN-pytorch-main/data/ori_data/drama_clip/368/clip.mp4.\n",
      "Moviepy - Writing video C:/Users/naoki/anaconda_work/Faster-R-CNN-pytorch-main/data/ori_data/drama_clip/368/clip.mp4\n",
      "\n"
     ]
    },
    {
     "name": "stderr",
     "output_type": "stream",
     "text": [
      "                                                            \r"
     ]
    },
    {
     "name": "stdout",
     "output_type": "stream",
     "text": [
      "Moviepy - Done !\n",
      "Moviepy - video ready C:/Users/naoki/anaconda_work/Faster-R-CNN-pytorch-main/data/ori_data/drama_clip/368/clip.mp4\n",
      "Moviepy - Building video C:/Users/naoki/anaconda_work/Faster-R-CNN-pytorch-main/data/ori_data/drama_clip/369/clip.mp4.\n",
      "Moviepy - Writing video C:/Users/naoki/anaconda_work/Faster-R-CNN-pytorch-main/data/ori_data/drama_clip/369/clip.mp4\n",
      "\n"
     ]
    },
    {
     "name": "stderr",
     "output_type": "stream",
     "text": [
      "                                                            \r"
     ]
    },
    {
     "name": "stdout",
     "output_type": "stream",
     "text": [
      "Moviepy - Done !\n",
      "Moviepy - video ready C:/Users/naoki/anaconda_work/Faster-R-CNN-pytorch-main/data/ori_data/drama_clip/369/clip.mp4\n",
      "Moviepy - Building video C:/Users/naoki/anaconda_work/Faster-R-CNN-pytorch-main/data/ori_data/drama_clip/370/clip.mp4.\n",
      "Moviepy - Writing video C:/Users/naoki/anaconda_work/Faster-R-CNN-pytorch-main/data/ori_data/drama_clip/370/clip.mp4\n",
      "\n"
     ]
    },
    {
     "name": "stderr",
     "output_type": "stream",
     "text": [
      "                                                            \r"
     ]
    },
    {
     "name": "stdout",
     "output_type": "stream",
     "text": [
      "Moviepy - Done !\n",
      "Moviepy - video ready C:/Users/naoki/anaconda_work/Faster-R-CNN-pytorch-main/data/ori_data/drama_clip/370/clip.mp4\n",
      "Moviepy - Building video C:/Users/naoki/anaconda_work/Faster-R-CNN-pytorch-main/data/ori_data/drama_clip/371/clip.mp4.\n",
      "Moviepy - Writing video C:/Users/naoki/anaconda_work/Faster-R-CNN-pytorch-main/data/ori_data/drama_clip/371/clip.mp4\n",
      "\n"
     ]
    },
    {
     "name": "stderr",
     "output_type": "stream",
     "text": [
      "                                                            \r"
     ]
    },
    {
     "name": "stdout",
     "output_type": "stream",
     "text": [
      "Moviepy - Done !\n",
      "Moviepy - video ready C:/Users/naoki/anaconda_work/Faster-R-CNN-pytorch-main/data/ori_data/drama_clip/371/clip.mp4\n",
      "Moviepy - Building video C:/Users/naoki/anaconda_work/Faster-R-CNN-pytorch-main/data/ori_data/drama_clip/372/clip.mp4.\n",
      "Moviepy - Writing video C:/Users/naoki/anaconda_work/Faster-R-CNN-pytorch-main/data/ori_data/drama_clip/372/clip.mp4\n",
      "\n"
     ]
    },
    {
     "name": "stderr",
     "output_type": "stream",
     "text": [
      "                                                            \r"
     ]
    },
    {
     "name": "stdout",
     "output_type": "stream",
     "text": [
      "Moviepy - Done !\n",
      "Moviepy - video ready C:/Users/naoki/anaconda_work/Faster-R-CNN-pytorch-main/data/ori_data/drama_clip/372/clip.mp4\n",
      "Moviepy - Building video C:/Users/naoki/anaconda_work/Faster-R-CNN-pytorch-main/data/ori_data/drama_clip/373/clip.mp4.\n",
      "Moviepy - Writing video C:/Users/naoki/anaconda_work/Faster-R-CNN-pytorch-main/data/ori_data/drama_clip/373/clip.mp4\n",
      "\n"
     ]
    },
    {
     "name": "stderr",
     "output_type": "stream",
     "text": [
      "                                                            \r"
     ]
    },
    {
     "name": "stdout",
     "output_type": "stream",
     "text": [
      "Moviepy - Done !\n",
      "Moviepy - video ready C:/Users/naoki/anaconda_work/Faster-R-CNN-pytorch-main/data/ori_data/drama_clip/373/clip.mp4\n",
      "Moviepy - Building video C:/Users/naoki/anaconda_work/Faster-R-CNN-pytorch-main/data/ori_data/drama_clip/374/clip.mp4.\n",
      "Moviepy - Writing video C:/Users/naoki/anaconda_work/Faster-R-CNN-pytorch-main/data/ori_data/drama_clip/374/clip.mp4\n",
      "\n"
     ]
    },
    {
     "name": "stderr",
     "output_type": "stream",
     "text": [
      "                                                            \r"
     ]
    },
    {
     "name": "stdout",
     "output_type": "stream",
     "text": [
      "Moviepy - Done !\n",
      "Moviepy - video ready C:/Users/naoki/anaconda_work/Faster-R-CNN-pytorch-main/data/ori_data/drama_clip/374/clip.mp4\n",
      "Moviepy - Building video C:/Users/naoki/anaconda_work/Faster-R-CNN-pytorch-main/data/ori_data/drama_clip/375/clip.mp4.\n",
      "Moviepy - Writing video C:/Users/naoki/anaconda_work/Faster-R-CNN-pytorch-main/data/ori_data/drama_clip/375/clip.mp4\n",
      "\n"
     ]
    },
    {
     "name": "stderr",
     "output_type": "stream",
     "text": [
      "                                                            \r"
     ]
    },
    {
     "name": "stdout",
     "output_type": "stream",
     "text": [
      "Moviepy - Done !\n",
      "Moviepy - video ready C:/Users/naoki/anaconda_work/Faster-R-CNN-pytorch-main/data/ori_data/drama_clip/375/clip.mp4\n",
      "Moviepy - Building video C:/Users/naoki/anaconda_work/Faster-R-CNN-pytorch-main/data/ori_data/drama_clip/376/clip.mp4.\n",
      "Moviepy - Writing video C:/Users/naoki/anaconda_work/Faster-R-CNN-pytorch-main/data/ori_data/drama_clip/376/clip.mp4\n",
      "\n"
     ]
    },
    {
     "name": "stderr",
     "output_type": "stream",
     "text": [
      "                                                            \r"
     ]
    },
    {
     "name": "stdout",
     "output_type": "stream",
     "text": [
      "Moviepy - Done !\n",
      "Moviepy - video ready C:/Users/naoki/anaconda_work/Faster-R-CNN-pytorch-main/data/ori_data/drama_clip/376/clip.mp4\n",
      "Moviepy - Building video C:/Users/naoki/anaconda_work/Faster-R-CNN-pytorch-main/data/ori_data/drama_clip/377/clip.mp4.\n",
      "Moviepy - Writing video C:/Users/naoki/anaconda_work/Faster-R-CNN-pytorch-main/data/ori_data/drama_clip/377/clip.mp4\n",
      "\n"
     ]
    },
    {
     "name": "stderr",
     "output_type": "stream",
     "text": [
      "                                                            \r"
     ]
    },
    {
     "name": "stdout",
     "output_type": "stream",
     "text": [
      "Moviepy - Done !\n",
      "Moviepy - video ready C:/Users/naoki/anaconda_work/Faster-R-CNN-pytorch-main/data/ori_data/drama_clip/377/clip.mp4\n",
      "Moviepy - Building video C:/Users/naoki/anaconda_work/Faster-R-CNN-pytorch-main/data/ori_data/drama_clip/378/clip.mp4.\n",
      "Moviepy - Writing video C:/Users/naoki/anaconda_work/Faster-R-CNN-pytorch-main/data/ori_data/drama_clip/378/clip.mp4\n",
      "\n"
     ]
    },
    {
     "name": "stderr",
     "output_type": "stream",
     "text": [
      "                                                            \r"
     ]
    },
    {
     "name": "stdout",
     "output_type": "stream",
     "text": [
      "Moviepy - Done !\n",
      "Moviepy - video ready C:/Users/naoki/anaconda_work/Faster-R-CNN-pytorch-main/data/ori_data/drama_clip/378/clip.mp4\n",
      "Moviepy - Building video C:/Users/naoki/anaconda_work/Faster-R-CNN-pytorch-main/data/ori_data/drama_clip/379/clip.mp4.\n",
      "Moviepy - Writing video C:/Users/naoki/anaconda_work/Faster-R-CNN-pytorch-main/data/ori_data/drama_clip/379/clip.mp4\n",
      "\n"
     ]
    },
    {
     "name": "stderr",
     "output_type": "stream",
     "text": [
      "                                                            \r"
     ]
    },
    {
     "name": "stdout",
     "output_type": "stream",
     "text": [
      "Moviepy - Done !\n",
      "Moviepy - video ready C:/Users/naoki/anaconda_work/Faster-R-CNN-pytorch-main/data/ori_data/drama_clip/379/clip.mp4\n",
      "Moviepy - Building video C:/Users/naoki/anaconda_work/Faster-R-CNN-pytorch-main/data/ori_data/drama_clip/380/clip.mp4.\n",
      "Moviepy - Writing video C:/Users/naoki/anaconda_work/Faster-R-CNN-pytorch-main/data/ori_data/drama_clip/380/clip.mp4\n",
      "\n"
     ]
    },
    {
     "name": "stderr",
     "output_type": "stream",
     "text": [
      "                                                            \r"
     ]
    },
    {
     "name": "stdout",
     "output_type": "stream",
     "text": [
      "Moviepy - Done !\n",
      "Moviepy - video ready C:/Users/naoki/anaconda_work/Faster-R-CNN-pytorch-main/data/ori_data/drama_clip/380/clip.mp4\n",
      "Moviepy - Building video C:/Users/naoki/anaconda_work/Faster-R-CNN-pytorch-main/data/ori_data/drama_clip/381/clip.mp4.\n",
      "Moviepy - Writing video C:/Users/naoki/anaconda_work/Faster-R-CNN-pytorch-main/data/ori_data/drama_clip/381/clip.mp4\n",
      "\n"
     ]
    },
    {
     "name": "stderr",
     "output_type": "stream",
     "text": [
      "                                                            \r"
     ]
    },
    {
     "name": "stdout",
     "output_type": "stream",
     "text": [
      "Moviepy - Done !\n",
      "Moviepy - video ready C:/Users/naoki/anaconda_work/Faster-R-CNN-pytorch-main/data/ori_data/drama_clip/381/clip.mp4\n",
      "Moviepy - Building video C:/Users/naoki/anaconda_work/Faster-R-CNN-pytorch-main/data/ori_data/drama_clip/382/clip.mp4.\n",
      "Moviepy - Writing video C:/Users/naoki/anaconda_work/Faster-R-CNN-pytorch-main/data/ori_data/drama_clip/382/clip.mp4\n",
      "\n"
     ]
    },
    {
     "name": "stderr",
     "output_type": "stream",
     "text": [
      "                                                            \r"
     ]
    },
    {
     "name": "stdout",
     "output_type": "stream",
     "text": [
      "Moviepy - Done !\n",
      "Moviepy - video ready C:/Users/naoki/anaconda_work/Faster-R-CNN-pytorch-main/data/ori_data/drama_clip/382/clip.mp4\n",
      "Moviepy - Building video C:/Users/naoki/anaconda_work/Faster-R-CNN-pytorch-main/data/ori_data/drama_clip/383/clip.mp4.\n",
      "Moviepy - Writing video C:/Users/naoki/anaconda_work/Faster-R-CNN-pytorch-main/data/ori_data/drama_clip/383/clip.mp4\n",
      "\n"
     ]
    },
    {
     "name": "stderr",
     "output_type": "stream",
     "text": [
      "                                                            \r"
     ]
    },
    {
     "name": "stdout",
     "output_type": "stream",
     "text": [
      "Moviepy - Done !\n",
      "Moviepy - video ready C:/Users/naoki/anaconda_work/Faster-R-CNN-pytorch-main/data/ori_data/drama_clip/383/clip.mp4\n",
      "Moviepy - Building video C:/Users/naoki/anaconda_work/Faster-R-CNN-pytorch-main/data/ori_data/drama_clip/384/clip.mp4.\n",
      "Moviepy - Writing video C:/Users/naoki/anaconda_work/Faster-R-CNN-pytorch-main/data/ori_data/drama_clip/384/clip.mp4\n",
      "\n"
     ]
    },
    {
     "name": "stderr",
     "output_type": "stream",
     "text": [
      "                                                            \r"
     ]
    },
    {
     "name": "stdout",
     "output_type": "stream",
     "text": [
      "Moviepy - Done !\n",
      "Moviepy - video ready C:/Users/naoki/anaconda_work/Faster-R-CNN-pytorch-main/data/ori_data/drama_clip/384/clip.mp4\n",
      "Moviepy - Building video C:/Users/naoki/anaconda_work/Faster-R-CNN-pytorch-main/data/ori_data/drama_clip/385/clip.mp4.\n",
      "Moviepy - Writing video C:/Users/naoki/anaconda_work/Faster-R-CNN-pytorch-main/data/ori_data/drama_clip/385/clip.mp4\n",
      "\n"
     ]
    },
    {
     "name": "stderr",
     "output_type": "stream",
     "text": [
      "                                                            \r"
     ]
    },
    {
     "name": "stdout",
     "output_type": "stream",
     "text": [
      "Moviepy - Done !\n",
      "Moviepy - video ready C:/Users/naoki/anaconda_work/Faster-R-CNN-pytorch-main/data/ori_data/drama_clip/385/clip.mp4\n",
      "Moviepy - Building video C:/Users/naoki/anaconda_work/Faster-R-CNN-pytorch-main/data/ori_data/drama_clip/386/clip.mp4.\n",
      "Moviepy - Writing video C:/Users/naoki/anaconda_work/Faster-R-CNN-pytorch-main/data/ori_data/drama_clip/386/clip.mp4\n",
      "\n"
     ]
    },
    {
     "name": "stderr",
     "output_type": "stream",
     "text": [
      "                                                            \r"
     ]
    },
    {
     "name": "stdout",
     "output_type": "stream",
     "text": [
      "Moviepy - Done !\n",
      "Moviepy - video ready C:/Users/naoki/anaconda_work/Faster-R-CNN-pytorch-main/data/ori_data/drama_clip/386/clip.mp4\n",
      "Moviepy - Building video C:/Users/naoki/anaconda_work/Faster-R-CNN-pytorch-main/data/ori_data/drama_clip/387/clip.mp4.\n",
      "Moviepy - Writing video C:/Users/naoki/anaconda_work/Faster-R-CNN-pytorch-main/data/ori_data/drama_clip/387/clip.mp4\n",
      "\n"
     ]
    },
    {
     "name": "stderr",
     "output_type": "stream",
     "text": [
      "                                                            \r"
     ]
    },
    {
     "name": "stdout",
     "output_type": "stream",
     "text": [
      "Moviepy - Done !\n",
      "Moviepy - video ready C:/Users/naoki/anaconda_work/Faster-R-CNN-pytorch-main/data/ori_data/drama_clip/387/clip.mp4\n",
      "Moviepy - Building video C:/Users/naoki/anaconda_work/Faster-R-CNN-pytorch-main/data/ori_data/drama_clip/388/clip.mp4.\n",
      "Moviepy - Writing video C:/Users/naoki/anaconda_work/Faster-R-CNN-pytorch-main/data/ori_data/drama_clip/388/clip.mp4\n",
      "\n"
     ]
    },
    {
     "name": "stderr",
     "output_type": "stream",
     "text": [
      "                                                            \r"
     ]
    },
    {
     "name": "stdout",
     "output_type": "stream",
     "text": [
      "Moviepy - Done !\n",
      "Moviepy - video ready C:/Users/naoki/anaconda_work/Faster-R-CNN-pytorch-main/data/ori_data/drama_clip/388/clip.mp4\n",
      "Moviepy - Building video C:/Users/naoki/anaconda_work/Faster-R-CNN-pytorch-main/data/ori_data/drama_clip/389/clip.mp4.\n",
      "Moviepy - Writing video C:/Users/naoki/anaconda_work/Faster-R-CNN-pytorch-main/data/ori_data/drama_clip/389/clip.mp4\n",
      "\n"
     ]
    },
    {
     "name": "stderr",
     "output_type": "stream",
     "text": [
      "                                                            \r"
     ]
    },
    {
     "name": "stdout",
     "output_type": "stream",
     "text": [
      "Moviepy - Done !\n",
      "Moviepy - video ready C:/Users/naoki/anaconda_work/Faster-R-CNN-pytorch-main/data/ori_data/drama_clip/389/clip.mp4\n",
      "Moviepy - Building video C:/Users/naoki/anaconda_work/Faster-R-CNN-pytorch-main/data/ori_data/drama_clip/390/clip.mp4.\n",
      "Moviepy - Writing video C:/Users/naoki/anaconda_work/Faster-R-CNN-pytorch-main/data/ori_data/drama_clip/390/clip.mp4\n",
      "\n"
     ]
    },
    {
     "name": "stderr",
     "output_type": "stream",
     "text": [
      "                                                            \r"
     ]
    },
    {
     "name": "stdout",
     "output_type": "stream",
     "text": [
      "Moviepy - Done !\n",
      "Moviepy - video ready C:/Users/naoki/anaconda_work/Faster-R-CNN-pytorch-main/data/ori_data/drama_clip/390/clip.mp4\n",
      "Moviepy - Building video C:/Users/naoki/anaconda_work/Faster-R-CNN-pytorch-main/data/ori_data/drama_clip/391/clip.mp4.\n",
      "Moviepy - Writing video C:/Users/naoki/anaconda_work/Faster-R-CNN-pytorch-main/data/ori_data/drama_clip/391/clip.mp4\n",
      "\n"
     ]
    },
    {
     "name": "stderr",
     "output_type": "stream",
     "text": [
      "                                                            \r"
     ]
    },
    {
     "name": "stdout",
     "output_type": "stream",
     "text": [
      "Moviepy - Done !\n",
      "Moviepy - video ready C:/Users/naoki/anaconda_work/Faster-R-CNN-pytorch-main/data/ori_data/drama_clip/391/clip.mp4\n",
      "Moviepy - Building video C:/Users/naoki/anaconda_work/Faster-R-CNN-pytorch-main/data/ori_data/drama_clip/392/clip.mp4.\n",
      "Moviepy - Writing video C:/Users/naoki/anaconda_work/Faster-R-CNN-pytorch-main/data/ori_data/drama_clip/392/clip.mp4\n",
      "\n"
     ]
    },
    {
     "name": "stderr",
     "output_type": "stream",
     "text": [
      "                                                            \r"
     ]
    },
    {
     "name": "stdout",
     "output_type": "stream",
     "text": [
      "Moviepy - Done !\n",
      "Moviepy - video ready C:/Users/naoki/anaconda_work/Faster-R-CNN-pytorch-main/data/ori_data/drama_clip/392/clip.mp4\n",
      "Moviepy - Building video C:/Users/naoki/anaconda_work/Faster-R-CNN-pytorch-main/data/ori_data/drama_clip/393/clip.mp4.\n",
      "Moviepy - Writing video C:/Users/naoki/anaconda_work/Faster-R-CNN-pytorch-main/data/ori_data/drama_clip/393/clip.mp4\n",
      "\n"
     ]
    },
    {
     "name": "stderr",
     "output_type": "stream",
     "text": [
      "                                                            \r"
     ]
    },
    {
     "name": "stdout",
     "output_type": "stream",
     "text": [
      "Moviepy - Done !\n",
      "Moviepy - video ready C:/Users/naoki/anaconda_work/Faster-R-CNN-pytorch-main/data/ori_data/drama_clip/393/clip.mp4\n",
      "Moviepy - Building video C:/Users/naoki/anaconda_work/Faster-R-CNN-pytorch-main/data/ori_data/drama_clip/394/clip.mp4.\n",
      "Moviepy - Writing video C:/Users/naoki/anaconda_work/Faster-R-CNN-pytorch-main/data/ori_data/drama_clip/394/clip.mp4\n",
      "\n"
     ]
    },
    {
     "name": "stderr",
     "output_type": "stream",
     "text": [
      "                                                            \r"
     ]
    },
    {
     "name": "stdout",
     "output_type": "stream",
     "text": [
      "Moviepy - Done !\n",
      "Moviepy - video ready C:/Users/naoki/anaconda_work/Faster-R-CNN-pytorch-main/data/ori_data/drama_clip/394/clip.mp4\n",
      "Moviepy - Building video C:/Users/naoki/anaconda_work/Faster-R-CNN-pytorch-main/data/ori_data/drama_clip/395/clip.mp4.\n",
      "Moviepy - Writing video C:/Users/naoki/anaconda_work/Faster-R-CNN-pytorch-main/data/ori_data/drama_clip/395/clip.mp4\n",
      "\n"
     ]
    },
    {
     "name": "stderr",
     "output_type": "stream",
     "text": [
      "                                                            \r"
     ]
    },
    {
     "name": "stdout",
     "output_type": "stream",
     "text": [
      "Moviepy - Done !\n",
      "Moviepy - video ready C:/Users/naoki/anaconda_work/Faster-R-CNN-pytorch-main/data/ori_data/drama_clip/395/clip.mp4\n",
      "Moviepy - Building video C:/Users/naoki/anaconda_work/Faster-R-CNN-pytorch-main/data/ori_data/drama_clip/396/clip.mp4.\n",
      "Moviepy - Writing video C:/Users/naoki/anaconda_work/Faster-R-CNN-pytorch-main/data/ori_data/drama_clip/396/clip.mp4\n",
      "\n"
     ]
    },
    {
     "name": "stderr",
     "output_type": "stream",
     "text": [
      "                                                            \r"
     ]
    },
    {
     "name": "stdout",
     "output_type": "stream",
     "text": [
      "Moviepy - Done !\n",
      "Moviepy - video ready C:/Users/naoki/anaconda_work/Faster-R-CNN-pytorch-main/data/ori_data/drama_clip/396/clip.mp4\n",
      "Moviepy - Building video C:/Users/naoki/anaconda_work/Faster-R-CNN-pytorch-main/data/ori_data/drama_clip/397/clip.mp4.\n",
      "Moviepy - Writing video C:/Users/naoki/anaconda_work/Faster-R-CNN-pytorch-main/data/ori_data/drama_clip/397/clip.mp4\n",
      "\n"
     ]
    },
    {
     "name": "stderr",
     "output_type": "stream",
     "text": [
      "                                                            \r"
     ]
    },
    {
     "name": "stdout",
     "output_type": "stream",
     "text": [
      "Moviepy - Done !\n",
      "Moviepy - video ready C:/Users/naoki/anaconda_work/Faster-R-CNN-pytorch-main/data/ori_data/drama_clip/397/clip.mp4\n",
      "Moviepy - Building video C:/Users/naoki/anaconda_work/Faster-R-CNN-pytorch-main/data/ori_data/drama_clip/398/clip.mp4.\n",
      "Moviepy - Writing video C:/Users/naoki/anaconda_work/Faster-R-CNN-pytorch-main/data/ori_data/drama_clip/398/clip.mp4\n",
      "\n"
     ]
    },
    {
     "name": "stderr",
     "output_type": "stream",
     "text": [
      "                                                            \r"
     ]
    },
    {
     "name": "stdout",
     "output_type": "stream",
     "text": [
      "Moviepy - Done !\n",
      "Moviepy - video ready C:/Users/naoki/anaconda_work/Faster-R-CNN-pytorch-main/data/ori_data/drama_clip/398/clip.mp4\n",
      "Moviepy - Building video C:/Users/naoki/anaconda_work/Faster-R-CNN-pytorch-main/data/ori_data/drama_clip/399/clip.mp4.\n",
      "Moviepy - Writing video C:/Users/naoki/anaconda_work/Faster-R-CNN-pytorch-main/data/ori_data/drama_clip/399/clip.mp4\n",
      "\n"
     ]
    },
    {
     "name": "stderr",
     "output_type": "stream",
     "text": [
      "                                                            \r"
     ]
    },
    {
     "name": "stdout",
     "output_type": "stream",
     "text": [
      "Moviepy - Done !\n",
      "Moviepy - video ready C:/Users/naoki/anaconda_work/Faster-R-CNN-pytorch-main/data/ori_data/drama_clip/399/clip.mp4\n",
      "Moviepy - Building video C:/Users/naoki/anaconda_work/Faster-R-CNN-pytorch-main/data/ori_data/drama_clip/400/clip.mp4.\n",
      "Moviepy - Writing video C:/Users/naoki/anaconda_work/Faster-R-CNN-pytorch-main/data/ori_data/drama_clip/400/clip.mp4\n",
      "\n"
     ]
    },
    {
     "name": "stderr",
     "output_type": "stream",
     "text": [
      "                                                            \r"
     ]
    },
    {
     "name": "stdout",
     "output_type": "stream",
     "text": [
      "Moviepy - Done !\n",
      "Moviepy - video ready C:/Users/naoki/anaconda_work/Faster-R-CNN-pytorch-main/data/ori_data/drama_clip/400/clip.mp4\n",
      "Moviepy - Building video C:/Users/naoki/anaconda_work/Faster-R-CNN-pytorch-main/data/ori_data/drama_clip/401/clip.mp4.\n",
      "Moviepy - Writing video C:/Users/naoki/anaconda_work/Faster-R-CNN-pytorch-main/data/ori_data/drama_clip/401/clip.mp4\n",
      "\n"
     ]
    },
    {
     "name": "stderr",
     "output_type": "stream",
     "text": [
      "                                                            \r"
     ]
    },
    {
     "name": "stdout",
     "output_type": "stream",
     "text": [
      "Moviepy - Done !\n",
      "Moviepy - video ready C:/Users/naoki/anaconda_work/Faster-R-CNN-pytorch-main/data/ori_data/drama_clip/401/clip.mp4\n",
      "Moviepy - Building video C:/Users/naoki/anaconda_work/Faster-R-CNN-pytorch-main/data/ori_data/drama_clip/402/clip.mp4.\n",
      "Moviepy - Writing video C:/Users/naoki/anaconda_work/Faster-R-CNN-pytorch-main/data/ori_data/drama_clip/402/clip.mp4\n",
      "\n"
     ]
    },
    {
     "name": "stderr",
     "output_type": "stream",
     "text": [
      "                                                            \r"
     ]
    },
    {
     "name": "stdout",
     "output_type": "stream",
     "text": [
      "Moviepy - Done !\n",
      "Moviepy - video ready C:/Users/naoki/anaconda_work/Faster-R-CNN-pytorch-main/data/ori_data/drama_clip/402/clip.mp4\n",
      "Moviepy - Building video C:/Users/naoki/anaconda_work/Faster-R-CNN-pytorch-main/data/ori_data/drama_clip/403/clip.mp4.\n",
      "Moviepy - Writing video C:/Users/naoki/anaconda_work/Faster-R-CNN-pytorch-main/data/ori_data/drama_clip/403/clip.mp4\n",
      "\n"
     ]
    },
    {
     "name": "stderr",
     "output_type": "stream",
     "text": [
      "                                                            \r"
     ]
    },
    {
     "name": "stdout",
     "output_type": "stream",
     "text": [
      "Moviepy - Done !\n",
      "Moviepy - video ready C:/Users/naoki/anaconda_work/Faster-R-CNN-pytorch-main/data/ori_data/drama_clip/403/clip.mp4\n",
      "Moviepy - Building video C:/Users/naoki/anaconda_work/Faster-R-CNN-pytorch-main/data/ori_data/drama_clip/404/clip.mp4.\n",
      "Moviepy - Writing video C:/Users/naoki/anaconda_work/Faster-R-CNN-pytorch-main/data/ori_data/drama_clip/404/clip.mp4\n",
      "\n"
     ]
    },
    {
     "name": "stderr",
     "output_type": "stream",
     "text": [
      "                                                            \r"
     ]
    },
    {
     "name": "stdout",
     "output_type": "stream",
     "text": [
      "Moviepy - Done !\n",
      "Moviepy - video ready C:/Users/naoki/anaconda_work/Faster-R-CNN-pytorch-main/data/ori_data/drama_clip/404/clip.mp4\n",
      "Moviepy - Building video C:/Users/naoki/anaconda_work/Faster-R-CNN-pytorch-main/data/ori_data/drama_clip/405/clip.mp4.\n",
      "Moviepy - Writing video C:/Users/naoki/anaconda_work/Faster-R-CNN-pytorch-main/data/ori_data/drama_clip/405/clip.mp4\n",
      "\n"
     ]
    },
    {
     "name": "stderr",
     "output_type": "stream",
     "text": [
      "                                                            \r"
     ]
    },
    {
     "name": "stdout",
     "output_type": "stream",
     "text": [
      "Moviepy - Done !\n",
      "Moviepy - video ready C:/Users/naoki/anaconda_work/Faster-R-CNN-pytorch-main/data/ori_data/drama_clip/405/clip.mp4\n",
      "Moviepy - Building video C:/Users/naoki/anaconda_work/Faster-R-CNN-pytorch-main/data/ori_data/drama_clip/406/clip.mp4.\n",
      "Moviepy - Writing video C:/Users/naoki/anaconda_work/Faster-R-CNN-pytorch-main/data/ori_data/drama_clip/406/clip.mp4\n",
      "\n"
     ]
    },
    {
     "name": "stderr",
     "output_type": "stream",
     "text": [
      "                                                            \r"
     ]
    },
    {
     "name": "stdout",
     "output_type": "stream",
     "text": [
      "Moviepy - Done !\n",
      "Moviepy - video ready C:/Users/naoki/anaconda_work/Faster-R-CNN-pytorch-main/data/ori_data/drama_clip/406/clip.mp4\n",
      "Moviepy - Building video C:/Users/naoki/anaconda_work/Faster-R-CNN-pytorch-main/data/ori_data/drama_clip/407/clip.mp4.\n",
      "Moviepy - Writing video C:/Users/naoki/anaconda_work/Faster-R-CNN-pytorch-main/data/ori_data/drama_clip/407/clip.mp4\n",
      "\n"
     ]
    },
    {
     "name": "stderr",
     "output_type": "stream",
     "text": [
      "                                                            \r"
     ]
    },
    {
     "name": "stdout",
     "output_type": "stream",
     "text": [
      "Moviepy - Done !\n",
      "Moviepy - video ready C:/Users/naoki/anaconda_work/Faster-R-CNN-pytorch-main/data/ori_data/drama_clip/407/clip.mp4\n",
      "Moviepy - Building video C:/Users/naoki/anaconda_work/Faster-R-CNN-pytorch-main/data/ori_data/drama_clip/408/clip.mp4.\n",
      "Moviepy - Writing video C:/Users/naoki/anaconda_work/Faster-R-CNN-pytorch-main/data/ori_data/drama_clip/408/clip.mp4\n",
      "\n"
     ]
    },
    {
     "name": "stderr",
     "output_type": "stream",
     "text": [
      "                                                            \r"
     ]
    },
    {
     "name": "stdout",
     "output_type": "stream",
     "text": [
      "Moviepy - Done !\n",
      "Moviepy - video ready C:/Users/naoki/anaconda_work/Faster-R-CNN-pytorch-main/data/ori_data/drama_clip/408/clip.mp4\n",
      "Moviepy - Building video C:/Users/naoki/anaconda_work/Faster-R-CNN-pytorch-main/data/ori_data/drama_clip/409/clip.mp4.\n",
      "Moviepy - Writing video C:/Users/naoki/anaconda_work/Faster-R-CNN-pytorch-main/data/ori_data/drama_clip/409/clip.mp4\n",
      "\n"
     ]
    },
    {
     "name": "stderr",
     "output_type": "stream",
     "text": [
      "                                                            \r"
     ]
    },
    {
     "name": "stdout",
     "output_type": "stream",
     "text": [
      "Moviepy - Done !\n",
      "Moviepy - video ready C:/Users/naoki/anaconda_work/Faster-R-CNN-pytorch-main/data/ori_data/drama_clip/409/clip.mp4\n",
      "Moviepy - Building video C:/Users/naoki/anaconda_work/Faster-R-CNN-pytorch-main/data/ori_data/drama_clip/410/clip.mp4.\n",
      "Moviepy - Writing video C:/Users/naoki/anaconda_work/Faster-R-CNN-pytorch-main/data/ori_data/drama_clip/410/clip.mp4\n",
      "\n"
     ]
    },
    {
     "name": "stderr",
     "output_type": "stream",
     "text": [
      "                                                            \r"
     ]
    },
    {
     "name": "stdout",
     "output_type": "stream",
     "text": [
      "Moviepy - Done !\n",
      "Moviepy - video ready C:/Users/naoki/anaconda_work/Faster-R-CNN-pytorch-main/data/ori_data/drama_clip/410/clip.mp4\n",
      "Moviepy - Building video C:/Users/naoki/anaconda_work/Faster-R-CNN-pytorch-main/data/ori_data/drama_clip/411/clip.mp4.\n",
      "Moviepy - Writing video C:/Users/naoki/anaconda_work/Faster-R-CNN-pytorch-main/data/ori_data/drama_clip/411/clip.mp4\n",
      "\n"
     ]
    },
    {
     "name": "stderr",
     "output_type": "stream",
     "text": [
      "                                                            \r"
     ]
    },
    {
     "name": "stdout",
     "output_type": "stream",
     "text": [
      "Moviepy - Done !\n",
      "Moviepy - video ready C:/Users/naoki/anaconda_work/Faster-R-CNN-pytorch-main/data/ori_data/drama_clip/411/clip.mp4\n",
      "Moviepy - Building video C:/Users/naoki/anaconda_work/Faster-R-CNN-pytorch-main/data/ori_data/drama_clip/412/clip.mp4.\n",
      "Moviepy - Writing video C:/Users/naoki/anaconda_work/Faster-R-CNN-pytorch-main/data/ori_data/drama_clip/412/clip.mp4\n",
      "\n"
     ]
    },
    {
     "name": "stderr",
     "output_type": "stream",
     "text": [
      "                                                            \r"
     ]
    },
    {
     "name": "stdout",
     "output_type": "stream",
     "text": [
      "Moviepy - Done !\n",
      "Moviepy - video ready C:/Users/naoki/anaconda_work/Faster-R-CNN-pytorch-main/data/ori_data/drama_clip/412/clip.mp4\n",
      "Moviepy - Building video C:/Users/naoki/anaconda_work/Faster-R-CNN-pytorch-main/data/ori_data/drama_clip/413/clip.mp4.\n",
      "Moviepy - Writing video C:/Users/naoki/anaconda_work/Faster-R-CNN-pytorch-main/data/ori_data/drama_clip/413/clip.mp4\n",
      "\n"
     ]
    },
    {
     "name": "stderr",
     "output_type": "stream",
     "text": [
      "                                                            \r"
     ]
    },
    {
     "name": "stdout",
     "output_type": "stream",
     "text": [
      "Moviepy - Done !\n",
      "Moviepy - video ready C:/Users/naoki/anaconda_work/Faster-R-CNN-pytorch-main/data/ori_data/drama_clip/413/clip.mp4\n",
      "Moviepy - Building video C:/Users/naoki/anaconda_work/Faster-R-CNN-pytorch-main/data/ori_data/drama_clip/414/clip.mp4.\n",
      "Moviepy - Writing video C:/Users/naoki/anaconda_work/Faster-R-CNN-pytorch-main/data/ori_data/drama_clip/414/clip.mp4\n",
      "\n"
     ]
    },
    {
     "name": "stderr",
     "output_type": "stream",
     "text": [
      "                                                            \r"
     ]
    },
    {
     "name": "stdout",
     "output_type": "stream",
     "text": [
      "Moviepy - Done !\n",
      "Moviepy - video ready C:/Users/naoki/anaconda_work/Faster-R-CNN-pytorch-main/data/ori_data/drama_clip/414/clip.mp4\n",
      "Moviepy - Building video C:/Users/naoki/anaconda_work/Faster-R-CNN-pytorch-main/data/ori_data/drama_clip/415/clip.mp4.\n",
      "Moviepy - Writing video C:/Users/naoki/anaconda_work/Faster-R-CNN-pytorch-main/data/ori_data/drama_clip/415/clip.mp4\n",
      "\n"
     ]
    },
    {
     "name": "stderr",
     "output_type": "stream",
     "text": [
      "                                                            \r"
     ]
    },
    {
     "name": "stdout",
     "output_type": "stream",
     "text": [
      "Moviepy - Done !\n",
      "Moviepy - video ready C:/Users/naoki/anaconda_work/Faster-R-CNN-pytorch-main/data/ori_data/drama_clip/415/clip.mp4\n",
      "Moviepy - Building video C:/Users/naoki/anaconda_work/Faster-R-CNN-pytorch-main/data/ori_data/drama_clip/416/clip.mp4.\n",
      "Moviepy - Writing video C:/Users/naoki/anaconda_work/Faster-R-CNN-pytorch-main/data/ori_data/drama_clip/416/clip.mp4\n",
      "\n"
     ]
    },
    {
     "name": "stderr",
     "output_type": "stream",
     "text": [
      "                                                            \r"
     ]
    },
    {
     "name": "stdout",
     "output_type": "stream",
     "text": [
      "Moviepy - Done !\n",
      "Moviepy - video ready C:/Users/naoki/anaconda_work/Faster-R-CNN-pytorch-main/data/ori_data/drama_clip/416/clip.mp4\n",
      "Moviepy - Building video C:/Users/naoki/anaconda_work/Faster-R-CNN-pytorch-main/data/ori_data/drama_clip/417/clip.mp4.\n",
      "Moviepy - Writing video C:/Users/naoki/anaconda_work/Faster-R-CNN-pytorch-main/data/ori_data/drama_clip/417/clip.mp4\n",
      "\n"
     ]
    },
    {
     "name": "stderr",
     "output_type": "stream",
     "text": [
      "                                                            \r"
     ]
    },
    {
     "name": "stdout",
     "output_type": "stream",
     "text": [
      "Moviepy - Done !\n",
      "Moviepy - video ready C:/Users/naoki/anaconda_work/Faster-R-CNN-pytorch-main/data/ori_data/drama_clip/417/clip.mp4\n",
      "Moviepy - Building video C:/Users/naoki/anaconda_work/Faster-R-CNN-pytorch-main/data/ori_data/drama_clip/418/clip.mp4.\n",
      "Moviepy - Writing video C:/Users/naoki/anaconda_work/Faster-R-CNN-pytorch-main/data/ori_data/drama_clip/418/clip.mp4\n",
      "\n"
     ]
    },
    {
     "name": "stderr",
     "output_type": "stream",
     "text": [
      "                                                            \r"
     ]
    },
    {
     "name": "stdout",
     "output_type": "stream",
     "text": [
      "Moviepy - Done !\n",
      "Moviepy - video ready C:/Users/naoki/anaconda_work/Faster-R-CNN-pytorch-main/data/ori_data/drama_clip/418/clip.mp4\n",
      "Moviepy - Building video C:/Users/naoki/anaconda_work/Faster-R-CNN-pytorch-main/data/ori_data/drama_clip/419/clip.mp4.\n",
      "Moviepy - Writing video C:/Users/naoki/anaconda_work/Faster-R-CNN-pytorch-main/data/ori_data/drama_clip/419/clip.mp4\n",
      "\n"
     ]
    },
    {
     "name": "stderr",
     "output_type": "stream",
     "text": [
      "                                                            \r"
     ]
    },
    {
     "name": "stdout",
     "output_type": "stream",
     "text": [
      "Moviepy - Done !\n",
      "Moviepy - video ready C:/Users/naoki/anaconda_work/Faster-R-CNN-pytorch-main/data/ori_data/drama_clip/419/clip.mp4\n",
      "Moviepy - Building video C:/Users/naoki/anaconda_work/Faster-R-CNN-pytorch-main/data/ori_data/drama_clip/420/clip.mp4.\n",
      "Moviepy - Writing video C:/Users/naoki/anaconda_work/Faster-R-CNN-pytorch-main/data/ori_data/drama_clip/420/clip.mp4\n",
      "\n"
     ]
    },
    {
     "name": "stderr",
     "output_type": "stream",
     "text": [
      "                                                            \r"
     ]
    },
    {
     "name": "stdout",
     "output_type": "stream",
     "text": [
      "Moviepy - Done !\n",
      "Moviepy - video ready C:/Users/naoki/anaconda_work/Faster-R-CNN-pytorch-main/data/ori_data/drama_clip/420/clip.mp4\n",
      "Moviepy - Building video C:/Users/naoki/anaconda_work/Faster-R-CNN-pytorch-main/data/ori_data/drama_clip/421/clip.mp4.\n",
      "Moviepy - Writing video C:/Users/naoki/anaconda_work/Faster-R-CNN-pytorch-main/data/ori_data/drama_clip/421/clip.mp4\n",
      "\n"
     ]
    },
    {
     "name": "stderr",
     "output_type": "stream",
     "text": [
      "                                                            \r"
     ]
    },
    {
     "name": "stdout",
     "output_type": "stream",
     "text": [
      "Moviepy - Done !\n",
      "Moviepy - video ready C:/Users/naoki/anaconda_work/Faster-R-CNN-pytorch-main/data/ori_data/drama_clip/421/clip.mp4\n",
      "Moviepy - Building video C:/Users/naoki/anaconda_work/Faster-R-CNN-pytorch-main/data/ori_data/drama_clip/422/clip.mp4.\n",
      "Moviepy - Writing video C:/Users/naoki/anaconda_work/Faster-R-CNN-pytorch-main/data/ori_data/drama_clip/422/clip.mp4\n",
      "\n"
     ]
    },
    {
     "name": "stderr",
     "output_type": "stream",
     "text": [
      "                                                            \r"
     ]
    },
    {
     "name": "stdout",
     "output_type": "stream",
     "text": [
      "Moviepy - Done !\n",
      "Moviepy - video ready C:/Users/naoki/anaconda_work/Faster-R-CNN-pytorch-main/data/ori_data/drama_clip/422/clip.mp4\n",
      "Moviepy - Building video C:/Users/naoki/anaconda_work/Faster-R-CNN-pytorch-main/data/ori_data/drama_clip/423/clip.mp4.\n",
      "Moviepy - Writing video C:/Users/naoki/anaconda_work/Faster-R-CNN-pytorch-main/data/ori_data/drama_clip/423/clip.mp4\n",
      "\n"
     ]
    },
    {
     "name": "stderr",
     "output_type": "stream",
     "text": [
      "                                                            \r"
     ]
    },
    {
     "name": "stdout",
     "output_type": "stream",
     "text": [
      "Moviepy - Done !\n",
      "Moviepy - video ready C:/Users/naoki/anaconda_work/Faster-R-CNN-pytorch-main/data/ori_data/drama_clip/423/clip.mp4\n",
      "Moviepy - Building video C:/Users/naoki/anaconda_work/Faster-R-CNN-pytorch-main/data/ori_data/drama_clip/424/clip.mp4.\n",
      "Moviepy - Writing video C:/Users/naoki/anaconda_work/Faster-R-CNN-pytorch-main/data/ori_data/drama_clip/424/clip.mp4\n",
      "\n"
     ]
    },
    {
     "name": "stderr",
     "output_type": "stream",
     "text": [
      "                                                            \r"
     ]
    },
    {
     "name": "stdout",
     "output_type": "stream",
     "text": [
      "Moviepy - Done !\n",
      "Moviepy - video ready C:/Users/naoki/anaconda_work/Faster-R-CNN-pytorch-main/data/ori_data/drama_clip/424/clip.mp4\n",
      "Moviepy - Building video C:/Users/naoki/anaconda_work/Faster-R-CNN-pytorch-main/data/ori_data/drama_clip/425/clip.mp4.\n",
      "Moviepy - Writing video C:/Users/naoki/anaconda_work/Faster-R-CNN-pytorch-main/data/ori_data/drama_clip/425/clip.mp4\n",
      "\n"
     ]
    },
    {
     "name": "stderr",
     "output_type": "stream",
     "text": [
      "                                                            \r"
     ]
    },
    {
     "name": "stdout",
     "output_type": "stream",
     "text": [
      "Moviepy - Done !\n",
      "Moviepy - video ready C:/Users/naoki/anaconda_work/Faster-R-CNN-pytorch-main/data/ori_data/drama_clip/425/clip.mp4\n",
      "Moviepy - Building video C:/Users/naoki/anaconda_work/Faster-R-CNN-pytorch-main/data/ori_data/drama_clip/426/clip.mp4.\n",
      "Moviepy - Writing video C:/Users/naoki/anaconda_work/Faster-R-CNN-pytorch-main/data/ori_data/drama_clip/426/clip.mp4\n",
      "\n"
     ]
    },
    {
     "name": "stderr",
     "output_type": "stream",
     "text": [
      "                                                            \r"
     ]
    },
    {
     "name": "stdout",
     "output_type": "stream",
     "text": [
      "Moviepy - Done !\n",
      "Moviepy - video ready C:/Users/naoki/anaconda_work/Faster-R-CNN-pytorch-main/data/ori_data/drama_clip/426/clip.mp4\n",
      "Moviepy - Building video C:/Users/naoki/anaconda_work/Faster-R-CNN-pytorch-main/data/ori_data/drama_clip/427/clip.mp4.\n",
      "Moviepy - Writing video C:/Users/naoki/anaconda_work/Faster-R-CNN-pytorch-main/data/ori_data/drama_clip/427/clip.mp4\n",
      "\n"
     ]
    },
    {
     "name": "stderr",
     "output_type": "stream",
     "text": [
      "                                                            \r"
     ]
    },
    {
     "name": "stdout",
     "output_type": "stream",
     "text": [
      "Moviepy - Done !\n",
      "Moviepy - video ready C:/Users/naoki/anaconda_work/Faster-R-CNN-pytorch-main/data/ori_data/drama_clip/427/clip.mp4\n",
      "Moviepy - Building video C:/Users/naoki/anaconda_work/Faster-R-CNN-pytorch-main/data/ori_data/drama_clip/428/clip.mp4.\n",
      "Moviepy - Writing video C:/Users/naoki/anaconda_work/Faster-R-CNN-pytorch-main/data/ori_data/drama_clip/428/clip.mp4\n",
      "\n"
     ]
    },
    {
     "name": "stderr",
     "output_type": "stream",
     "text": [
      "                                                            \r"
     ]
    },
    {
     "name": "stdout",
     "output_type": "stream",
     "text": [
      "Moviepy - Done !\n",
      "Moviepy - video ready C:/Users/naoki/anaconda_work/Faster-R-CNN-pytorch-main/data/ori_data/drama_clip/428/clip.mp4\n",
      "Moviepy - Building video C:/Users/naoki/anaconda_work/Faster-R-CNN-pytorch-main/data/ori_data/drama_clip/429/clip.mp4.\n",
      "Moviepy - Writing video C:/Users/naoki/anaconda_work/Faster-R-CNN-pytorch-main/data/ori_data/drama_clip/429/clip.mp4\n",
      "\n"
     ]
    },
    {
     "name": "stderr",
     "output_type": "stream",
     "text": [
      "                                                            \r"
     ]
    },
    {
     "name": "stdout",
     "output_type": "stream",
     "text": [
      "Moviepy - Done !\n",
      "Moviepy - video ready C:/Users/naoki/anaconda_work/Faster-R-CNN-pytorch-main/data/ori_data/drama_clip/429/clip.mp4\n",
      "Moviepy - Building video C:/Users/naoki/anaconda_work/Faster-R-CNN-pytorch-main/data/ori_data/drama_clip/430/clip.mp4.\n",
      "Moviepy - Writing video C:/Users/naoki/anaconda_work/Faster-R-CNN-pytorch-main/data/ori_data/drama_clip/430/clip.mp4\n",
      "\n"
     ]
    },
    {
     "name": "stderr",
     "output_type": "stream",
     "text": [
      "                                                            \r"
     ]
    },
    {
     "name": "stdout",
     "output_type": "stream",
     "text": [
      "Moviepy - Done !\n",
      "Moviepy - video ready C:/Users/naoki/anaconda_work/Faster-R-CNN-pytorch-main/data/ori_data/drama_clip/430/clip.mp4\n",
      "Moviepy - Building video C:/Users/naoki/anaconda_work/Faster-R-CNN-pytorch-main/data/ori_data/drama_clip/431/clip.mp4.\n",
      "Moviepy - Writing video C:/Users/naoki/anaconda_work/Faster-R-CNN-pytorch-main/data/ori_data/drama_clip/431/clip.mp4\n",
      "\n"
     ]
    },
    {
     "name": "stderr",
     "output_type": "stream",
     "text": [
      "                                                            \r"
     ]
    },
    {
     "name": "stdout",
     "output_type": "stream",
     "text": [
      "Moviepy - Done !\n",
      "Moviepy - video ready C:/Users/naoki/anaconda_work/Faster-R-CNN-pytorch-main/data/ori_data/drama_clip/431/clip.mp4\n",
      "Moviepy - Building video C:/Users/naoki/anaconda_work/Faster-R-CNN-pytorch-main/data/ori_data/drama_clip/432/clip.mp4.\n",
      "Moviepy - Writing video C:/Users/naoki/anaconda_work/Faster-R-CNN-pytorch-main/data/ori_data/drama_clip/432/clip.mp4\n",
      "\n"
     ]
    },
    {
     "name": "stderr",
     "output_type": "stream",
     "text": [
      "                                                            \r"
     ]
    },
    {
     "name": "stdout",
     "output_type": "stream",
     "text": [
      "Moviepy - Done !\n",
      "Moviepy - video ready C:/Users/naoki/anaconda_work/Faster-R-CNN-pytorch-main/data/ori_data/drama_clip/432/clip.mp4\n",
      "Moviepy - Building video C:/Users/naoki/anaconda_work/Faster-R-CNN-pytorch-main/data/ori_data/drama_clip/433/clip.mp4.\n",
      "Moviepy - Writing video C:/Users/naoki/anaconda_work/Faster-R-CNN-pytorch-main/data/ori_data/drama_clip/433/clip.mp4\n",
      "\n"
     ]
    },
    {
     "name": "stderr",
     "output_type": "stream",
     "text": [
      "                                                            \r"
     ]
    },
    {
     "name": "stdout",
     "output_type": "stream",
     "text": [
      "Moviepy - Done !\n",
      "Moviepy - video ready C:/Users/naoki/anaconda_work/Faster-R-CNN-pytorch-main/data/ori_data/drama_clip/433/clip.mp4\n",
      "Moviepy - Building video C:/Users/naoki/anaconda_work/Faster-R-CNN-pytorch-main/data/ori_data/drama_clip/434/clip.mp4.\n",
      "Moviepy - Writing video C:/Users/naoki/anaconda_work/Faster-R-CNN-pytorch-main/data/ori_data/drama_clip/434/clip.mp4\n",
      "\n"
     ]
    },
    {
     "name": "stderr",
     "output_type": "stream",
     "text": [
      "                                                            \r"
     ]
    },
    {
     "name": "stdout",
     "output_type": "stream",
     "text": [
      "Moviepy - Done !\n",
      "Moviepy - video ready C:/Users/naoki/anaconda_work/Faster-R-CNN-pytorch-main/data/ori_data/drama_clip/434/clip.mp4\n",
      "Moviepy - Building video C:/Users/naoki/anaconda_work/Faster-R-CNN-pytorch-main/data/ori_data/drama_clip/435/clip.mp4.\n",
      "Moviepy - Writing video C:/Users/naoki/anaconda_work/Faster-R-CNN-pytorch-main/data/ori_data/drama_clip/435/clip.mp4\n",
      "\n"
     ]
    },
    {
     "name": "stderr",
     "output_type": "stream",
     "text": [
      "                                                            \r"
     ]
    },
    {
     "name": "stdout",
     "output_type": "stream",
     "text": [
      "Moviepy - Done !\n",
      "Moviepy - video ready C:/Users/naoki/anaconda_work/Faster-R-CNN-pytorch-main/data/ori_data/drama_clip/435/clip.mp4\n",
      "Moviepy - Building video C:/Users/naoki/anaconda_work/Faster-R-CNN-pytorch-main/data/ori_data/drama_clip/436/clip.mp4.\n",
      "Moviepy - Writing video C:/Users/naoki/anaconda_work/Faster-R-CNN-pytorch-main/data/ori_data/drama_clip/436/clip.mp4\n",
      "\n"
     ]
    },
    {
     "name": "stderr",
     "output_type": "stream",
     "text": [
      "                                                            \r"
     ]
    },
    {
     "name": "stdout",
     "output_type": "stream",
     "text": [
      "Moviepy - Done !\n",
      "Moviepy - video ready C:/Users/naoki/anaconda_work/Faster-R-CNN-pytorch-main/data/ori_data/drama_clip/436/clip.mp4\n",
      "Moviepy - Building video C:/Users/naoki/anaconda_work/Faster-R-CNN-pytorch-main/data/ori_data/drama_clip/437/clip.mp4.\n",
      "Moviepy - Writing video C:/Users/naoki/anaconda_work/Faster-R-CNN-pytorch-main/data/ori_data/drama_clip/437/clip.mp4\n",
      "\n"
     ]
    },
    {
     "name": "stderr",
     "output_type": "stream",
     "text": [
      "                                                            \r"
     ]
    },
    {
     "name": "stdout",
     "output_type": "stream",
     "text": [
      "Moviepy - Done !\n",
      "Moviepy - video ready C:/Users/naoki/anaconda_work/Faster-R-CNN-pytorch-main/data/ori_data/drama_clip/437/clip.mp4\n",
      "Moviepy - Building video C:/Users/naoki/anaconda_work/Faster-R-CNN-pytorch-main/data/ori_data/drama_clip/438/clip.mp4.\n",
      "Moviepy - Writing video C:/Users/naoki/anaconda_work/Faster-R-CNN-pytorch-main/data/ori_data/drama_clip/438/clip.mp4\n",
      "\n"
     ]
    },
    {
     "name": "stderr",
     "output_type": "stream",
     "text": [
      "                                                            \r"
     ]
    },
    {
     "name": "stdout",
     "output_type": "stream",
     "text": [
      "Moviepy - Done !\n",
      "Moviepy - video ready C:/Users/naoki/anaconda_work/Faster-R-CNN-pytorch-main/data/ori_data/drama_clip/438/clip.mp4\n",
      "Moviepy - Building video C:/Users/naoki/anaconda_work/Faster-R-CNN-pytorch-main/data/ori_data/drama_clip/439/clip.mp4.\n",
      "Moviepy - Writing video C:/Users/naoki/anaconda_work/Faster-R-CNN-pytorch-main/data/ori_data/drama_clip/439/clip.mp4\n",
      "\n"
     ]
    },
    {
     "name": "stderr",
     "output_type": "stream",
     "text": [
      "                                                            \r"
     ]
    },
    {
     "name": "stdout",
     "output_type": "stream",
     "text": [
      "Moviepy - Done !\n",
      "Moviepy - video ready C:/Users/naoki/anaconda_work/Faster-R-CNN-pytorch-main/data/ori_data/drama_clip/439/clip.mp4\n",
      "Moviepy - Building video C:/Users/naoki/anaconda_work/Faster-R-CNN-pytorch-main/data/ori_data/drama_clip/440/clip.mp4.\n",
      "Moviepy - Writing video C:/Users/naoki/anaconda_work/Faster-R-CNN-pytorch-main/data/ori_data/drama_clip/440/clip.mp4\n",
      "\n"
     ]
    },
    {
     "name": "stderr",
     "output_type": "stream",
     "text": [
      "                                                            \r"
     ]
    },
    {
     "name": "stdout",
     "output_type": "stream",
     "text": [
      "Moviepy - Done !\n",
      "Moviepy - video ready C:/Users/naoki/anaconda_work/Faster-R-CNN-pytorch-main/data/ori_data/drama_clip/440/clip.mp4\n",
      "Moviepy - Building video C:/Users/naoki/anaconda_work/Faster-R-CNN-pytorch-main/data/ori_data/drama_clip/441/clip.mp4.\n",
      "Moviepy - Writing video C:/Users/naoki/anaconda_work/Faster-R-CNN-pytorch-main/data/ori_data/drama_clip/441/clip.mp4\n",
      "\n"
     ]
    },
    {
     "name": "stderr",
     "output_type": "stream",
     "text": [
      "                                                            \r"
     ]
    },
    {
     "name": "stdout",
     "output_type": "stream",
     "text": [
      "Moviepy - Done !\n",
      "Moviepy - video ready C:/Users/naoki/anaconda_work/Faster-R-CNN-pytorch-main/data/ori_data/drama_clip/441/clip.mp4\n",
      "Moviepy - Building video C:/Users/naoki/anaconda_work/Faster-R-CNN-pytorch-main/data/ori_data/drama_clip/442/clip.mp4.\n",
      "Moviepy - Writing video C:/Users/naoki/anaconda_work/Faster-R-CNN-pytorch-main/data/ori_data/drama_clip/442/clip.mp4\n",
      "\n"
     ]
    },
    {
     "name": "stderr",
     "output_type": "stream",
     "text": [
      "                                                            \r"
     ]
    },
    {
     "name": "stdout",
     "output_type": "stream",
     "text": [
      "Moviepy - Done !\n",
      "Moviepy - video ready C:/Users/naoki/anaconda_work/Faster-R-CNN-pytorch-main/data/ori_data/drama_clip/442/clip.mp4\n",
      "Moviepy - Building video C:/Users/naoki/anaconda_work/Faster-R-CNN-pytorch-main/data/ori_data/drama_clip/443/clip.mp4.\n",
      "Moviepy - Writing video C:/Users/naoki/anaconda_work/Faster-R-CNN-pytorch-main/data/ori_data/drama_clip/443/clip.mp4\n",
      "\n"
     ]
    },
    {
     "name": "stderr",
     "output_type": "stream",
     "text": [
      "                                                            \r"
     ]
    },
    {
     "name": "stdout",
     "output_type": "stream",
     "text": [
      "Moviepy - Done !\n",
      "Moviepy - video ready C:/Users/naoki/anaconda_work/Faster-R-CNN-pytorch-main/data/ori_data/drama_clip/443/clip.mp4\n",
      "Moviepy - Building video C:/Users/naoki/anaconda_work/Faster-R-CNN-pytorch-main/data/ori_data/drama_clip/444/clip.mp4.\n",
      "Moviepy - Writing video C:/Users/naoki/anaconda_work/Faster-R-CNN-pytorch-main/data/ori_data/drama_clip/444/clip.mp4\n",
      "\n"
     ]
    },
    {
     "name": "stderr",
     "output_type": "stream",
     "text": [
      "                                                            \r"
     ]
    },
    {
     "name": "stdout",
     "output_type": "stream",
     "text": [
      "Moviepy - Done !\n",
      "Moviepy - video ready C:/Users/naoki/anaconda_work/Faster-R-CNN-pytorch-main/data/ori_data/drama_clip/444/clip.mp4\n",
      "Moviepy - Building video C:/Users/naoki/anaconda_work/Faster-R-CNN-pytorch-main/data/ori_data/drama_clip/445/clip.mp4.\n",
      "Moviepy - Writing video C:/Users/naoki/anaconda_work/Faster-R-CNN-pytorch-main/data/ori_data/drama_clip/445/clip.mp4\n",
      "\n"
     ]
    },
    {
     "name": "stderr",
     "output_type": "stream",
     "text": [
      "                                                            \r"
     ]
    },
    {
     "name": "stdout",
     "output_type": "stream",
     "text": [
      "Moviepy - Done !\n",
      "Moviepy - video ready C:/Users/naoki/anaconda_work/Faster-R-CNN-pytorch-main/data/ori_data/drama_clip/445/clip.mp4\n",
      "Moviepy - Building video C:/Users/naoki/anaconda_work/Faster-R-CNN-pytorch-main/data/ori_data/drama_clip/446/clip.mp4.\n",
      "Moviepy - Writing video C:/Users/naoki/anaconda_work/Faster-R-CNN-pytorch-main/data/ori_data/drama_clip/446/clip.mp4\n",
      "\n"
     ]
    },
    {
     "name": "stderr",
     "output_type": "stream",
     "text": [
      "                                                            \r"
     ]
    },
    {
     "name": "stdout",
     "output_type": "stream",
     "text": [
      "Moviepy - Done !\n",
      "Moviepy - video ready C:/Users/naoki/anaconda_work/Faster-R-CNN-pytorch-main/data/ori_data/drama_clip/446/clip.mp4\n",
      "Moviepy - Building video C:/Users/naoki/anaconda_work/Faster-R-CNN-pytorch-main/data/ori_data/drama_clip/447/clip.mp4.\n",
      "Moviepy - Writing video C:/Users/naoki/anaconda_work/Faster-R-CNN-pytorch-main/data/ori_data/drama_clip/447/clip.mp4\n",
      "\n"
     ]
    },
    {
     "name": "stderr",
     "output_type": "stream",
     "text": [
      "                                                            \r"
     ]
    },
    {
     "name": "stdout",
     "output_type": "stream",
     "text": [
      "Moviepy - Done !\n",
      "Moviepy - video ready C:/Users/naoki/anaconda_work/Faster-R-CNN-pytorch-main/data/ori_data/drama_clip/447/clip.mp4\n",
      "Moviepy - Building video C:/Users/naoki/anaconda_work/Faster-R-CNN-pytorch-main/data/ori_data/drama_clip/448/clip.mp4.\n",
      "Moviepy - Writing video C:/Users/naoki/anaconda_work/Faster-R-CNN-pytorch-main/data/ori_data/drama_clip/448/clip.mp4\n",
      "\n"
     ]
    },
    {
     "name": "stderr",
     "output_type": "stream",
     "text": [
      "                                                            \r"
     ]
    },
    {
     "name": "stdout",
     "output_type": "stream",
     "text": [
      "Moviepy - Done !\n",
      "Moviepy - video ready C:/Users/naoki/anaconda_work/Faster-R-CNN-pytorch-main/data/ori_data/drama_clip/448/clip.mp4\n",
      "Moviepy - Building video C:/Users/naoki/anaconda_work/Faster-R-CNN-pytorch-main/data/ori_data/drama_clip/449/clip.mp4.\n",
      "Moviepy - Writing video C:/Users/naoki/anaconda_work/Faster-R-CNN-pytorch-main/data/ori_data/drama_clip/449/clip.mp4\n",
      "\n"
     ]
    },
    {
     "name": "stderr",
     "output_type": "stream",
     "text": [
      "                                                            \r"
     ]
    },
    {
     "name": "stdout",
     "output_type": "stream",
     "text": [
      "Moviepy - Done !\n",
      "Moviepy - video ready C:/Users/naoki/anaconda_work/Faster-R-CNN-pytorch-main/data/ori_data/drama_clip/449/clip.mp4\n",
      "Moviepy - Building video C:/Users/naoki/anaconda_work/Faster-R-CNN-pytorch-main/data/ori_data/drama_clip/450/clip.mp4.\n",
      "Moviepy - Writing video C:/Users/naoki/anaconda_work/Faster-R-CNN-pytorch-main/data/ori_data/drama_clip/450/clip.mp4\n",
      "\n"
     ]
    },
    {
     "name": "stderr",
     "output_type": "stream",
     "text": [
      "                                                            \r"
     ]
    },
    {
     "name": "stdout",
     "output_type": "stream",
     "text": [
      "Moviepy - Done !\n",
      "Moviepy - video ready C:/Users/naoki/anaconda_work/Faster-R-CNN-pytorch-main/data/ori_data/drama_clip/450/clip.mp4\n",
      "Moviepy - Building video C:/Users/naoki/anaconda_work/Faster-R-CNN-pytorch-main/data/ori_data/drama_clip/451/clip.mp4.\n",
      "Moviepy - Writing video C:/Users/naoki/anaconda_work/Faster-R-CNN-pytorch-main/data/ori_data/drama_clip/451/clip.mp4\n",
      "\n"
     ]
    },
    {
     "name": "stderr",
     "output_type": "stream",
     "text": [
      "                                                            \r"
     ]
    },
    {
     "name": "stdout",
     "output_type": "stream",
     "text": [
      "Moviepy - Done !\n",
      "Moviepy - video ready C:/Users/naoki/anaconda_work/Faster-R-CNN-pytorch-main/data/ori_data/drama_clip/451/clip.mp4\n",
      "Moviepy - Building video C:/Users/naoki/anaconda_work/Faster-R-CNN-pytorch-main/data/ori_data/drama_clip/452/clip.mp4.\n",
      "Moviepy - Writing video C:/Users/naoki/anaconda_work/Faster-R-CNN-pytorch-main/data/ori_data/drama_clip/452/clip.mp4\n",
      "\n"
     ]
    },
    {
     "name": "stderr",
     "output_type": "stream",
     "text": [
      "                                                            \r"
     ]
    },
    {
     "name": "stdout",
     "output_type": "stream",
     "text": [
      "Moviepy - Done !\n",
      "Moviepy - video ready C:/Users/naoki/anaconda_work/Faster-R-CNN-pytorch-main/data/ori_data/drama_clip/452/clip.mp4\n",
      "Moviepy - Building video C:/Users/naoki/anaconda_work/Faster-R-CNN-pytorch-main/data/ori_data/drama_clip/453/clip.mp4.\n",
      "Moviepy - Writing video C:/Users/naoki/anaconda_work/Faster-R-CNN-pytorch-main/data/ori_data/drama_clip/453/clip.mp4\n",
      "\n"
     ]
    },
    {
     "name": "stderr",
     "output_type": "stream",
     "text": [
      "                                                            \r"
     ]
    },
    {
     "name": "stdout",
     "output_type": "stream",
     "text": [
      "Moviepy - Done !\n",
      "Moviepy - video ready C:/Users/naoki/anaconda_work/Faster-R-CNN-pytorch-main/data/ori_data/drama_clip/453/clip.mp4\n",
      "Moviepy - Building video C:/Users/naoki/anaconda_work/Faster-R-CNN-pytorch-main/data/ori_data/drama_clip/454/clip.mp4.\n",
      "Moviepy - Writing video C:/Users/naoki/anaconda_work/Faster-R-CNN-pytorch-main/data/ori_data/drama_clip/454/clip.mp4\n",
      "\n"
     ]
    },
    {
     "name": "stderr",
     "output_type": "stream",
     "text": [
      "                                                            \r"
     ]
    },
    {
     "name": "stdout",
     "output_type": "stream",
     "text": [
      "Moviepy - Done !\n",
      "Moviepy - video ready C:/Users/naoki/anaconda_work/Faster-R-CNN-pytorch-main/data/ori_data/drama_clip/454/clip.mp4\n",
      "Moviepy - Building video C:/Users/naoki/anaconda_work/Faster-R-CNN-pytorch-main/data/ori_data/drama_clip/455/clip.mp4.\n",
      "Moviepy - Writing video C:/Users/naoki/anaconda_work/Faster-R-CNN-pytorch-main/data/ori_data/drama_clip/455/clip.mp4\n",
      "\n"
     ]
    },
    {
     "name": "stderr",
     "output_type": "stream",
     "text": [
      "                                                            \r"
     ]
    },
    {
     "name": "stdout",
     "output_type": "stream",
     "text": [
      "Moviepy - Done !\n",
      "Moviepy - video ready C:/Users/naoki/anaconda_work/Faster-R-CNN-pytorch-main/data/ori_data/drama_clip/455/clip.mp4\n",
      "Moviepy - Building video C:/Users/naoki/anaconda_work/Faster-R-CNN-pytorch-main/data/ori_data/drama_clip/456/clip.mp4.\n",
      "Moviepy - Writing video C:/Users/naoki/anaconda_work/Faster-R-CNN-pytorch-main/data/ori_data/drama_clip/456/clip.mp4\n",
      "\n"
     ]
    },
    {
     "name": "stderr",
     "output_type": "stream",
     "text": [
      "                                                            \r"
     ]
    },
    {
     "name": "stdout",
     "output_type": "stream",
     "text": [
      "Moviepy - Done !\n",
      "Moviepy - video ready C:/Users/naoki/anaconda_work/Faster-R-CNN-pytorch-main/data/ori_data/drama_clip/456/clip.mp4\n",
      "Moviepy - Building video C:/Users/naoki/anaconda_work/Faster-R-CNN-pytorch-main/data/ori_data/drama_clip/457/clip.mp4.\n",
      "Moviepy - Writing video C:/Users/naoki/anaconda_work/Faster-R-CNN-pytorch-main/data/ori_data/drama_clip/457/clip.mp4\n",
      "\n"
     ]
    },
    {
     "name": "stderr",
     "output_type": "stream",
     "text": [
      "                                                            \r"
     ]
    },
    {
     "name": "stdout",
     "output_type": "stream",
     "text": [
      "Moviepy - Done !\n",
      "Moviepy - video ready C:/Users/naoki/anaconda_work/Faster-R-CNN-pytorch-main/data/ori_data/drama_clip/457/clip.mp4\n",
      "Moviepy - Building video C:/Users/naoki/anaconda_work/Faster-R-CNN-pytorch-main/data/ori_data/drama_clip/458/clip.mp4.\n",
      "Moviepy - Writing video C:/Users/naoki/anaconda_work/Faster-R-CNN-pytorch-main/data/ori_data/drama_clip/458/clip.mp4\n",
      "\n"
     ]
    },
    {
     "name": "stderr",
     "output_type": "stream",
     "text": [
      "                                                            \r"
     ]
    },
    {
     "name": "stdout",
     "output_type": "stream",
     "text": [
      "Moviepy - Done !\n",
      "Moviepy - video ready C:/Users/naoki/anaconda_work/Faster-R-CNN-pytorch-main/data/ori_data/drama_clip/458/clip.mp4\n",
      "Moviepy - Building video C:/Users/naoki/anaconda_work/Faster-R-CNN-pytorch-main/data/ori_data/drama_clip/459/clip.mp4.\n",
      "Moviepy - Writing video C:/Users/naoki/anaconda_work/Faster-R-CNN-pytorch-main/data/ori_data/drama_clip/459/clip.mp4\n",
      "\n"
     ]
    },
    {
     "name": "stderr",
     "output_type": "stream",
     "text": [
      "                                                            \r"
     ]
    },
    {
     "name": "stdout",
     "output_type": "stream",
     "text": [
      "Moviepy - Done !\n",
      "Moviepy - video ready C:/Users/naoki/anaconda_work/Faster-R-CNN-pytorch-main/data/ori_data/drama_clip/459/clip.mp4\n",
      "Moviepy - Building video C:/Users/naoki/anaconda_work/Faster-R-CNN-pytorch-main/data/ori_data/drama_clip/460/clip.mp4.\n",
      "Moviepy - Writing video C:/Users/naoki/anaconda_work/Faster-R-CNN-pytorch-main/data/ori_data/drama_clip/460/clip.mp4\n",
      "\n"
     ]
    },
    {
     "name": "stderr",
     "output_type": "stream",
     "text": [
      "                                                            \r"
     ]
    },
    {
     "name": "stdout",
     "output_type": "stream",
     "text": [
      "Moviepy - Done !\n",
      "Moviepy - video ready C:/Users/naoki/anaconda_work/Faster-R-CNN-pytorch-main/data/ori_data/drama_clip/460/clip.mp4\n",
      "Moviepy - Building video C:/Users/naoki/anaconda_work/Faster-R-CNN-pytorch-main/data/ori_data/drama_clip/461/clip.mp4.\n",
      "Moviepy - Writing video C:/Users/naoki/anaconda_work/Faster-R-CNN-pytorch-main/data/ori_data/drama_clip/461/clip.mp4\n",
      "\n"
     ]
    },
    {
     "name": "stderr",
     "output_type": "stream",
     "text": [
      "                                                            \r"
     ]
    },
    {
     "name": "stdout",
     "output_type": "stream",
     "text": [
      "Moviepy - Done !\n",
      "Moviepy - video ready C:/Users/naoki/anaconda_work/Faster-R-CNN-pytorch-main/data/ori_data/drama_clip/461/clip.mp4\n",
      "Moviepy - Building video C:/Users/naoki/anaconda_work/Faster-R-CNN-pytorch-main/data/ori_data/drama_clip/462/clip.mp4.\n",
      "Moviepy - Writing video C:/Users/naoki/anaconda_work/Faster-R-CNN-pytorch-main/data/ori_data/drama_clip/462/clip.mp4\n",
      "\n"
     ]
    },
    {
     "name": "stderr",
     "output_type": "stream",
     "text": [
      "                                                            \r"
     ]
    },
    {
     "name": "stdout",
     "output_type": "stream",
     "text": [
      "Moviepy - Done !\n",
      "Moviepy - video ready C:/Users/naoki/anaconda_work/Faster-R-CNN-pytorch-main/data/ori_data/drama_clip/462/clip.mp4\n",
      "Moviepy - Building video C:/Users/naoki/anaconda_work/Faster-R-CNN-pytorch-main/data/ori_data/drama_clip/463/clip.mp4.\n",
      "Moviepy - Writing video C:/Users/naoki/anaconda_work/Faster-R-CNN-pytorch-main/data/ori_data/drama_clip/463/clip.mp4\n",
      "\n"
     ]
    },
    {
     "name": "stderr",
     "output_type": "stream",
     "text": [
      "                                                            \r"
     ]
    },
    {
     "name": "stdout",
     "output_type": "stream",
     "text": [
      "Moviepy - Done !\n",
      "Moviepy - video ready C:/Users/naoki/anaconda_work/Faster-R-CNN-pytorch-main/data/ori_data/drama_clip/463/clip.mp4\n",
      "Moviepy - Building video C:/Users/naoki/anaconda_work/Faster-R-CNN-pytorch-main/data/ori_data/drama_clip/464/clip.mp4.\n",
      "Moviepy - Writing video C:/Users/naoki/anaconda_work/Faster-R-CNN-pytorch-main/data/ori_data/drama_clip/464/clip.mp4\n",
      "\n"
     ]
    },
    {
     "name": "stderr",
     "output_type": "stream",
     "text": [
      "                                                            \r"
     ]
    },
    {
     "name": "stdout",
     "output_type": "stream",
     "text": [
      "Moviepy - Done !\n",
      "Moviepy - video ready C:/Users/naoki/anaconda_work/Faster-R-CNN-pytorch-main/data/ori_data/drama_clip/464/clip.mp4\n",
      "Moviepy - Building video C:/Users/naoki/anaconda_work/Faster-R-CNN-pytorch-main/data/ori_data/drama_clip/465/clip.mp4.\n",
      "Moviepy - Writing video C:/Users/naoki/anaconda_work/Faster-R-CNN-pytorch-main/data/ori_data/drama_clip/465/clip.mp4\n",
      "\n"
     ]
    },
    {
     "name": "stderr",
     "output_type": "stream",
     "text": [
      "                                                            \r"
     ]
    },
    {
     "name": "stdout",
     "output_type": "stream",
     "text": [
      "Moviepy - Done !\n",
      "Moviepy - video ready C:/Users/naoki/anaconda_work/Faster-R-CNN-pytorch-main/data/ori_data/drama_clip/465/clip.mp4\n",
      "Moviepy - Building video C:/Users/naoki/anaconda_work/Faster-R-CNN-pytorch-main/data/ori_data/drama_clip/466/clip.mp4.\n",
      "Moviepy - Writing video C:/Users/naoki/anaconda_work/Faster-R-CNN-pytorch-main/data/ori_data/drama_clip/466/clip.mp4\n",
      "\n"
     ]
    },
    {
     "name": "stderr",
     "output_type": "stream",
     "text": [
      "                                                            \r"
     ]
    },
    {
     "name": "stdout",
     "output_type": "stream",
     "text": [
      "Moviepy - Done !\n",
      "Moviepy - video ready C:/Users/naoki/anaconda_work/Faster-R-CNN-pytorch-main/data/ori_data/drama_clip/466/clip.mp4\n",
      "Moviepy - Building video C:/Users/naoki/anaconda_work/Faster-R-CNN-pytorch-main/data/ori_data/drama_clip/467/clip.mp4.\n",
      "Moviepy - Writing video C:/Users/naoki/anaconda_work/Faster-R-CNN-pytorch-main/data/ori_data/drama_clip/467/clip.mp4\n",
      "\n"
     ]
    },
    {
     "name": "stderr",
     "output_type": "stream",
     "text": [
      "                                                            \r"
     ]
    },
    {
     "name": "stdout",
     "output_type": "stream",
     "text": [
      "Moviepy - Done !\n",
      "Moviepy - video ready C:/Users/naoki/anaconda_work/Faster-R-CNN-pytorch-main/data/ori_data/drama_clip/467/clip.mp4\n",
      "Moviepy - Building video C:/Users/naoki/anaconda_work/Faster-R-CNN-pytorch-main/data/ori_data/drama_clip/468/clip.mp4.\n",
      "Moviepy - Writing video C:/Users/naoki/anaconda_work/Faster-R-CNN-pytorch-main/data/ori_data/drama_clip/468/clip.mp4\n",
      "\n"
     ]
    },
    {
     "name": "stderr",
     "output_type": "stream",
     "text": [
      "                                                            \r"
     ]
    },
    {
     "name": "stdout",
     "output_type": "stream",
     "text": [
      "Moviepy - Done !\n",
      "Moviepy - video ready C:/Users/naoki/anaconda_work/Faster-R-CNN-pytorch-main/data/ori_data/drama_clip/468/clip.mp4\n",
      "Moviepy - Building video C:/Users/naoki/anaconda_work/Faster-R-CNN-pytorch-main/data/ori_data/drama_clip/469/clip.mp4.\n",
      "Moviepy - Writing video C:/Users/naoki/anaconda_work/Faster-R-CNN-pytorch-main/data/ori_data/drama_clip/469/clip.mp4\n",
      "\n"
     ]
    },
    {
     "name": "stderr",
     "output_type": "stream",
     "text": [
      "                                                            \r"
     ]
    },
    {
     "name": "stdout",
     "output_type": "stream",
     "text": [
      "Moviepy - Done !\n",
      "Moviepy - video ready C:/Users/naoki/anaconda_work/Faster-R-CNN-pytorch-main/data/ori_data/drama_clip/469/clip.mp4\n",
      "Moviepy - Building video C:/Users/naoki/anaconda_work/Faster-R-CNN-pytorch-main/data/ori_data/drama_clip/470/clip.mp4.\n",
      "Moviepy - Writing video C:/Users/naoki/anaconda_work/Faster-R-CNN-pytorch-main/data/ori_data/drama_clip/470/clip.mp4\n",
      "\n"
     ]
    },
    {
     "name": "stderr",
     "output_type": "stream",
     "text": [
      "                                                            \r"
     ]
    },
    {
     "name": "stdout",
     "output_type": "stream",
     "text": [
      "Moviepy - Done !\n",
      "Moviepy - video ready C:/Users/naoki/anaconda_work/Faster-R-CNN-pytorch-main/data/ori_data/drama_clip/470/clip.mp4\n",
      "Moviepy - Building video C:/Users/naoki/anaconda_work/Faster-R-CNN-pytorch-main/data/ori_data/drama_clip/471/clip.mp4.\n",
      "Moviepy - Writing video C:/Users/naoki/anaconda_work/Faster-R-CNN-pytorch-main/data/ori_data/drama_clip/471/clip.mp4\n",
      "\n"
     ]
    },
    {
     "name": "stderr",
     "output_type": "stream",
     "text": [
      "                                                            \r"
     ]
    },
    {
     "name": "stdout",
     "output_type": "stream",
     "text": [
      "Moviepy - Done !\n",
      "Moviepy - video ready C:/Users/naoki/anaconda_work/Faster-R-CNN-pytorch-main/data/ori_data/drama_clip/471/clip.mp4\n",
      "Moviepy - Building video C:/Users/naoki/anaconda_work/Faster-R-CNN-pytorch-main/data/ori_data/drama_clip/472/clip.mp4.\n",
      "Moviepy - Writing video C:/Users/naoki/anaconda_work/Faster-R-CNN-pytorch-main/data/ori_data/drama_clip/472/clip.mp4\n",
      "\n"
     ]
    },
    {
     "name": "stderr",
     "output_type": "stream",
     "text": [
      "                                                            \r"
     ]
    },
    {
     "name": "stdout",
     "output_type": "stream",
     "text": [
      "Moviepy - Done !\n",
      "Moviepy - video ready C:/Users/naoki/anaconda_work/Faster-R-CNN-pytorch-main/data/ori_data/drama_clip/472/clip.mp4\n",
      "Moviepy - Building video C:/Users/naoki/anaconda_work/Faster-R-CNN-pytorch-main/data/ori_data/drama_clip/473/clip.mp4.\n",
      "Moviepy - Writing video C:/Users/naoki/anaconda_work/Faster-R-CNN-pytorch-main/data/ori_data/drama_clip/473/clip.mp4\n",
      "\n"
     ]
    },
    {
     "name": "stderr",
     "output_type": "stream",
     "text": [
      "                                                             \r"
     ]
    },
    {
     "name": "stdout",
     "output_type": "stream",
     "text": [
      "Moviepy - Done !\n",
      "Moviepy - video ready C:/Users/naoki/anaconda_work/Faster-R-CNN-pytorch-main/data/ori_data/drama_clip/473/clip.mp4\n",
      "Moviepy - Building video C:/Users/naoki/anaconda_work/Faster-R-CNN-pytorch-main/data/ori_data/drama_clip/474/clip.mp4.\n",
      "Moviepy - Writing video C:/Users/naoki/anaconda_work/Faster-R-CNN-pytorch-main/data/ori_data/drama_clip/474/clip.mp4\n",
      "\n"
     ]
    },
    {
     "name": "stderr",
     "output_type": "stream",
     "text": [
      "                                                            \r"
     ]
    },
    {
     "name": "stdout",
     "output_type": "stream",
     "text": [
      "Moviepy - Done !\n",
      "Moviepy - video ready C:/Users/naoki/anaconda_work/Faster-R-CNN-pytorch-main/data/ori_data/drama_clip/474/clip.mp4\n",
      "Moviepy - Building video C:/Users/naoki/anaconda_work/Faster-R-CNN-pytorch-main/data/ori_data/drama_clip/475/clip.mp4.\n",
      "Moviepy - Writing video C:/Users/naoki/anaconda_work/Faster-R-CNN-pytorch-main/data/ori_data/drama_clip/475/clip.mp4\n",
      "\n"
     ]
    },
    {
     "name": "stderr",
     "output_type": "stream",
     "text": [
      "                                                            \r"
     ]
    },
    {
     "name": "stdout",
     "output_type": "stream",
     "text": [
      "Moviepy - Done !\n",
      "Moviepy - video ready C:/Users/naoki/anaconda_work/Faster-R-CNN-pytorch-main/data/ori_data/drama_clip/475/clip.mp4\n",
      "Moviepy - Building video C:/Users/naoki/anaconda_work/Faster-R-CNN-pytorch-main/data/ori_data/drama_clip/476/clip.mp4.\n",
      "Moviepy - Writing video C:/Users/naoki/anaconda_work/Faster-R-CNN-pytorch-main/data/ori_data/drama_clip/476/clip.mp4\n",
      "\n"
     ]
    },
    {
     "name": "stderr",
     "output_type": "stream",
     "text": [
      "                                                            \r"
     ]
    },
    {
     "name": "stdout",
     "output_type": "stream",
     "text": [
      "Moviepy - Done !\n",
      "Moviepy - video ready C:/Users/naoki/anaconda_work/Faster-R-CNN-pytorch-main/data/ori_data/drama_clip/476/clip.mp4\n",
      "Moviepy - Building video C:/Users/naoki/anaconda_work/Faster-R-CNN-pytorch-main/data/ori_data/drama_clip/477/clip.mp4.\n",
      "Moviepy - Writing video C:/Users/naoki/anaconda_work/Faster-R-CNN-pytorch-main/data/ori_data/drama_clip/477/clip.mp4\n",
      "\n"
     ]
    },
    {
     "name": "stderr",
     "output_type": "stream",
     "text": [
      "                                                            \r"
     ]
    },
    {
     "name": "stdout",
     "output_type": "stream",
     "text": [
      "Moviepy - Done !\n",
      "Moviepy - video ready C:/Users/naoki/anaconda_work/Faster-R-CNN-pytorch-main/data/ori_data/drama_clip/477/clip.mp4\n",
      "Moviepy - Building video C:/Users/naoki/anaconda_work/Faster-R-CNN-pytorch-main/data/ori_data/drama_clip/478/clip.mp4.\n",
      "Moviepy - Writing video C:/Users/naoki/anaconda_work/Faster-R-CNN-pytorch-main/data/ori_data/drama_clip/478/clip.mp4\n",
      "\n"
     ]
    },
    {
     "name": "stderr",
     "output_type": "stream",
     "text": [
      "                                                            \r"
     ]
    },
    {
     "name": "stdout",
     "output_type": "stream",
     "text": [
      "Moviepy - Done !\n",
      "Moviepy - video ready C:/Users/naoki/anaconda_work/Faster-R-CNN-pytorch-main/data/ori_data/drama_clip/478/clip.mp4\n",
      "Moviepy - Building video C:/Users/naoki/anaconda_work/Faster-R-CNN-pytorch-main/data/ori_data/drama_clip/479/clip.mp4.\n",
      "Moviepy - Writing video C:/Users/naoki/anaconda_work/Faster-R-CNN-pytorch-main/data/ori_data/drama_clip/479/clip.mp4\n",
      "\n"
     ]
    },
    {
     "name": "stderr",
     "output_type": "stream",
     "text": [
      "                                                            \r"
     ]
    },
    {
     "name": "stdout",
     "output_type": "stream",
     "text": [
      "Moviepy - Done !\n",
      "Moviepy - video ready C:/Users/naoki/anaconda_work/Faster-R-CNN-pytorch-main/data/ori_data/drama_clip/479/clip.mp4\n",
      "Moviepy - Building video C:/Users/naoki/anaconda_work/Faster-R-CNN-pytorch-main/data/ori_data/drama_clip/480/clip.mp4.\n",
      "Moviepy - Writing video C:/Users/naoki/anaconda_work/Faster-R-CNN-pytorch-main/data/ori_data/drama_clip/480/clip.mp4\n",
      "\n"
     ]
    },
    {
     "name": "stderr",
     "output_type": "stream",
     "text": [
      "                                                            \r"
     ]
    },
    {
     "name": "stdout",
     "output_type": "stream",
     "text": [
      "Moviepy - Done !\n",
      "Moviepy - video ready C:/Users/naoki/anaconda_work/Faster-R-CNN-pytorch-main/data/ori_data/drama_clip/480/clip.mp4\n",
      "Moviepy - Building video C:/Users/naoki/anaconda_work/Faster-R-CNN-pytorch-main/data/ori_data/drama_clip/481/clip.mp4.\n",
      "Moviepy - Writing video C:/Users/naoki/anaconda_work/Faster-R-CNN-pytorch-main/data/ori_data/drama_clip/481/clip.mp4\n",
      "\n"
     ]
    },
    {
     "name": "stderr",
     "output_type": "stream",
     "text": [
      "                                                            \r"
     ]
    },
    {
     "name": "stdout",
     "output_type": "stream",
     "text": [
      "Moviepy - Done !\n",
      "Moviepy - video ready C:/Users/naoki/anaconda_work/Faster-R-CNN-pytorch-main/data/ori_data/drama_clip/481/clip.mp4\n",
      "Moviepy - Building video C:/Users/naoki/anaconda_work/Faster-R-CNN-pytorch-main/data/ori_data/drama_clip/482/clip.mp4.\n",
      "Moviepy - Writing video C:/Users/naoki/anaconda_work/Faster-R-CNN-pytorch-main/data/ori_data/drama_clip/482/clip.mp4\n",
      "\n"
     ]
    },
    {
     "name": "stderr",
     "output_type": "stream",
     "text": [
      "                                                            \r"
     ]
    },
    {
     "name": "stdout",
     "output_type": "stream",
     "text": [
      "Moviepy - Done !\n",
      "Moviepy - video ready C:/Users/naoki/anaconda_work/Faster-R-CNN-pytorch-main/data/ori_data/drama_clip/482/clip.mp4\n",
      "Moviepy - Building video C:/Users/naoki/anaconda_work/Faster-R-CNN-pytorch-main/data/ori_data/drama_clip/483/clip.mp4.\n",
      "Moviepy - Writing video C:/Users/naoki/anaconda_work/Faster-R-CNN-pytorch-main/data/ori_data/drama_clip/483/clip.mp4\n",
      "\n"
     ]
    },
    {
     "name": "stderr",
     "output_type": "stream",
     "text": [
      "                                                            \r"
     ]
    },
    {
     "name": "stdout",
     "output_type": "stream",
     "text": [
      "Moviepy - Done !\n",
      "Moviepy - video ready C:/Users/naoki/anaconda_work/Faster-R-CNN-pytorch-main/data/ori_data/drama_clip/483/clip.mp4\n",
      "Moviepy - Building video C:/Users/naoki/anaconda_work/Faster-R-CNN-pytorch-main/data/ori_data/drama_clip/484/clip.mp4.\n",
      "Moviepy - Writing video C:/Users/naoki/anaconda_work/Faster-R-CNN-pytorch-main/data/ori_data/drama_clip/484/clip.mp4\n",
      "\n"
     ]
    },
    {
     "name": "stderr",
     "output_type": "stream",
     "text": [
      "                                                            \r"
     ]
    },
    {
     "name": "stdout",
     "output_type": "stream",
     "text": [
      "Moviepy - Done !\n",
      "Moviepy - video ready C:/Users/naoki/anaconda_work/Faster-R-CNN-pytorch-main/data/ori_data/drama_clip/484/clip.mp4\n",
      "Moviepy - Building video C:/Users/naoki/anaconda_work/Faster-R-CNN-pytorch-main/data/ori_data/drama_clip/485/clip.mp4.\n",
      "Moviepy - Writing video C:/Users/naoki/anaconda_work/Faster-R-CNN-pytorch-main/data/ori_data/drama_clip/485/clip.mp4\n",
      "\n"
     ]
    },
    {
     "name": "stderr",
     "output_type": "stream",
     "text": [
      "                                                            \r"
     ]
    },
    {
     "name": "stdout",
     "output_type": "stream",
     "text": [
      "Moviepy - Done !\n",
      "Moviepy - video ready C:/Users/naoki/anaconda_work/Faster-R-CNN-pytorch-main/data/ori_data/drama_clip/485/clip.mp4\n",
      "Moviepy - Building video C:/Users/naoki/anaconda_work/Faster-R-CNN-pytorch-main/data/ori_data/drama_clip/486/clip.mp4.\n",
      "Moviepy - Writing video C:/Users/naoki/anaconda_work/Faster-R-CNN-pytorch-main/data/ori_data/drama_clip/486/clip.mp4\n",
      "\n"
     ]
    },
    {
     "name": "stderr",
     "output_type": "stream",
     "text": [
      "                                                            \r"
     ]
    },
    {
     "name": "stdout",
     "output_type": "stream",
     "text": [
      "Moviepy - Done !\n",
      "Moviepy - video ready C:/Users/naoki/anaconda_work/Faster-R-CNN-pytorch-main/data/ori_data/drama_clip/486/clip.mp4\n",
      "Moviepy - Building video C:/Users/naoki/anaconda_work/Faster-R-CNN-pytorch-main/data/ori_data/drama_clip/487/clip.mp4.\n",
      "Moviepy - Writing video C:/Users/naoki/anaconda_work/Faster-R-CNN-pytorch-main/data/ori_data/drama_clip/487/clip.mp4\n",
      "\n"
     ]
    },
    {
     "name": "stderr",
     "output_type": "stream",
     "text": [
      "                                                            \r"
     ]
    },
    {
     "name": "stdout",
     "output_type": "stream",
     "text": [
      "Moviepy - Done !\n",
      "Moviepy - video ready C:/Users/naoki/anaconda_work/Faster-R-CNN-pytorch-main/data/ori_data/drama_clip/487/clip.mp4\n",
      "Moviepy - Building video C:/Users/naoki/anaconda_work/Faster-R-CNN-pytorch-main/data/ori_data/drama_clip/488/clip.mp4.\n",
      "Moviepy - Writing video C:/Users/naoki/anaconda_work/Faster-R-CNN-pytorch-main/data/ori_data/drama_clip/488/clip.mp4\n",
      "\n"
     ]
    },
    {
     "name": "stderr",
     "output_type": "stream",
     "text": [
      "                                                            \r"
     ]
    },
    {
     "name": "stdout",
     "output_type": "stream",
     "text": [
      "Moviepy - Done !\n",
      "Moviepy - video ready C:/Users/naoki/anaconda_work/Faster-R-CNN-pytorch-main/data/ori_data/drama_clip/488/clip.mp4\n",
      "Moviepy - Building video C:/Users/naoki/anaconda_work/Faster-R-CNN-pytorch-main/data/ori_data/drama_clip/489/clip.mp4.\n",
      "Moviepy - Writing video C:/Users/naoki/anaconda_work/Faster-R-CNN-pytorch-main/data/ori_data/drama_clip/489/clip.mp4\n",
      "\n"
     ]
    },
    {
     "name": "stderr",
     "output_type": "stream",
     "text": [
      "                                                            \r"
     ]
    },
    {
     "name": "stdout",
     "output_type": "stream",
     "text": [
      "Moviepy - Done !\n",
      "Moviepy - video ready C:/Users/naoki/anaconda_work/Faster-R-CNN-pytorch-main/data/ori_data/drama_clip/489/clip.mp4\n",
      "Moviepy - Building video C:/Users/naoki/anaconda_work/Faster-R-CNN-pytorch-main/data/ori_data/drama_clip/490/clip.mp4.\n",
      "Moviepy - Writing video C:/Users/naoki/anaconda_work/Faster-R-CNN-pytorch-main/data/ori_data/drama_clip/490/clip.mp4\n",
      "\n"
     ]
    },
    {
     "name": "stderr",
     "output_type": "stream",
     "text": [
      "                                                            \r"
     ]
    },
    {
     "name": "stdout",
     "output_type": "stream",
     "text": [
      "Moviepy - Done !\n",
      "Moviepy - video ready C:/Users/naoki/anaconda_work/Faster-R-CNN-pytorch-main/data/ori_data/drama_clip/490/clip.mp4\n",
      "Moviepy - Building video C:/Users/naoki/anaconda_work/Faster-R-CNN-pytorch-main/data/ori_data/drama_clip/491/clip.mp4.\n",
      "Moviepy - Writing video C:/Users/naoki/anaconda_work/Faster-R-CNN-pytorch-main/data/ori_data/drama_clip/491/clip.mp4\n",
      "\n"
     ]
    },
    {
     "name": "stderr",
     "output_type": "stream",
     "text": [
      "                                                            \r"
     ]
    },
    {
     "name": "stdout",
     "output_type": "stream",
     "text": [
      "Moviepy - Done !\n",
      "Moviepy - video ready C:/Users/naoki/anaconda_work/Faster-R-CNN-pytorch-main/data/ori_data/drama_clip/491/clip.mp4\n",
      "Moviepy - Building video C:/Users/naoki/anaconda_work/Faster-R-CNN-pytorch-main/data/ori_data/drama_clip/492/clip.mp4.\n",
      "Moviepy - Writing video C:/Users/naoki/anaconda_work/Faster-R-CNN-pytorch-main/data/ori_data/drama_clip/492/clip.mp4\n",
      "\n"
     ]
    },
    {
     "name": "stderr",
     "output_type": "stream",
     "text": [
      "                                                            \r"
     ]
    },
    {
     "name": "stdout",
     "output_type": "stream",
     "text": [
      "Moviepy - Done !\n",
      "Moviepy - video ready C:/Users/naoki/anaconda_work/Faster-R-CNN-pytorch-main/data/ori_data/drama_clip/492/clip.mp4\n",
      "Moviepy - Building video C:/Users/naoki/anaconda_work/Faster-R-CNN-pytorch-main/data/ori_data/drama_clip/493/clip.mp4.\n",
      "Moviepy - Writing video C:/Users/naoki/anaconda_work/Faster-R-CNN-pytorch-main/data/ori_data/drama_clip/493/clip.mp4\n",
      "\n"
     ]
    },
    {
     "name": "stderr",
     "output_type": "stream",
     "text": [
      "                                                            \r"
     ]
    },
    {
     "name": "stdout",
     "output_type": "stream",
     "text": [
      "Moviepy - Done !\n",
      "Moviepy - video ready C:/Users/naoki/anaconda_work/Faster-R-CNN-pytorch-main/data/ori_data/drama_clip/493/clip.mp4\n",
      "Moviepy - Building video C:/Users/naoki/anaconda_work/Faster-R-CNN-pytorch-main/data/ori_data/drama_clip/494/clip.mp4.\n",
      "Moviepy - Writing video C:/Users/naoki/anaconda_work/Faster-R-CNN-pytorch-main/data/ori_data/drama_clip/494/clip.mp4\n",
      "\n"
     ]
    },
    {
     "name": "stderr",
     "output_type": "stream",
     "text": [
      "                                                            \r"
     ]
    },
    {
     "name": "stdout",
     "output_type": "stream",
     "text": [
      "Moviepy - Done !\n",
      "Moviepy - video ready C:/Users/naoki/anaconda_work/Faster-R-CNN-pytorch-main/data/ori_data/drama_clip/494/clip.mp4\n",
      "Moviepy - Building video C:/Users/naoki/anaconda_work/Faster-R-CNN-pytorch-main/data/ori_data/drama_clip/495/clip.mp4.\n",
      "Moviepy - Writing video C:/Users/naoki/anaconda_work/Faster-R-CNN-pytorch-main/data/ori_data/drama_clip/495/clip.mp4\n",
      "\n"
     ]
    },
    {
     "name": "stderr",
     "output_type": "stream",
     "text": [
      "                                                            \r"
     ]
    },
    {
     "name": "stdout",
     "output_type": "stream",
     "text": [
      "Moviepy - Done !\n",
      "Moviepy - video ready C:/Users/naoki/anaconda_work/Faster-R-CNN-pytorch-main/data/ori_data/drama_clip/495/clip.mp4\n",
      "Moviepy - Building video C:/Users/naoki/anaconda_work/Faster-R-CNN-pytorch-main/data/ori_data/drama_clip/496/clip.mp4.\n",
      "Moviepy - Writing video C:/Users/naoki/anaconda_work/Faster-R-CNN-pytorch-main/data/ori_data/drama_clip/496/clip.mp4\n",
      "\n"
     ]
    },
    {
     "name": "stderr",
     "output_type": "stream",
     "text": [
      "                                                            \r"
     ]
    },
    {
     "name": "stdout",
     "output_type": "stream",
     "text": [
      "Moviepy - Done !\n",
      "Moviepy - video ready C:/Users/naoki/anaconda_work/Faster-R-CNN-pytorch-main/data/ori_data/drama_clip/496/clip.mp4\n",
      "Moviepy - Building video C:/Users/naoki/anaconda_work/Faster-R-CNN-pytorch-main/data/ori_data/drama_clip/497/clip.mp4.\n",
      "Moviepy - Writing video C:/Users/naoki/anaconda_work/Faster-R-CNN-pytorch-main/data/ori_data/drama_clip/497/clip.mp4\n",
      "\n"
     ]
    },
    {
     "name": "stderr",
     "output_type": "stream",
     "text": [
      "                                                            \r"
     ]
    },
    {
     "name": "stdout",
     "output_type": "stream",
     "text": [
      "Moviepy - Done !\n",
      "Moviepy - video ready C:/Users/naoki/anaconda_work/Faster-R-CNN-pytorch-main/data/ori_data/drama_clip/497/clip.mp4\n",
      "Moviepy - Building video C:/Users/naoki/anaconda_work/Faster-R-CNN-pytorch-main/data/ori_data/drama_clip/498/clip.mp4.\n",
      "Moviepy - Writing video C:/Users/naoki/anaconda_work/Faster-R-CNN-pytorch-main/data/ori_data/drama_clip/498/clip.mp4\n",
      "\n"
     ]
    },
    {
     "name": "stderr",
     "output_type": "stream",
     "text": [
      "                                                            \r"
     ]
    },
    {
     "name": "stdout",
     "output_type": "stream",
     "text": [
      "Moviepy - Done !\n",
      "Moviepy - video ready C:/Users/naoki/anaconda_work/Faster-R-CNN-pytorch-main/data/ori_data/drama_clip/498/clip.mp4\n",
      "Moviepy - Building video C:/Users/naoki/anaconda_work/Faster-R-CNN-pytorch-main/data/ori_data/drama_clip/499/clip.mp4.\n",
      "Moviepy - Writing video C:/Users/naoki/anaconda_work/Faster-R-CNN-pytorch-main/data/ori_data/drama_clip/499/clip.mp4\n",
      "\n"
     ]
    },
    {
     "name": "stderr",
     "output_type": "stream",
     "text": [
      "                                                            \r"
     ]
    },
    {
     "name": "stdout",
     "output_type": "stream",
     "text": [
      "Moviepy - Done !\n",
      "Moviepy - video ready C:/Users/naoki/anaconda_work/Faster-R-CNN-pytorch-main/data/ori_data/drama_clip/499/clip.mp4\n",
      "Moviepy - Building video C:/Users/naoki/anaconda_work/Faster-R-CNN-pytorch-main/data/ori_data/drama_clip/500/clip.mp4.\n",
      "Moviepy - Writing video C:/Users/naoki/anaconda_work/Faster-R-CNN-pytorch-main/data/ori_data/drama_clip/500/clip.mp4\n",
      "\n"
     ]
    },
    {
     "name": "stderr",
     "output_type": "stream",
     "text": [
      "                                                            \r"
     ]
    },
    {
     "name": "stdout",
     "output_type": "stream",
     "text": [
      "Moviepy - Done !\n",
      "Moviepy - video ready C:/Users/naoki/anaconda_work/Faster-R-CNN-pytorch-main/data/ori_data/drama_clip/500/clip.mp4\n",
      "Moviepy - Building video C:/Users/naoki/anaconda_work/Faster-R-CNN-pytorch-main/data/ori_data/drama_clip/501/clip.mp4.\n",
      "Moviepy - Writing video C:/Users/naoki/anaconda_work/Faster-R-CNN-pytorch-main/data/ori_data/drama_clip/501/clip.mp4\n",
      "\n"
     ]
    },
    {
     "name": "stderr",
     "output_type": "stream",
     "text": [
      "                                                            \r"
     ]
    },
    {
     "name": "stdout",
     "output_type": "stream",
     "text": [
      "Moviepy - Done !\n",
      "Moviepy - video ready C:/Users/naoki/anaconda_work/Faster-R-CNN-pytorch-main/data/ori_data/drama_clip/501/clip.mp4\n",
      "Moviepy - Building video C:/Users/naoki/anaconda_work/Faster-R-CNN-pytorch-main/data/ori_data/drama_clip/502/clip.mp4.\n",
      "Moviepy - Writing video C:/Users/naoki/anaconda_work/Faster-R-CNN-pytorch-main/data/ori_data/drama_clip/502/clip.mp4\n",
      "\n"
     ]
    },
    {
     "name": "stderr",
     "output_type": "stream",
     "text": [
      "                                                            \r"
     ]
    },
    {
     "name": "stdout",
     "output_type": "stream",
     "text": [
      "Moviepy - Done !\n",
      "Moviepy - video ready C:/Users/naoki/anaconda_work/Faster-R-CNN-pytorch-main/data/ori_data/drama_clip/502/clip.mp4\n",
      "Moviepy - Building video C:/Users/naoki/anaconda_work/Faster-R-CNN-pytorch-main/data/ori_data/drama_clip/503/clip.mp4.\n",
      "Moviepy - Writing video C:/Users/naoki/anaconda_work/Faster-R-CNN-pytorch-main/data/ori_data/drama_clip/503/clip.mp4\n",
      "\n"
     ]
    },
    {
     "name": "stderr",
     "output_type": "stream",
     "text": [
      "                                                            \r"
     ]
    },
    {
     "name": "stdout",
     "output_type": "stream",
     "text": [
      "Moviepy - Done !\n",
      "Moviepy - video ready C:/Users/naoki/anaconda_work/Faster-R-CNN-pytorch-main/data/ori_data/drama_clip/503/clip.mp4\n",
      "Moviepy - Building video C:/Users/naoki/anaconda_work/Faster-R-CNN-pytorch-main/data/ori_data/drama_clip/504/clip.mp4.\n",
      "Moviepy - Writing video C:/Users/naoki/anaconda_work/Faster-R-CNN-pytorch-main/data/ori_data/drama_clip/504/clip.mp4\n",
      "\n"
     ]
    },
    {
     "name": "stderr",
     "output_type": "stream",
     "text": [
      "                                                             \r"
     ]
    },
    {
     "name": "stdout",
     "output_type": "stream",
     "text": [
      "Moviepy - Done !\n",
      "Moviepy - video ready C:/Users/naoki/anaconda_work/Faster-R-CNN-pytorch-main/data/ori_data/drama_clip/504/clip.mp4\n",
      "Moviepy - Building video C:/Users/naoki/anaconda_work/Faster-R-CNN-pytorch-main/data/ori_data/drama_clip/505/clip.mp4.\n",
      "Moviepy - Writing video C:/Users/naoki/anaconda_work/Faster-R-CNN-pytorch-main/data/ori_data/drama_clip/505/clip.mp4\n",
      "\n"
     ]
    },
    {
     "name": "stderr",
     "output_type": "stream",
     "text": [
      "                                                            \r"
     ]
    },
    {
     "name": "stdout",
     "output_type": "stream",
     "text": [
      "Moviepy - Done !\n",
      "Moviepy - video ready C:/Users/naoki/anaconda_work/Faster-R-CNN-pytorch-main/data/ori_data/drama_clip/505/clip.mp4\n",
      "Moviepy - Building video C:/Users/naoki/anaconda_work/Faster-R-CNN-pytorch-main/data/ori_data/drama_clip/506/clip.mp4.\n",
      "Moviepy - Writing video C:/Users/naoki/anaconda_work/Faster-R-CNN-pytorch-main/data/ori_data/drama_clip/506/clip.mp4\n",
      "\n"
     ]
    },
    {
     "name": "stderr",
     "output_type": "stream",
     "text": [
      "                                                            \r"
     ]
    },
    {
     "name": "stdout",
     "output_type": "stream",
     "text": [
      "Moviepy - Done !\n",
      "Moviepy - video ready C:/Users/naoki/anaconda_work/Faster-R-CNN-pytorch-main/data/ori_data/drama_clip/506/clip.mp4\n",
      "Moviepy - Building video C:/Users/naoki/anaconda_work/Faster-R-CNN-pytorch-main/data/ori_data/drama_clip/507/clip.mp4.\n",
      "Moviepy - Writing video C:/Users/naoki/anaconda_work/Faster-R-CNN-pytorch-main/data/ori_data/drama_clip/507/clip.mp4\n",
      "\n"
     ]
    },
    {
     "name": "stderr",
     "output_type": "stream",
     "text": [
      "                                                            \r"
     ]
    },
    {
     "name": "stdout",
     "output_type": "stream",
     "text": [
      "Moviepy - Done !\n",
      "Moviepy - video ready C:/Users/naoki/anaconda_work/Faster-R-CNN-pytorch-main/data/ori_data/drama_clip/507/clip.mp4\n",
      "Moviepy - Building video C:/Users/naoki/anaconda_work/Faster-R-CNN-pytorch-main/data/ori_data/drama_clip/508/clip.mp4.\n",
      "Moviepy - Writing video C:/Users/naoki/anaconda_work/Faster-R-CNN-pytorch-main/data/ori_data/drama_clip/508/clip.mp4\n",
      "\n"
     ]
    },
    {
     "name": "stderr",
     "output_type": "stream",
     "text": [
      "                                                            \r"
     ]
    },
    {
     "name": "stdout",
     "output_type": "stream",
     "text": [
      "Moviepy - Done !\n",
      "Moviepy - video ready C:/Users/naoki/anaconda_work/Faster-R-CNN-pytorch-main/data/ori_data/drama_clip/508/clip.mp4\n",
      "Moviepy - Building video C:/Users/naoki/anaconda_work/Faster-R-CNN-pytorch-main/data/ori_data/drama_clip/509/clip.mp4.\n",
      "Moviepy - Writing video C:/Users/naoki/anaconda_work/Faster-R-CNN-pytorch-main/data/ori_data/drama_clip/509/clip.mp4\n",
      "\n"
     ]
    },
    {
     "name": "stderr",
     "output_type": "stream",
     "text": [
      "                                                            \r"
     ]
    },
    {
     "name": "stdout",
     "output_type": "stream",
     "text": [
      "Moviepy - Done !\n",
      "Moviepy - video ready C:/Users/naoki/anaconda_work/Faster-R-CNN-pytorch-main/data/ori_data/drama_clip/509/clip.mp4\n",
      "Moviepy - Building video C:/Users/naoki/anaconda_work/Faster-R-CNN-pytorch-main/data/ori_data/drama_clip/510/clip.mp4.\n",
      "Moviepy - Writing video C:/Users/naoki/anaconda_work/Faster-R-CNN-pytorch-main/data/ori_data/drama_clip/510/clip.mp4\n",
      "\n"
     ]
    },
    {
     "name": "stderr",
     "output_type": "stream",
     "text": [
      "                                                            \r"
     ]
    },
    {
     "name": "stdout",
     "output_type": "stream",
     "text": [
      "Moviepy - Done !\n",
      "Moviepy - video ready C:/Users/naoki/anaconda_work/Faster-R-CNN-pytorch-main/data/ori_data/drama_clip/510/clip.mp4\n",
      "Moviepy - Building video C:/Users/naoki/anaconda_work/Faster-R-CNN-pytorch-main/data/ori_data/drama_clip/511/clip.mp4.\n",
      "Moviepy - Writing video C:/Users/naoki/anaconda_work/Faster-R-CNN-pytorch-main/data/ori_data/drama_clip/511/clip.mp4\n",
      "\n"
     ]
    },
    {
     "name": "stderr",
     "output_type": "stream",
     "text": [
      "                                                            \r"
     ]
    },
    {
     "name": "stdout",
     "output_type": "stream",
     "text": [
      "Moviepy - Done !\n",
      "Moviepy - video ready C:/Users/naoki/anaconda_work/Faster-R-CNN-pytorch-main/data/ori_data/drama_clip/511/clip.mp4\n",
      "Moviepy - Building video C:/Users/naoki/anaconda_work/Faster-R-CNN-pytorch-main/data/ori_data/drama_clip/512/clip.mp4.\n",
      "Moviepy - Writing video C:/Users/naoki/anaconda_work/Faster-R-CNN-pytorch-main/data/ori_data/drama_clip/512/clip.mp4\n",
      "\n"
     ]
    },
    {
     "name": "stderr",
     "output_type": "stream",
     "text": [
      "                                                            \r"
     ]
    },
    {
     "name": "stdout",
     "output_type": "stream",
     "text": [
      "Moviepy - Done !\n",
      "Moviepy - video ready C:/Users/naoki/anaconda_work/Faster-R-CNN-pytorch-main/data/ori_data/drama_clip/512/clip.mp4\n",
      "Moviepy - Building video C:/Users/naoki/anaconda_work/Faster-R-CNN-pytorch-main/data/ori_data/drama_clip/513/clip.mp4.\n",
      "Moviepy - Writing video C:/Users/naoki/anaconda_work/Faster-R-CNN-pytorch-main/data/ori_data/drama_clip/513/clip.mp4\n",
      "\n"
     ]
    },
    {
     "name": "stderr",
     "output_type": "stream",
     "text": [
      "                                                            \r"
     ]
    },
    {
     "name": "stdout",
     "output_type": "stream",
     "text": [
      "Moviepy - Done !\n",
      "Moviepy - video ready C:/Users/naoki/anaconda_work/Faster-R-CNN-pytorch-main/data/ori_data/drama_clip/513/clip.mp4\n",
      "Moviepy - Building video C:/Users/naoki/anaconda_work/Faster-R-CNN-pytorch-main/data/ori_data/drama_clip/514/clip.mp4.\n",
      "Moviepy - Writing video C:/Users/naoki/anaconda_work/Faster-R-CNN-pytorch-main/data/ori_data/drama_clip/514/clip.mp4\n",
      "\n"
     ]
    },
    {
     "name": "stderr",
     "output_type": "stream",
     "text": [
      "                                                            \r"
     ]
    },
    {
     "name": "stdout",
     "output_type": "stream",
     "text": [
      "Moviepy - Done !\n",
      "Moviepy - video ready C:/Users/naoki/anaconda_work/Faster-R-CNN-pytorch-main/data/ori_data/drama_clip/514/clip.mp4\n",
      "Moviepy - Building video C:/Users/naoki/anaconda_work/Faster-R-CNN-pytorch-main/data/ori_data/drama_clip/515/clip.mp4.\n",
      "Moviepy - Writing video C:/Users/naoki/anaconda_work/Faster-R-CNN-pytorch-main/data/ori_data/drama_clip/515/clip.mp4\n",
      "\n"
     ]
    },
    {
     "name": "stderr",
     "output_type": "stream",
     "text": [
      "                                                            \r"
     ]
    },
    {
     "name": "stdout",
     "output_type": "stream",
     "text": [
      "Moviepy - Done !\n",
      "Moviepy - video ready C:/Users/naoki/anaconda_work/Faster-R-CNN-pytorch-main/data/ori_data/drama_clip/515/clip.mp4\n",
      "Moviepy - Building video C:/Users/naoki/anaconda_work/Faster-R-CNN-pytorch-main/data/ori_data/drama_clip/516/clip.mp4.\n",
      "Moviepy - Writing video C:/Users/naoki/anaconda_work/Faster-R-CNN-pytorch-main/data/ori_data/drama_clip/516/clip.mp4\n",
      "\n"
     ]
    },
    {
     "name": "stderr",
     "output_type": "stream",
     "text": [
      "                                                            \r"
     ]
    },
    {
     "name": "stdout",
     "output_type": "stream",
     "text": [
      "Moviepy - Done !\n",
      "Moviepy - video ready C:/Users/naoki/anaconda_work/Faster-R-CNN-pytorch-main/data/ori_data/drama_clip/516/clip.mp4\n",
      "Moviepy - Building video C:/Users/naoki/anaconda_work/Faster-R-CNN-pytorch-main/data/ori_data/drama_clip/517/clip.mp4.\n",
      "Moviepy - Writing video C:/Users/naoki/anaconda_work/Faster-R-CNN-pytorch-main/data/ori_data/drama_clip/517/clip.mp4\n",
      "\n"
     ]
    },
    {
     "name": "stderr",
     "output_type": "stream",
     "text": [
      "                                                            \r"
     ]
    },
    {
     "name": "stdout",
     "output_type": "stream",
     "text": [
      "Moviepy - Done !\n",
      "Moviepy - video ready C:/Users/naoki/anaconda_work/Faster-R-CNN-pytorch-main/data/ori_data/drama_clip/517/clip.mp4\n",
      "Moviepy - Building video C:/Users/naoki/anaconda_work/Faster-R-CNN-pytorch-main/data/ori_data/drama_clip/518/clip.mp4.\n",
      "Moviepy - Writing video C:/Users/naoki/anaconda_work/Faster-R-CNN-pytorch-main/data/ori_data/drama_clip/518/clip.mp4\n",
      "\n"
     ]
    },
    {
     "name": "stderr",
     "output_type": "stream",
     "text": [
      "                                                            \r"
     ]
    },
    {
     "name": "stdout",
     "output_type": "stream",
     "text": [
      "Moviepy - Done !\n",
      "Moviepy - video ready C:/Users/naoki/anaconda_work/Faster-R-CNN-pytorch-main/data/ori_data/drama_clip/518/clip.mp4\n",
      "Moviepy - Building video C:/Users/naoki/anaconda_work/Faster-R-CNN-pytorch-main/data/ori_data/drama_clip/519/clip.mp4.\n",
      "Moviepy - Writing video C:/Users/naoki/anaconda_work/Faster-R-CNN-pytorch-main/data/ori_data/drama_clip/519/clip.mp4\n",
      "\n"
     ]
    },
    {
     "name": "stderr",
     "output_type": "stream",
     "text": [
      "                                                            \r"
     ]
    },
    {
     "name": "stdout",
     "output_type": "stream",
     "text": [
      "Moviepy - Done !\n",
      "Moviepy - video ready C:/Users/naoki/anaconda_work/Faster-R-CNN-pytorch-main/data/ori_data/drama_clip/519/clip.mp4\n",
      "Moviepy - Building video C:/Users/naoki/anaconda_work/Faster-R-CNN-pytorch-main/data/ori_data/drama_clip/520/clip.mp4.\n",
      "Moviepy - Writing video C:/Users/naoki/anaconda_work/Faster-R-CNN-pytorch-main/data/ori_data/drama_clip/520/clip.mp4\n",
      "\n"
     ]
    },
    {
     "name": "stderr",
     "output_type": "stream",
     "text": [
      "                                                            \r"
     ]
    },
    {
     "name": "stdout",
     "output_type": "stream",
     "text": [
      "Moviepy - Done !\n",
      "Moviepy - video ready C:/Users/naoki/anaconda_work/Faster-R-CNN-pytorch-main/data/ori_data/drama_clip/520/clip.mp4\n",
      "Moviepy - Building video C:/Users/naoki/anaconda_work/Faster-R-CNN-pytorch-main/data/ori_data/drama_clip/521/clip.mp4.\n",
      "Moviepy - Writing video C:/Users/naoki/anaconda_work/Faster-R-CNN-pytorch-main/data/ori_data/drama_clip/521/clip.mp4\n",
      "\n"
     ]
    },
    {
     "name": "stderr",
     "output_type": "stream",
     "text": [
      "                                                            \r"
     ]
    },
    {
     "name": "stdout",
     "output_type": "stream",
     "text": [
      "Moviepy - Done !\n",
      "Moviepy - video ready C:/Users/naoki/anaconda_work/Faster-R-CNN-pytorch-main/data/ori_data/drama_clip/521/clip.mp4\n",
      "Moviepy - Building video C:/Users/naoki/anaconda_work/Faster-R-CNN-pytorch-main/data/ori_data/drama_clip/522/clip.mp4.\n",
      "Moviepy - Writing video C:/Users/naoki/anaconda_work/Faster-R-CNN-pytorch-main/data/ori_data/drama_clip/522/clip.mp4\n",
      "\n"
     ]
    },
    {
     "name": "stderr",
     "output_type": "stream",
     "text": [
      "                                                            \r"
     ]
    },
    {
     "name": "stdout",
     "output_type": "stream",
     "text": [
      "Moviepy - Done !\n",
      "Moviepy - video ready C:/Users/naoki/anaconda_work/Faster-R-CNN-pytorch-main/data/ori_data/drama_clip/522/clip.mp4\n",
      "Moviepy - Building video C:/Users/naoki/anaconda_work/Faster-R-CNN-pytorch-main/data/ori_data/drama_clip/523/clip.mp4.\n",
      "Moviepy - Writing video C:/Users/naoki/anaconda_work/Faster-R-CNN-pytorch-main/data/ori_data/drama_clip/523/clip.mp4\n",
      "\n"
     ]
    },
    {
     "name": "stderr",
     "output_type": "stream",
     "text": [
      "                                                            \r"
     ]
    },
    {
     "name": "stdout",
     "output_type": "stream",
     "text": [
      "Moviepy - Done !\n",
      "Moviepy - video ready C:/Users/naoki/anaconda_work/Faster-R-CNN-pytorch-main/data/ori_data/drama_clip/523/clip.mp4\n",
      "Moviepy - Building video C:/Users/naoki/anaconda_work/Faster-R-CNN-pytorch-main/data/ori_data/drama_clip/524/clip.mp4.\n",
      "Moviepy - Writing video C:/Users/naoki/anaconda_work/Faster-R-CNN-pytorch-main/data/ori_data/drama_clip/524/clip.mp4\n",
      "\n"
     ]
    },
    {
     "name": "stderr",
     "output_type": "stream",
     "text": [
      "                                                            \r"
     ]
    },
    {
     "name": "stdout",
     "output_type": "stream",
     "text": [
      "Moviepy - Done !\n",
      "Moviepy - video ready C:/Users/naoki/anaconda_work/Faster-R-CNN-pytorch-main/data/ori_data/drama_clip/524/clip.mp4\n",
      "Moviepy - Building video C:/Users/naoki/anaconda_work/Faster-R-CNN-pytorch-main/data/ori_data/drama_clip/525/clip.mp4.\n",
      "Moviepy - Writing video C:/Users/naoki/anaconda_work/Faster-R-CNN-pytorch-main/data/ori_data/drama_clip/525/clip.mp4\n",
      "\n"
     ]
    },
    {
     "name": "stderr",
     "output_type": "stream",
     "text": [
      "                                                            \r"
     ]
    },
    {
     "name": "stdout",
     "output_type": "stream",
     "text": [
      "Moviepy - Done !\n",
      "Moviepy - video ready C:/Users/naoki/anaconda_work/Faster-R-CNN-pytorch-main/data/ori_data/drama_clip/525/clip.mp4\n",
      "Moviepy - Building video C:/Users/naoki/anaconda_work/Faster-R-CNN-pytorch-main/data/ori_data/drama_clip/526/clip.mp4.\n",
      "Moviepy - Writing video C:/Users/naoki/anaconda_work/Faster-R-CNN-pytorch-main/data/ori_data/drama_clip/526/clip.mp4\n",
      "\n"
     ]
    },
    {
     "name": "stderr",
     "output_type": "stream",
     "text": [
      "                                                            \r"
     ]
    },
    {
     "name": "stdout",
     "output_type": "stream",
     "text": [
      "Moviepy - Done !\n",
      "Moviepy - video ready C:/Users/naoki/anaconda_work/Faster-R-CNN-pytorch-main/data/ori_data/drama_clip/526/clip.mp4\n",
      "Moviepy - Building video C:/Users/naoki/anaconda_work/Faster-R-CNN-pytorch-main/data/ori_data/drama_clip/527/clip.mp4.\n",
      "Moviepy - Writing video C:/Users/naoki/anaconda_work/Faster-R-CNN-pytorch-main/data/ori_data/drama_clip/527/clip.mp4\n",
      "\n"
     ]
    },
    {
     "name": "stderr",
     "output_type": "stream",
     "text": [
      "                                                            \r"
     ]
    },
    {
     "name": "stdout",
     "output_type": "stream",
     "text": [
      "Moviepy - Done !\n",
      "Moviepy - video ready C:/Users/naoki/anaconda_work/Faster-R-CNN-pytorch-main/data/ori_data/drama_clip/527/clip.mp4\n",
      "Moviepy - Building video C:/Users/naoki/anaconda_work/Faster-R-CNN-pytorch-main/data/ori_data/drama_clip/528/clip.mp4.\n",
      "Moviepy - Writing video C:/Users/naoki/anaconda_work/Faster-R-CNN-pytorch-main/data/ori_data/drama_clip/528/clip.mp4\n",
      "\n"
     ]
    },
    {
     "name": "stderr",
     "output_type": "stream",
     "text": [
      "                                                            \r"
     ]
    },
    {
     "name": "stdout",
     "output_type": "stream",
     "text": [
      "Moviepy - Done !\n",
      "Moviepy - video ready C:/Users/naoki/anaconda_work/Faster-R-CNN-pytorch-main/data/ori_data/drama_clip/528/clip.mp4\n",
      "Moviepy - Building video C:/Users/naoki/anaconda_work/Faster-R-CNN-pytorch-main/data/ori_data/drama_clip/529/clip.mp4.\n",
      "Moviepy - Writing video C:/Users/naoki/anaconda_work/Faster-R-CNN-pytorch-main/data/ori_data/drama_clip/529/clip.mp4\n",
      "\n"
     ]
    },
    {
     "name": "stderr",
     "output_type": "stream",
     "text": [
      "                                                            \r"
     ]
    },
    {
     "name": "stdout",
     "output_type": "stream",
     "text": [
      "Moviepy - Done !\n",
      "Moviepy - video ready C:/Users/naoki/anaconda_work/Faster-R-CNN-pytorch-main/data/ori_data/drama_clip/529/clip.mp4\n",
      "Moviepy - Building video C:/Users/naoki/anaconda_work/Faster-R-CNN-pytorch-main/data/ori_data/drama_clip/530/clip.mp4.\n",
      "Moviepy - Writing video C:/Users/naoki/anaconda_work/Faster-R-CNN-pytorch-main/data/ori_data/drama_clip/530/clip.mp4\n",
      "\n"
     ]
    },
    {
     "name": "stderr",
     "output_type": "stream",
     "text": [
      "                                                            \r"
     ]
    },
    {
     "name": "stdout",
     "output_type": "stream",
     "text": [
      "Moviepy - Done !\n",
      "Moviepy - video ready C:/Users/naoki/anaconda_work/Faster-R-CNN-pytorch-main/data/ori_data/drama_clip/530/clip.mp4\n",
      "Moviepy - Building video C:/Users/naoki/anaconda_work/Faster-R-CNN-pytorch-main/data/ori_data/drama_clip/531/clip.mp4.\n",
      "Moviepy - Writing video C:/Users/naoki/anaconda_work/Faster-R-CNN-pytorch-main/data/ori_data/drama_clip/531/clip.mp4\n",
      "\n"
     ]
    },
    {
     "name": "stderr",
     "output_type": "stream",
     "text": [
      "                                                            \r"
     ]
    },
    {
     "name": "stdout",
     "output_type": "stream",
     "text": [
      "Moviepy - Done !\n",
      "Moviepy - video ready C:/Users/naoki/anaconda_work/Faster-R-CNN-pytorch-main/data/ori_data/drama_clip/531/clip.mp4\n",
      "Moviepy - Building video C:/Users/naoki/anaconda_work/Faster-R-CNN-pytorch-main/data/ori_data/drama_clip/532/clip.mp4.\n",
      "Moviepy - Writing video C:/Users/naoki/anaconda_work/Faster-R-CNN-pytorch-main/data/ori_data/drama_clip/532/clip.mp4\n",
      "\n"
     ]
    },
    {
     "name": "stderr",
     "output_type": "stream",
     "text": [
      "                                                            \r"
     ]
    },
    {
     "name": "stdout",
     "output_type": "stream",
     "text": [
      "Moviepy - Done !\n",
      "Moviepy - video ready C:/Users/naoki/anaconda_work/Faster-R-CNN-pytorch-main/data/ori_data/drama_clip/532/clip.mp4\n",
      "Moviepy - Building video C:/Users/naoki/anaconda_work/Faster-R-CNN-pytorch-main/data/ori_data/drama_clip/533/clip.mp4.\n",
      "Moviepy - Writing video C:/Users/naoki/anaconda_work/Faster-R-CNN-pytorch-main/data/ori_data/drama_clip/533/clip.mp4\n",
      "\n"
     ]
    },
    {
     "name": "stderr",
     "output_type": "stream",
     "text": [
      "                                                            \r"
     ]
    },
    {
     "name": "stdout",
     "output_type": "stream",
     "text": [
      "Moviepy - Done !\n",
      "Moviepy - video ready C:/Users/naoki/anaconda_work/Faster-R-CNN-pytorch-main/data/ori_data/drama_clip/533/clip.mp4\n",
      "Moviepy - Building video C:/Users/naoki/anaconda_work/Faster-R-CNN-pytorch-main/data/ori_data/drama_clip/534/clip.mp4.\n",
      "Moviepy - Writing video C:/Users/naoki/anaconda_work/Faster-R-CNN-pytorch-main/data/ori_data/drama_clip/534/clip.mp4\n",
      "\n"
     ]
    },
    {
     "name": "stderr",
     "output_type": "stream",
     "text": [
      "                                                            \r"
     ]
    },
    {
     "name": "stdout",
     "output_type": "stream",
     "text": [
      "Moviepy - Done !\n",
      "Moviepy - video ready C:/Users/naoki/anaconda_work/Faster-R-CNN-pytorch-main/data/ori_data/drama_clip/534/clip.mp4\n",
      "Moviepy - Building video C:/Users/naoki/anaconda_work/Faster-R-CNN-pytorch-main/data/ori_data/drama_clip/535/clip.mp4.\n",
      "Moviepy - Writing video C:/Users/naoki/anaconda_work/Faster-R-CNN-pytorch-main/data/ori_data/drama_clip/535/clip.mp4\n",
      "\n"
     ]
    },
    {
     "name": "stderr",
     "output_type": "stream",
     "text": [
      "                                                             \r"
     ]
    },
    {
     "name": "stdout",
     "output_type": "stream",
     "text": [
      "Moviepy - Done !\n",
      "Moviepy - video ready C:/Users/naoki/anaconda_work/Faster-R-CNN-pytorch-main/data/ori_data/drama_clip/535/clip.mp4\n",
      "Moviepy - Building video C:/Users/naoki/anaconda_work/Faster-R-CNN-pytorch-main/data/ori_data/drama_clip/536/clip.mp4.\n",
      "Moviepy - Writing video C:/Users/naoki/anaconda_work/Faster-R-CNN-pytorch-main/data/ori_data/drama_clip/536/clip.mp4\n",
      "\n"
     ]
    },
    {
     "name": "stderr",
     "output_type": "stream",
     "text": [
      "                                                            \r"
     ]
    },
    {
     "name": "stdout",
     "output_type": "stream",
     "text": [
      "Moviepy - Done !\n",
      "Moviepy - video ready C:/Users/naoki/anaconda_work/Faster-R-CNN-pytorch-main/data/ori_data/drama_clip/536/clip.mp4\n",
      "Moviepy - Building video C:/Users/naoki/anaconda_work/Faster-R-CNN-pytorch-main/data/ori_data/drama_clip/537/clip.mp4.\n",
      "Moviepy - Writing video C:/Users/naoki/anaconda_work/Faster-R-CNN-pytorch-main/data/ori_data/drama_clip/537/clip.mp4\n",
      "\n"
     ]
    },
    {
     "name": "stderr",
     "output_type": "stream",
     "text": [
      "                                                            \r"
     ]
    },
    {
     "name": "stdout",
     "output_type": "stream",
     "text": [
      "Moviepy - Done !\n",
      "Moviepy - video ready C:/Users/naoki/anaconda_work/Faster-R-CNN-pytorch-main/data/ori_data/drama_clip/537/clip.mp4\n",
      "Moviepy - Building video C:/Users/naoki/anaconda_work/Faster-R-CNN-pytorch-main/data/ori_data/drama_clip/538/clip.mp4.\n",
      "Moviepy - Writing video C:/Users/naoki/anaconda_work/Faster-R-CNN-pytorch-main/data/ori_data/drama_clip/538/clip.mp4\n",
      "\n"
     ]
    },
    {
     "name": "stderr",
     "output_type": "stream",
     "text": [
      "                                                            \r"
     ]
    },
    {
     "name": "stdout",
     "output_type": "stream",
     "text": [
      "Moviepy - Done !\n",
      "Moviepy - video ready C:/Users/naoki/anaconda_work/Faster-R-CNN-pytorch-main/data/ori_data/drama_clip/538/clip.mp4\n",
      "Moviepy - Building video C:/Users/naoki/anaconda_work/Faster-R-CNN-pytorch-main/data/ori_data/drama_clip/539/clip.mp4.\n",
      "Moviepy - Writing video C:/Users/naoki/anaconda_work/Faster-R-CNN-pytorch-main/data/ori_data/drama_clip/539/clip.mp4\n",
      "\n"
     ]
    },
    {
     "name": "stderr",
     "output_type": "stream",
     "text": [
      "                                                            \r"
     ]
    },
    {
     "name": "stdout",
     "output_type": "stream",
     "text": [
      "Moviepy - Done !\n",
      "Moviepy - video ready C:/Users/naoki/anaconda_work/Faster-R-CNN-pytorch-main/data/ori_data/drama_clip/539/clip.mp4\n",
      "Moviepy - Building video C:/Users/naoki/anaconda_work/Faster-R-CNN-pytorch-main/data/ori_data/drama_clip/540/clip.mp4.\n",
      "Moviepy - Writing video C:/Users/naoki/anaconda_work/Faster-R-CNN-pytorch-main/data/ori_data/drama_clip/540/clip.mp4\n",
      "\n"
     ]
    },
    {
     "name": "stderr",
     "output_type": "stream",
     "text": [
      "                                                            \r"
     ]
    },
    {
     "name": "stdout",
     "output_type": "stream",
     "text": [
      "Moviepy - Done !\n",
      "Moviepy - video ready C:/Users/naoki/anaconda_work/Faster-R-CNN-pytorch-main/data/ori_data/drama_clip/540/clip.mp4\n",
      "Moviepy - Building video C:/Users/naoki/anaconda_work/Faster-R-CNN-pytorch-main/data/ori_data/drama_clip/541/clip.mp4.\n",
      "Moviepy - Writing video C:/Users/naoki/anaconda_work/Faster-R-CNN-pytorch-main/data/ori_data/drama_clip/541/clip.mp4\n",
      "\n"
     ]
    },
    {
     "name": "stderr",
     "output_type": "stream",
     "text": [
      "                                                            \r"
     ]
    },
    {
     "name": "stdout",
     "output_type": "stream",
     "text": [
      "Moviepy - Done !\n",
      "Moviepy - video ready C:/Users/naoki/anaconda_work/Faster-R-CNN-pytorch-main/data/ori_data/drama_clip/541/clip.mp4\n",
      "Moviepy - Building video C:/Users/naoki/anaconda_work/Faster-R-CNN-pytorch-main/data/ori_data/drama_clip/542/clip.mp4.\n",
      "Moviepy - Writing video C:/Users/naoki/anaconda_work/Faster-R-CNN-pytorch-main/data/ori_data/drama_clip/542/clip.mp4\n",
      "\n"
     ]
    },
    {
     "name": "stderr",
     "output_type": "stream",
     "text": [
      "                                                            \r"
     ]
    },
    {
     "name": "stdout",
     "output_type": "stream",
     "text": [
      "Moviepy - Done !\n",
      "Moviepy - video ready C:/Users/naoki/anaconda_work/Faster-R-CNN-pytorch-main/data/ori_data/drama_clip/542/clip.mp4\n",
      "Moviepy - Building video C:/Users/naoki/anaconda_work/Faster-R-CNN-pytorch-main/data/ori_data/drama_clip/543/clip.mp4.\n",
      "Moviepy - Writing video C:/Users/naoki/anaconda_work/Faster-R-CNN-pytorch-main/data/ori_data/drama_clip/543/clip.mp4\n",
      "\n"
     ]
    },
    {
     "name": "stderr",
     "output_type": "stream",
     "text": [
      "                                                            \r"
     ]
    },
    {
     "name": "stdout",
     "output_type": "stream",
     "text": [
      "Moviepy - Done !\n",
      "Moviepy - video ready C:/Users/naoki/anaconda_work/Faster-R-CNN-pytorch-main/data/ori_data/drama_clip/543/clip.mp4\n",
      "Moviepy - Building video C:/Users/naoki/anaconda_work/Faster-R-CNN-pytorch-main/data/ori_data/drama_clip/544/clip.mp4.\n",
      "Moviepy - Writing video C:/Users/naoki/anaconda_work/Faster-R-CNN-pytorch-main/data/ori_data/drama_clip/544/clip.mp4\n",
      "\n"
     ]
    },
    {
     "name": "stderr",
     "output_type": "stream",
     "text": [
      "                                                            \r"
     ]
    },
    {
     "name": "stdout",
     "output_type": "stream",
     "text": [
      "Moviepy - Done !\n",
      "Moviepy - video ready C:/Users/naoki/anaconda_work/Faster-R-CNN-pytorch-main/data/ori_data/drama_clip/544/clip.mp4\n",
      "Moviepy - Building video C:/Users/naoki/anaconda_work/Faster-R-CNN-pytorch-main/data/ori_data/drama_clip/545/clip.mp4.\n",
      "Moviepy - Writing video C:/Users/naoki/anaconda_work/Faster-R-CNN-pytorch-main/data/ori_data/drama_clip/545/clip.mp4\n",
      "\n"
     ]
    },
    {
     "name": "stderr",
     "output_type": "stream",
     "text": [
      "                                                            \r"
     ]
    },
    {
     "name": "stdout",
     "output_type": "stream",
     "text": [
      "Moviepy - Done !\n",
      "Moviepy - video ready C:/Users/naoki/anaconda_work/Faster-R-CNN-pytorch-main/data/ori_data/drama_clip/545/clip.mp4\n",
      "Moviepy - Building video C:/Users/naoki/anaconda_work/Faster-R-CNN-pytorch-main/data/ori_data/drama_clip/546/clip.mp4.\n",
      "Moviepy - Writing video C:/Users/naoki/anaconda_work/Faster-R-CNN-pytorch-main/data/ori_data/drama_clip/546/clip.mp4\n",
      "\n"
     ]
    },
    {
     "name": "stderr",
     "output_type": "stream",
     "text": [
      "                                                            \r"
     ]
    },
    {
     "name": "stdout",
     "output_type": "stream",
     "text": [
      "Moviepy - Done !\n",
      "Moviepy - video ready C:/Users/naoki/anaconda_work/Faster-R-CNN-pytorch-main/data/ori_data/drama_clip/546/clip.mp4\n",
      "Moviepy - Building video C:/Users/naoki/anaconda_work/Faster-R-CNN-pytorch-main/data/ori_data/drama_clip/547/clip.mp4.\n",
      "Moviepy - Writing video C:/Users/naoki/anaconda_work/Faster-R-CNN-pytorch-main/data/ori_data/drama_clip/547/clip.mp4\n",
      "\n"
     ]
    },
    {
     "name": "stderr",
     "output_type": "stream",
     "text": [
      "                                                            \r"
     ]
    },
    {
     "name": "stdout",
     "output_type": "stream",
     "text": [
      "Moviepy - Done !\n",
      "Moviepy - video ready C:/Users/naoki/anaconda_work/Faster-R-CNN-pytorch-main/data/ori_data/drama_clip/547/clip.mp4\n",
      "Moviepy - Building video C:/Users/naoki/anaconda_work/Faster-R-CNN-pytorch-main/data/ori_data/drama_clip/548/clip.mp4.\n",
      "Moviepy - Writing video C:/Users/naoki/anaconda_work/Faster-R-CNN-pytorch-main/data/ori_data/drama_clip/548/clip.mp4\n",
      "\n"
     ]
    },
    {
     "name": "stderr",
     "output_type": "stream",
     "text": [
      "                                                            \r"
     ]
    },
    {
     "name": "stdout",
     "output_type": "stream",
     "text": [
      "Moviepy - Done !\n",
      "Moviepy - video ready C:/Users/naoki/anaconda_work/Faster-R-CNN-pytorch-main/data/ori_data/drama_clip/548/clip.mp4\n",
      "Moviepy - Building video C:/Users/naoki/anaconda_work/Faster-R-CNN-pytorch-main/data/ori_data/drama_clip/549/clip.mp4.\n",
      "Moviepy - Writing video C:/Users/naoki/anaconda_work/Faster-R-CNN-pytorch-main/data/ori_data/drama_clip/549/clip.mp4\n",
      "\n"
     ]
    },
    {
     "name": "stderr",
     "output_type": "stream",
     "text": [
      "                                                            \r"
     ]
    },
    {
     "name": "stdout",
     "output_type": "stream",
     "text": [
      "Moviepy - Done !\n",
      "Moviepy - video ready C:/Users/naoki/anaconda_work/Faster-R-CNN-pytorch-main/data/ori_data/drama_clip/549/clip.mp4\n",
      "Moviepy - Building video C:/Users/naoki/anaconda_work/Faster-R-CNN-pytorch-main/data/ori_data/drama_clip/550/clip.mp4.\n",
      "Moviepy - Writing video C:/Users/naoki/anaconda_work/Faster-R-CNN-pytorch-main/data/ori_data/drama_clip/550/clip.mp4\n",
      "\n"
     ]
    },
    {
     "name": "stderr",
     "output_type": "stream",
     "text": [
      "                                                            \r"
     ]
    },
    {
     "name": "stdout",
     "output_type": "stream",
     "text": [
      "Moviepy - Done !\n",
      "Moviepy - video ready C:/Users/naoki/anaconda_work/Faster-R-CNN-pytorch-main/data/ori_data/drama_clip/550/clip.mp4\n",
      "Moviepy - Building video C:/Users/naoki/anaconda_work/Faster-R-CNN-pytorch-main/data/ori_data/drama_clip/551/clip.mp4.\n",
      "Moviepy - Writing video C:/Users/naoki/anaconda_work/Faster-R-CNN-pytorch-main/data/ori_data/drama_clip/551/clip.mp4\n",
      "\n"
     ]
    },
    {
     "name": "stderr",
     "output_type": "stream",
     "text": [
      "                                                            \r"
     ]
    },
    {
     "name": "stdout",
     "output_type": "stream",
     "text": [
      "Moviepy - Done !\n",
      "Moviepy - video ready C:/Users/naoki/anaconda_work/Faster-R-CNN-pytorch-main/data/ori_data/drama_clip/551/clip.mp4\n",
      "Moviepy - Building video C:/Users/naoki/anaconda_work/Faster-R-CNN-pytorch-main/data/ori_data/drama_clip/552/clip.mp4.\n",
      "Moviepy - Writing video C:/Users/naoki/anaconda_work/Faster-R-CNN-pytorch-main/data/ori_data/drama_clip/552/clip.mp4\n",
      "\n"
     ]
    },
    {
     "name": "stderr",
     "output_type": "stream",
     "text": [
      "                                                            \r"
     ]
    },
    {
     "name": "stdout",
     "output_type": "stream",
     "text": [
      "Moviepy - Done !\n",
      "Moviepy - video ready C:/Users/naoki/anaconda_work/Faster-R-CNN-pytorch-main/data/ori_data/drama_clip/552/clip.mp4\n",
      "Moviepy - Building video C:/Users/naoki/anaconda_work/Faster-R-CNN-pytorch-main/data/ori_data/drama_clip/553/clip.mp4.\n",
      "Moviepy - Writing video C:/Users/naoki/anaconda_work/Faster-R-CNN-pytorch-main/data/ori_data/drama_clip/553/clip.mp4\n",
      "\n"
     ]
    },
    {
     "name": "stderr",
     "output_type": "stream",
     "text": [
      "                                                            \r"
     ]
    },
    {
     "name": "stdout",
     "output_type": "stream",
     "text": [
      "Moviepy - Done !\n",
      "Moviepy - video ready C:/Users/naoki/anaconda_work/Faster-R-CNN-pytorch-main/data/ori_data/drama_clip/553/clip.mp4\n",
      "Moviepy - Building video C:/Users/naoki/anaconda_work/Faster-R-CNN-pytorch-main/data/ori_data/drama_clip/554/clip.mp4.\n",
      "Moviepy - Writing video C:/Users/naoki/anaconda_work/Faster-R-CNN-pytorch-main/data/ori_data/drama_clip/554/clip.mp4\n",
      "\n"
     ]
    },
    {
     "name": "stderr",
     "output_type": "stream",
     "text": [
      "                                                            \r"
     ]
    },
    {
     "name": "stdout",
     "output_type": "stream",
     "text": [
      "Moviepy - Done !\n",
      "Moviepy - video ready C:/Users/naoki/anaconda_work/Faster-R-CNN-pytorch-main/data/ori_data/drama_clip/554/clip.mp4\n",
      "Moviepy - Building video C:/Users/naoki/anaconda_work/Faster-R-CNN-pytorch-main/data/ori_data/drama_clip/555/clip.mp4.\n",
      "Moviepy - Writing video C:/Users/naoki/anaconda_work/Faster-R-CNN-pytorch-main/data/ori_data/drama_clip/555/clip.mp4\n",
      "\n"
     ]
    },
    {
     "name": "stderr",
     "output_type": "stream",
     "text": [
      "                                                            \r"
     ]
    },
    {
     "name": "stdout",
     "output_type": "stream",
     "text": [
      "Moviepy - Done !\n",
      "Moviepy - video ready C:/Users/naoki/anaconda_work/Faster-R-CNN-pytorch-main/data/ori_data/drama_clip/555/clip.mp4\n",
      "Moviepy - Building video C:/Users/naoki/anaconda_work/Faster-R-CNN-pytorch-main/data/ori_data/drama_clip/556/clip.mp4.\n",
      "Moviepy - Writing video C:/Users/naoki/anaconda_work/Faster-R-CNN-pytorch-main/data/ori_data/drama_clip/556/clip.mp4\n",
      "\n"
     ]
    },
    {
     "name": "stderr",
     "output_type": "stream",
     "text": [
      "                                                            \r"
     ]
    },
    {
     "name": "stdout",
     "output_type": "stream",
     "text": [
      "Moviepy - Done !\n",
      "Moviepy - video ready C:/Users/naoki/anaconda_work/Faster-R-CNN-pytorch-main/data/ori_data/drama_clip/556/clip.mp4\n",
      "Moviepy - Building video C:/Users/naoki/anaconda_work/Faster-R-CNN-pytorch-main/data/ori_data/drama_clip/557/clip.mp4.\n",
      "Moviepy - Writing video C:/Users/naoki/anaconda_work/Faster-R-CNN-pytorch-main/data/ori_data/drama_clip/557/clip.mp4\n",
      "\n"
     ]
    },
    {
     "name": "stderr",
     "output_type": "stream",
     "text": [
      "                                                            \r"
     ]
    },
    {
     "name": "stdout",
     "output_type": "stream",
     "text": [
      "Moviepy - Done !\n",
      "Moviepy - video ready C:/Users/naoki/anaconda_work/Faster-R-CNN-pytorch-main/data/ori_data/drama_clip/557/clip.mp4\n",
      "Moviepy - Building video C:/Users/naoki/anaconda_work/Faster-R-CNN-pytorch-main/data/ori_data/drama_clip/558/clip.mp4.\n",
      "Moviepy - Writing video C:/Users/naoki/anaconda_work/Faster-R-CNN-pytorch-main/data/ori_data/drama_clip/558/clip.mp4\n",
      "\n"
     ]
    },
    {
     "name": "stderr",
     "output_type": "stream",
     "text": [
      "                                                            \r"
     ]
    },
    {
     "name": "stdout",
     "output_type": "stream",
     "text": [
      "Moviepy - Done !\n",
      "Moviepy - video ready C:/Users/naoki/anaconda_work/Faster-R-CNN-pytorch-main/data/ori_data/drama_clip/558/clip.mp4\n",
      "Moviepy - Building video C:/Users/naoki/anaconda_work/Faster-R-CNN-pytorch-main/data/ori_data/drama_clip/559/clip.mp4.\n",
      "Moviepy - Writing video C:/Users/naoki/anaconda_work/Faster-R-CNN-pytorch-main/data/ori_data/drama_clip/559/clip.mp4\n",
      "\n"
     ]
    },
    {
     "name": "stderr",
     "output_type": "stream",
     "text": [
      "                                                            \r"
     ]
    },
    {
     "name": "stdout",
     "output_type": "stream",
     "text": [
      "Moviepy - Done !\n",
      "Moviepy - video ready C:/Users/naoki/anaconda_work/Faster-R-CNN-pytorch-main/data/ori_data/drama_clip/559/clip.mp4\n",
      "Moviepy - Building video C:/Users/naoki/anaconda_work/Faster-R-CNN-pytorch-main/data/ori_data/drama_clip/560/clip.mp4.\n",
      "Moviepy - Writing video C:/Users/naoki/anaconda_work/Faster-R-CNN-pytorch-main/data/ori_data/drama_clip/560/clip.mp4\n",
      "\n"
     ]
    },
    {
     "name": "stderr",
     "output_type": "stream",
     "text": [
      "                                                            \r"
     ]
    },
    {
     "name": "stdout",
     "output_type": "stream",
     "text": [
      "Moviepy - Done !\n",
      "Moviepy - video ready C:/Users/naoki/anaconda_work/Faster-R-CNN-pytorch-main/data/ori_data/drama_clip/560/clip.mp4\n",
      "Moviepy - Building video C:/Users/naoki/anaconda_work/Faster-R-CNN-pytorch-main/data/ori_data/drama_clip/561/clip.mp4.\n",
      "Moviepy - Writing video C:/Users/naoki/anaconda_work/Faster-R-CNN-pytorch-main/data/ori_data/drama_clip/561/clip.mp4\n",
      "\n"
     ]
    },
    {
     "name": "stderr",
     "output_type": "stream",
     "text": [
      "                                                            \r"
     ]
    },
    {
     "name": "stdout",
     "output_type": "stream",
     "text": [
      "Moviepy - Done !\n",
      "Moviepy - video ready C:/Users/naoki/anaconda_work/Faster-R-CNN-pytorch-main/data/ori_data/drama_clip/561/clip.mp4\n",
      "Moviepy - Building video C:/Users/naoki/anaconda_work/Faster-R-CNN-pytorch-main/data/ori_data/drama_clip/562/clip.mp4.\n",
      "Moviepy - Writing video C:/Users/naoki/anaconda_work/Faster-R-CNN-pytorch-main/data/ori_data/drama_clip/562/clip.mp4\n",
      "\n"
     ]
    },
    {
     "name": "stderr",
     "output_type": "stream",
     "text": [
      "                                                            \r"
     ]
    },
    {
     "name": "stdout",
     "output_type": "stream",
     "text": [
      "Moviepy - Done !\n",
      "Moviepy - video ready C:/Users/naoki/anaconda_work/Faster-R-CNN-pytorch-main/data/ori_data/drama_clip/562/clip.mp4\n",
      "Moviepy - Building video C:/Users/naoki/anaconda_work/Faster-R-CNN-pytorch-main/data/ori_data/drama_clip/563/clip.mp4.\n",
      "Moviepy - Writing video C:/Users/naoki/anaconda_work/Faster-R-CNN-pytorch-main/data/ori_data/drama_clip/563/clip.mp4\n",
      "\n"
     ]
    },
    {
     "name": "stderr",
     "output_type": "stream",
     "text": [
      "                                                            \r"
     ]
    },
    {
     "name": "stdout",
     "output_type": "stream",
     "text": [
      "Moviepy - Done !\n",
      "Moviepy - video ready C:/Users/naoki/anaconda_work/Faster-R-CNN-pytorch-main/data/ori_data/drama_clip/563/clip.mp4\n",
      "Moviepy - Building video C:/Users/naoki/anaconda_work/Faster-R-CNN-pytorch-main/data/ori_data/drama_clip/564/clip.mp4.\n",
      "Moviepy - Writing video C:/Users/naoki/anaconda_work/Faster-R-CNN-pytorch-main/data/ori_data/drama_clip/564/clip.mp4\n",
      "\n"
     ]
    },
    {
     "name": "stderr",
     "output_type": "stream",
     "text": [
      "                                                            \r"
     ]
    },
    {
     "name": "stdout",
     "output_type": "stream",
     "text": [
      "Moviepy - Done !\n",
      "Moviepy - video ready C:/Users/naoki/anaconda_work/Faster-R-CNN-pytorch-main/data/ori_data/drama_clip/564/clip.mp4\n",
      "Moviepy - Building video C:/Users/naoki/anaconda_work/Faster-R-CNN-pytorch-main/data/ori_data/drama_clip/565/clip.mp4.\n",
      "Moviepy - Writing video C:/Users/naoki/anaconda_work/Faster-R-CNN-pytorch-main/data/ori_data/drama_clip/565/clip.mp4\n",
      "\n"
     ]
    },
    {
     "name": "stderr",
     "output_type": "stream",
     "text": [
      "                                                            \r"
     ]
    },
    {
     "name": "stdout",
     "output_type": "stream",
     "text": [
      "Moviepy - Done !\n",
      "Moviepy - video ready C:/Users/naoki/anaconda_work/Faster-R-CNN-pytorch-main/data/ori_data/drama_clip/565/clip.mp4\n",
      "Moviepy - Building video C:/Users/naoki/anaconda_work/Faster-R-CNN-pytorch-main/data/ori_data/drama_clip/566/clip.mp4.\n",
      "Moviepy - Writing video C:/Users/naoki/anaconda_work/Faster-R-CNN-pytorch-main/data/ori_data/drama_clip/566/clip.mp4\n",
      "\n"
     ]
    },
    {
     "name": "stderr",
     "output_type": "stream",
     "text": [
      "                                                            \r"
     ]
    },
    {
     "name": "stdout",
     "output_type": "stream",
     "text": [
      "Moviepy - Done !\n",
      "Moviepy - video ready C:/Users/naoki/anaconda_work/Faster-R-CNN-pytorch-main/data/ori_data/drama_clip/566/clip.mp4\n",
      "Moviepy - Building video C:/Users/naoki/anaconda_work/Faster-R-CNN-pytorch-main/data/ori_data/drama_clip/567/clip.mp4.\n",
      "Moviepy - Writing video C:/Users/naoki/anaconda_work/Faster-R-CNN-pytorch-main/data/ori_data/drama_clip/567/clip.mp4\n",
      "\n"
     ]
    },
    {
     "name": "stderr",
     "output_type": "stream",
     "text": [
      "                                                            \r"
     ]
    },
    {
     "name": "stdout",
     "output_type": "stream",
     "text": [
      "Moviepy - Done !\n",
      "Moviepy - video ready C:/Users/naoki/anaconda_work/Faster-R-CNN-pytorch-main/data/ori_data/drama_clip/567/clip.mp4\n",
      "Moviepy - Building video C:/Users/naoki/anaconda_work/Faster-R-CNN-pytorch-main/data/ori_data/drama_clip/568/clip.mp4.\n",
      "Moviepy - Writing video C:/Users/naoki/anaconda_work/Faster-R-CNN-pytorch-main/data/ori_data/drama_clip/568/clip.mp4\n",
      "\n"
     ]
    },
    {
     "name": "stderr",
     "output_type": "stream",
     "text": [
      "                                                            \r"
     ]
    },
    {
     "name": "stdout",
     "output_type": "stream",
     "text": [
      "Moviepy - Done !\n",
      "Moviepy - video ready C:/Users/naoki/anaconda_work/Faster-R-CNN-pytorch-main/data/ori_data/drama_clip/568/clip.mp4\n",
      "Moviepy - Building video C:/Users/naoki/anaconda_work/Faster-R-CNN-pytorch-main/data/ori_data/drama_clip/569/clip.mp4.\n",
      "Moviepy - Writing video C:/Users/naoki/anaconda_work/Faster-R-CNN-pytorch-main/data/ori_data/drama_clip/569/clip.mp4\n",
      "\n"
     ]
    },
    {
     "name": "stderr",
     "output_type": "stream",
     "text": [
      "                                                            \r"
     ]
    },
    {
     "name": "stdout",
     "output_type": "stream",
     "text": [
      "Moviepy - Done !\n",
      "Moviepy - video ready C:/Users/naoki/anaconda_work/Faster-R-CNN-pytorch-main/data/ori_data/drama_clip/569/clip.mp4\n",
      "Moviepy - Building video C:/Users/naoki/anaconda_work/Faster-R-CNN-pytorch-main/data/ori_data/drama_clip/570/clip.mp4.\n",
      "Moviepy - Writing video C:/Users/naoki/anaconda_work/Faster-R-CNN-pytorch-main/data/ori_data/drama_clip/570/clip.mp4\n",
      "\n"
     ]
    },
    {
     "name": "stderr",
     "output_type": "stream",
     "text": [
      "                                                            \r"
     ]
    },
    {
     "name": "stdout",
     "output_type": "stream",
     "text": [
      "Moviepy - Done !\n",
      "Moviepy - video ready C:/Users/naoki/anaconda_work/Faster-R-CNN-pytorch-main/data/ori_data/drama_clip/570/clip.mp4\n",
      "Moviepy - Building video C:/Users/naoki/anaconda_work/Faster-R-CNN-pytorch-main/data/ori_data/drama_clip/571/clip.mp4.\n",
      "Moviepy - Writing video C:/Users/naoki/anaconda_work/Faster-R-CNN-pytorch-main/data/ori_data/drama_clip/571/clip.mp4\n",
      "\n"
     ]
    },
    {
     "name": "stderr",
     "output_type": "stream",
     "text": [
      "                                                            \r"
     ]
    },
    {
     "name": "stdout",
     "output_type": "stream",
     "text": [
      "Moviepy - Done !\n",
      "Moviepy - video ready C:/Users/naoki/anaconda_work/Faster-R-CNN-pytorch-main/data/ori_data/drama_clip/571/clip.mp4\n",
      "Moviepy - Building video C:/Users/naoki/anaconda_work/Faster-R-CNN-pytorch-main/data/ori_data/drama_clip/572/clip.mp4.\n",
      "Moviepy - Writing video C:/Users/naoki/anaconda_work/Faster-R-CNN-pytorch-main/data/ori_data/drama_clip/572/clip.mp4\n",
      "\n"
     ]
    },
    {
     "name": "stderr",
     "output_type": "stream",
     "text": [
      "                                                            \r"
     ]
    },
    {
     "name": "stdout",
     "output_type": "stream",
     "text": [
      "Moviepy - Done !\n",
      "Moviepy - video ready C:/Users/naoki/anaconda_work/Faster-R-CNN-pytorch-main/data/ori_data/drama_clip/572/clip.mp4\n",
      "Moviepy - Building video C:/Users/naoki/anaconda_work/Faster-R-CNN-pytorch-main/data/ori_data/drama_clip/573/clip.mp4.\n",
      "Moviepy - Writing video C:/Users/naoki/anaconda_work/Faster-R-CNN-pytorch-main/data/ori_data/drama_clip/573/clip.mp4\n",
      "\n"
     ]
    },
    {
     "name": "stderr",
     "output_type": "stream",
     "text": [
      "                                                            \r"
     ]
    },
    {
     "name": "stdout",
     "output_type": "stream",
     "text": [
      "Moviepy - Done !\n",
      "Moviepy - video ready C:/Users/naoki/anaconda_work/Faster-R-CNN-pytorch-main/data/ori_data/drama_clip/573/clip.mp4\n",
      "Moviepy - Building video C:/Users/naoki/anaconda_work/Faster-R-CNN-pytorch-main/data/ori_data/drama_clip/574/clip.mp4.\n",
      "Moviepy - Writing video C:/Users/naoki/anaconda_work/Faster-R-CNN-pytorch-main/data/ori_data/drama_clip/574/clip.mp4\n",
      "\n"
     ]
    },
    {
     "name": "stderr",
     "output_type": "stream",
     "text": [
      "                                                            \r"
     ]
    },
    {
     "name": "stdout",
     "output_type": "stream",
     "text": [
      "Moviepy - Done !\n",
      "Moviepy - video ready C:/Users/naoki/anaconda_work/Faster-R-CNN-pytorch-main/data/ori_data/drama_clip/574/clip.mp4\n",
      "Moviepy - Building video C:/Users/naoki/anaconda_work/Faster-R-CNN-pytorch-main/data/ori_data/drama_clip/575/clip.mp4.\n",
      "Moviepy - Writing video C:/Users/naoki/anaconda_work/Faster-R-CNN-pytorch-main/data/ori_data/drama_clip/575/clip.mp4\n",
      "\n"
     ]
    },
    {
     "name": "stderr",
     "output_type": "stream",
     "text": [
      "                                                            \r"
     ]
    },
    {
     "name": "stdout",
     "output_type": "stream",
     "text": [
      "Moviepy - Done !\n",
      "Moviepy - video ready C:/Users/naoki/anaconda_work/Faster-R-CNN-pytorch-main/data/ori_data/drama_clip/575/clip.mp4\n",
      "Moviepy - Building video C:/Users/naoki/anaconda_work/Faster-R-CNN-pytorch-main/data/ori_data/drama_clip/576/clip.mp4.\n",
      "Moviepy - Writing video C:/Users/naoki/anaconda_work/Faster-R-CNN-pytorch-main/data/ori_data/drama_clip/576/clip.mp4\n",
      "\n"
     ]
    },
    {
     "name": "stderr",
     "output_type": "stream",
     "text": [
      "                                                            \r"
     ]
    },
    {
     "name": "stdout",
     "output_type": "stream",
     "text": [
      "Moviepy - Done !\n",
      "Moviepy - video ready C:/Users/naoki/anaconda_work/Faster-R-CNN-pytorch-main/data/ori_data/drama_clip/576/clip.mp4\n",
      "Moviepy - Building video C:/Users/naoki/anaconda_work/Faster-R-CNN-pytorch-main/data/ori_data/drama_clip/577/clip.mp4.\n",
      "Moviepy - Writing video C:/Users/naoki/anaconda_work/Faster-R-CNN-pytorch-main/data/ori_data/drama_clip/577/clip.mp4\n",
      "\n"
     ]
    },
    {
     "name": "stderr",
     "output_type": "stream",
     "text": [
      "                                                            \r"
     ]
    },
    {
     "name": "stdout",
     "output_type": "stream",
     "text": [
      "Moviepy - Done !\n",
      "Moviepy - video ready C:/Users/naoki/anaconda_work/Faster-R-CNN-pytorch-main/data/ori_data/drama_clip/577/clip.mp4\n",
      "Moviepy - Building video C:/Users/naoki/anaconda_work/Faster-R-CNN-pytorch-main/data/ori_data/drama_clip/578/clip.mp4.\n",
      "Moviepy - Writing video C:/Users/naoki/anaconda_work/Faster-R-CNN-pytorch-main/data/ori_data/drama_clip/578/clip.mp4\n",
      "\n"
     ]
    },
    {
     "name": "stderr",
     "output_type": "stream",
     "text": [
      "                                                            \r"
     ]
    },
    {
     "name": "stdout",
     "output_type": "stream",
     "text": [
      "Moviepy - Done !\n",
      "Moviepy - video ready C:/Users/naoki/anaconda_work/Faster-R-CNN-pytorch-main/data/ori_data/drama_clip/578/clip.mp4\n",
      "Moviepy - Building video C:/Users/naoki/anaconda_work/Faster-R-CNN-pytorch-main/data/ori_data/drama_clip/579/clip.mp4.\n",
      "Moviepy - Writing video C:/Users/naoki/anaconda_work/Faster-R-CNN-pytorch-main/data/ori_data/drama_clip/579/clip.mp4\n",
      "\n"
     ]
    },
    {
     "name": "stderr",
     "output_type": "stream",
     "text": [
      "                                                            \r"
     ]
    },
    {
     "name": "stdout",
     "output_type": "stream",
     "text": [
      "Moviepy - Done !\n",
      "Moviepy - video ready C:/Users/naoki/anaconda_work/Faster-R-CNN-pytorch-main/data/ori_data/drama_clip/579/clip.mp4\n",
      "Moviepy - Building video C:/Users/naoki/anaconda_work/Faster-R-CNN-pytorch-main/data/ori_data/drama_clip/580/clip.mp4.\n",
      "Moviepy - Writing video C:/Users/naoki/anaconda_work/Faster-R-CNN-pytorch-main/data/ori_data/drama_clip/580/clip.mp4\n",
      "\n"
     ]
    },
    {
     "name": "stderr",
     "output_type": "stream",
     "text": [
      "                                                            \r"
     ]
    },
    {
     "name": "stdout",
     "output_type": "stream",
     "text": [
      "Moviepy - Done !\n",
      "Moviepy - video ready C:/Users/naoki/anaconda_work/Faster-R-CNN-pytorch-main/data/ori_data/drama_clip/580/clip.mp4\n",
      "Moviepy - Building video C:/Users/naoki/anaconda_work/Faster-R-CNN-pytorch-main/data/ori_data/drama_clip/581/clip.mp4.\n",
      "Moviepy - Writing video C:/Users/naoki/anaconda_work/Faster-R-CNN-pytorch-main/data/ori_data/drama_clip/581/clip.mp4\n",
      "\n"
     ]
    },
    {
     "name": "stderr",
     "output_type": "stream",
     "text": [
      "                                                            \r"
     ]
    },
    {
     "name": "stdout",
     "output_type": "stream",
     "text": [
      "Moviepy - Done !\n",
      "Moviepy - video ready C:/Users/naoki/anaconda_work/Faster-R-CNN-pytorch-main/data/ori_data/drama_clip/581/clip.mp4\n",
      "Moviepy - Building video C:/Users/naoki/anaconda_work/Faster-R-CNN-pytorch-main/data/ori_data/drama_clip/582/clip.mp4.\n",
      "Moviepy - Writing video C:/Users/naoki/anaconda_work/Faster-R-CNN-pytorch-main/data/ori_data/drama_clip/582/clip.mp4\n",
      "\n"
     ]
    },
    {
     "name": "stderr",
     "output_type": "stream",
     "text": [
      "                                                            \r"
     ]
    },
    {
     "name": "stdout",
     "output_type": "stream",
     "text": [
      "Moviepy - Done !\n",
      "Moviepy - video ready C:/Users/naoki/anaconda_work/Faster-R-CNN-pytorch-main/data/ori_data/drama_clip/582/clip.mp4\n",
      "Moviepy - Building video C:/Users/naoki/anaconda_work/Faster-R-CNN-pytorch-main/data/ori_data/drama_clip/583/clip.mp4.\n",
      "Moviepy - Writing video C:/Users/naoki/anaconda_work/Faster-R-CNN-pytorch-main/data/ori_data/drama_clip/583/clip.mp4\n",
      "\n"
     ]
    },
    {
     "name": "stderr",
     "output_type": "stream",
     "text": [
      "                                                            \r"
     ]
    },
    {
     "name": "stdout",
     "output_type": "stream",
     "text": [
      "Moviepy - Done !\n",
      "Moviepy - video ready C:/Users/naoki/anaconda_work/Faster-R-CNN-pytorch-main/data/ori_data/drama_clip/583/clip.mp4\n",
      "Moviepy - Building video C:/Users/naoki/anaconda_work/Faster-R-CNN-pytorch-main/data/ori_data/drama_clip/584/clip.mp4.\n",
      "Moviepy - Writing video C:/Users/naoki/anaconda_work/Faster-R-CNN-pytorch-main/data/ori_data/drama_clip/584/clip.mp4\n",
      "\n"
     ]
    },
    {
     "name": "stderr",
     "output_type": "stream",
     "text": [
      "                                                            \r"
     ]
    },
    {
     "name": "stdout",
     "output_type": "stream",
     "text": [
      "Moviepy - Done !\n",
      "Moviepy - video ready C:/Users/naoki/anaconda_work/Faster-R-CNN-pytorch-main/data/ori_data/drama_clip/584/clip.mp4\n",
      "Moviepy - Building video C:/Users/naoki/anaconda_work/Faster-R-CNN-pytorch-main/data/ori_data/drama_clip/585/clip.mp4.\n",
      "Moviepy - Writing video C:/Users/naoki/anaconda_work/Faster-R-CNN-pytorch-main/data/ori_data/drama_clip/585/clip.mp4\n",
      "\n"
     ]
    },
    {
     "name": "stderr",
     "output_type": "stream",
     "text": [
      "                                                            \r"
     ]
    },
    {
     "name": "stdout",
     "output_type": "stream",
     "text": [
      "Moviepy - Done !\n",
      "Moviepy - video ready C:/Users/naoki/anaconda_work/Faster-R-CNN-pytorch-main/data/ori_data/drama_clip/585/clip.mp4\n",
      "Moviepy - Building video C:/Users/naoki/anaconda_work/Faster-R-CNN-pytorch-main/data/ori_data/drama_clip/586/clip.mp4.\n",
      "Moviepy - Writing video C:/Users/naoki/anaconda_work/Faster-R-CNN-pytorch-main/data/ori_data/drama_clip/586/clip.mp4\n",
      "\n"
     ]
    },
    {
     "name": "stderr",
     "output_type": "stream",
     "text": [
      "                                                            \r"
     ]
    },
    {
     "name": "stdout",
     "output_type": "stream",
     "text": [
      "Moviepy - Done !\n",
      "Moviepy - video ready C:/Users/naoki/anaconda_work/Faster-R-CNN-pytorch-main/data/ori_data/drama_clip/586/clip.mp4\n",
      "Moviepy - Building video C:/Users/naoki/anaconda_work/Faster-R-CNN-pytorch-main/data/ori_data/drama_clip/587/clip.mp4.\n",
      "Moviepy - Writing video C:/Users/naoki/anaconda_work/Faster-R-CNN-pytorch-main/data/ori_data/drama_clip/587/clip.mp4\n",
      "\n"
     ]
    },
    {
     "name": "stderr",
     "output_type": "stream",
     "text": [
      "                                                            \r"
     ]
    },
    {
     "name": "stdout",
     "output_type": "stream",
     "text": [
      "Moviepy - Done !\n",
      "Moviepy - video ready C:/Users/naoki/anaconda_work/Faster-R-CNN-pytorch-main/data/ori_data/drama_clip/587/clip.mp4\n",
      "Moviepy - Building video C:/Users/naoki/anaconda_work/Faster-R-CNN-pytorch-main/data/ori_data/drama_clip/588/clip.mp4.\n",
      "Moviepy - Writing video C:/Users/naoki/anaconda_work/Faster-R-CNN-pytorch-main/data/ori_data/drama_clip/588/clip.mp4\n",
      "\n"
     ]
    },
    {
     "name": "stderr",
     "output_type": "stream",
     "text": [
      "                                                            \r"
     ]
    },
    {
     "name": "stdout",
     "output_type": "stream",
     "text": [
      "Moviepy - Done !\n",
      "Moviepy - video ready C:/Users/naoki/anaconda_work/Faster-R-CNN-pytorch-main/data/ori_data/drama_clip/588/clip.mp4\n",
      "Moviepy - Building video C:/Users/naoki/anaconda_work/Faster-R-CNN-pytorch-main/data/ori_data/drama_clip/589/clip.mp4.\n",
      "Moviepy - Writing video C:/Users/naoki/anaconda_work/Faster-R-CNN-pytorch-main/data/ori_data/drama_clip/589/clip.mp4\n",
      "\n"
     ]
    },
    {
     "name": "stderr",
     "output_type": "stream",
     "text": [
      "                                                            \r"
     ]
    },
    {
     "name": "stdout",
     "output_type": "stream",
     "text": [
      "Moviepy - Done !\n",
      "Moviepy - video ready C:/Users/naoki/anaconda_work/Faster-R-CNN-pytorch-main/data/ori_data/drama_clip/589/clip.mp4\n",
      "Moviepy - Building video C:/Users/naoki/anaconda_work/Faster-R-CNN-pytorch-main/data/ori_data/drama_clip/590/clip.mp4.\n",
      "Moviepy - Writing video C:/Users/naoki/anaconda_work/Faster-R-CNN-pytorch-main/data/ori_data/drama_clip/590/clip.mp4\n",
      "\n"
     ]
    },
    {
     "name": "stderr",
     "output_type": "stream",
     "text": [
      "                                                            \r"
     ]
    },
    {
     "name": "stdout",
     "output_type": "stream",
     "text": [
      "Moviepy - Done !\n",
      "Moviepy - video ready C:/Users/naoki/anaconda_work/Faster-R-CNN-pytorch-main/data/ori_data/drama_clip/590/clip.mp4\n",
      "Moviepy - Building video C:/Users/naoki/anaconda_work/Faster-R-CNN-pytorch-main/data/ori_data/drama_clip/591/clip.mp4.\n",
      "Moviepy - Writing video C:/Users/naoki/anaconda_work/Faster-R-CNN-pytorch-main/data/ori_data/drama_clip/591/clip.mp4\n",
      "\n"
     ]
    },
    {
     "name": "stderr",
     "output_type": "stream",
     "text": [
      "                                                            \r"
     ]
    },
    {
     "name": "stdout",
     "output_type": "stream",
     "text": [
      "Moviepy - Done !\n",
      "Moviepy - video ready C:/Users/naoki/anaconda_work/Faster-R-CNN-pytorch-main/data/ori_data/drama_clip/591/clip.mp4\n",
      "Moviepy - Building video C:/Users/naoki/anaconda_work/Faster-R-CNN-pytorch-main/data/ori_data/drama_clip/592/clip.mp4.\n",
      "Moviepy - Writing video C:/Users/naoki/anaconda_work/Faster-R-CNN-pytorch-main/data/ori_data/drama_clip/592/clip.mp4\n",
      "\n"
     ]
    },
    {
     "name": "stderr",
     "output_type": "stream",
     "text": [
      "                                                            \r"
     ]
    },
    {
     "name": "stdout",
     "output_type": "stream",
     "text": [
      "Moviepy - Done !\n",
      "Moviepy - video ready C:/Users/naoki/anaconda_work/Faster-R-CNN-pytorch-main/data/ori_data/drama_clip/592/clip.mp4\n",
      "Moviepy - Building video C:/Users/naoki/anaconda_work/Faster-R-CNN-pytorch-main/data/ori_data/drama_clip/593/clip.mp4.\n",
      "Moviepy - Writing video C:/Users/naoki/anaconda_work/Faster-R-CNN-pytorch-main/data/ori_data/drama_clip/593/clip.mp4\n",
      "\n"
     ]
    },
    {
     "name": "stderr",
     "output_type": "stream",
     "text": [
      "                                                            \r"
     ]
    },
    {
     "name": "stdout",
     "output_type": "stream",
     "text": [
      "Moviepy - Done !\n",
      "Moviepy - video ready C:/Users/naoki/anaconda_work/Faster-R-CNN-pytorch-main/data/ori_data/drama_clip/593/clip.mp4\n",
      "Moviepy - Building video C:/Users/naoki/anaconda_work/Faster-R-CNN-pytorch-main/data/ori_data/drama_clip/594/clip.mp4.\n",
      "Moviepy - Writing video C:/Users/naoki/anaconda_work/Faster-R-CNN-pytorch-main/data/ori_data/drama_clip/594/clip.mp4\n",
      "\n"
     ]
    },
    {
     "name": "stderr",
     "output_type": "stream",
     "text": [
      "                                                            \r"
     ]
    },
    {
     "name": "stdout",
     "output_type": "stream",
     "text": [
      "Moviepy - Done !\n",
      "Moviepy - video ready C:/Users/naoki/anaconda_work/Faster-R-CNN-pytorch-main/data/ori_data/drama_clip/594/clip.mp4\n",
      "Moviepy - Building video C:/Users/naoki/anaconda_work/Faster-R-CNN-pytorch-main/data/ori_data/drama_clip/595/clip.mp4.\n",
      "Moviepy - Writing video C:/Users/naoki/anaconda_work/Faster-R-CNN-pytorch-main/data/ori_data/drama_clip/595/clip.mp4\n",
      "\n"
     ]
    },
    {
     "name": "stderr",
     "output_type": "stream",
     "text": [
      "                                                            \r"
     ]
    },
    {
     "name": "stdout",
     "output_type": "stream",
     "text": [
      "Moviepy - Done !\n",
      "Moviepy - video ready C:/Users/naoki/anaconda_work/Faster-R-CNN-pytorch-main/data/ori_data/drama_clip/595/clip.mp4\n",
      "Moviepy - Building video C:/Users/naoki/anaconda_work/Faster-R-CNN-pytorch-main/data/ori_data/drama_clip/596/clip.mp4.\n",
      "Moviepy - Writing video C:/Users/naoki/anaconda_work/Faster-R-CNN-pytorch-main/data/ori_data/drama_clip/596/clip.mp4\n",
      "\n"
     ]
    },
    {
     "name": "stderr",
     "output_type": "stream",
     "text": [
      "                                                            \r"
     ]
    },
    {
     "name": "stdout",
     "output_type": "stream",
     "text": [
      "Moviepy - Done !\n",
      "Moviepy - video ready C:/Users/naoki/anaconda_work/Faster-R-CNN-pytorch-main/data/ori_data/drama_clip/596/clip.mp4\n",
      "Moviepy - Building video C:/Users/naoki/anaconda_work/Faster-R-CNN-pytorch-main/data/ori_data/drama_clip/597/clip.mp4.\n",
      "Moviepy - Writing video C:/Users/naoki/anaconda_work/Faster-R-CNN-pytorch-main/data/ori_data/drama_clip/597/clip.mp4\n",
      "\n"
     ]
    },
    {
     "name": "stderr",
     "output_type": "stream",
     "text": [
      "                                                             \r"
     ]
    },
    {
     "name": "stdout",
     "output_type": "stream",
     "text": [
      "Moviepy - Done !\n",
      "Moviepy - video ready C:/Users/naoki/anaconda_work/Faster-R-CNN-pytorch-main/data/ori_data/drama_clip/597/clip.mp4\n",
      "Moviepy - Building video C:/Users/naoki/anaconda_work/Faster-R-CNN-pytorch-main/data/ori_data/drama_clip/598/clip.mp4.\n",
      "Moviepy - Writing video C:/Users/naoki/anaconda_work/Faster-R-CNN-pytorch-main/data/ori_data/drama_clip/598/clip.mp4\n",
      "\n"
     ]
    },
    {
     "name": "stderr",
     "output_type": "stream",
     "text": [
      "                                                            \r"
     ]
    },
    {
     "name": "stdout",
     "output_type": "stream",
     "text": [
      "Moviepy - Done !\n",
      "Moviepy - video ready C:/Users/naoki/anaconda_work/Faster-R-CNN-pytorch-main/data/ori_data/drama_clip/598/clip.mp4\n",
      "Moviepy - Building video C:/Users/naoki/anaconda_work/Faster-R-CNN-pytorch-main/data/ori_data/drama_clip/599/clip.mp4.\n",
      "Moviepy - Writing video C:/Users/naoki/anaconda_work/Faster-R-CNN-pytorch-main/data/ori_data/drama_clip/599/clip.mp4\n",
      "\n"
     ]
    },
    {
     "name": "stderr",
     "output_type": "stream",
     "text": [
      "                                                            \r"
     ]
    },
    {
     "name": "stdout",
     "output_type": "stream",
     "text": [
      "Moviepy - Done !\n",
      "Moviepy - video ready C:/Users/naoki/anaconda_work/Faster-R-CNN-pytorch-main/data/ori_data/drama_clip/599/clip.mp4\n",
      "Moviepy - Building video C:/Users/naoki/anaconda_work/Faster-R-CNN-pytorch-main/data/ori_data/drama_clip/600/clip.mp4.\n",
      "Moviepy - Writing video C:/Users/naoki/anaconda_work/Faster-R-CNN-pytorch-main/data/ori_data/drama_clip/600/clip.mp4\n",
      "\n"
     ]
    },
    {
     "name": "stderr",
     "output_type": "stream",
     "text": [
      "                                                            \r"
     ]
    },
    {
     "name": "stdout",
     "output_type": "stream",
     "text": [
      "Moviepy - Done !\n",
      "Moviepy - video ready C:/Users/naoki/anaconda_work/Faster-R-CNN-pytorch-main/data/ori_data/drama_clip/600/clip.mp4\n",
      "Moviepy - Building video C:/Users/naoki/anaconda_work/Faster-R-CNN-pytorch-main/data/ori_data/drama_clip/601/clip.mp4.\n",
      "Moviepy - Writing video C:/Users/naoki/anaconda_work/Faster-R-CNN-pytorch-main/data/ori_data/drama_clip/601/clip.mp4\n",
      "\n"
     ]
    },
    {
     "name": "stderr",
     "output_type": "stream",
     "text": [
      "                                                            \r"
     ]
    },
    {
     "name": "stdout",
     "output_type": "stream",
     "text": [
      "Moviepy - Done !\n",
      "Moviepy - video ready C:/Users/naoki/anaconda_work/Faster-R-CNN-pytorch-main/data/ori_data/drama_clip/601/clip.mp4\n",
      "Moviepy - Building video C:/Users/naoki/anaconda_work/Faster-R-CNN-pytorch-main/data/ori_data/drama_clip/602/clip.mp4.\n",
      "Moviepy - Writing video C:/Users/naoki/anaconda_work/Faster-R-CNN-pytorch-main/data/ori_data/drama_clip/602/clip.mp4\n",
      "\n"
     ]
    },
    {
     "name": "stderr",
     "output_type": "stream",
     "text": [
      "                                                            \r"
     ]
    },
    {
     "name": "stdout",
     "output_type": "stream",
     "text": [
      "Moviepy - Done !\n",
      "Moviepy - video ready C:/Users/naoki/anaconda_work/Faster-R-CNN-pytorch-main/data/ori_data/drama_clip/602/clip.mp4\n",
      "Moviepy - Building video C:/Users/naoki/anaconda_work/Faster-R-CNN-pytorch-main/data/ori_data/drama_clip/603/clip.mp4.\n",
      "Moviepy - Writing video C:/Users/naoki/anaconda_work/Faster-R-CNN-pytorch-main/data/ori_data/drama_clip/603/clip.mp4\n",
      "\n"
     ]
    },
    {
     "name": "stderr",
     "output_type": "stream",
     "text": [
      "                                                            \r"
     ]
    },
    {
     "name": "stdout",
     "output_type": "stream",
     "text": [
      "Moviepy - Done !\n",
      "Moviepy - video ready C:/Users/naoki/anaconda_work/Faster-R-CNN-pytorch-main/data/ori_data/drama_clip/603/clip.mp4\n",
      "Moviepy - Building video C:/Users/naoki/anaconda_work/Faster-R-CNN-pytorch-main/data/ori_data/drama_clip/604/clip.mp4.\n",
      "Moviepy - Writing video C:/Users/naoki/anaconda_work/Faster-R-CNN-pytorch-main/data/ori_data/drama_clip/604/clip.mp4\n",
      "\n"
     ]
    },
    {
     "name": "stderr",
     "output_type": "stream",
     "text": [
      "                                                            \r"
     ]
    },
    {
     "name": "stdout",
     "output_type": "stream",
     "text": [
      "Moviepy - Done !\n",
      "Moviepy - video ready C:/Users/naoki/anaconda_work/Faster-R-CNN-pytorch-main/data/ori_data/drama_clip/604/clip.mp4\n",
      "Moviepy - Building video C:/Users/naoki/anaconda_work/Faster-R-CNN-pytorch-main/data/ori_data/drama_clip/605/clip.mp4.\n",
      "Moviepy - Writing video C:/Users/naoki/anaconda_work/Faster-R-CNN-pytorch-main/data/ori_data/drama_clip/605/clip.mp4\n",
      "\n"
     ]
    },
    {
     "name": "stderr",
     "output_type": "stream",
     "text": [
      "                                                            \r"
     ]
    },
    {
     "name": "stdout",
     "output_type": "stream",
     "text": [
      "Moviepy - Done !\n",
      "Moviepy - video ready C:/Users/naoki/anaconda_work/Faster-R-CNN-pytorch-main/data/ori_data/drama_clip/605/clip.mp4\n",
      "Moviepy - Building video C:/Users/naoki/anaconda_work/Faster-R-CNN-pytorch-main/data/ori_data/drama_clip/606/clip.mp4.\n",
      "Moviepy - Writing video C:/Users/naoki/anaconda_work/Faster-R-CNN-pytorch-main/data/ori_data/drama_clip/606/clip.mp4\n",
      "\n"
     ]
    },
    {
     "name": "stderr",
     "output_type": "stream",
     "text": [
      "                                                            \r"
     ]
    },
    {
     "name": "stdout",
     "output_type": "stream",
     "text": [
      "Moviepy - Done !\n",
      "Moviepy - video ready C:/Users/naoki/anaconda_work/Faster-R-CNN-pytorch-main/data/ori_data/drama_clip/606/clip.mp4\n",
      "Moviepy - Building video C:/Users/naoki/anaconda_work/Faster-R-CNN-pytorch-main/data/ori_data/drama_clip/607/clip.mp4.\n",
      "Moviepy - Writing video C:/Users/naoki/anaconda_work/Faster-R-CNN-pytorch-main/data/ori_data/drama_clip/607/clip.mp4\n",
      "\n"
     ]
    },
    {
     "name": "stderr",
     "output_type": "stream",
     "text": [
      "                                                            \r"
     ]
    },
    {
     "name": "stdout",
     "output_type": "stream",
     "text": [
      "Moviepy - Done !\n",
      "Moviepy - video ready C:/Users/naoki/anaconda_work/Faster-R-CNN-pytorch-main/data/ori_data/drama_clip/607/clip.mp4\n",
      "Moviepy - Building video C:/Users/naoki/anaconda_work/Faster-R-CNN-pytorch-main/data/ori_data/drama_clip/608/clip.mp4.\n",
      "Moviepy - Writing video C:/Users/naoki/anaconda_work/Faster-R-CNN-pytorch-main/data/ori_data/drama_clip/608/clip.mp4\n",
      "\n"
     ]
    },
    {
     "name": "stderr",
     "output_type": "stream",
     "text": [
      "                                                            \r"
     ]
    },
    {
     "name": "stdout",
     "output_type": "stream",
     "text": [
      "Moviepy - Done !\n",
      "Moviepy - video ready C:/Users/naoki/anaconda_work/Faster-R-CNN-pytorch-main/data/ori_data/drama_clip/608/clip.mp4\n",
      "Moviepy - Building video C:/Users/naoki/anaconda_work/Faster-R-CNN-pytorch-main/data/ori_data/drama_clip/609/clip.mp4.\n",
      "Moviepy - Writing video C:/Users/naoki/anaconda_work/Faster-R-CNN-pytorch-main/data/ori_data/drama_clip/609/clip.mp4\n",
      "\n"
     ]
    },
    {
     "name": "stderr",
     "output_type": "stream",
     "text": [
      "                                                            \r"
     ]
    },
    {
     "name": "stdout",
     "output_type": "stream",
     "text": [
      "Moviepy - Done !\n",
      "Moviepy - video ready C:/Users/naoki/anaconda_work/Faster-R-CNN-pytorch-main/data/ori_data/drama_clip/609/clip.mp4\n",
      "Moviepy - Building video C:/Users/naoki/anaconda_work/Faster-R-CNN-pytorch-main/data/ori_data/drama_clip/610/clip.mp4.\n",
      "Moviepy - Writing video C:/Users/naoki/anaconda_work/Faster-R-CNN-pytorch-main/data/ori_data/drama_clip/610/clip.mp4\n",
      "\n"
     ]
    },
    {
     "name": "stderr",
     "output_type": "stream",
     "text": [
      "                                                            \r"
     ]
    },
    {
     "name": "stdout",
     "output_type": "stream",
     "text": [
      "Moviepy - Done !\n",
      "Moviepy - video ready C:/Users/naoki/anaconda_work/Faster-R-CNN-pytorch-main/data/ori_data/drama_clip/610/clip.mp4\n",
      "Moviepy - Building video C:/Users/naoki/anaconda_work/Faster-R-CNN-pytorch-main/data/ori_data/drama_clip/611/clip.mp4.\n",
      "Moviepy - Writing video C:/Users/naoki/anaconda_work/Faster-R-CNN-pytorch-main/data/ori_data/drama_clip/611/clip.mp4\n",
      "\n"
     ]
    },
    {
     "name": "stderr",
     "output_type": "stream",
     "text": [
      "                                                            \r"
     ]
    },
    {
     "name": "stdout",
     "output_type": "stream",
     "text": [
      "Moviepy - Done !\n",
      "Moviepy - video ready C:/Users/naoki/anaconda_work/Faster-R-CNN-pytorch-main/data/ori_data/drama_clip/611/clip.mp4\n",
      "Moviepy - Building video C:/Users/naoki/anaconda_work/Faster-R-CNN-pytorch-main/data/ori_data/drama_clip/612/clip.mp4.\n",
      "Moviepy - Writing video C:/Users/naoki/anaconda_work/Faster-R-CNN-pytorch-main/data/ori_data/drama_clip/612/clip.mp4\n",
      "\n"
     ]
    },
    {
     "name": "stderr",
     "output_type": "stream",
     "text": [
      "                                                            \r"
     ]
    },
    {
     "name": "stdout",
     "output_type": "stream",
     "text": [
      "Moviepy - Done !\n",
      "Moviepy - video ready C:/Users/naoki/anaconda_work/Faster-R-CNN-pytorch-main/data/ori_data/drama_clip/612/clip.mp4\n",
      "Moviepy - Building video C:/Users/naoki/anaconda_work/Faster-R-CNN-pytorch-main/data/ori_data/drama_clip/613/clip.mp4.\n",
      "Moviepy - Writing video C:/Users/naoki/anaconda_work/Faster-R-CNN-pytorch-main/data/ori_data/drama_clip/613/clip.mp4\n",
      "\n"
     ]
    },
    {
     "name": "stderr",
     "output_type": "stream",
     "text": [
      "                                                            \r"
     ]
    },
    {
     "name": "stdout",
     "output_type": "stream",
     "text": [
      "Moviepy - Done !\n",
      "Moviepy - video ready C:/Users/naoki/anaconda_work/Faster-R-CNN-pytorch-main/data/ori_data/drama_clip/613/clip.mp4\n",
      "Moviepy - Building video C:/Users/naoki/anaconda_work/Faster-R-CNN-pytorch-main/data/ori_data/drama_clip/614/clip.mp4.\n",
      "Moviepy - Writing video C:/Users/naoki/anaconda_work/Faster-R-CNN-pytorch-main/data/ori_data/drama_clip/614/clip.mp4\n",
      "\n"
     ]
    },
    {
     "name": "stderr",
     "output_type": "stream",
     "text": [
      "                                                            \r"
     ]
    },
    {
     "name": "stdout",
     "output_type": "stream",
     "text": [
      "Moviepy - Done !\n",
      "Moviepy - video ready C:/Users/naoki/anaconda_work/Faster-R-CNN-pytorch-main/data/ori_data/drama_clip/614/clip.mp4\n",
      "Moviepy - Building video C:/Users/naoki/anaconda_work/Faster-R-CNN-pytorch-main/data/ori_data/drama_clip/615/clip.mp4.\n",
      "Moviepy - Writing video C:/Users/naoki/anaconda_work/Faster-R-CNN-pytorch-main/data/ori_data/drama_clip/615/clip.mp4\n",
      "\n"
     ]
    },
    {
     "name": "stderr",
     "output_type": "stream",
     "text": [
      "                                                            \r"
     ]
    },
    {
     "name": "stdout",
     "output_type": "stream",
     "text": [
      "Moviepy - Done !\n",
      "Moviepy - video ready C:/Users/naoki/anaconda_work/Faster-R-CNN-pytorch-main/data/ori_data/drama_clip/615/clip.mp4\n",
      "Moviepy - Building video C:/Users/naoki/anaconda_work/Faster-R-CNN-pytorch-main/data/ori_data/drama_clip/616/clip.mp4.\n",
      "Moviepy - Writing video C:/Users/naoki/anaconda_work/Faster-R-CNN-pytorch-main/data/ori_data/drama_clip/616/clip.mp4\n",
      "\n"
     ]
    },
    {
     "name": "stderr",
     "output_type": "stream",
     "text": [
      "                                                            \r"
     ]
    },
    {
     "name": "stdout",
     "output_type": "stream",
     "text": [
      "Moviepy - Done !\n",
      "Moviepy - video ready C:/Users/naoki/anaconda_work/Faster-R-CNN-pytorch-main/data/ori_data/drama_clip/616/clip.mp4\n",
      "Moviepy - Building video C:/Users/naoki/anaconda_work/Faster-R-CNN-pytorch-main/data/ori_data/drama_clip/617/clip.mp4.\n",
      "Moviepy - Writing video C:/Users/naoki/anaconda_work/Faster-R-CNN-pytorch-main/data/ori_data/drama_clip/617/clip.mp4\n",
      "\n"
     ]
    },
    {
     "name": "stderr",
     "output_type": "stream",
     "text": [
      "                                                            \r"
     ]
    },
    {
     "name": "stdout",
     "output_type": "stream",
     "text": [
      "Moviepy - Done !\n",
      "Moviepy - video ready C:/Users/naoki/anaconda_work/Faster-R-CNN-pytorch-main/data/ori_data/drama_clip/617/clip.mp4\n",
      "Moviepy - Building video C:/Users/naoki/anaconda_work/Faster-R-CNN-pytorch-main/data/ori_data/drama_clip/618/clip.mp4.\n",
      "Moviepy - Writing video C:/Users/naoki/anaconda_work/Faster-R-CNN-pytorch-main/data/ori_data/drama_clip/618/clip.mp4\n",
      "\n"
     ]
    },
    {
     "name": "stderr",
     "output_type": "stream",
     "text": [
      "                                                            \r"
     ]
    },
    {
     "name": "stdout",
     "output_type": "stream",
     "text": [
      "Moviepy - Done !\n",
      "Moviepy - video ready C:/Users/naoki/anaconda_work/Faster-R-CNN-pytorch-main/data/ori_data/drama_clip/618/clip.mp4\n",
      "Moviepy - Building video C:/Users/naoki/anaconda_work/Faster-R-CNN-pytorch-main/data/ori_data/drama_clip/619/clip.mp4.\n",
      "Moviepy - Writing video C:/Users/naoki/anaconda_work/Faster-R-CNN-pytorch-main/data/ori_data/drama_clip/619/clip.mp4\n",
      "\n"
     ]
    },
    {
     "name": "stderr",
     "output_type": "stream",
     "text": [
      "                                                            \r"
     ]
    },
    {
     "name": "stdout",
     "output_type": "stream",
     "text": [
      "Moviepy - Done !\n",
      "Moviepy - video ready C:/Users/naoki/anaconda_work/Faster-R-CNN-pytorch-main/data/ori_data/drama_clip/619/clip.mp4\n",
      "Moviepy - Building video C:/Users/naoki/anaconda_work/Faster-R-CNN-pytorch-main/data/ori_data/drama_clip/620/clip.mp4.\n",
      "Moviepy - Writing video C:/Users/naoki/anaconda_work/Faster-R-CNN-pytorch-main/data/ori_data/drama_clip/620/clip.mp4\n",
      "\n"
     ]
    },
    {
     "name": "stderr",
     "output_type": "stream",
     "text": [
      "                                                            \r"
     ]
    },
    {
     "name": "stdout",
     "output_type": "stream",
     "text": [
      "Moviepy - Done !\n",
      "Moviepy - video ready C:/Users/naoki/anaconda_work/Faster-R-CNN-pytorch-main/data/ori_data/drama_clip/620/clip.mp4\n",
      "Moviepy - Building video C:/Users/naoki/anaconda_work/Faster-R-CNN-pytorch-main/data/ori_data/drama_clip/621/clip.mp4.\n",
      "Moviepy - Writing video C:/Users/naoki/anaconda_work/Faster-R-CNN-pytorch-main/data/ori_data/drama_clip/621/clip.mp4\n",
      "\n"
     ]
    },
    {
     "name": "stderr",
     "output_type": "stream",
     "text": [
      "                                                            \r"
     ]
    },
    {
     "name": "stdout",
     "output_type": "stream",
     "text": [
      "Moviepy - Done !\n",
      "Moviepy - video ready C:/Users/naoki/anaconda_work/Faster-R-CNN-pytorch-main/data/ori_data/drama_clip/621/clip.mp4\n",
      "Moviepy - Building video C:/Users/naoki/anaconda_work/Faster-R-CNN-pytorch-main/data/ori_data/drama_clip/622/clip.mp4.\n",
      "Moviepy - Writing video C:/Users/naoki/anaconda_work/Faster-R-CNN-pytorch-main/data/ori_data/drama_clip/622/clip.mp4\n",
      "\n"
     ]
    },
    {
     "name": "stderr",
     "output_type": "stream",
     "text": [
      "                                                            \r"
     ]
    },
    {
     "name": "stdout",
     "output_type": "stream",
     "text": [
      "Moviepy - Done !\n",
      "Moviepy - video ready C:/Users/naoki/anaconda_work/Faster-R-CNN-pytorch-main/data/ori_data/drama_clip/622/clip.mp4\n",
      "Moviepy - Building video C:/Users/naoki/anaconda_work/Faster-R-CNN-pytorch-main/data/ori_data/drama_clip/623/clip.mp4.\n",
      "Moviepy - Writing video C:/Users/naoki/anaconda_work/Faster-R-CNN-pytorch-main/data/ori_data/drama_clip/623/clip.mp4\n",
      "\n"
     ]
    },
    {
     "name": "stderr",
     "output_type": "stream",
     "text": [
      "                                                            \r"
     ]
    },
    {
     "name": "stdout",
     "output_type": "stream",
     "text": [
      "Moviepy - Done !\n",
      "Moviepy - video ready C:/Users/naoki/anaconda_work/Faster-R-CNN-pytorch-main/data/ori_data/drama_clip/623/clip.mp4\n",
      "Moviepy - Building video C:/Users/naoki/anaconda_work/Faster-R-CNN-pytorch-main/data/ori_data/drama_clip/624/clip.mp4.\n",
      "Moviepy - Writing video C:/Users/naoki/anaconda_work/Faster-R-CNN-pytorch-main/data/ori_data/drama_clip/624/clip.mp4\n",
      "\n"
     ]
    },
    {
     "name": "stderr",
     "output_type": "stream",
     "text": [
      "                                                            \r"
     ]
    },
    {
     "name": "stdout",
     "output_type": "stream",
     "text": [
      "Moviepy - Done !\n",
      "Moviepy - video ready C:/Users/naoki/anaconda_work/Faster-R-CNN-pytorch-main/data/ori_data/drama_clip/624/clip.mp4\n",
      "Moviepy - Building video C:/Users/naoki/anaconda_work/Faster-R-CNN-pytorch-main/data/ori_data/drama_clip/625/clip.mp4.\n",
      "Moviepy - Writing video C:/Users/naoki/anaconda_work/Faster-R-CNN-pytorch-main/data/ori_data/drama_clip/625/clip.mp4\n",
      "\n"
     ]
    },
    {
     "name": "stderr",
     "output_type": "stream",
     "text": [
      "                                                            \r"
     ]
    },
    {
     "name": "stdout",
     "output_type": "stream",
     "text": [
      "Moviepy - Done !\n",
      "Moviepy - video ready C:/Users/naoki/anaconda_work/Faster-R-CNN-pytorch-main/data/ori_data/drama_clip/625/clip.mp4\n",
      "Moviepy - Building video C:/Users/naoki/anaconda_work/Faster-R-CNN-pytorch-main/data/ori_data/drama_clip/626/clip.mp4.\n",
      "Moviepy - Writing video C:/Users/naoki/anaconda_work/Faster-R-CNN-pytorch-main/data/ori_data/drama_clip/626/clip.mp4\n",
      "\n"
     ]
    },
    {
     "name": "stderr",
     "output_type": "stream",
     "text": [
      "                                                            \r"
     ]
    },
    {
     "name": "stdout",
     "output_type": "stream",
     "text": [
      "Moviepy - Done !\n",
      "Moviepy - video ready C:/Users/naoki/anaconda_work/Faster-R-CNN-pytorch-main/data/ori_data/drama_clip/626/clip.mp4\n",
      "Moviepy - Building video C:/Users/naoki/anaconda_work/Faster-R-CNN-pytorch-main/data/ori_data/drama_clip/627/clip.mp4.\n",
      "Moviepy - Writing video C:/Users/naoki/anaconda_work/Faster-R-CNN-pytorch-main/data/ori_data/drama_clip/627/clip.mp4\n",
      "\n"
     ]
    },
    {
     "name": "stderr",
     "output_type": "stream",
     "text": [
      "                                                            \r"
     ]
    },
    {
     "name": "stdout",
     "output_type": "stream",
     "text": [
      "Moviepy - Done !\n",
      "Moviepy - video ready C:/Users/naoki/anaconda_work/Faster-R-CNN-pytorch-main/data/ori_data/drama_clip/627/clip.mp4\n",
      "Moviepy - Building video C:/Users/naoki/anaconda_work/Faster-R-CNN-pytorch-main/data/ori_data/drama_clip/628/clip.mp4.\n",
      "Moviepy - Writing video C:/Users/naoki/anaconda_work/Faster-R-CNN-pytorch-main/data/ori_data/drama_clip/628/clip.mp4\n",
      "\n"
     ]
    },
    {
     "name": "stderr",
     "output_type": "stream",
     "text": [
      "                                                            \r"
     ]
    },
    {
     "name": "stdout",
     "output_type": "stream",
     "text": [
      "Moviepy - Done !\n",
      "Moviepy - video ready C:/Users/naoki/anaconda_work/Faster-R-CNN-pytorch-main/data/ori_data/drama_clip/628/clip.mp4\n",
      "Moviepy - Building video C:/Users/naoki/anaconda_work/Faster-R-CNN-pytorch-main/data/ori_data/drama_clip/629/clip.mp4.\n",
      "Moviepy - Writing video C:/Users/naoki/anaconda_work/Faster-R-CNN-pytorch-main/data/ori_data/drama_clip/629/clip.mp4\n",
      "\n"
     ]
    },
    {
     "name": "stderr",
     "output_type": "stream",
     "text": [
      "                                                            \r"
     ]
    },
    {
     "name": "stdout",
     "output_type": "stream",
     "text": [
      "Moviepy - Done !\n",
      "Moviepy - video ready C:/Users/naoki/anaconda_work/Faster-R-CNN-pytorch-main/data/ori_data/drama_clip/629/clip.mp4\n",
      "Moviepy - Building video C:/Users/naoki/anaconda_work/Faster-R-CNN-pytorch-main/data/ori_data/drama_clip/630/clip.mp4.\n",
      "Moviepy - Writing video C:/Users/naoki/anaconda_work/Faster-R-CNN-pytorch-main/data/ori_data/drama_clip/630/clip.mp4\n",
      "\n"
     ]
    },
    {
     "name": "stderr",
     "output_type": "stream",
     "text": [
      "                                                            \r"
     ]
    },
    {
     "name": "stdout",
     "output_type": "stream",
     "text": [
      "Moviepy - Done !\n",
      "Moviepy - video ready C:/Users/naoki/anaconda_work/Faster-R-CNN-pytorch-main/data/ori_data/drama_clip/630/clip.mp4\n",
      "Moviepy - Building video C:/Users/naoki/anaconda_work/Faster-R-CNN-pytorch-main/data/ori_data/drama_clip/631/clip.mp4.\n",
      "Moviepy - Writing video C:/Users/naoki/anaconda_work/Faster-R-CNN-pytorch-main/data/ori_data/drama_clip/631/clip.mp4\n",
      "\n"
     ]
    },
    {
     "name": "stderr",
     "output_type": "stream",
     "text": [
      "                                                            \r"
     ]
    },
    {
     "name": "stdout",
     "output_type": "stream",
     "text": [
      "Moviepy - Done !\n",
      "Moviepy - video ready C:/Users/naoki/anaconda_work/Faster-R-CNN-pytorch-main/data/ori_data/drama_clip/631/clip.mp4\n",
      "Moviepy - Building video C:/Users/naoki/anaconda_work/Faster-R-CNN-pytorch-main/data/ori_data/drama_clip/632/clip.mp4.\n",
      "Moviepy - Writing video C:/Users/naoki/anaconda_work/Faster-R-CNN-pytorch-main/data/ori_data/drama_clip/632/clip.mp4\n",
      "\n"
     ]
    },
    {
     "name": "stderr",
     "output_type": "stream",
     "text": [
      "                                                            \r"
     ]
    },
    {
     "name": "stdout",
     "output_type": "stream",
     "text": [
      "Moviepy - Done !\n",
      "Moviepy - video ready C:/Users/naoki/anaconda_work/Faster-R-CNN-pytorch-main/data/ori_data/drama_clip/632/clip.mp4\n",
      "Moviepy - Building video C:/Users/naoki/anaconda_work/Faster-R-CNN-pytorch-main/data/ori_data/drama_clip/633/clip.mp4.\n",
      "Moviepy - Writing video C:/Users/naoki/anaconda_work/Faster-R-CNN-pytorch-main/data/ori_data/drama_clip/633/clip.mp4\n",
      "\n"
     ]
    },
    {
     "name": "stderr",
     "output_type": "stream",
     "text": [
      "                                                            \r"
     ]
    },
    {
     "name": "stdout",
     "output_type": "stream",
     "text": [
      "Moviepy - Done !\n",
      "Moviepy - video ready C:/Users/naoki/anaconda_work/Faster-R-CNN-pytorch-main/data/ori_data/drama_clip/633/clip.mp4\n",
      "Moviepy - Building video C:/Users/naoki/anaconda_work/Faster-R-CNN-pytorch-main/data/ori_data/drama_clip/634/clip.mp4.\n",
      "Moviepy - Writing video C:/Users/naoki/anaconda_work/Faster-R-CNN-pytorch-main/data/ori_data/drama_clip/634/clip.mp4\n",
      "\n"
     ]
    },
    {
     "name": "stderr",
     "output_type": "stream",
     "text": [
      "                                                            \r"
     ]
    },
    {
     "name": "stdout",
     "output_type": "stream",
     "text": [
      "Moviepy - Done !\n",
      "Moviepy - video ready C:/Users/naoki/anaconda_work/Faster-R-CNN-pytorch-main/data/ori_data/drama_clip/634/clip.mp4\n",
      "Moviepy - Building video C:/Users/naoki/anaconda_work/Faster-R-CNN-pytorch-main/data/ori_data/drama_clip/635/clip.mp4.\n",
      "Moviepy - Writing video C:/Users/naoki/anaconda_work/Faster-R-CNN-pytorch-main/data/ori_data/drama_clip/635/clip.mp4\n",
      "\n"
     ]
    },
    {
     "name": "stderr",
     "output_type": "stream",
     "text": [
      "                                                            \r"
     ]
    },
    {
     "name": "stdout",
     "output_type": "stream",
     "text": [
      "Moviepy - Done !\n",
      "Moviepy - video ready C:/Users/naoki/anaconda_work/Faster-R-CNN-pytorch-main/data/ori_data/drama_clip/635/clip.mp4\n",
      "Moviepy - Building video C:/Users/naoki/anaconda_work/Faster-R-CNN-pytorch-main/data/ori_data/drama_clip/636/clip.mp4.\n",
      "Moviepy - Writing video C:/Users/naoki/anaconda_work/Faster-R-CNN-pytorch-main/data/ori_data/drama_clip/636/clip.mp4\n",
      "\n"
     ]
    },
    {
     "name": "stderr",
     "output_type": "stream",
     "text": [
      "                                                            \r"
     ]
    },
    {
     "name": "stdout",
     "output_type": "stream",
     "text": [
      "Moviepy - Done !\n",
      "Moviepy - video ready C:/Users/naoki/anaconda_work/Faster-R-CNN-pytorch-main/data/ori_data/drama_clip/636/clip.mp4\n",
      "Moviepy - Building video C:/Users/naoki/anaconda_work/Faster-R-CNN-pytorch-main/data/ori_data/drama_clip/637/clip.mp4.\n",
      "Moviepy - Writing video C:/Users/naoki/anaconda_work/Faster-R-CNN-pytorch-main/data/ori_data/drama_clip/637/clip.mp4\n",
      "\n"
     ]
    },
    {
     "name": "stderr",
     "output_type": "stream",
     "text": [
      "                                                            \r"
     ]
    },
    {
     "name": "stdout",
     "output_type": "stream",
     "text": [
      "Moviepy - Done !\n",
      "Moviepy - video ready C:/Users/naoki/anaconda_work/Faster-R-CNN-pytorch-main/data/ori_data/drama_clip/637/clip.mp4\n",
      "Moviepy - Building video C:/Users/naoki/anaconda_work/Faster-R-CNN-pytorch-main/data/ori_data/drama_clip/638/clip.mp4.\n",
      "Moviepy - Writing video C:/Users/naoki/anaconda_work/Faster-R-CNN-pytorch-main/data/ori_data/drama_clip/638/clip.mp4\n",
      "\n"
     ]
    },
    {
     "name": "stderr",
     "output_type": "stream",
     "text": [
      "                                                            \r"
     ]
    },
    {
     "name": "stdout",
     "output_type": "stream",
     "text": [
      "Moviepy - Done !\n",
      "Moviepy - video ready C:/Users/naoki/anaconda_work/Faster-R-CNN-pytorch-main/data/ori_data/drama_clip/638/clip.mp4\n",
      "Moviepy - Building video C:/Users/naoki/anaconda_work/Faster-R-CNN-pytorch-main/data/ori_data/drama_clip/639/clip.mp4.\n",
      "Moviepy - Writing video C:/Users/naoki/anaconda_work/Faster-R-CNN-pytorch-main/data/ori_data/drama_clip/639/clip.mp4\n",
      "\n"
     ]
    },
    {
     "name": "stderr",
     "output_type": "stream",
     "text": [
      "                                                            \r"
     ]
    },
    {
     "name": "stdout",
     "output_type": "stream",
     "text": [
      "Moviepy - Done !\n",
      "Moviepy - video ready C:/Users/naoki/anaconda_work/Faster-R-CNN-pytorch-main/data/ori_data/drama_clip/639/clip.mp4\n",
      "Moviepy - Building video C:/Users/naoki/anaconda_work/Faster-R-CNN-pytorch-main/data/ori_data/drama_clip/640/clip.mp4.\n",
      "Moviepy - Writing video C:/Users/naoki/anaconda_work/Faster-R-CNN-pytorch-main/data/ori_data/drama_clip/640/clip.mp4\n",
      "\n"
     ]
    },
    {
     "name": "stderr",
     "output_type": "stream",
     "text": [
      "                                                            \r"
     ]
    },
    {
     "name": "stdout",
     "output_type": "stream",
     "text": [
      "Moviepy - Done !\n",
      "Moviepy - video ready C:/Users/naoki/anaconda_work/Faster-R-CNN-pytorch-main/data/ori_data/drama_clip/640/clip.mp4\n",
      "Moviepy - Building video C:/Users/naoki/anaconda_work/Faster-R-CNN-pytorch-main/data/ori_data/drama_clip/641/clip.mp4.\n",
      "Moviepy - Writing video C:/Users/naoki/anaconda_work/Faster-R-CNN-pytorch-main/data/ori_data/drama_clip/641/clip.mp4\n",
      "\n"
     ]
    },
    {
     "name": "stderr",
     "output_type": "stream",
     "text": [
      "                                                            \r"
     ]
    },
    {
     "name": "stdout",
     "output_type": "stream",
     "text": [
      "Moviepy - Done !\n",
      "Moviepy - video ready C:/Users/naoki/anaconda_work/Faster-R-CNN-pytorch-main/data/ori_data/drama_clip/641/clip.mp4\n",
      "Moviepy - Building video C:/Users/naoki/anaconda_work/Faster-R-CNN-pytorch-main/data/ori_data/drama_clip/642/clip.mp4.\n",
      "Moviepy - Writing video C:/Users/naoki/anaconda_work/Faster-R-CNN-pytorch-main/data/ori_data/drama_clip/642/clip.mp4\n",
      "\n"
     ]
    },
    {
     "name": "stderr",
     "output_type": "stream",
     "text": [
      "                                                            \r"
     ]
    },
    {
     "name": "stdout",
     "output_type": "stream",
     "text": [
      "Moviepy - Done !\n",
      "Moviepy - video ready C:/Users/naoki/anaconda_work/Faster-R-CNN-pytorch-main/data/ori_data/drama_clip/642/clip.mp4\n",
      "Moviepy - Building video C:/Users/naoki/anaconda_work/Faster-R-CNN-pytorch-main/data/ori_data/drama_clip/643/clip.mp4.\n",
      "Moviepy - Writing video C:/Users/naoki/anaconda_work/Faster-R-CNN-pytorch-main/data/ori_data/drama_clip/643/clip.mp4\n",
      "\n"
     ]
    },
    {
     "name": "stderr",
     "output_type": "stream",
     "text": [
      "                                                            \r"
     ]
    },
    {
     "name": "stdout",
     "output_type": "stream",
     "text": [
      "Moviepy - Done !\n",
      "Moviepy - video ready C:/Users/naoki/anaconda_work/Faster-R-CNN-pytorch-main/data/ori_data/drama_clip/643/clip.mp4\n",
      "Moviepy - Building video C:/Users/naoki/anaconda_work/Faster-R-CNN-pytorch-main/data/ori_data/drama_clip/644/clip.mp4.\n",
      "Moviepy - Writing video C:/Users/naoki/anaconda_work/Faster-R-CNN-pytorch-main/data/ori_data/drama_clip/644/clip.mp4\n",
      "\n"
     ]
    },
    {
     "name": "stderr",
     "output_type": "stream",
     "text": [
      "                                                            \r"
     ]
    },
    {
     "name": "stdout",
     "output_type": "stream",
     "text": [
      "Moviepy - Done !\n",
      "Moviepy - video ready C:/Users/naoki/anaconda_work/Faster-R-CNN-pytorch-main/data/ori_data/drama_clip/644/clip.mp4\n",
      "Moviepy - Building video C:/Users/naoki/anaconda_work/Faster-R-CNN-pytorch-main/data/ori_data/drama_clip/645/clip.mp4.\n",
      "Moviepy - Writing video C:/Users/naoki/anaconda_work/Faster-R-CNN-pytorch-main/data/ori_data/drama_clip/645/clip.mp4\n",
      "\n"
     ]
    },
    {
     "name": "stderr",
     "output_type": "stream",
     "text": [
      "                                                            \r"
     ]
    },
    {
     "name": "stdout",
     "output_type": "stream",
     "text": [
      "Moviepy - Done !\n",
      "Moviepy - video ready C:/Users/naoki/anaconda_work/Faster-R-CNN-pytorch-main/data/ori_data/drama_clip/645/clip.mp4\n",
      "Moviepy - Building video C:/Users/naoki/anaconda_work/Faster-R-CNN-pytorch-main/data/ori_data/drama_clip/646/clip.mp4.\n",
      "Moviepy - Writing video C:/Users/naoki/anaconda_work/Faster-R-CNN-pytorch-main/data/ori_data/drama_clip/646/clip.mp4\n",
      "\n"
     ]
    },
    {
     "name": "stderr",
     "output_type": "stream",
     "text": [
      "                                                            \r"
     ]
    },
    {
     "name": "stdout",
     "output_type": "stream",
     "text": [
      "Moviepy - Done !\n",
      "Moviepy - video ready C:/Users/naoki/anaconda_work/Faster-R-CNN-pytorch-main/data/ori_data/drama_clip/646/clip.mp4\n",
      "Moviepy - Building video C:/Users/naoki/anaconda_work/Faster-R-CNN-pytorch-main/data/ori_data/drama_clip/647/clip.mp4.\n",
      "Moviepy - Writing video C:/Users/naoki/anaconda_work/Faster-R-CNN-pytorch-main/data/ori_data/drama_clip/647/clip.mp4\n",
      "\n"
     ]
    },
    {
     "name": "stderr",
     "output_type": "stream",
     "text": [
      "                                                            \r"
     ]
    },
    {
     "name": "stdout",
     "output_type": "stream",
     "text": [
      "Moviepy - Done !\n",
      "Moviepy - video ready C:/Users/naoki/anaconda_work/Faster-R-CNN-pytorch-main/data/ori_data/drama_clip/647/clip.mp4\n",
      "Moviepy - Building video C:/Users/naoki/anaconda_work/Faster-R-CNN-pytorch-main/data/ori_data/drama_clip/648/clip.mp4.\n",
      "Moviepy - Writing video C:/Users/naoki/anaconda_work/Faster-R-CNN-pytorch-main/data/ori_data/drama_clip/648/clip.mp4\n",
      "\n"
     ]
    },
    {
     "name": "stderr",
     "output_type": "stream",
     "text": [
      "                                                            \r"
     ]
    },
    {
     "name": "stdout",
     "output_type": "stream",
     "text": [
      "Moviepy - Done !\n",
      "Moviepy - video ready C:/Users/naoki/anaconda_work/Faster-R-CNN-pytorch-main/data/ori_data/drama_clip/648/clip.mp4\n",
      "Moviepy - Building video C:/Users/naoki/anaconda_work/Faster-R-CNN-pytorch-main/data/ori_data/drama_clip/649/clip.mp4.\n",
      "Moviepy - Writing video C:/Users/naoki/anaconda_work/Faster-R-CNN-pytorch-main/data/ori_data/drama_clip/649/clip.mp4\n",
      "\n"
     ]
    },
    {
     "name": "stderr",
     "output_type": "stream",
     "text": [
      "                                                            \r"
     ]
    },
    {
     "name": "stdout",
     "output_type": "stream",
     "text": [
      "Moviepy - Done !\n",
      "Moviepy - video ready C:/Users/naoki/anaconda_work/Faster-R-CNN-pytorch-main/data/ori_data/drama_clip/649/clip.mp4\n",
      "Moviepy - Building video C:/Users/naoki/anaconda_work/Faster-R-CNN-pytorch-main/data/ori_data/drama_clip/650/clip.mp4.\n",
      "Moviepy - Writing video C:/Users/naoki/anaconda_work/Faster-R-CNN-pytorch-main/data/ori_data/drama_clip/650/clip.mp4\n",
      "\n"
     ]
    },
    {
     "name": "stderr",
     "output_type": "stream",
     "text": [
      "                                                            \r"
     ]
    },
    {
     "name": "stdout",
     "output_type": "stream",
     "text": [
      "Moviepy - Done !\n",
      "Moviepy - video ready C:/Users/naoki/anaconda_work/Faster-R-CNN-pytorch-main/data/ori_data/drama_clip/650/clip.mp4\n",
      "Moviepy - Building video C:/Users/naoki/anaconda_work/Faster-R-CNN-pytorch-main/data/ori_data/drama_clip/651/clip.mp4.\n",
      "Moviepy - Writing video C:/Users/naoki/anaconda_work/Faster-R-CNN-pytorch-main/data/ori_data/drama_clip/651/clip.mp4\n",
      "\n"
     ]
    },
    {
     "name": "stderr",
     "output_type": "stream",
     "text": [
      "                                                            \r"
     ]
    },
    {
     "name": "stdout",
     "output_type": "stream",
     "text": [
      "Moviepy - Done !\n",
      "Moviepy - video ready C:/Users/naoki/anaconda_work/Faster-R-CNN-pytorch-main/data/ori_data/drama_clip/651/clip.mp4\n",
      "Moviepy - Building video C:/Users/naoki/anaconda_work/Faster-R-CNN-pytorch-main/data/ori_data/drama_clip/652/clip.mp4.\n",
      "Moviepy - Writing video C:/Users/naoki/anaconda_work/Faster-R-CNN-pytorch-main/data/ori_data/drama_clip/652/clip.mp4\n",
      "\n"
     ]
    },
    {
     "name": "stderr",
     "output_type": "stream",
     "text": [
      "                                                            \r"
     ]
    },
    {
     "name": "stdout",
     "output_type": "stream",
     "text": [
      "Moviepy - Done !\n",
      "Moviepy - video ready C:/Users/naoki/anaconda_work/Faster-R-CNN-pytorch-main/data/ori_data/drama_clip/652/clip.mp4\n",
      "Moviepy - Building video C:/Users/naoki/anaconda_work/Faster-R-CNN-pytorch-main/data/ori_data/drama_clip/653/clip.mp4.\n",
      "Moviepy - Writing video C:/Users/naoki/anaconda_work/Faster-R-CNN-pytorch-main/data/ori_data/drama_clip/653/clip.mp4\n",
      "\n"
     ]
    },
    {
     "name": "stderr",
     "output_type": "stream",
     "text": [
      "                                                            \r"
     ]
    },
    {
     "name": "stdout",
     "output_type": "stream",
     "text": [
      "Moviepy - Done !\n",
      "Moviepy - video ready C:/Users/naoki/anaconda_work/Faster-R-CNN-pytorch-main/data/ori_data/drama_clip/653/clip.mp4\n",
      "Moviepy - Building video C:/Users/naoki/anaconda_work/Faster-R-CNN-pytorch-main/data/ori_data/drama_clip/654/clip.mp4.\n",
      "Moviepy - Writing video C:/Users/naoki/anaconda_work/Faster-R-CNN-pytorch-main/data/ori_data/drama_clip/654/clip.mp4\n",
      "\n"
     ]
    },
    {
     "name": "stderr",
     "output_type": "stream",
     "text": [
      "                                                            \r"
     ]
    },
    {
     "name": "stdout",
     "output_type": "stream",
     "text": [
      "Moviepy - Done !\n",
      "Moviepy - video ready C:/Users/naoki/anaconda_work/Faster-R-CNN-pytorch-main/data/ori_data/drama_clip/654/clip.mp4\n",
      "Moviepy - Building video C:/Users/naoki/anaconda_work/Faster-R-CNN-pytorch-main/data/ori_data/drama_clip/655/clip.mp4.\n",
      "Moviepy - Writing video C:/Users/naoki/anaconda_work/Faster-R-CNN-pytorch-main/data/ori_data/drama_clip/655/clip.mp4\n",
      "\n"
     ]
    },
    {
     "name": "stderr",
     "output_type": "stream",
     "text": [
      "                                                            \r"
     ]
    },
    {
     "name": "stdout",
     "output_type": "stream",
     "text": [
      "Moviepy - Done !\n",
      "Moviepy - video ready C:/Users/naoki/anaconda_work/Faster-R-CNN-pytorch-main/data/ori_data/drama_clip/655/clip.mp4\n",
      "Moviepy - Building video C:/Users/naoki/anaconda_work/Faster-R-CNN-pytorch-main/data/ori_data/drama_clip/656/clip.mp4.\n",
      "Moviepy - Writing video C:/Users/naoki/anaconda_work/Faster-R-CNN-pytorch-main/data/ori_data/drama_clip/656/clip.mp4\n",
      "\n"
     ]
    },
    {
     "name": "stderr",
     "output_type": "stream",
     "text": [
      "                                                            \r"
     ]
    },
    {
     "name": "stdout",
     "output_type": "stream",
     "text": [
      "Moviepy - Done !\n",
      "Moviepy - video ready C:/Users/naoki/anaconda_work/Faster-R-CNN-pytorch-main/data/ori_data/drama_clip/656/clip.mp4\n",
      "Moviepy - Building video C:/Users/naoki/anaconda_work/Faster-R-CNN-pytorch-main/data/ori_data/drama_clip/657/clip.mp4.\n",
      "Moviepy - Writing video C:/Users/naoki/anaconda_work/Faster-R-CNN-pytorch-main/data/ori_data/drama_clip/657/clip.mp4\n",
      "\n"
     ]
    },
    {
     "name": "stderr",
     "output_type": "stream",
     "text": [
      "                                                            \r"
     ]
    },
    {
     "name": "stdout",
     "output_type": "stream",
     "text": [
      "Moviepy - Done !\n",
      "Moviepy - video ready C:/Users/naoki/anaconda_work/Faster-R-CNN-pytorch-main/data/ori_data/drama_clip/657/clip.mp4\n",
      "Moviepy - Building video C:/Users/naoki/anaconda_work/Faster-R-CNN-pytorch-main/data/ori_data/drama_clip/658/clip.mp4.\n",
      "Moviepy - Writing video C:/Users/naoki/anaconda_work/Faster-R-CNN-pytorch-main/data/ori_data/drama_clip/658/clip.mp4\n",
      "\n"
     ]
    },
    {
     "name": "stderr",
     "output_type": "stream",
     "text": [
      "                                                            \r"
     ]
    },
    {
     "name": "stdout",
     "output_type": "stream",
     "text": [
      "Moviepy - Done !\n",
      "Moviepy - video ready C:/Users/naoki/anaconda_work/Faster-R-CNN-pytorch-main/data/ori_data/drama_clip/658/clip.mp4\n",
      "Moviepy - Building video C:/Users/naoki/anaconda_work/Faster-R-CNN-pytorch-main/data/ori_data/drama_clip/659/clip.mp4.\n",
      "Moviepy - Writing video C:/Users/naoki/anaconda_work/Faster-R-CNN-pytorch-main/data/ori_data/drama_clip/659/clip.mp4\n",
      "\n"
     ]
    },
    {
     "name": "stderr",
     "output_type": "stream",
     "text": [
      "                                                            \r"
     ]
    },
    {
     "name": "stdout",
     "output_type": "stream",
     "text": [
      "Moviepy - Done !\n",
      "Moviepy - video ready C:/Users/naoki/anaconda_work/Faster-R-CNN-pytorch-main/data/ori_data/drama_clip/659/clip.mp4\n",
      "Moviepy - Building video C:/Users/naoki/anaconda_work/Faster-R-CNN-pytorch-main/data/ori_data/drama_clip/660/clip.mp4.\n",
      "Moviepy - Writing video C:/Users/naoki/anaconda_work/Faster-R-CNN-pytorch-main/data/ori_data/drama_clip/660/clip.mp4\n",
      "\n"
     ]
    },
    {
     "name": "stderr",
     "output_type": "stream",
     "text": [
      "                                                            \r"
     ]
    },
    {
     "name": "stdout",
     "output_type": "stream",
     "text": [
      "Moviepy - Done !\n",
      "Moviepy - video ready C:/Users/naoki/anaconda_work/Faster-R-CNN-pytorch-main/data/ori_data/drama_clip/660/clip.mp4\n",
      "Moviepy - Building video C:/Users/naoki/anaconda_work/Faster-R-CNN-pytorch-main/data/ori_data/drama_clip/661/clip.mp4.\n",
      "Moviepy - Writing video C:/Users/naoki/anaconda_work/Faster-R-CNN-pytorch-main/data/ori_data/drama_clip/661/clip.mp4\n",
      "\n"
     ]
    },
    {
     "name": "stderr",
     "output_type": "stream",
     "text": [
      "                                                            \r"
     ]
    },
    {
     "name": "stdout",
     "output_type": "stream",
     "text": [
      "Moviepy - Done !\n",
      "Moviepy - video ready C:/Users/naoki/anaconda_work/Faster-R-CNN-pytorch-main/data/ori_data/drama_clip/661/clip.mp4\n",
      "Moviepy - Building video C:/Users/naoki/anaconda_work/Faster-R-CNN-pytorch-main/data/ori_data/drama_clip/662/clip.mp4.\n",
      "Moviepy - Writing video C:/Users/naoki/anaconda_work/Faster-R-CNN-pytorch-main/data/ori_data/drama_clip/662/clip.mp4\n",
      "\n"
     ]
    },
    {
     "name": "stderr",
     "output_type": "stream",
     "text": [
      "                                                            \r"
     ]
    },
    {
     "name": "stdout",
     "output_type": "stream",
     "text": [
      "Moviepy - Done !\n",
      "Moviepy - video ready C:/Users/naoki/anaconda_work/Faster-R-CNN-pytorch-main/data/ori_data/drama_clip/662/clip.mp4\n",
      "Moviepy - Building video C:/Users/naoki/anaconda_work/Faster-R-CNN-pytorch-main/data/ori_data/drama_clip/663/clip.mp4.\n",
      "Moviepy - Writing video C:/Users/naoki/anaconda_work/Faster-R-CNN-pytorch-main/data/ori_data/drama_clip/663/clip.mp4\n",
      "\n"
     ]
    },
    {
     "name": "stderr",
     "output_type": "stream",
     "text": [
      "                                                            \r"
     ]
    },
    {
     "name": "stdout",
     "output_type": "stream",
     "text": [
      "Moviepy - Done !\n",
      "Moviepy - video ready C:/Users/naoki/anaconda_work/Faster-R-CNN-pytorch-main/data/ori_data/drama_clip/663/clip.mp4\n",
      "Moviepy - Building video C:/Users/naoki/anaconda_work/Faster-R-CNN-pytorch-main/data/ori_data/drama_clip/664/clip.mp4.\n",
      "Moviepy - Writing video C:/Users/naoki/anaconda_work/Faster-R-CNN-pytorch-main/data/ori_data/drama_clip/664/clip.mp4\n",
      "\n"
     ]
    },
    {
     "name": "stderr",
     "output_type": "stream",
     "text": [
      "                                                            \r"
     ]
    },
    {
     "name": "stdout",
     "output_type": "stream",
     "text": [
      "Moviepy - Done !\n",
      "Moviepy - video ready C:/Users/naoki/anaconda_work/Faster-R-CNN-pytorch-main/data/ori_data/drama_clip/664/clip.mp4\n",
      "Moviepy - Building video C:/Users/naoki/anaconda_work/Faster-R-CNN-pytorch-main/data/ori_data/drama_clip/665/clip.mp4.\n",
      "Moviepy - Writing video C:/Users/naoki/anaconda_work/Faster-R-CNN-pytorch-main/data/ori_data/drama_clip/665/clip.mp4\n",
      "\n"
     ]
    },
    {
     "name": "stderr",
     "output_type": "stream",
     "text": [
      "                                                            \r"
     ]
    },
    {
     "name": "stdout",
     "output_type": "stream",
     "text": [
      "Moviepy - Done !\n",
      "Moviepy - video ready C:/Users/naoki/anaconda_work/Faster-R-CNN-pytorch-main/data/ori_data/drama_clip/665/clip.mp4\n",
      "Moviepy - Building video C:/Users/naoki/anaconda_work/Faster-R-CNN-pytorch-main/data/ori_data/drama_clip/666/clip.mp4.\n",
      "Moviepy - Writing video C:/Users/naoki/anaconda_work/Faster-R-CNN-pytorch-main/data/ori_data/drama_clip/666/clip.mp4\n",
      "\n"
     ]
    },
    {
     "name": "stderr",
     "output_type": "stream",
     "text": [
      "                                                            \r"
     ]
    },
    {
     "name": "stdout",
     "output_type": "stream",
     "text": [
      "Moviepy - Done !\n",
      "Moviepy - video ready C:/Users/naoki/anaconda_work/Faster-R-CNN-pytorch-main/data/ori_data/drama_clip/666/clip.mp4\n",
      "Moviepy - Building video C:/Users/naoki/anaconda_work/Faster-R-CNN-pytorch-main/data/ori_data/drama_clip/667/clip.mp4.\n",
      "Moviepy - Writing video C:/Users/naoki/anaconda_work/Faster-R-CNN-pytorch-main/data/ori_data/drama_clip/667/clip.mp4\n",
      "\n"
     ]
    },
    {
     "name": "stderr",
     "output_type": "stream",
     "text": [
      "                                                            \r"
     ]
    },
    {
     "name": "stdout",
     "output_type": "stream",
     "text": [
      "Moviepy - Done !\n",
      "Moviepy - video ready C:/Users/naoki/anaconda_work/Faster-R-CNN-pytorch-main/data/ori_data/drama_clip/667/clip.mp4\n",
      "Moviepy - Building video C:/Users/naoki/anaconda_work/Faster-R-CNN-pytorch-main/data/ori_data/drama_clip/668/clip.mp4.\n",
      "Moviepy - Writing video C:/Users/naoki/anaconda_work/Faster-R-CNN-pytorch-main/data/ori_data/drama_clip/668/clip.mp4\n",
      "\n"
     ]
    },
    {
     "name": "stderr",
     "output_type": "stream",
     "text": [
      "                                                            \r"
     ]
    },
    {
     "name": "stdout",
     "output_type": "stream",
     "text": [
      "Moviepy - Done !\n",
      "Moviepy - video ready C:/Users/naoki/anaconda_work/Faster-R-CNN-pytorch-main/data/ori_data/drama_clip/668/clip.mp4\n",
      "Moviepy - Building video C:/Users/naoki/anaconda_work/Faster-R-CNN-pytorch-main/data/ori_data/drama_clip/669/clip.mp4.\n",
      "Moviepy - Writing video C:/Users/naoki/anaconda_work/Faster-R-CNN-pytorch-main/data/ori_data/drama_clip/669/clip.mp4\n",
      "\n"
     ]
    },
    {
     "name": "stderr",
     "output_type": "stream",
     "text": [
      "                                                            \r"
     ]
    },
    {
     "name": "stdout",
     "output_type": "stream",
     "text": [
      "Moviepy - Done !\n",
      "Moviepy - video ready C:/Users/naoki/anaconda_work/Faster-R-CNN-pytorch-main/data/ori_data/drama_clip/669/clip.mp4\n",
      "Moviepy - Building video C:/Users/naoki/anaconda_work/Faster-R-CNN-pytorch-main/data/ori_data/drama_clip/670/clip.mp4.\n",
      "Moviepy - Writing video C:/Users/naoki/anaconda_work/Faster-R-CNN-pytorch-main/data/ori_data/drama_clip/670/clip.mp4\n",
      "\n"
     ]
    },
    {
     "name": "stderr",
     "output_type": "stream",
     "text": [
      "                                                            \r"
     ]
    },
    {
     "name": "stdout",
     "output_type": "stream",
     "text": [
      "Moviepy - Done !\n",
      "Moviepy - video ready C:/Users/naoki/anaconda_work/Faster-R-CNN-pytorch-main/data/ori_data/drama_clip/670/clip.mp4\n",
      "Moviepy - Building video C:/Users/naoki/anaconda_work/Faster-R-CNN-pytorch-main/data/ori_data/drama_clip/671/clip.mp4.\n",
      "Moviepy - Writing video C:/Users/naoki/anaconda_work/Faster-R-CNN-pytorch-main/data/ori_data/drama_clip/671/clip.mp4\n",
      "\n"
     ]
    },
    {
     "name": "stderr",
     "output_type": "stream",
     "text": [
      "                                                            \r"
     ]
    },
    {
     "name": "stdout",
     "output_type": "stream",
     "text": [
      "Moviepy - Done !\n",
      "Moviepy - video ready C:/Users/naoki/anaconda_work/Faster-R-CNN-pytorch-main/data/ori_data/drama_clip/671/clip.mp4\n",
      "Moviepy - Building video C:/Users/naoki/anaconda_work/Faster-R-CNN-pytorch-main/data/ori_data/drama_clip/672/clip.mp4.\n",
      "Moviepy - Writing video C:/Users/naoki/anaconda_work/Faster-R-CNN-pytorch-main/data/ori_data/drama_clip/672/clip.mp4\n",
      "\n"
     ]
    },
    {
     "name": "stderr",
     "output_type": "stream",
     "text": [
      "                                                            \r"
     ]
    },
    {
     "name": "stdout",
     "output_type": "stream",
     "text": [
      "Moviepy - Done !\n",
      "Moviepy - video ready C:/Users/naoki/anaconda_work/Faster-R-CNN-pytorch-main/data/ori_data/drama_clip/672/clip.mp4\n",
      "Moviepy - Building video C:/Users/naoki/anaconda_work/Faster-R-CNN-pytorch-main/data/ori_data/drama_clip/673/clip.mp4.\n",
      "Moviepy - Writing video C:/Users/naoki/anaconda_work/Faster-R-CNN-pytorch-main/data/ori_data/drama_clip/673/clip.mp4\n",
      "\n"
     ]
    },
    {
     "name": "stderr",
     "output_type": "stream",
     "text": [
      "                                                            \r"
     ]
    },
    {
     "name": "stdout",
     "output_type": "stream",
     "text": [
      "Moviepy - Done !\n",
      "Moviepy - video ready C:/Users/naoki/anaconda_work/Faster-R-CNN-pytorch-main/data/ori_data/drama_clip/673/clip.mp4\n",
      "Moviepy - Building video C:/Users/naoki/anaconda_work/Faster-R-CNN-pytorch-main/data/ori_data/drama_clip/674/clip.mp4.\n",
      "Moviepy - Writing video C:/Users/naoki/anaconda_work/Faster-R-CNN-pytorch-main/data/ori_data/drama_clip/674/clip.mp4\n",
      "\n"
     ]
    },
    {
     "name": "stderr",
     "output_type": "stream",
     "text": [
      "                                                            \r"
     ]
    },
    {
     "name": "stdout",
     "output_type": "stream",
     "text": [
      "Moviepy - Done !\n",
      "Moviepy - video ready C:/Users/naoki/anaconda_work/Faster-R-CNN-pytorch-main/data/ori_data/drama_clip/674/clip.mp4\n",
      "Moviepy - Building video C:/Users/naoki/anaconda_work/Faster-R-CNN-pytorch-main/data/ori_data/drama_clip/675/clip.mp4.\n",
      "Moviepy - Writing video C:/Users/naoki/anaconda_work/Faster-R-CNN-pytorch-main/data/ori_data/drama_clip/675/clip.mp4\n",
      "\n"
     ]
    },
    {
     "name": "stderr",
     "output_type": "stream",
     "text": [
      "                                                            \r"
     ]
    },
    {
     "name": "stdout",
     "output_type": "stream",
     "text": [
      "Moviepy - Done !\n",
      "Moviepy - video ready C:/Users/naoki/anaconda_work/Faster-R-CNN-pytorch-main/data/ori_data/drama_clip/675/clip.mp4\n",
      "Moviepy - Building video C:/Users/naoki/anaconda_work/Faster-R-CNN-pytorch-main/data/ori_data/drama_clip/676/clip.mp4.\n",
      "Moviepy - Writing video C:/Users/naoki/anaconda_work/Faster-R-CNN-pytorch-main/data/ori_data/drama_clip/676/clip.mp4\n",
      "\n"
     ]
    },
    {
     "name": "stderr",
     "output_type": "stream",
     "text": [
      "                                                            \r"
     ]
    },
    {
     "name": "stdout",
     "output_type": "stream",
     "text": [
      "Moviepy - Done !\n",
      "Moviepy - video ready C:/Users/naoki/anaconda_work/Faster-R-CNN-pytorch-main/data/ori_data/drama_clip/676/clip.mp4\n",
      "Moviepy - Building video C:/Users/naoki/anaconda_work/Faster-R-CNN-pytorch-main/data/ori_data/drama_clip/677/clip.mp4.\n",
      "Moviepy - Writing video C:/Users/naoki/anaconda_work/Faster-R-CNN-pytorch-main/data/ori_data/drama_clip/677/clip.mp4\n",
      "\n"
     ]
    },
    {
     "name": "stderr",
     "output_type": "stream",
     "text": [
      "                                                            \r"
     ]
    },
    {
     "name": "stdout",
     "output_type": "stream",
     "text": [
      "Moviepy - Done !\n",
      "Moviepy - video ready C:/Users/naoki/anaconda_work/Faster-R-CNN-pytorch-main/data/ori_data/drama_clip/677/clip.mp4\n",
      "Moviepy - Building video C:/Users/naoki/anaconda_work/Faster-R-CNN-pytorch-main/data/ori_data/drama_clip/678/clip.mp4.\n",
      "Moviepy - Writing video C:/Users/naoki/anaconda_work/Faster-R-CNN-pytorch-main/data/ori_data/drama_clip/678/clip.mp4\n",
      "\n"
     ]
    },
    {
     "name": "stderr",
     "output_type": "stream",
     "text": [
      "                                                            \r"
     ]
    },
    {
     "name": "stdout",
     "output_type": "stream",
     "text": [
      "Moviepy - Done !\n",
      "Moviepy - video ready C:/Users/naoki/anaconda_work/Faster-R-CNN-pytorch-main/data/ori_data/drama_clip/678/clip.mp4\n",
      "Moviepy - Building video C:/Users/naoki/anaconda_work/Faster-R-CNN-pytorch-main/data/ori_data/drama_clip/679/clip.mp4.\n",
      "Moviepy - Writing video C:/Users/naoki/anaconda_work/Faster-R-CNN-pytorch-main/data/ori_data/drama_clip/679/clip.mp4\n",
      "\n"
     ]
    },
    {
     "name": "stderr",
     "output_type": "stream",
     "text": [
      "                                                            \r"
     ]
    },
    {
     "name": "stdout",
     "output_type": "stream",
     "text": [
      "Moviepy - Done !\n",
      "Moviepy - video ready C:/Users/naoki/anaconda_work/Faster-R-CNN-pytorch-main/data/ori_data/drama_clip/679/clip.mp4\n",
      "Moviepy - Building video C:/Users/naoki/anaconda_work/Faster-R-CNN-pytorch-main/data/ori_data/drama_clip/680/clip.mp4.\n",
      "Moviepy - Writing video C:/Users/naoki/anaconda_work/Faster-R-CNN-pytorch-main/data/ori_data/drama_clip/680/clip.mp4\n",
      "\n"
     ]
    },
    {
     "name": "stderr",
     "output_type": "stream",
     "text": [
      "                                                            \r"
     ]
    },
    {
     "name": "stdout",
     "output_type": "stream",
     "text": [
      "Moviepy - Done !\n",
      "Moviepy - video ready C:/Users/naoki/anaconda_work/Faster-R-CNN-pytorch-main/data/ori_data/drama_clip/680/clip.mp4\n",
      "Moviepy - Building video C:/Users/naoki/anaconda_work/Faster-R-CNN-pytorch-main/data/ori_data/drama_clip/681/clip.mp4.\n",
      "Moviepy - Writing video C:/Users/naoki/anaconda_work/Faster-R-CNN-pytorch-main/data/ori_data/drama_clip/681/clip.mp4\n",
      "\n"
     ]
    },
    {
     "name": "stderr",
     "output_type": "stream",
     "text": [
      "                                                            \r"
     ]
    },
    {
     "name": "stdout",
     "output_type": "stream",
     "text": [
      "Moviepy - Done !\n",
      "Moviepy - video ready C:/Users/naoki/anaconda_work/Faster-R-CNN-pytorch-main/data/ori_data/drama_clip/681/clip.mp4\n",
      "Moviepy - Building video C:/Users/naoki/anaconda_work/Faster-R-CNN-pytorch-main/data/ori_data/drama_clip/682/clip.mp4.\n",
      "Moviepy - Writing video C:/Users/naoki/anaconda_work/Faster-R-CNN-pytorch-main/data/ori_data/drama_clip/682/clip.mp4\n",
      "\n"
     ]
    },
    {
     "name": "stderr",
     "output_type": "stream",
     "text": [
      "                                                            \r"
     ]
    },
    {
     "name": "stdout",
     "output_type": "stream",
     "text": [
      "Moviepy - Done !\n",
      "Moviepy - video ready C:/Users/naoki/anaconda_work/Faster-R-CNN-pytorch-main/data/ori_data/drama_clip/682/clip.mp4\n",
      "Moviepy - Building video C:/Users/naoki/anaconda_work/Faster-R-CNN-pytorch-main/data/ori_data/drama_clip/683/clip.mp4.\n",
      "Moviepy - Writing video C:/Users/naoki/anaconda_work/Faster-R-CNN-pytorch-main/data/ori_data/drama_clip/683/clip.mp4\n",
      "\n"
     ]
    },
    {
     "name": "stderr",
     "output_type": "stream",
     "text": [
      "                                                            \r"
     ]
    },
    {
     "name": "stdout",
     "output_type": "stream",
     "text": [
      "Moviepy - Done !\n",
      "Moviepy - video ready C:/Users/naoki/anaconda_work/Faster-R-CNN-pytorch-main/data/ori_data/drama_clip/683/clip.mp4\n",
      "Moviepy - Building video C:/Users/naoki/anaconda_work/Faster-R-CNN-pytorch-main/data/ori_data/drama_clip/684/clip.mp4.\n",
      "Moviepy - Writing video C:/Users/naoki/anaconda_work/Faster-R-CNN-pytorch-main/data/ori_data/drama_clip/684/clip.mp4\n",
      "\n"
     ]
    },
    {
     "name": "stderr",
     "output_type": "stream",
     "text": [
      "                                                            \r"
     ]
    },
    {
     "name": "stdout",
     "output_type": "stream",
     "text": [
      "Moviepy - Done !\n",
      "Moviepy - video ready C:/Users/naoki/anaconda_work/Faster-R-CNN-pytorch-main/data/ori_data/drama_clip/684/clip.mp4\n",
      "Moviepy - Building video C:/Users/naoki/anaconda_work/Faster-R-CNN-pytorch-main/data/ori_data/drama_clip/685/clip.mp4.\n",
      "Moviepy - Writing video C:/Users/naoki/anaconda_work/Faster-R-CNN-pytorch-main/data/ori_data/drama_clip/685/clip.mp4\n",
      "\n"
     ]
    },
    {
     "name": "stderr",
     "output_type": "stream",
     "text": [
      "                                                            \r"
     ]
    },
    {
     "name": "stdout",
     "output_type": "stream",
     "text": [
      "Moviepy - Done !\n",
      "Moviepy - video ready C:/Users/naoki/anaconda_work/Faster-R-CNN-pytorch-main/data/ori_data/drama_clip/685/clip.mp4\n",
      "Moviepy - Building video C:/Users/naoki/anaconda_work/Faster-R-CNN-pytorch-main/data/ori_data/drama_clip/686/clip.mp4.\n",
      "Moviepy - Writing video C:/Users/naoki/anaconda_work/Faster-R-CNN-pytorch-main/data/ori_data/drama_clip/686/clip.mp4\n",
      "\n"
     ]
    },
    {
     "name": "stderr",
     "output_type": "stream",
     "text": [
      "                                                            \r"
     ]
    },
    {
     "name": "stdout",
     "output_type": "stream",
     "text": [
      "Moviepy - Done !\n",
      "Moviepy - video ready C:/Users/naoki/anaconda_work/Faster-R-CNN-pytorch-main/data/ori_data/drama_clip/686/clip.mp4\n",
      "Moviepy - Building video C:/Users/naoki/anaconda_work/Faster-R-CNN-pytorch-main/data/ori_data/drama_clip/687/clip.mp4.\n",
      "Moviepy - Writing video C:/Users/naoki/anaconda_work/Faster-R-CNN-pytorch-main/data/ori_data/drama_clip/687/clip.mp4\n",
      "\n"
     ]
    },
    {
     "name": "stderr",
     "output_type": "stream",
     "text": [
      "                                                            \r"
     ]
    },
    {
     "name": "stdout",
     "output_type": "stream",
     "text": [
      "Moviepy - Done !\n",
      "Moviepy - video ready C:/Users/naoki/anaconda_work/Faster-R-CNN-pytorch-main/data/ori_data/drama_clip/687/clip.mp4\n",
      "Moviepy - Building video C:/Users/naoki/anaconda_work/Faster-R-CNN-pytorch-main/data/ori_data/drama_clip/688/clip.mp4.\n",
      "Moviepy - Writing video C:/Users/naoki/anaconda_work/Faster-R-CNN-pytorch-main/data/ori_data/drama_clip/688/clip.mp4\n",
      "\n"
     ]
    },
    {
     "name": "stderr",
     "output_type": "stream",
     "text": [
      "                                                            \r"
     ]
    },
    {
     "name": "stdout",
     "output_type": "stream",
     "text": [
      "Moviepy - Done !\n",
      "Moviepy - video ready C:/Users/naoki/anaconda_work/Faster-R-CNN-pytorch-main/data/ori_data/drama_clip/688/clip.mp4\n",
      "Moviepy - Building video C:/Users/naoki/anaconda_work/Faster-R-CNN-pytorch-main/data/ori_data/drama_clip/689/clip.mp4.\n",
      "Moviepy - Writing video C:/Users/naoki/anaconda_work/Faster-R-CNN-pytorch-main/data/ori_data/drama_clip/689/clip.mp4\n",
      "\n"
     ]
    },
    {
     "name": "stderr",
     "output_type": "stream",
     "text": [
      "                                                            \r"
     ]
    },
    {
     "name": "stdout",
     "output_type": "stream",
     "text": [
      "Moviepy - Done !\n",
      "Moviepy - video ready C:/Users/naoki/anaconda_work/Faster-R-CNN-pytorch-main/data/ori_data/drama_clip/689/clip.mp4\n",
      "Moviepy - Building video C:/Users/naoki/anaconda_work/Faster-R-CNN-pytorch-main/data/ori_data/drama_clip/690/clip.mp4.\n",
      "Moviepy - Writing video C:/Users/naoki/anaconda_work/Faster-R-CNN-pytorch-main/data/ori_data/drama_clip/690/clip.mp4\n",
      "\n"
     ]
    },
    {
     "name": "stderr",
     "output_type": "stream",
     "text": [
      "                                                            \r"
     ]
    },
    {
     "name": "stdout",
     "output_type": "stream",
     "text": [
      "Moviepy - Done !\n",
      "Moviepy - video ready C:/Users/naoki/anaconda_work/Faster-R-CNN-pytorch-main/data/ori_data/drama_clip/690/clip.mp4\n",
      "Moviepy - Building video C:/Users/naoki/anaconda_work/Faster-R-CNN-pytorch-main/data/ori_data/drama_clip/691/clip.mp4.\n",
      "Moviepy - Writing video C:/Users/naoki/anaconda_work/Faster-R-CNN-pytorch-main/data/ori_data/drama_clip/691/clip.mp4\n",
      "\n"
     ]
    },
    {
     "name": "stderr",
     "output_type": "stream",
     "text": [
      "                                                            \r"
     ]
    },
    {
     "name": "stdout",
     "output_type": "stream",
     "text": [
      "Moviepy - Done !\n",
      "Moviepy - video ready C:/Users/naoki/anaconda_work/Faster-R-CNN-pytorch-main/data/ori_data/drama_clip/691/clip.mp4\n",
      "Moviepy - Building video C:/Users/naoki/anaconda_work/Faster-R-CNN-pytorch-main/data/ori_data/drama_clip/692/clip.mp4.\n",
      "Moviepy - Writing video C:/Users/naoki/anaconda_work/Faster-R-CNN-pytorch-main/data/ori_data/drama_clip/692/clip.mp4\n",
      "\n"
     ]
    },
    {
     "name": "stderr",
     "output_type": "stream",
     "text": [
      "                                                            \r"
     ]
    },
    {
     "name": "stdout",
     "output_type": "stream",
     "text": [
      "Moviepy - Done !\n",
      "Moviepy - video ready C:/Users/naoki/anaconda_work/Faster-R-CNN-pytorch-main/data/ori_data/drama_clip/692/clip.mp4\n",
      "Moviepy - Building video C:/Users/naoki/anaconda_work/Faster-R-CNN-pytorch-main/data/ori_data/drama_clip/693/clip.mp4.\n",
      "Moviepy - Writing video C:/Users/naoki/anaconda_work/Faster-R-CNN-pytorch-main/data/ori_data/drama_clip/693/clip.mp4\n",
      "\n"
     ]
    },
    {
     "name": "stderr",
     "output_type": "stream",
     "text": [
      "                                                            \r"
     ]
    },
    {
     "name": "stdout",
     "output_type": "stream",
     "text": [
      "Moviepy - Done !\n",
      "Moviepy - video ready C:/Users/naoki/anaconda_work/Faster-R-CNN-pytorch-main/data/ori_data/drama_clip/693/clip.mp4\n",
      "Moviepy - Building video C:/Users/naoki/anaconda_work/Faster-R-CNN-pytorch-main/data/ori_data/drama_clip/694/clip.mp4.\n",
      "Moviepy - Writing video C:/Users/naoki/anaconda_work/Faster-R-CNN-pytorch-main/data/ori_data/drama_clip/694/clip.mp4\n",
      "\n"
     ]
    },
    {
     "name": "stderr",
     "output_type": "stream",
     "text": [
      "                                                            \r"
     ]
    },
    {
     "name": "stdout",
     "output_type": "stream",
     "text": [
      "Moviepy - Done !\n",
      "Moviepy - video ready C:/Users/naoki/anaconda_work/Faster-R-CNN-pytorch-main/data/ori_data/drama_clip/694/clip.mp4\n",
      "Moviepy - Building video C:/Users/naoki/anaconda_work/Faster-R-CNN-pytorch-main/data/ori_data/drama_clip/695/clip.mp4.\n",
      "Moviepy - Writing video C:/Users/naoki/anaconda_work/Faster-R-CNN-pytorch-main/data/ori_data/drama_clip/695/clip.mp4\n",
      "\n"
     ]
    },
    {
     "name": "stderr",
     "output_type": "stream",
     "text": [
      "                                                            \r"
     ]
    },
    {
     "name": "stdout",
     "output_type": "stream",
     "text": [
      "Moviepy - Done !\n",
      "Moviepy - video ready C:/Users/naoki/anaconda_work/Faster-R-CNN-pytorch-main/data/ori_data/drama_clip/695/clip.mp4\n",
      "Moviepy - Building video C:/Users/naoki/anaconda_work/Faster-R-CNN-pytorch-main/data/ori_data/drama_clip/696/clip.mp4.\n",
      "Moviepy - Writing video C:/Users/naoki/anaconda_work/Faster-R-CNN-pytorch-main/data/ori_data/drama_clip/696/clip.mp4\n",
      "\n"
     ]
    },
    {
     "name": "stderr",
     "output_type": "stream",
     "text": [
      "                                                            \r"
     ]
    },
    {
     "name": "stdout",
     "output_type": "stream",
     "text": [
      "Moviepy - Done !\n",
      "Moviepy - video ready C:/Users/naoki/anaconda_work/Faster-R-CNN-pytorch-main/data/ori_data/drama_clip/696/clip.mp4\n",
      "Moviepy - Building video C:/Users/naoki/anaconda_work/Faster-R-CNN-pytorch-main/data/ori_data/drama_clip/697/clip.mp4.\n",
      "Moviepy - Writing video C:/Users/naoki/anaconda_work/Faster-R-CNN-pytorch-main/data/ori_data/drama_clip/697/clip.mp4\n",
      "\n"
     ]
    },
    {
     "name": "stderr",
     "output_type": "stream",
     "text": [
      "                                                            \r"
     ]
    },
    {
     "name": "stdout",
     "output_type": "stream",
     "text": [
      "Moviepy - Done !\n",
      "Moviepy - video ready C:/Users/naoki/anaconda_work/Faster-R-CNN-pytorch-main/data/ori_data/drama_clip/697/clip.mp4\n",
      "Moviepy - Building video C:/Users/naoki/anaconda_work/Faster-R-CNN-pytorch-main/data/ori_data/drama_clip/698/clip.mp4.\n",
      "Moviepy - Writing video C:/Users/naoki/anaconda_work/Faster-R-CNN-pytorch-main/data/ori_data/drama_clip/698/clip.mp4\n",
      "\n"
     ]
    },
    {
     "name": "stderr",
     "output_type": "stream",
     "text": [
      "                                                            \r"
     ]
    },
    {
     "name": "stdout",
     "output_type": "stream",
     "text": [
      "Moviepy - Done !\n",
      "Moviepy - video ready C:/Users/naoki/anaconda_work/Faster-R-CNN-pytorch-main/data/ori_data/drama_clip/698/clip.mp4\n",
      "Moviepy - Building video C:/Users/naoki/anaconda_work/Faster-R-CNN-pytorch-main/data/ori_data/drama_clip/699/clip.mp4.\n",
      "Moviepy - Writing video C:/Users/naoki/anaconda_work/Faster-R-CNN-pytorch-main/data/ori_data/drama_clip/699/clip.mp4\n",
      "\n"
     ]
    },
    {
     "name": "stderr",
     "output_type": "stream",
     "text": [
      "                                                            \r"
     ]
    },
    {
     "name": "stdout",
     "output_type": "stream",
     "text": [
      "Moviepy - Done !\n",
      "Moviepy - video ready C:/Users/naoki/anaconda_work/Faster-R-CNN-pytorch-main/data/ori_data/drama_clip/699/clip.mp4\n",
      "Moviepy - Building video C:/Users/naoki/anaconda_work/Faster-R-CNN-pytorch-main/data/ori_data/drama_clip/700/clip.mp4.\n",
      "Moviepy - Writing video C:/Users/naoki/anaconda_work/Faster-R-CNN-pytorch-main/data/ori_data/drama_clip/700/clip.mp4\n",
      "\n"
     ]
    },
    {
     "name": "stderr",
     "output_type": "stream",
     "text": [
      "                                                            \r"
     ]
    },
    {
     "name": "stdout",
     "output_type": "stream",
     "text": [
      "Moviepy - Done !\n",
      "Moviepy - video ready C:/Users/naoki/anaconda_work/Faster-R-CNN-pytorch-main/data/ori_data/drama_clip/700/clip.mp4\n",
      "Moviepy - Building video C:/Users/naoki/anaconda_work/Faster-R-CNN-pytorch-main/data/ori_data/drama_clip/701/clip.mp4.\n",
      "Moviepy - Writing video C:/Users/naoki/anaconda_work/Faster-R-CNN-pytorch-main/data/ori_data/drama_clip/701/clip.mp4\n",
      "\n"
     ]
    },
    {
     "name": "stderr",
     "output_type": "stream",
     "text": [
      "                                                            \r"
     ]
    },
    {
     "name": "stdout",
     "output_type": "stream",
     "text": [
      "Moviepy - Done !\n",
      "Moviepy - video ready C:/Users/naoki/anaconda_work/Faster-R-CNN-pytorch-main/data/ori_data/drama_clip/701/clip.mp4\n",
      "Moviepy - Building video C:/Users/naoki/anaconda_work/Faster-R-CNN-pytorch-main/data/ori_data/drama_clip/702/clip.mp4.\n",
      "Moviepy - Writing video C:/Users/naoki/anaconda_work/Faster-R-CNN-pytorch-main/data/ori_data/drama_clip/702/clip.mp4\n",
      "\n"
     ]
    },
    {
     "name": "stderr",
     "output_type": "stream",
     "text": [
      "                                                            \r"
     ]
    },
    {
     "name": "stdout",
     "output_type": "stream",
     "text": [
      "Moviepy - Done !\n",
      "Moviepy - video ready C:/Users/naoki/anaconda_work/Faster-R-CNN-pytorch-main/data/ori_data/drama_clip/702/clip.mp4\n",
      "Moviepy - Building video C:/Users/naoki/anaconda_work/Faster-R-CNN-pytorch-main/data/ori_data/drama_clip/703/clip.mp4.\n",
      "Moviepy - Writing video C:/Users/naoki/anaconda_work/Faster-R-CNN-pytorch-main/data/ori_data/drama_clip/703/clip.mp4\n",
      "\n"
     ]
    },
    {
     "name": "stderr",
     "output_type": "stream",
     "text": [
      "                                                            \r"
     ]
    },
    {
     "name": "stdout",
     "output_type": "stream",
     "text": [
      "Moviepy - Done !\n",
      "Moviepy - video ready C:/Users/naoki/anaconda_work/Faster-R-CNN-pytorch-main/data/ori_data/drama_clip/703/clip.mp4\n",
      "Moviepy - Building video C:/Users/naoki/anaconda_work/Faster-R-CNN-pytorch-main/data/ori_data/drama_clip/704/clip.mp4.\n",
      "Moviepy - Writing video C:/Users/naoki/anaconda_work/Faster-R-CNN-pytorch-main/data/ori_data/drama_clip/704/clip.mp4\n",
      "\n"
     ]
    },
    {
     "name": "stderr",
     "output_type": "stream",
     "text": [
      "                                                            \r"
     ]
    },
    {
     "name": "stdout",
     "output_type": "stream",
     "text": [
      "Moviepy - Done !\n",
      "Moviepy - video ready C:/Users/naoki/anaconda_work/Faster-R-CNN-pytorch-main/data/ori_data/drama_clip/704/clip.mp4\n",
      "Moviepy - Building video C:/Users/naoki/anaconda_work/Faster-R-CNN-pytorch-main/data/ori_data/drama_clip/705/clip.mp4.\n",
      "Moviepy - Writing video C:/Users/naoki/anaconda_work/Faster-R-CNN-pytorch-main/data/ori_data/drama_clip/705/clip.mp4\n",
      "\n"
     ]
    },
    {
     "name": "stderr",
     "output_type": "stream",
     "text": [
      "                                                            \r"
     ]
    },
    {
     "name": "stdout",
     "output_type": "stream",
     "text": [
      "Moviepy - Done !\n",
      "Moviepy - video ready C:/Users/naoki/anaconda_work/Faster-R-CNN-pytorch-main/data/ori_data/drama_clip/705/clip.mp4\n",
      "Moviepy - Building video C:/Users/naoki/anaconda_work/Faster-R-CNN-pytorch-main/data/ori_data/drama_clip/706/clip.mp4.\n",
      "Moviepy - Writing video C:/Users/naoki/anaconda_work/Faster-R-CNN-pytorch-main/data/ori_data/drama_clip/706/clip.mp4\n",
      "\n"
     ]
    },
    {
     "name": "stderr",
     "output_type": "stream",
     "text": [
      "                                                            \r"
     ]
    },
    {
     "name": "stdout",
     "output_type": "stream",
     "text": [
      "Moviepy - Done !\n",
      "Moviepy - video ready C:/Users/naoki/anaconda_work/Faster-R-CNN-pytorch-main/data/ori_data/drama_clip/706/clip.mp4\n",
      "Moviepy - Building video C:/Users/naoki/anaconda_work/Faster-R-CNN-pytorch-main/data/ori_data/drama_clip/707/clip.mp4.\n",
      "Moviepy - Writing video C:/Users/naoki/anaconda_work/Faster-R-CNN-pytorch-main/data/ori_data/drama_clip/707/clip.mp4\n",
      "\n"
     ]
    },
    {
     "name": "stderr",
     "output_type": "stream",
     "text": [
      "                                                            \r"
     ]
    },
    {
     "name": "stdout",
     "output_type": "stream",
     "text": [
      "Moviepy - Done !\n",
      "Moviepy - video ready C:/Users/naoki/anaconda_work/Faster-R-CNN-pytorch-main/data/ori_data/drama_clip/707/clip.mp4\n",
      "Moviepy - Building video C:/Users/naoki/anaconda_work/Faster-R-CNN-pytorch-main/data/ori_data/drama_clip/708/clip.mp4.\n",
      "Moviepy - Writing video C:/Users/naoki/anaconda_work/Faster-R-CNN-pytorch-main/data/ori_data/drama_clip/708/clip.mp4\n",
      "\n"
     ]
    },
    {
     "name": "stderr",
     "output_type": "stream",
     "text": [
      "                                                            \r"
     ]
    },
    {
     "name": "stdout",
     "output_type": "stream",
     "text": [
      "Moviepy - Done !\n",
      "Moviepy - video ready C:/Users/naoki/anaconda_work/Faster-R-CNN-pytorch-main/data/ori_data/drama_clip/708/clip.mp4\n",
      "Moviepy - Building video C:/Users/naoki/anaconda_work/Faster-R-CNN-pytorch-main/data/ori_data/drama_clip/709/clip.mp4.\n",
      "Moviepy - Writing video C:/Users/naoki/anaconda_work/Faster-R-CNN-pytorch-main/data/ori_data/drama_clip/709/clip.mp4\n",
      "\n"
     ]
    },
    {
     "name": "stderr",
     "output_type": "stream",
     "text": [
      "                                                            \r"
     ]
    },
    {
     "name": "stdout",
     "output_type": "stream",
     "text": [
      "Moviepy - Done !\n",
      "Moviepy - video ready C:/Users/naoki/anaconda_work/Faster-R-CNN-pytorch-main/data/ori_data/drama_clip/709/clip.mp4\n",
      "Moviepy - Building video C:/Users/naoki/anaconda_work/Faster-R-CNN-pytorch-main/data/ori_data/drama_clip/710/clip.mp4.\n",
      "Moviepy - Writing video C:/Users/naoki/anaconda_work/Faster-R-CNN-pytorch-main/data/ori_data/drama_clip/710/clip.mp4\n",
      "\n"
     ]
    },
    {
     "name": "stderr",
     "output_type": "stream",
     "text": [
      "                                                            \r"
     ]
    },
    {
     "name": "stdout",
     "output_type": "stream",
     "text": [
      "Moviepy - Done !\n",
      "Moviepy - video ready C:/Users/naoki/anaconda_work/Faster-R-CNN-pytorch-main/data/ori_data/drama_clip/710/clip.mp4\n",
      "Moviepy - Building video C:/Users/naoki/anaconda_work/Faster-R-CNN-pytorch-main/data/ori_data/drama_clip/711/clip.mp4.\n",
      "Moviepy - Writing video C:/Users/naoki/anaconda_work/Faster-R-CNN-pytorch-main/data/ori_data/drama_clip/711/clip.mp4\n",
      "\n"
     ]
    },
    {
     "name": "stderr",
     "output_type": "stream",
     "text": [
      "                                                            \r"
     ]
    },
    {
     "name": "stdout",
     "output_type": "stream",
     "text": [
      "Moviepy - Done !\n",
      "Moviepy - video ready C:/Users/naoki/anaconda_work/Faster-R-CNN-pytorch-main/data/ori_data/drama_clip/711/clip.mp4\n",
      "Moviepy - Building video C:/Users/naoki/anaconda_work/Faster-R-CNN-pytorch-main/data/ori_data/drama_clip/712/clip.mp4.\n",
      "Moviepy - Writing video C:/Users/naoki/anaconda_work/Faster-R-CNN-pytorch-main/data/ori_data/drama_clip/712/clip.mp4\n",
      "\n"
     ]
    },
    {
     "name": "stderr",
     "output_type": "stream",
     "text": [
      "                                                            \r"
     ]
    },
    {
     "name": "stdout",
     "output_type": "stream",
     "text": [
      "Moviepy - Done !\n",
      "Moviepy - video ready C:/Users/naoki/anaconda_work/Faster-R-CNN-pytorch-main/data/ori_data/drama_clip/712/clip.mp4\n",
      "Moviepy - Building video C:/Users/naoki/anaconda_work/Faster-R-CNN-pytorch-main/data/ori_data/drama_clip/713/clip.mp4.\n",
      "Moviepy - Writing video C:/Users/naoki/anaconda_work/Faster-R-CNN-pytorch-main/data/ori_data/drama_clip/713/clip.mp4\n",
      "\n"
     ]
    },
    {
     "name": "stderr",
     "output_type": "stream",
     "text": [
      "                                                            \r"
     ]
    },
    {
     "name": "stdout",
     "output_type": "stream",
     "text": [
      "Moviepy - Done !\n",
      "Moviepy - video ready C:/Users/naoki/anaconda_work/Faster-R-CNN-pytorch-main/data/ori_data/drama_clip/713/clip.mp4\n",
      "Moviepy - Building video C:/Users/naoki/anaconda_work/Faster-R-CNN-pytorch-main/data/ori_data/drama_clip/714/clip.mp4.\n",
      "Moviepy - Writing video C:/Users/naoki/anaconda_work/Faster-R-CNN-pytorch-main/data/ori_data/drama_clip/714/clip.mp4\n",
      "\n"
     ]
    },
    {
     "name": "stderr",
     "output_type": "stream",
     "text": [
      "                                                            \r"
     ]
    },
    {
     "name": "stdout",
     "output_type": "stream",
     "text": [
      "Moviepy - Done !\n",
      "Moviepy - video ready C:/Users/naoki/anaconda_work/Faster-R-CNN-pytorch-main/data/ori_data/drama_clip/714/clip.mp4\n",
      "Moviepy - Building video C:/Users/naoki/anaconda_work/Faster-R-CNN-pytorch-main/data/ori_data/drama_clip/715/clip.mp4.\n",
      "Moviepy - Writing video C:/Users/naoki/anaconda_work/Faster-R-CNN-pytorch-main/data/ori_data/drama_clip/715/clip.mp4\n",
      "\n"
     ]
    },
    {
     "name": "stderr",
     "output_type": "stream",
     "text": [
      "                                                            \r"
     ]
    },
    {
     "name": "stdout",
     "output_type": "stream",
     "text": [
      "Moviepy - Done !\n",
      "Moviepy - video ready C:/Users/naoki/anaconda_work/Faster-R-CNN-pytorch-main/data/ori_data/drama_clip/715/clip.mp4\n",
      "Moviepy - Building video C:/Users/naoki/anaconda_work/Faster-R-CNN-pytorch-main/data/ori_data/drama_clip/716/clip.mp4.\n",
      "Moviepy - Writing video C:/Users/naoki/anaconda_work/Faster-R-CNN-pytorch-main/data/ori_data/drama_clip/716/clip.mp4\n",
      "\n"
     ]
    },
    {
     "name": "stderr",
     "output_type": "stream",
     "text": [
      "                                                            \r"
     ]
    },
    {
     "name": "stdout",
     "output_type": "stream",
     "text": [
      "Moviepy - Done !\n",
      "Moviepy - video ready C:/Users/naoki/anaconda_work/Faster-R-CNN-pytorch-main/data/ori_data/drama_clip/716/clip.mp4\n",
      "Moviepy - Building video C:/Users/naoki/anaconda_work/Faster-R-CNN-pytorch-main/data/ori_data/drama_clip/717/clip.mp4.\n",
      "Moviepy - Writing video C:/Users/naoki/anaconda_work/Faster-R-CNN-pytorch-main/data/ori_data/drama_clip/717/clip.mp4\n",
      "\n"
     ]
    },
    {
     "name": "stderr",
     "output_type": "stream",
     "text": [
      "                                                            \r"
     ]
    },
    {
     "name": "stdout",
     "output_type": "stream",
     "text": [
      "Moviepy - Done !\n",
      "Moviepy - video ready C:/Users/naoki/anaconda_work/Faster-R-CNN-pytorch-main/data/ori_data/drama_clip/717/clip.mp4\n",
      "Moviepy - Building video C:/Users/naoki/anaconda_work/Faster-R-CNN-pytorch-main/data/ori_data/drama_clip/718/clip.mp4.\n",
      "Moviepy - Writing video C:/Users/naoki/anaconda_work/Faster-R-CNN-pytorch-main/data/ori_data/drama_clip/718/clip.mp4\n",
      "\n"
     ]
    },
    {
     "name": "stderr",
     "output_type": "stream",
     "text": [
      "                                                            \r"
     ]
    },
    {
     "name": "stdout",
     "output_type": "stream",
     "text": [
      "Moviepy - Done !\n",
      "Moviepy - video ready C:/Users/naoki/anaconda_work/Faster-R-CNN-pytorch-main/data/ori_data/drama_clip/718/clip.mp4\n",
      "Moviepy - Building video C:/Users/naoki/anaconda_work/Faster-R-CNN-pytorch-main/data/ori_data/drama_clip/719/clip.mp4.\n",
      "Moviepy - Writing video C:/Users/naoki/anaconda_work/Faster-R-CNN-pytorch-main/data/ori_data/drama_clip/719/clip.mp4\n",
      "\n"
     ]
    },
    {
     "name": "stderr",
     "output_type": "stream",
     "text": [
      "                                                            \r"
     ]
    },
    {
     "name": "stdout",
     "output_type": "stream",
     "text": [
      "Moviepy - Done !\n",
      "Moviepy - video ready C:/Users/naoki/anaconda_work/Faster-R-CNN-pytorch-main/data/ori_data/drama_clip/719/clip.mp4\n",
      "Moviepy - Building video C:/Users/naoki/anaconda_work/Faster-R-CNN-pytorch-main/data/ori_data/drama_clip/720/clip.mp4.\n",
      "Moviepy - Writing video C:/Users/naoki/anaconda_work/Faster-R-CNN-pytorch-main/data/ori_data/drama_clip/720/clip.mp4\n",
      "\n"
     ]
    },
    {
     "name": "stderr",
     "output_type": "stream",
     "text": [
      "                                                            \r"
     ]
    },
    {
     "name": "stdout",
     "output_type": "stream",
     "text": [
      "Moviepy - Done !\n",
      "Moviepy - video ready C:/Users/naoki/anaconda_work/Faster-R-CNN-pytorch-main/data/ori_data/drama_clip/720/clip.mp4\n",
      "Moviepy - Building video C:/Users/naoki/anaconda_work/Faster-R-CNN-pytorch-main/data/ori_data/drama_clip/721/clip.mp4.\n",
      "Moviepy - Writing video C:/Users/naoki/anaconda_work/Faster-R-CNN-pytorch-main/data/ori_data/drama_clip/721/clip.mp4\n",
      "\n"
     ]
    },
    {
     "name": "stderr",
     "output_type": "stream",
     "text": [
      "                                                            \r"
     ]
    },
    {
     "name": "stdout",
     "output_type": "stream",
     "text": [
      "Moviepy - Done !\n",
      "Moviepy - video ready C:/Users/naoki/anaconda_work/Faster-R-CNN-pytorch-main/data/ori_data/drama_clip/721/clip.mp4\n",
      "Moviepy - Building video C:/Users/naoki/anaconda_work/Faster-R-CNN-pytorch-main/data/ori_data/drama_clip/722/clip.mp4.\n",
      "Moviepy - Writing video C:/Users/naoki/anaconda_work/Faster-R-CNN-pytorch-main/data/ori_data/drama_clip/722/clip.mp4\n",
      "\n"
     ]
    },
    {
     "name": "stderr",
     "output_type": "stream",
     "text": [
      "                                                            \r"
     ]
    },
    {
     "name": "stdout",
     "output_type": "stream",
     "text": [
      "Moviepy - Done !\n",
      "Moviepy - video ready C:/Users/naoki/anaconda_work/Faster-R-CNN-pytorch-main/data/ori_data/drama_clip/722/clip.mp4\n",
      "Moviepy - Building video C:/Users/naoki/anaconda_work/Faster-R-CNN-pytorch-main/data/ori_data/drama_clip/723/clip.mp4.\n",
      "Moviepy - Writing video C:/Users/naoki/anaconda_work/Faster-R-CNN-pytorch-main/data/ori_data/drama_clip/723/clip.mp4\n",
      "\n"
     ]
    },
    {
     "name": "stderr",
     "output_type": "stream",
     "text": [
      "                                                            \r"
     ]
    },
    {
     "name": "stdout",
     "output_type": "stream",
     "text": [
      "Moviepy - Done !\n",
      "Moviepy - video ready C:/Users/naoki/anaconda_work/Faster-R-CNN-pytorch-main/data/ori_data/drama_clip/723/clip.mp4\n",
      "Moviepy - Building video C:/Users/naoki/anaconda_work/Faster-R-CNN-pytorch-main/data/ori_data/drama_clip/724/clip.mp4.\n",
      "Moviepy - Writing video C:/Users/naoki/anaconda_work/Faster-R-CNN-pytorch-main/data/ori_data/drama_clip/724/clip.mp4\n",
      "\n"
     ]
    },
    {
     "name": "stderr",
     "output_type": "stream",
     "text": [
      "                                                            \r"
     ]
    },
    {
     "name": "stdout",
     "output_type": "stream",
     "text": [
      "Moviepy - Done !\n",
      "Moviepy - video ready C:/Users/naoki/anaconda_work/Faster-R-CNN-pytorch-main/data/ori_data/drama_clip/724/clip.mp4\n",
      "Moviepy - Building video C:/Users/naoki/anaconda_work/Faster-R-CNN-pytorch-main/data/ori_data/drama_clip/725/clip.mp4.\n",
      "Moviepy - Writing video C:/Users/naoki/anaconda_work/Faster-R-CNN-pytorch-main/data/ori_data/drama_clip/725/clip.mp4\n",
      "\n"
     ]
    },
    {
     "name": "stderr",
     "output_type": "stream",
     "text": [
      "                                                            \r"
     ]
    },
    {
     "name": "stdout",
     "output_type": "stream",
     "text": [
      "Moviepy - Done !\n",
      "Moviepy - video ready C:/Users/naoki/anaconda_work/Faster-R-CNN-pytorch-main/data/ori_data/drama_clip/725/clip.mp4\n",
      "Moviepy - Building video C:/Users/naoki/anaconda_work/Faster-R-CNN-pytorch-main/data/ori_data/drama_clip/726/clip.mp4.\n",
      "Moviepy - Writing video C:/Users/naoki/anaconda_work/Faster-R-CNN-pytorch-main/data/ori_data/drama_clip/726/clip.mp4\n",
      "\n"
     ]
    },
    {
     "name": "stderr",
     "output_type": "stream",
     "text": [
      "                                                            \r"
     ]
    },
    {
     "name": "stdout",
     "output_type": "stream",
     "text": [
      "Moviepy - Done !\n",
      "Moviepy - video ready C:/Users/naoki/anaconda_work/Faster-R-CNN-pytorch-main/data/ori_data/drama_clip/726/clip.mp4\n",
      "Moviepy - Building video C:/Users/naoki/anaconda_work/Faster-R-CNN-pytorch-main/data/ori_data/drama_clip/727/clip.mp4.\n",
      "Moviepy - Writing video C:/Users/naoki/anaconda_work/Faster-R-CNN-pytorch-main/data/ori_data/drama_clip/727/clip.mp4\n",
      "\n"
     ]
    },
    {
     "name": "stderr",
     "output_type": "stream",
     "text": [
      "                                                            \r"
     ]
    },
    {
     "name": "stdout",
     "output_type": "stream",
     "text": [
      "Moviepy - Done !\n",
      "Moviepy - video ready C:/Users/naoki/anaconda_work/Faster-R-CNN-pytorch-main/data/ori_data/drama_clip/727/clip.mp4\n",
      "Moviepy - Building video C:/Users/naoki/anaconda_work/Faster-R-CNN-pytorch-main/data/ori_data/drama_clip/728/clip.mp4.\n",
      "Moviepy - Writing video C:/Users/naoki/anaconda_work/Faster-R-CNN-pytorch-main/data/ori_data/drama_clip/728/clip.mp4\n",
      "\n"
     ]
    },
    {
     "name": "stderr",
     "output_type": "stream",
     "text": [
      "                                                            \r"
     ]
    },
    {
     "name": "stdout",
     "output_type": "stream",
     "text": [
      "Moviepy - Done !\n",
      "Moviepy - video ready C:/Users/naoki/anaconda_work/Faster-R-CNN-pytorch-main/data/ori_data/drama_clip/728/clip.mp4\n",
      "Moviepy - Building video C:/Users/naoki/anaconda_work/Faster-R-CNN-pytorch-main/data/ori_data/drama_clip/729/clip.mp4.\n",
      "Moviepy - Writing video C:/Users/naoki/anaconda_work/Faster-R-CNN-pytorch-main/data/ori_data/drama_clip/729/clip.mp4\n",
      "\n"
     ]
    },
    {
     "name": "stderr",
     "output_type": "stream",
     "text": [
      "                                                            \r"
     ]
    },
    {
     "name": "stdout",
     "output_type": "stream",
     "text": [
      "Moviepy - Done !\n",
      "Moviepy - video ready C:/Users/naoki/anaconda_work/Faster-R-CNN-pytorch-main/data/ori_data/drama_clip/729/clip.mp4\n",
      "Moviepy - Building video C:/Users/naoki/anaconda_work/Faster-R-CNN-pytorch-main/data/ori_data/drama_clip/730/clip.mp4.\n",
      "Moviepy - Writing video C:/Users/naoki/anaconda_work/Faster-R-CNN-pytorch-main/data/ori_data/drama_clip/730/clip.mp4\n",
      "\n"
     ]
    },
    {
     "name": "stderr",
     "output_type": "stream",
     "text": [
      "                                                            \r"
     ]
    },
    {
     "name": "stdout",
     "output_type": "stream",
     "text": [
      "Moviepy - Done !\n",
      "Moviepy - video ready C:/Users/naoki/anaconda_work/Faster-R-CNN-pytorch-main/data/ori_data/drama_clip/730/clip.mp4\n",
      "Moviepy - Building video C:/Users/naoki/anaconda_work/Faster-R-CNN-pytorch-main/data/ori_data/drama_clip/731/clip.mp4.\n",
      "Moviepy - Writing video C:/Users/naoki/anaconda_work/Faster-R-CNN-pytorch-main/data/ori_data/drama_clip/731/clip.mp4\n",
      "\n"
     ]
    },
    {
     "name": "stderr",
     "output_type": "stream",
     "text": [
      "                                                            \r"
     ]
    },
    {
     "name": "stdout",
     "output_type": "stream",
     "text": [
      "Moviepy - Done !\n",
      "Moviepy - video ready C:/Users/naoki/anaconda_work/Faster-R-CNN-pytorch-main/data/ori_data/drama_clip/731/clip.mp4\n",
      "Moviepy - Building video C:/Users/naoki/anaconda_work/Faster-R-CNN-pytorch-main/data/ori_data/drama_clip/732/clip.mp4.\n",
      "Moviepy - Writing video C:/Users/naoki/anaconda_work/Faster-R-CNN-pytorch-main/data/ori_data/drama_clip/732/clip.mp4\n",
      "\n"
     ]
    },
    {
     "name": "stderr",
     "output_type": "stream",
     "text": [
      "                                                            \r"
     ]
    },
    {
     "name": "stdout",
     "output_type": "stream",
     "text": [
      "Moviepy - Done !\n",
      "Moviepy - video ready C:/Users/naoki/anaconda_work/Faster-R-CNN-pytorch-main/data/ori_data/drama_clip/732/clip.mp4\n",
      "Moviepy - Building video C:/Users/naoki/anaconda_work/Faster-R-CNN-pytorch-main/data/ori_data/drama_clip/733/clip.mp4.\n",
      "Moviepy - Writing video C:/Users/naoki/anaconda_work/Faster-R-CNN-pytorch-main/data/ori_data/drama_clip/733/clip.mp4\n",
      "\n"
     ]
    },
    {
     "name": "stderr",
     "output_type": "stream",
     "text": [
      "                                                            \r"
     ]
    },
    {
     "name": "stdout",
     "output_type": "stream",
     "text": [
      "Moviepy - Done !\n",
      "Moviepy - video ready C:/Users/naoki/anaconda_work/Faster-R-CNN-pytorch-main/data/ori_data/drama_clip/733/clip.mp4\n",
      "Moviepy - Building video C:/Users/naoki/anaconda_work/Faster-R-CNN-pytorch-main/data/ori_data/drama_clip/734/clip.mp4.\n",
      "Moviepy - Writing video C:/Users/naoki/anaconda_work/Faster-R-CNN-pytorch-main/data/ori_data/drama_clip/734/clip.mp4\n",
      "\n"
     ]
    },
    {
     "name": "stderr",
     "output_type": "stream",
     "text": [
      "                                                            \r"
     ]
    },
    {
     "name": "stdout",
     "output_type": "stream",
     "text": [
      "Moviepy - Done !\n",
      "Moviepy - video ready C:/Users/naoki/anaconda_work/Faster-R-CNN-pytorch-main/data/ori_data/drama_clip/734/clip.mp4\n",
      "Moviepy - Building video C:/Users/naoki/anaconda_work/Faster-R-CNN-pytorch-main/data/ori_data/drama_clip/735/clip.mp4.\n",
      "Moviepy - Writing video C:/Users/naoki/anaconda_work/Faster-R-CNN-pytorch-main/data/ori_data/drama_clip/735/clip.mp4\n",
      "\n"
     ]
    },
    {
     "name": "stderr",
     "output_type": "stream",
     "text": [
      "                                                            \r"
     ]
    },
    {
     "name": "stdout",
     "output_type": "stream",
     "text": [
      "Moviepy - Done !\n",
      "Moviepy - video ready C:/Users/naoki/anaconda_work/Faster-R-CNN-pytorch-main/data/ori_data/drama_clip/735/clip.mp4\n",
      "Moviepy - Building video C:/Users/naoki/anaconda_work/Faster-R-CNN-pytorch-main/data/ori_data/drama_clip/736/clip.mp4.\n",
      "Moviepy - Writing video C:/Users/naoki/anaconda_work/Faster-R-CNN-pytorch-main/data/ori_data/drama_clip/736/clip.mp4\n",
      "\n"
     ]
    },
    {
     "name": "stderr",
     "output_type": "stream",
     "text": [
      "                                                            \r"
     ]
    },
    {
     "name": "stdout",
     "output_type": "stream",
     "text": [
      "Moviepy - Done !\n",
      "Moviepy - video ready C:/Users/naoki/anaconda_work/Faster-R-CNN-pytorch-main/data/ori_data/drama_clip/736/clip.mp4\n",
      "Moviepy - Building video C:/Users/naoki/anaconda_work/Faster-R-CNN-pytorch-main/data/ori_data/drama_clip/737/clip.mp4.\n",
      "Moviepy - Writing video C:/Users/naoki/anaconda_work/Faster-R-CNN-pytorch-main/data/ori_data/drama_clip/737/clip.mp4\n",
      "\n"
     ]
    },
    {
     "name": "stderr",
     "output_type": "stream",
     "text": [
      "                                                            \r"
     ]
    },
    {
     "name": "stdout",
     "output_type": "stream",
     "text": [
      "Moviepy - Done !\n",
      "Moviepy - video ready C:/Users/naoki/anaconda_work/Faster-R-CNN-pytorch-main/data/ori_data/drama_clip/737/clip.mp4\n",
      "Moviepy - Building video C:/Users/naoki/anaconda_work/Faster-R-CNN-pytorch-main/data/ori_data/drama_clip/738/clip.mp4.\n",
      "Moviepy - Writing video C:/Users/naoki/anaconda_work/Faster-R-CNN-pytorch-main/data/ori_data/drama_clip/738/clip.mp4\n",
      "\n"
     ]
    },
    {
     "name": "stderr",
     "output_type": "stream",
     "text": [
      "                                                            \r"
     ]
    },
    {
     "name": "stdout",
     "output_type": "stream",
     "text": [
      "Moviepy - Done !\n",
      "Moviepy - video ready C:/Users/naoki/anaconda_work/Faster-R-CNN-pytorch-main/data/ori_data/drama_clip/738/clip.mp4\n",
      "Moviepy - Building video C:/Users/naoki/anaconda_work/Faster-R-CNN-pytorch-main/data/ori_data/drama_clip/739/clip.mp4.\n",
      "Moviepy - Writing video C:/Users/naoki/anaconda_work/Faster-R-CNN-pytorch-main/data/ori_data/drama_clip/739/clip.mp4\n",
      "\n"
     ]
    },
    {
     "name": "stderr",
     "output_type": "stream",
     "text": [
      "                                                            \r"
     ]
    },
    {
     "name": "stdout",
     "output_type": "stream",
     "text": [
      "Moviepy - Done !\n",
      "Moviepy - video ready C:/Users/naoki/anaconda_work/Faster-R-CNN-pytorch-main/data/ori_data/drama_clip/739/clip.mp4\n",
      "Moviepy - Building video C:/Users/naoki/anaconda_work/Faster-R-CNN-pytorch-main/data/ori_data/drama_clip/740/clip.mp4.\n",
      "Moviepy - Writing video C:/Users/naoki/anaconda_work/Faster-R-CNN-pytorch-main/data/ori_data/drama_clip/740/clip.mp4\n",
      "\n"
     ]
    },
    {
     "name": "stderr",
     "output_type": "stream",
     "text": [
      "                                                            \r"
     ]
    },
    {
     "name": "stdout",
     "output_type": "stream",
     "text": [
      "Moviepy - Done !\n",
      "Moviepy - video ready C:/Users/naoki/anaconda_work/Faster-R-CNN-pytorch-main/data/ori_data/drama_clip/740/clip.mp4\n",
      "Moviepy - Building video C:/Users/naoki/anaconda_work/Faster-R-CNN-pytorch-main/data/ori_data/drama_clip/741/clip.mp4.\n",
      "Moviepy - Writing video C:/Users/naoki/anaconda_work/Faster-R-CNN-pytorch-main/data/ori_data/drama_clip/741/clip.mp4\n",
      "\n"
     ]
    },
    {
     "name": "stderr",
     "output_type": "stream",
     "text": [
      "                                                            \r"
     ]
    },
    {
     "name": "stdout",
     "output_type": "stream",
     "text": [
      "Moviepy - Done !\n",
      "Moviepy - video ready C:/Users/naoki/anaconda_work/Faster-R-CNN-pytorch-main/data/ori_data/drama_clip/741/clip.mp4\n",
      "Moviepy - Building video C:/Users/naoki/anaconda_work/Faster-R-CNN-pytorch-main/data/ori_data/drama_clip/742/clip.mp4.\n",
      "Moviepy - Writing video C:/Users/naoki/anaconda_work/Faster-R-CNN-pytorch-main/data/ori_data/drama_clip/742/clip.mp4\n",
      "\n"
     ]
    },
    {
     "name": "stderr",
     "output_type": "stream",
     "text": [
      "                                                            \r"
     ]
    },
    {
     "name": "stdout",
     "output_type": "stream",
     "text": [
      "Moviepy - Done !\n",
      "Moviepy - video ready C:/Users/naoki/anaconda_work/Faster-R-CNN-pytorch-main/data/ori_data/drama_clip/742/clip.mp4\n",
      "Moviepy - Building video C:/Users/naoki/anaconda_work/Faster-R-CNN-pytorch-main/data/ori_data/drama_clip/743/clip.mp4.\n",
      "Moviepy - Writing video C:/Users/naoki/anaconda_work/Faster-R-CNN-pytorch-main/data/ori_data/drama_clip/743/clip.mp4\n",
      "\n"
     ]
    },
    {
     "name": "stderr",
     "output_type": "stream",
     "text": [
      "                                                            \r"
     ]
    },
    {
     "name": "stdout",
     "output_type": "stream",
     "text": [
      "Moviepy - Done !\n",
      "Moviepy - video ready C:/Users/naoki/anaconda_work/Faster-R-CNN-pytorch-main/data/ori_data/drama_clip/743/clip.mp4\n",
      "Moviepy - Building video C:/Users/naoki/anaconda_work/Faster-R-CNN-pytorch-main/data/ori_data/drama_clip/744/clip.mp4.\n",
      "Moviepy - Writing video C:/Users/naoki/anaconda_work/Faster-R-CNN-pytorch-main/data/ori_data/drama_clip/744/clip.mp4\n",
      "\n"
     ]
    },
    {
     "name": "stderr",
     "output_type": "stream",
     "text": [
      "                                                            \r"
     ]
    },
    {
     "name": "stdout",
     "output_type": "stream",
     "text": [
      "Moviepy - Done !\n",
      "Moviepy - video ready C:/Users/naoki/anaconda_work/Faster-R-CNN-pytorch-main/data/ori_data/drama_clip/744/clip.mp4\n",
      "Moviepy - Building video C:/Users/naoki/anaconda_work/Faster-R-CNN-pytorch-main/data/ori_data/drama_clip/745/clip.mp4.\n",
      "Moviepy - Writing video C:/Users/naoki/anaconda_work/Faster-R-CNN-pytorch-main/data/ori_data/drama_clip/745/clip.mp4\n",
      "\n"
     ]
    },
    {
     "name": "stderr",
     "output_type": "stream",
     "text": [
      "                                                            \r"
     ]
    },
    {
     "name": "stdout",
     "output_type": "stream",
     "text": [
      "Moviepy - Done !\n",
      "Moviepy - video ready C:/Users/naoki/anaconda_work/Faster-R-CNN-pytorch-main/data/ori_data/drama_clip/745/clip.mp4\n",
      "Moviepy - Building video C:/Users/naoki/anaconda_work/Faster-R-CNN-pytorch-main/data/ori_data/drama_clip/746/clip.mp4.\n",
      "Moviepy - Writing video C:/Users/naoki/anaconda_work/Faster-R-CNN-pytorch-main/data/ori_data/drama_clip/746/clip.mp4\n",
      "\n"
     ]
    },
    {
     "name": "stderr",
     "output_type": "stream",
     "text": [
      "                                                            \r"
     ]
    },
    {
     "name": "stdout",
     "output_type": "stream",
     "text": [
      "Moviepy - Done !\n",
      "Moviepy - video ready C:/Users/naoki/anaconda_work/Faster-R-CNN-pytorch-main/data/ori_data/drama_clip/746/clip.mp4\n",
      "Moviepy - Building video C:/Users/naoki/anaconda_work/Faster-R-CNN-pytorch-main/data/ori_data/drama_clip/747/clip.mp4.\n",
      "Moviepy - Writing video C:/Users/naoki/anaconda_work/Faster-R-CNN-pytorch-main/data/ori_data/drama_clip/747/clip.mp4\n",
      "\n"
     ]
    },
    {
     "name": "stderr",
     "output_type": "stream",
     "text": [
      "                                                            \r"
     ]
    },
    {
     "name": "stdout",
     "output_type": "stream",
     "text": [
      "Moviepy - Done !\n",
      "Moviepy - video ready C:/Users/naoki/anaconda_work/Faster-R-CNN-pytorch-main/data/ori_data/drama_clip/747/clip.mp4\n",
      "Moviepy - Building video C:/Users/naoki/anaconda_work/Faster-R-CNN-pytorch-main/data/ori_data/drama_clip/748/clip.mp4.\n",
      "Moviepy - Writing video C:/Users/naoki/anaconda_work/Faster-R-CNN-pytorch-main/data/ori_data/drama_clip/748/clip.mp4\n",
      "\n"
     ]
    },
    {
     "name": "stderr",
     "output_type": "stream",
     "text": [
      "                                                            \r"
     ]
    },
    {
     "name": "stdout",
     "output_type": "stream",
     "text": [
      "Moviepy - Done !\n",
      "Moviepy - video ready C:/Users/naoki/anaconda_work/Faster-R-CNN-pytorch-main/data/ori_data/drama_clip/748/clip.mp4\n",
      "Moviepy - Building video C:/Users/naoki/anaconda_work/Faster-R-CNN-pytorch-main/data/ori_data/drama_clip/749/clip.mp4.\n",
      "Moviepy - Writing video C:/Users/naoki/anaconda_work/Faster-R-CNN-pytorch-main/data/ori_data/drama_clip/749/clip.mp4\n",
      "\n"
     ]
    },
    {
     "name": "stderr",
     "output_type": "stream",
     "text": [
      "                                                            \r"
     ]
    },
    {
     "name": "stdout",
     "output_type": "stream",
     "text": [
      "Moviepy - Done !\n",
      "Moviepy - video ready C:/Users/naoki/anaconda_work/Faster-R-CNN-pytorch-main/data/ori_data/drama_clip/749/clip.mp4\n",
      "Moviepy - Building video C:/Users/naoki/anaconda_work/Faster-R-CNN-pytorch-main/data/ori_data/drama_clip/750/clip.mp4.\n",
      "Moviepy - Writing video C:/Users/naoki/anaconda_work/Faster-R-CNN-pytorch-main/data/ori_data/drama_clip/750/clip.mp4\n",
      "\n"
     ]
    },
    {
     "name": "stderr",
     "output_type": "stream",
     "text": [
      "                                                            \r"
     ]
    },
    {
     "name": "stdout",
     "output_type": "stream",
     "text": [
      "Moviepy - Done !\n",
      "Moviepy - video ready C:/Users/naoki/anaconda_work/Faster-R-CNN-pytorch-main/data/ori_data/drama_clip/750/clip.mp4\n",
      "Moviepy - Building video C:/Users/naoki/anaconda_work/Faster-R-CNN-pytorch-main/data/ori_data/drama_clip/751/clip.mp4.\n",
      "Moviepy - Writing video C:/Users/naoki/anaconda_work/Faster-R-CNN-pytorch-main/data/ori_data/drama_clip/751/clip.mp4\n",
      "\n"
     ]
    },
    {
     "name": "stderr",
     "output_type": "stream",
     "text": [
      "                                                            \r"
     ]
    },
    {
     "name": "stdout",
     "output_type": "stream",
     "text": [
      "Moviepy - Done !\n",
      "Moviepy - video ready C:/Users/naoki/anaconda_work/Faster-R-CNN-pytorch-main/data/ori_data/drama_clip/751/clip.mp4\n",
      "Moviepy - Building video C:/Users/naoki/anaconda_work/Faster-R-CNN-pytorch-main/data/ori_data/drama_clip/752/clip.mp4.\n",
      "Moviepy - Writing video C:/Users/naoki/anaconda_work/Faster-R-CNN-pytorch-main/data/ori_data/drama_clip/752/clip.mp4\n",
      "\n"
     ]
    },
    {
     "name": "stderr",
     "output_type": "stream",
     "text": [
      "                                                             \r"
     ]
    },
    {
     "name": "stdout",
     "output_type": "stream",
     "text": [
      "Moviepy - Done !\n",
      "Moviepy - video ready C:/Users/naoki/anaconda_work/Faster-R-CNN-pytorch-main/data/ori_data/drama_clip/752/clip.mp4\n",
      "Moviepy - Building video C:/Users/naoki/anaconda_work/Faster-R-CNN-pytorch-main/data/ori_data/drama_clip/753/clip.mp4.\n",
      "Moviepy - Writing video C:/Users/naoki/anaconda_work/Faster-R-CNN-pytorch-main/data/ori_data/drama_clip/753/clip.mp4\n",
      "\n"
     ]
    },
    {
     "name": "stderr",
     "output_type": "stream",
     "text": [
      "                                                            \r"
     ]
    },
    {
     "name": "stdout",
     "output_type": "stream",
     "text": [
      "Moviepy - Done !\n",
      "Moviepy - video ready C:/Users/naoki/anaconda_work/Faster-R-CNN-pytorch-main/data/ori_data/drama_clip/753/clip.mp4\n",
      "Moviepy - Building video C:/Users/naoki/anaconda_work/Faster-R-CNN-pytorch-main/data/ori_data/drama_clip/754/clip.mp4.\n",
      "Moviepy - Writing video C:/Users/naoki/anaconda_work/Faster-R-CNN-pytorch-main/data/ori_data/drama_clip/754/clip.mp4\n",
      "\n"
     ]
    },
    {
     "name": "stderr",
     "output_type": "stream",
     "text": [
      "                                                            \r"
     ]
    },
    {
     "name": "stdout",
     "output_type": "stream",
     "text": [
      "Moviepy - Done !\n",
      "Moviepy - video ready C:/Users/naoki/anaconda_work/Faster-R-CNN-pytorch-main/data/ori_data/drama_clip/754/clip.mp4\n",
      "Moviepy - Building video C:/Users/naoki/anaconda_work/Faster-R-CNN-pytorch-main/data/ori_data/drama_clip/755/clip.mp4.\n",
      "Moviepy - Writing video C:/Users/naoki/anaconda_work/Faster-R-CNN-pytorch-main/data/ori_data/drama_clip/755/clip.mp4\n",
      "\n"
     ]
    },
    {
     "name": "stderr",
     "output_type": "stream",
     "text": [
      "                                                            \r"
     ]
    },
    {
     "name": "stdout",
     "output_type": "stream",
     "text": [
      "Moviepy - Done !\n",
      "Moviepy - video ready C:/Users/naoki/anaconda_work/Faster-R-CNN-pytorch-main/data/ori_data/drama_clip/755/clip.mp4\n",
      "Moviepy - Building video C:/Users/naoki/anaconda_work/Faster-R-CNN-pytorch-main/data/ori_data/drama_clip/756/clip.mp4.\n",
      "Moviepy - Writing video C:/Users/naoki/anaconda_work/Faster-R-CNN-pytorch-main/data/ori_data/drama_clip/756/clip.mp4\n",
      "\n"
     ]
    },
    {
     "name": "stderr",
     "output_type": "stream",
     "text": [
      "                                                            \r"
     ]
    },
    {
     "name": "stdout",
     "output_type": "stream",
     "text": [
      "Moviepy - Done !\n",
      "Moviepy - video ready C:/Users/naoki/anaconda_work/Faster-R-CNN-pytorch-main/data/ori_data/drama_clip/756/clip.mp4\n",
      "Moviepy - Building video C:/Users/naoki/anaconda_work/Faster-R-CNN-pytorch-main/data/ori_data/drama_clip/757/clip.mp4.\n",
      "Moviepy - Writing video C:/Users/naoki/anaconda_work/Faster-R-CNN-pytorch-main/data/ori_data/drama_clip/757/clip.mp4\n",
      "\n"
     ]
    },
    {
     "name": "stderr",
     "output_type": "stream",
     "text": [
      "                                                            \r"
     ]
    },
    {
     "name": "stdout",
     "output_type": "stream",
     "text": [
      "Moviepy - Done !\n",
      "Moviepy - video ready C:/Users/naoki/anaconda_work/Faster-R-CNN-pytorch-main/data/ori_data/drama_clip/757/clip.mp4\n",
      "Moviepy - Building video C:/Users/naoki/anaconda_work/Faster-R-CNN-pytorch-main/data/ori_data/drama_clip/758/clip.mp4.\n",
      "Moviepy - Writing video C:/Users/naoki/anaconda_work/Faster-R-CNN-pytorch-main/data/ori_data/drama_clip/758/clip.mp4\n",
      "\n"
     ]
    },
    {
     "name": "stderr",
     "output_type": "stream",
     "text": [
      "                                                            \r"
     ]
    },
    {
     "name": "stdout",
     "output_type": "stream",
     "text": [
      "Moviepy - Done !\n",
      "Moviepy - video ready C:/Users/naoki/anaconda_work/Faster-R-CNN-pytorch-main/data/ori_data/drama_clip/758/clip.mp4\n",
      "Moviepy - Building video C:/Users/naoki/anaconda_work/Faster-R-CNN-pytorch-main/data/ori_data/drama_clip/759/clip.mp4.\n",
      "Moviepy - Writing video C:/Users/naoki/anaconda_work/Faster-R-CNN-pytorch-main/data/ori_data/drama_clip/759/clip.mp4\n",
      "\n"
     ]
    },
    {
     "name": "stderr",
     "output_type": "stream",
     "text": [
      "                                                            \r"
     ]
    },
    {
     "name": "stdout",
     "output_type": "stream",
     "text": [
      "Moviepy - Done !\n",
      "Moviepy - video ready C:/Users/naoki/anaconda_work/Faster-R-CNN-pytorch-main/data/ori_data/drama_clip/759/clip.mp4\n",
      "Moviepy - Building video C:/Users/naoki/anaconda_work/Faster-R-CNN-pytorch-main/data/ori_data/drama_clip/760/clip.mp4.\n",
      "Moviepy - Writing video C:/Users/naoki/anaconda_work/Faster-R-CNN-pytorch-main/data/ori_data/drama_clip/760/clip.mp4\n",
      "\n"
     ]
    },
    {
     "name": "stderr",
     "output_type": "stream",
     "text": [
      "                                                            \r"
     ]
    },
    {
     "name": "stdout",
     "output_type": "stream",
     "text": [
      "Moviepy - Done !\n",
      "Moviepy - video ready C:/Users/naoki/anaconda_work/Faster-R-CNN-pytorch-main/data/ori_data/drama_clip/760/clip.mp4\n",
      "Moviepy - Building video C:/Users/naoki/anaconda_work/Faster-R-CNN-pytorch-main/data/ori_data/drama_clip/761/clip.mp4.\n",
      "Moviepy - Writing video C:/Users/naoki/anaconda_work/Faster-R-CNN-pytorch-main/data/ori_data/drama_clip/761/clip.mp4\n",
      "\n"
     ]
    },
    {
     "name": "stderr",
     "output_type": "stream",
     "text": [
      "                                                            \r"
     ]
    },
    {
     "name": "stdout",
     "output_type": "stream",
     "text": [
      "Moviepy - Done !\n",
      "Moviepy - video ready C:/Users/naoki/anaconda_work/Faster-R-CNN-pytorch-main/data/ori_data/drama_clip/761/clip.mp4\n",
      "Moviepy - Building video C:/Users/naoki/anaconda_work/Faster-R-CNN-pytorch-main/data/ori_data/drama_clip/762/clip.mp4.\n",
      "Moviepy - Writing video C:/Users/naoki/anaconda_work/Faster-R-CNN-pytorch-main/data/ori_data/drama_clip/762/clip.mp4\n",
      "\n"
     ]
    },
    {
     "name": "stderr",
     "output_type": "stream",
     "text": [
      "                                                            \r"
     ]
    },
    {
     "name": "stdout",
     "output_type": "stream",
     "text": [
      "Moviepy - Done !\n",
      "Moviepy - video ready C:/Users/naoki/anaconda_work/Faster-R-CNN-pytorch-main/data/ori_data/drama_clip/762/clip.mp4\n",
      "Moviepy - Building video C:/Users/naoki/anaconda_work/Faster-R-CNN-pytorch-main/data/ori_data/drama_clip/763/clip.mp4.\n",
      "Moviepy - Writing video C:/Users/naoki/anaconda_work/Faster-R-CNN-pytorch-main/data/ori_data/drama_clip/763/clip.mp4\n",
      "\n"
     ]
    },
    {
     "name": "stderr",
     "output_type": "stream",
     "text": [
      "                                                            \r"
     ]
    },
    {
     "name": "stdout",
     "output_type": "stream",
     "text": [
      "Moviepy - Done !\n",
      "Moviepy - video ready C:/Users/naoki/anaconda_work/Faster-R-CNN-pytorch-main/data/ori_data/drama_clip/763/clip.mp4\n",
      "Moviepy - Building video C:/Users/naoki/anaconda_work/Faster-R-CNN-pytorch-main/data/ori_data/drama_clip/764/clip.mp4.\n",
      "Moviepy - Writing video C:/Users/naoki/anaconda_work/Faster-R-CNN-pytorch-main/data/ori_data/drama_clip/764/clip.mp4\n",
      "\n"
     ]
    },
    {
     "name": "stderr",
     "output_type": "stream",
     "text": [
      "                                                            \r"
     ]
    },
    {
     "name": "stdout",
     "output_type": "stream",
     "text": [
      "Moviepy - Done !\n",
      "Moviepy - video ready C:/Users/naoki/anaconda_work/Faster-R-CNN-pytorch-main/data/ori_data/drama_clip/764/clip.mp4\n",
      "Moviepy - Building video C:/Users/naoki/anaconda_work/Faster-R-CNN-pytorch-main/data/ori_data/drama_clip/765/clip.mp4.\n",
      "Moviepy - Writing video C:/Users/naoki/anaconda_work/Faster-R-CNN-pytorch-main/data/ori_data/drama_clip/765/clip.mp4\n",
      "\n"
     ]
    },
    {
     "name": "stderr",
     "output_type": "stream",
     "text": [
      "                                                            \r"
     ]
    },
    {
     "name": "stdout",
     "output_type": "stream",
     "text": [
      "Moviepy - Done !\n",
      "Moviepy - video ready C:/Users/naoki/anaconda_work/Faster-R-CNN-pytorch-main/data/ori_data/drama_clip/765/clip.mp4\n",
      "Moviepy - Building video C:/Users/naoki/anaconda_work/Faster-R-CNN-pytorch-main/data/ori_data/drama_clip/766/clip.mp4.\n",
      "Moviepy - Writing video C:/Users/naoki/anaconda_work/Faster-R-CNN-pytorch-main/data/ori_data/drama_clip/766/clip.mp4\n",
      "\n"
     ]
    },
    {
     "name": "stderr",
     "output_type": "stream",
     "text": [
      "                                                            \r"
     ]
    },
    {
     "name": "stdout",
     "output_type": "stream",
     "text": [
      "Moviepy - Done !\n",
      "Moviepy - video ready C:/Users/naoki/anaconda_work/Faster-R-CNN-pytorch-main/data/ori_data/drama_clip/766/clip.mp4\n",
      "Moviepy - Building video C:/Users/naoki/anaconda_work/Faster-R-CNN-pytorch-main/data/ori_data/drama_clip/767/clip.mp4.\n",
      "Moviepy - Writing video C:/Users/naoki/anaconda_work/Faster-R-CNN-pytorch-main/data/ori_data/drama_clip/767/clip.mp4\n",
      "\n"
     ]
    },
    {
     "name": "stderr",
     "output_type": "stream",
     "text": [
      "                                                            \r"
     ]
    },
    {
     "name": "stdout",
     "output_type": "stream",
     "text": [
      "Moviepy - Done !\n",
      "Moviepy - video ready C:/Users/naoki/anaconda_work/Faster-R-CNN-pytorch-main/data/ori_data/drama_clip/767/clip.mp4\n",
      "Moviepy - Building video C:/Users/naoki/anaconda_work/Faster-R-CNN-pytorch-main/data/ori_data/drama_clip/768/clip.mp4.\n",
      "Moviepy - Writing video C:/Users/naoki/anaconda_work/Faster-R-CNN-pytorch-main/data/ori_data/drama_clip/768/clip.mp4\n",
      "\n"
     ]
    },
    {
     "name": "stderr",
     "output_type": "stream",
     "text": [
      "                                                            \r"
     ]
    },
    {
     "name": "stdout",
     "output_type": "stream",
     "text": [
      "Moviepy - Done !\n",
      "Moviepy - video ready C:/Users/naoki/anaconda_work/Faster-R-CNN-pytorch-main/data/ori_data/drama_clip/768/clip.mp4\n",
      "Moviepy - Building video C:/Users/naoki/anaconda_work/Faster-R-CNN-pytorch-main/data/ori_data/drama_clip/769/clip.mp4.\n",
      "Moviepy - Writing video C:/Users/naoki/anaconda_work/Faster-R-CNN-pytorch-main/data/ori_data/drama_clip/769/clip.mp4\n",
      "\n"
     ]
    },
    {
     "name": "stderr",
     "output_type": "stream",
     "text": [
      "                                                            \r"
     ]
    },
    {
     "name": "stdout",
     "output_type": "stream",
     "text": [
      "Moviepy - Done !\n",
      "Moviepy - video ready C:/Users/naoki/anaconda_work/Faster-R-CNN-pytorch-main/data/ori_data/drama_clip/769/clip.mp4\n",
      "Moviepy - Building video C:/Users/naoki/anaconda_work/Faster-R-CNN-pytorch-main/data/ori_data/drama_clip/770/clip.mp4.\n",
      "Moviepy - Writing video C:/Users/naoki/anaconda_work/Faster-R-CNN-pytorch-main/data/ori_data/drama_clip/770/clip.mp4\n",
      "\n"
     ]
    },
    {
     "name": "stderr",
     "output_type": "stream",
     "text": [
      "                                                            \r"
     ]
    },
    {
     "name": "stdout",
     "output_type": "stream",
     "text": [
      "Moviepy - Done !\n",
      "Moviepy - video ready C:/Users/naoki/anaconda_work/Faster-R-CNN-pytorch-main/data/ori_data/drama_clip/770/clip.mp4\n",
      "Moviepy - Building video C:/Users/naoki/anaconda_work/Faster-R-CNN-pytorch-main/data/ori_data/drama_clip/771/clip.mp4.\n",
      "Moviepy - Writing video C:/Users/naoki/anaconda_work/Faster-R-CNN-pytorch-main/data/ori_data/drama_clip/771/clip.mp4\n",
      "\n"
     ]
    },
    {
     "name": "stderr",
     "output_type": "stream",
     "text": [
      "                                                            \r"
     ]
    },
    {
     "name": "stdout",
     "output_type": "stream",
     "text": [
      "Moviepy - Done !\n",
      "Moviepy - video ready C:/Users/naoki/anaconda_work/Faster-R-CNN-pytorch-main/data/ori_data/drama_clip/771/clip.mp4\n",
      "Moviepy - Building video C:/Users/naoki/anaconda_work/Faster-R-CNN-pytorch-main/data/ori_data/drama_clip/772/clip.mp4.\n",
      "Moviepy - Writing video C:/Users/naoki/anaconda_work/Faster-R-CNN-pytorch-main/data/ori_data/drama_clip/772/clip.mp4\n",
      "\n"
     ]
    },
    {
     "name": "stderr",
     "output_type": "stream",
     "text": [
      "                                                            \r"
     ]
    },
    {
     "name": "stdout",
     "output_type": "stream",
     "text": [
      "Moviepy - Done !\n",
      "Moviepy - video ready C:/Users/naoki/anaconda_work/Faster-R-CNN-pytorch-main/data/ori_data/drama_clip/772/clip.mp4\n",
      "Moviepy - Building video C:/Users/naoki/anaconda_work/Faster-R-CNN-pytorch-main/data/ori_data/drama_clip/773/clip.mp4.\n",
      "Moviepy - Writing video C:/Users/naoki/anaconda_work/Faster-R-CNN-pytorch-main/data/ori_data/drama_clip/773/clip.mp4\n",
      "\n"
     ]
    },
    {
     "name": "stderr",
     "output_type": "stream",
     "text": [
      "                                                            \r"
     ]
    },
    {
     "name": "stdout",
     "output_type": "stream",
     "text": [
      "Moviepy - Done !\n",
      "Moviepy - video ready C:/Users/naoki/anaconda_work/Faster-R-CNN-pytorch-main/data/ori_data/drama_clip/773/clip.mp4\n",
      "Moviepy - Building video C:/Users/naoki/anaconda_work/Faster-R-CNN-pytorch-main/data/ori_data/drama_clip/774/clip.mp4.\n",
      "Moviepy - Writing video C:/Users/naoki/anaconda_work/Faster-R-CNN-pytorch-main/data/ori_data/drama_clip/774/clip.mp4\n",
      "\n"
     ]
    },
    {
     "name": "stderr",
     "output_type": "stream",
     "text": [
      "                                                            \r"
     ]
    },
    {
     "name": "stdout",
     "output_type": "stream",
     "text": [
      "Moviepy - Done !\n",
      "Moviepy - video ready C:/Users/naoki/anaconda_work/Faster-R-CNN-pytorch-main/data/ori_data/drama_clip/774/clip.mp4\n",
      "Moviepy - Building video C:/Users/naoki/anaconda_work/Faster-R-CNN-pytorch-main/data/ori_data/drama_clip/775/clip.mp4.\n",
      "Moviepy - Writing video C:/Users/naoki/anaconda_work/Faster-R-CNN-pytorch-main/data/ori_data/drama_clip/775/clip.mp4\n",
      "\n"
     ]
    },
    {
     "name": "stderr",
     "output_type": "stream",
     "text": [
      "                                                            \r"
     ]
    },
    {
     "name": "stdout",
     "output_type": "stream",
     "text": [
      "Moviepy - Done !\n",
      "Moviepy - video ready C:/Users/naoki/anaconda_work/Faster-R-CNN-pytorch-main/data/ori_data/drama_clip/775/clip.mp4\n",
      "Moviepy - Building video C:/Users/naoki/anaconda_work/Faster-R-CNN-pytorch-main/data/ori_data/drama_clip/776/clip.mp4.\n",
      "Moviepy - Writing video C:/Users/naoki/anaconda_work/Faster-R-CNN-pytorch-main/data/ori_data/drama_clip/776/clip.mp4\n",
      "\n"
     ]
    },
    {
     "name": "stderr",
     "output_type": "stream",
     "text": [
      "                                                            \r"
     ]
    },
    {
     "name": "stdout",
     "output_type": "stream",
     "text": [
      "Moviepy - Done !\n",
      "Moviepy - video ready C:/Users/naoki/anaconda_work/Faster-R-CNN-pytorch-main/data/ori_data/drama_clip/776/clip.mp4\n",
      "Moviepy - Building video C:/Users/naoki/anaconda_work/Faster-R-CNN-pytorch-main/data/ori_data/drama_clip/777/clip.mp4.\n",
      "Moviepy - Writing video C:/Users/naoki/anaconda_work/Faster-R-CNN-pytorch-main/data/ori_data/drama_clip/777/clip.mp4\n",
      "\n"
     ]
    },
    {
     "name": "stderr",
     "output_type": "stream",
     "text": [
      "                                                            \r"
     ]
    },
    {
     "name": "stdout",
     "output_type": "stream",
     "text": [
      "Moviepy - Done !\n",
      "Moviepy - video ready C:/Users/naoki/anaconda_work/Faster-R-CNN-pytorch-main/data/ori_data/drama_clip/777/clip.mp4\n",
      "Moviepy - Building video C:/Users/naoki/anaconda_work/Faster-R-CNN-pytorch-main/data/ori_data/drama_clip/778/clip.mp4.\n",
      "Moviepy - Writing video C:/Users/naoki/anaconda_work/Faster-R-CNN-pytorch-main/data/ori_data/drama_clip/778/clip.mp4\n",
      "\n"
     ]
    },
    {
     "name": "stderr",
     "output_type": "stream",
     "text": [
      "                                                            \r"
     ]
    },
    {
     "name": "stdout",
     "output_type": "stream",
     "text": [
      "Moviepy - Done !\n",
      "Moviepy - video ready C:/Users/naoki/anaconda_work/Faster-R-CNN-pytorch-main/data/ori_data/drama_clip/778/clip.mp4\n",
      "Moviepy - Building video C:/Users/naoki/anaconda_work/Faster-R-CNN-pytorch-main/data/ori_data/drama_clip/779/clip.mp4.\n",
      "Moviepy - Writing video C:/Users/naoki/anaconda_work/Faster-R-CNN-pytorch-main/data/ori_data/drama_clip/779/clip.mp4\n",
      "\n"
     ]
    },
    {
     "name": "stderr",
     "output_type": "stream",
     "text": [
      "                                                            \r"
     ]
    },
    {
     "name": "stdout",
     "output_type": "stream",
     "text": [
      "Moviepy - Done !\n",
      "Moviepy - video ready C:/Users/naoki/anaconda_work/Faster-R-CNN-pytorch-main/data/ori_data/drama_clip/779/clip.mp4\n",
      "Moviepy - Building video C:/Users/naoki/anaconda_work/Faster-R-CNN-pytorch-main/data/ori_data/drama_clip/780/clip.mp4.\n",
      "Moviepy - Writing video C:/Users/naoki/anaconda_work/Faster-R-CNN-pytorch-main/data/ori_data/drama_clip/780/clip.mp4\n",
      "\n"
     ]
    },
    {
     "name": "stderr",
     "output_type": "stream",
     "text": [
      "                                                            \r"
     ]
    },
    {
     "name": "stdout",
     "output_type": "stream",
     "text": [
      "Moviepy - Done !\n",
      "Moviepy - video ready C:/Users/naoki/anaconda_work/Faster-R-CNN-pytorch-main/data/ori_data/drama_clip/780/clip.mp4\n",
      "Moviepy - Building video C:/Users/naoki/anaconda_work/Faster-R-CNN-pytorch-main/data/ori_data/drama_clip/781/clip.mp4.\n",
      "Moviepy - Writing video C:/Users/naoki/anaconda_work/Faster-R-CNN-pytorch-main/data/ori_data/drama_clip/781/clip.mp4\n",
      "\n"
     ]
    },
    {
     "name": "stderr",
     "output_type": "stream",
     "text": [
      "                                                            \r"
     ]
    },
    {
     "name": "stdout",
     "output_type": "stream",
     "text": [
      "Moviepy - Done !\n",
      "Moviepy - video ready C:/Users/naoki/anaconda_work/Faster-R-CNN-pytorch-main/data/ori_data/drama_clip/781/clip.mp4\n",
      "Moviepy - Building video C:/Users/naoki/anaconda_work/Faster-R-CNN-pytorch-main/data/ori_data/drama_clip/782/clip.mp4.\n",
      "Moviepy - Writing video C:/Users/naoki/anaconda_work/Faster-R-CNN-pytorch-main/data/ori_data/drama_clip/782/clip.mp4\n",
      "\n"
     ]
    },
    {
     "name": "stderr",
     "output_type": "stream",
     "text": [
      "                                                            \r"
     ]
    },
    {
     "name": "stdout",
     "output_type": "stream",
     "text": [
      "Moviepy - Done !\n",
      "Moviepy - video ready C:/Users/naoki/anaconda_work/Faster-R-CNN-pytorch-main/data/ori_data/drama_clip/782/clip.mp4\n",
      "Moviepy - Building video C:/Users/naoki/anaconda_work/Faster-R-CNN-pytorch-main/data/ori_data/drama_clip/783/clip.mp4.\n",
      "Moviepy - Writing video C:/Users/naoki/anaconda_work/Faster-R-CNN-pytorch-main/data/ori_data/drama_clip/783/clip.mp4\n",
      "\n"
     ]
    },
    {
     "name": "stderr",
     "output_type": "stream",
     "text": [
      "                                                            \r"
     ]
    },
    {
     "name": "stdout",
     "output_type": "stream",
     "text": [
      "Moviepy - Done !\n",
      "Moviepy - video ready C:/Users/naoki/anaconda_work/Faster-R-CNN-pytorch-main/data/ori_data/drama_clip/783/clip.mp4\n",
      "Moviepy - Building video C:/Users/naoki/anaconda_work/Faster-R-CNN-pytorch-main/data/ori_data/drama_clip/784/clip.mp4.\n",
      "Moviepy - Writing video C:/Users/naoki/anaconda_work/Faster-R-CNN-pytorch-main/data/ori_data/drama_clip/784/clip.mp4\n",
      "\n"
     ]
    },
    {
     "name": "stderr",
     "output_type": "stream",
     "text": [
      "                                                            \r"
     ]
    },
    {
     "name": "stdout",
     "output_type": "stream",
     "text": [
      "Moviepy - Done !\n",
      "Moviepy - video ready C:/Users/naoki/anaconda_work/Faster-R-CNN-pytorch-main/data/ori_data/drama_clip/784/clip.mp4\n",
      "Moviepy - Building video C:/Users/naoki/anaconda_work/Faster-R-CNN-pytorch-main/data/ori_data/drama_clip/785/clip.mp4.\n",
      "Moviepy - Writing video C:/Users/naoki/anaconda_work/Faster-R-CNN-pytorch-main/data/ori_data/drama_clip/785/clip.mp4\n",
      "\n"
     ]
    },
    {
     "name": "stderr",
     "output_type": "stream",
     "text": [
      "                                                            \r"
     ]
    },
    {
     "name": "stdout",
     "output_type": "stream",
     "text": [
      "Moviepy - Done !\n",
      "Moviepy - video ready C:/Users/naoki/anaconda_work/Faster-R-CNN-pytorch-main/data/ori_data/drama_clip/785/clip.mp4\n",
      "Moviepy - Building video C:/Users/naoki/anaconda_work/Faster-R-CNN-pytorch-main/data/ori_data/drama_clip/786/clip.mp4.\n",
      "Moviepy - Writing video C:/Users/naoki/anaconda_work/Faster-R-CNN-pytorch-main/data/ori_data/drama_clip/786/clip.mp4\n",
      "\n"
     ]
    },
    {
     "name": "stderr",
     "output_type": "stream",
     "text": [
      "                                                            \r"
     ]
    },
    {
     "name": "stdout",
     "output_type": "stream",
     "text": [
      "Moviepy - Done !\n",
      "Moviepy - video ready C:/Users/naoki/anaconda_work/Faster-R-CNN-pytorch-main/data/ori_data/drama_clip/786/clip.mp4\n",
      "Moviepy - Building video C:/Users/naoki/anaconda_work/Faster-R-CNN-pytorch-main/data/ori_data/drama_clip/787/clip.mp4.\n",
      "Moviepy - Writing video C:/Users/naoki/anaconda_work/Faster-R-CNN-pytorch-main/data/ori_data/drama_clip/787/clip.mp4\n",
      "\n"
     ]
    },
    {
     "name": "stderr",
     "output_type": "stream",
     "text": [
      "                                                            \r"
     ]
    },
    {
     "name": "stdout",
     "output_type": "stream",
     "text": [
      "Moviepy - Done !\n",
      "Moviepy - video ready C:/Users/naoki/anaconda_work/Faster-R-CNN-pytorch-main/data/ori_data/drama_clip/787/clip.mp4\n",
      "Moviepy - Building video C:/Users/naoki/anaconda_work/Faster-R-CNN-pytorch-main/data/ori_data/drama_clip/788/clip.mp4.\n",
      "Moviepy - Writing video C:/Users/naoki/anaconda_work/Faster-R-CNN-pytorch-main/data/ori_data/drama_clip/788/clip.mp4\n",
      "\n"
     ]
    },
    {
     "name": "stderr",
     "output_type": "stream",
     "text": [
      "                                                            \r"
     ]
    },
    {
     "name": "stdout",
     "output_type": "stream",
     "text": [
      "Moviepy - Done !\n",
      "Moviepy - video ready C:/Users/naoki/anaconda_work/Faster-R-CNN-pytorch-main/data/ori_data/drama_clip/788/clip.mp4\n",
      "Moviepy - Building video C:/Users/naoki/anaconda_work/Faster-R-CNN-pytorch-main/data/ori_data/drama_clip/789/clip.mp4.\n",
      "Moviepy - Writing video C:/Users/naoki/anaconda_work/Faster-R-CNN-pytorch-main/data/ori_data/drama_clip/789/clip.mp4\n",
      "\n"
     ]
    },
    {
     "name": "stderr",
     "output_type": "stream",
     "text": [
      "                                                            \r"
     ]
    },
    {
     "name": "stdout",
     "output_type": "stream",
     "text": [
      "Moviepy - Done !\n",
      "Moviepy - video ready C:/Users/naoki/anaconda_work/Faster-R-CNN-pytorch-main/data/ori_data/drama_clip/789/clip.mp4\n",
      "Moviepy - Building video C:/Users/naoki/anaconda_work/Faster-R-CNN-pytorch-main/data/ori_data/drama_clip/790/clip.mp4.\n",
      "Moviepy - Writing video C:/Users/naoki/anaconda_work/Faster-R-CNN-pytorch-main/data/ori_data/drama_clip/790/clip.mp4\n",
      "\n"
     ]
    },
    {
     "name": "stderr",
     "output_type": "stream",
     "text": [
      "                                                            \r"
     ]
    },
    {
     "name": "stdout",
     "output_type": "stream",
     "text": [
      "Moviepy - Done !\n",
      "Moviepy - video ready C:/Users/naoki/anaconda_work/Faster-R-CNN-pytorch-main/data/ori_data/drama_clip/790/clip.mp4\n",
      "Moviepy - Building video C:/Users/naoki/anaconda_work/Faster-R-CNN-pytorch-main/data/ori_data/drama_clip/791/clip.mp4.\n",
      "Moviepy - Writing video C:/Users/naoki/anaconda_work/Faster-R-CNN-pytorch-main/data/ori_data/drama_clip/791/clip.mp4\n",
      "\n"
     ]
    },
    {
     "name": "stderr",
     "output_type": "stream",
     "text": [
      "                                                            \r"
     ]
    },
    {
     "name": "stdout",
     "output_type": "stream",
     "text": [
      "Moviepy - Done !\n",
      "Moviepy - video ready C:/Users/naoki/anaconda_work/Faster-R-CNN-pytorch-main/data/ori_data/drama_clip/791/clip.mp4\n",
      "Moviepy - Building video C:/Users/naoki/anaconda_work/Faster-R-CNN-pytorch-main/data/ori_data/drama_clip/792/clip.mp4.\n",
      "Moviepy - Writing video C:/Users/naoki/anaconda_work/Faster-R-CNN-pytorch-main/data/ori_data/drama_clip/792/clip.mp4\n",
      "\n"
     ]
    },
    {
     "name": "stderr",
     "output_type": "stream",
     "text": [
      "                                                            \r"
     ]
    },
    {
     "name": "stdout",
     "output_type": "stream",
     "text": [
      "Moviepy - Done !\n",
      "Moviepy - video ready C:/Users/naoki/anaconda_work/Faster-R-CNN-pytorch-main/data/ori_data/drama_clip/792/clip.mp4\n",
      "Moviepy - Building video C:/Users/naoki/anaconda_work/Faster-R-CNN-pytorch-main/data/ori_data/drama_clip/793/clip.mp4.\n",
      "Moviepy - Writing video C:/Users/naoki/anaconda_work/Faster-R-CNN-pytorch-main/data/ori_data/drama_clip/793/clip.mp4\n",
      "\n"
     ]
    },
    {
     "name": "stderr",
     "output_type": "stream",
     "text": [
      "                                                            \r"
     ]
    },
    {
     "name": "stdout",
     "output_type": "stream",
     "text": [
      "Moviepy - Done !\n",
      "Moviepy - video ready C:/Users/naoki/anaconda_work/Faster-R-CNN-pytorch-main/data/ori_data/drama_clip/793/clip.mp4\n",
      "Moviepy - Building video C:/Users/naoki/anaconda_work/Faster-R-CNN-pytorch-main/data/ori_data/drama_clip/794/clip.mp4.\n",
      "Moviepy - Writing video C:/Users/naoki/anaconda_work/Faster-R-CNN-pytorch-main/data/ori_data/drama_clip/794/clip.mp4\n",
      "\n"
     ]
    },
    {
     "name": "stderr",
     "output_type": "stream",
     "text": [
      "                                                            \r"
     ]
    },
    {
     "name": "stdout",
     "output_type": "stream",
     "text": [
      "Moviepy - Done !\n",
      "Moviepy - video ready C:/Users/naoki/anaconda_work/Faster-R-CNN-pytorch-main/data/ori_data/drama_clip/794/clip.mp4\n",
      "Moviepy - Building video C:/Users/naoki/anaconda_work/Faster-R-CNN-pytorch-main/data/ori_data/drama_clip/795/clip.mp4.\n",
      "Moviepy - Writing video C:/Users/naoki/anaconda_work/Faster-R-CNN-pytorch-main/data/ori_data/drama_clip/795/clip.mp4\n",
      "\n"
     ]
    },
    {
     "name": "stderr",
     "output_type": "stream",
     "text": [
      "                                                            \r"
     ]
    },
    {
     "name": "stdout",
     "output_type": "stream",
     "text": [
      "Moviepy - Done !\n",
      "Moviepy - video ready C:/Users/naoki/anaconda_work/Faster-R-CNN-pytorch-main/data/ori_data/drama_clip/795/clip.mp4\n",
      "Moviepy - Building video C:/Users/naoki/anaconda_work/Faster-R-CNN-pytorch-main/data/ori_data/drama_clip/796/clip.mp4.\n",
      "Moviepy - Writing video C:/Users/naoki/anaconda_work/Faster-R-CNN-pytorch-main/data/ori_data/drama_clip/796/clip.mp4\n",
      "\n"
     ]
    },
    {
     "name": "stderr",
     "output_type": "stream",
     "text": [
      "                                                            \r"
     ]
    },
    {
     "name": "stdout",
     "output_type": "stream",
     "text": [
      "Moviepy - Done !\n",
      "Moviepy - video ready C:/Users/naoki/anaconda_work/Faster-R-CNN-pytorch-main/data/ori_data/drama_clip/796/clip.mp4\n",
      "Moviepy - Building video C:/Users/naoki/anaconda_work/Faster-R-CNN-pytorch-main/data/ori_data/drama_clip/797/clip.mp4.\n",
      "Moviepy - Writing video C:/Users/naoki/anaconda_work/Faster-R-CNN-pytorch-main/data/ori_data/drama_clip/797/clip.mp4\n",
      "\n"
     ]
    },
    {
     "name": "stderr",
     "output_type": "stream",
     "text": [
      "                                                            \r"
     ]
    },
    {
     "name": "stdout",
     "output_type": "stream",
     "text": [
      "Moviepy - Done !\n",
      "Moviepy - video ready C:/Users/naoki/anaconda_work/Faster-R-CNN-pytorch-main/data/ori_data/drama_clip/797/clip.mp4\n",
      "Moviepy - Building video C:/Users/naoki/anaconda_work/Faster-R-CNN-pytorch-main/data/ori_data/drama_clip/798/clip.mp4.\n",
      "Moviepy - Writing video C:/Users/naoki/anaconda_work/Faster-R-CNN-pytorch-main/data/ori_data/drama_clip/798/clip.mp4\n",
      "\n"
     ]
    },
    {
     "name": "stderr",
     "output_type": "stream",
     "text": [
      "                                                            \r"
     ]
    },
    {
     "name": "stdout",
     "output_type": "stream",
     "text": [
      "Moviepy - Done !\n",
      "Moviepy - video ready C:/Users/naoki/anaconda_work/Faster-R-CNN-pytorch-main/data/ori_data/drama_clip/798/clip.mp4\n",
      "Moviepy - Building video C:/Users/naoki/anaconda_work/Faster-R-CNN-pytorch-main/data/ori_data/drama_clip/799/clip.mp4.\n",
      "Moviepy - Writing video C:/Users/naoki/anaconda_work/Faster-R-CNN-pytorch-main/data/ori_data/drama_clip/799/clip.mp4\n",
      "\n"
     ]
    },
    {
     "name": "stderr",
     "output_type": "stream",
     "text": [
      "                                                            \r"
     ]
    },
    {
     "name": "stdout",
     "output_type": "stream",
     "text": [
      "Moviepy - Done !\n",
      "Moviepy - video ready C:/Users/naoki/anaconda_work/Faster-R-CNN-pytorch-main/data/ori_data/drama_clip/799/clip.mp4\n",
      "Moviepy - Building video C:/Users/naoki/anaconda_work/Faster-R-CNN-pytorch-main/data/ori_data/drama_clip/800/clip.mp4.\n",
      "Moviepy - Writing video C:/Users/naoki/anaconda_work/Faster-R-CNN-pytorch-main/data/ori_data/drama_clip/800/clip.mp4\n",
      "\n"
     ]
    },
    {
     "name": "stderr",
     "output_type": "stream",
     "text": [
      "                                                            \r"
     ]
    },
    {
     "name": "stdout",
     "output_type": "stream",
     "text": [
      "Moviepy - Done !\n",
      "Moviepy - video ready C:/Users/naoki/anaconda_work/Faster-R-CNN-pytorch-main/data/ori_data/drama_clip/800/clip.mp4\n",
      "Moviepy - Building video C:/Users/naoki/anaconda_work/Faster-R-CNN-pytorch-main/data/ori_data/drama_clip/801/clip.mp4.\n",
      "Moviepy - Writing video C:/Users/naoki/anaconda_work/Faster-R-CNN-pytorch-main/data/ori_data/drama_clip/801/clip.mp4\n",
      "\n"
     ]
    },
    {
     "name": "stderr",
     "output_type": "stream",
     "text": [
      "                                                            \r"
     ]
    },
    {
     "name": "stdout",
     "output_type": "stream",
     "text": [
      "Moviepy - Done !\n",
      "Moviepy - video ready C:/Users/naoki/anaconda_work/Faster-R-CNN-pytorch-main/data/ori_data/drama_clip/801/clip.mp4\n",
      "Moviepy - Building video C:/Users/naoki/anaconda_work/Faster-R-CNN-pytorch-main/data/ori_data/drama_clip/802/clip.mp4.\n",
      "Moviepy - Writing video C:/Users/naoki/anaconda_work/Faster-R-CNN-pytorch-main/data/ori_data/drama_clip/802/clip.mp4\n",
      "\n"
     ]
    },
    {
     "name": "stderr",
     "output_type": "stream",
     "text": [
      "                                                            \r"
     ]
    },
    {
     "name": "stdout",
     "output_type": "stream",
     "text": [
      "Moviepy - Done !\n",
      "Moviepy - video ready C:/Users/naoki/anaconda_work/Faster-R-CNN-pytorch-main/data/ori_data/drama_clip/802/clip.mp4\n",
      "Moviepy - Building video C:/Users/naoki/anaconda_work/Faster-R-CNN-pytorch-main/data/ori_data/drama_clip/803/clip.mp4.\n",
      "Moviepy - Writing video C:/Users/naoki/anaconda_work/Faster-R-CNN-pytorch-main/data/ori_data/drama_clip/803/clip.mp4\n",
      "\n"
     ]
    },
    {
     "name": "stderr",
     "output_type": "stream",
     "text": [
      "                                                            \r"
     ]
    },
    {
     "name": "stdout",
     "output_type": "stream",
     "text": [
      "Moviepy - Done !\n",
      "Moviepy - video ready C:/Users/naoki/anaconda_work/Faster-R-CNN-pytorch-main/data/ori_data/drama_clip/803/clip.mp4\n",
      "Moviepy - Building video C:/Users/naoki/anaconda_work/Faster-R-CNN-pytorch-main/data/ori_data/drama_clip/804/clip.mp4.\n",
      "Moviepy - Writing video C:/Users/naoki/anaconda_work/Faster-R-CNN-pytorch-main/data/ori_data/drama_clip/804/clip.mp4\n",
      "\n"
     ]
    },
    {
     "name": "stderr",
     "output_type": "stream",
     "text": [
      "                                                            \r"
     ]
    },
    {
     "name": "stdout",
     "output_type": "stream",
     "text": [
      "Moviepy - Done !\n",
      "Moviepy - video ready C:/Users/naoki/anaconda_work/Faster-R-CNN-pytorch-main/data/ori_data/drama_clip/804/clip.mp4\n",
      "Moviepy - Building video C:/Users/naoki/anaconda_work/Faster-R-CNN-pytorch-main/data/ori_data/drama_clip/805/clip.mp4.\n",
      "Moviepy - Writing video C:/Users/naoki/anaconda_work/Faster-R-CNN-pytorch-main/data/ori_data/drama_clip/805/clip.mp4\n",
      "\n"
     ]
    },
    {
     "name": "stderr",
     "output_type": "stream",
     "text": [
      "                                                            \r"
     ]
    },
    {
     "name": "stdout",
     "output_type": "stream",
     "text": [
      "Moviepy - Done !\n",
      "Moviepy - video ready C:/Users/naoki/anaconda_work/Faster-R-CNN-pytorch-main/data/ori_data/drama_clip/805/clip.mp4\n",
      "Moviepy - Building video C:/Users/naoki/anaconda_work/Faster-R-CNN-pytorch-main/data/ori_data/drama_clip/806/clip.mp4.\n",
      "Moviepy - Writing video C:/Users/naoki/anaconda_work/Faster-R-CNN-pytorch-main/data/ori_data/drama_clip/806/clip.mp4\n",
      "\n"
     ]
    },
    {
     "name": "stderr",
     "output_type": "stream",
     "text": [
      "                                                            \r"
     ]
    },
    {
     "name": "stdout",
     "output_type": "stream",
     "text": [
      "Moviepy - Done !\n",
      "Moviepy - video ready C:/Users/naoki/anaconda_work/Faster-R-CNN-pytorch-main/data/ori_data/drama_clip/806/clip.mp4\n",
      "Moviepy - Building video C:/Users/naoki/anaconda_work/Faster-R-CNN-pytorch-main/data/ori_data/drama_clip/807/clip.mp4.\n",
      "Moviepy - Writing video C:/Users/naoki/anaconda_work/Faster-R-CNN-pytorch-main/data/ori_data/drama_clip/807/clip.mp4\n",
      "\n"
     ]
    },
    {
     "name": "stderr",
     "output_type": "stream",
     "text": [
      "                                                            \r"
     ]
    },
    {
     "name": "stdout",
     "output_type": "stream",
     "text": [
      "Moviepy - Done !\n",
      "Moviepy - video ready C:/Users/naoki/anaconda_work/Faster-R-CNN-pytorch-main/data/ori_data/drama_clip/807/clip.mp4\n",
      "Moviepy - Building video C:/Users/naoki/anaconda_work/Faster-R-CNN-pytorch-main/data/ori_data/drama_clip/808/clip.mp4.\n",
      "Moviepy - Writing video C:/Users/naoki/anaconda_work/Faster-R-CNN-pytorch-main/data/ori_data/drama_clip/808/clip.mp4\n",
      "\n"
     ]
    },
    {
     "name": "stderr",
     "output_type": "stream",
     "text": [
      "                                                            \r"
     ]
    },
    {
     "name": "stdout",
     "output_type": "stream",
     "text": [
      "Moviepy - Done !\n",
      "Moviepy - video ready C:/Users/naoki/anaconda_work/Faster-R-CNN-pytorch-main/data/ori_data/drama_clip/808/clip.mp4\n",
      "Moviepy - Building video C:/Users/naoki/anaconda_work/Faster-R-CNN-pytorch-main/data/ori_data/drama_clip/809/clip.mp4.\n",
      "Moviepy - Writing video C:/Users/naoki/anaconda_work/Faster-R-CNN-pytorch-main/data/ori_data/drama_clip/809/clip.mp4\n",
      "\n"
     ]
    },
    {
     "name": "stderr",
     "output_type": "stream",
     "text": [
      "                                                            \r"
     ]
    },
    {
     "name": "stdout",
     "output_type": "stream",
     "text": [
      "Moviepy - Done !\n",
      "Moviepy - video ready C:/Users/naoki/anaconda_work/Faster-R-CNN-pytorch-main/data/ori_data/drama_clip/809/clip.mp4\n",
      "Moviepy - Building video C:/Users/naoki/anaconda_work/Faster-R-CNN-pytorch-main/data/ori_data/drama_clip/810/clip.mp4.\n",
      "Moviepy - Writing video C:/Users/naoki/anaconda_work/Faster-R-CNN-pytorch-main/data/ori_data/drama_clip/810/clip.mp4\n",
      "\n"
     ]
    },
    {
     "name": "stderr",
     "output_type": "stream",
     "text": [
      "                                                            \r"
     ]
    },
    {
     "name": "stdout",
     "output_type": "stream",
     "text": [
      "Moviepy - Done !\n",
      "Moviepy - video ready C:/Users/naoki/anaconda_work/Faster-R-CNN-pytorch-main/data/ori_data/drama_clip/810/clip.mp4\n",
      "Moviepy - Building video C:/Users/naoki/anaconda_work/Faster-R-CNN-pytorch-main/data/ori_data/drama_clip/811/clip.mp4.\n",
      "Moviepy - Writing video C:/Users/naoki/anaconda_work/Faster-R-CNN-pytorch-main/data/ori_data/drama_clip/811/clip.mp4\n",
      "\n"
     ]
    },
    {
     "name": "stderr",
     "output_type": "stream",
     "text": [
      "                                                            \r"
     ]
    },
    {
     "name": "stdout",
     "output_type": "stream",
     "text": [
      "Moviepy - Done !\n",
      "Moviepy - video ready C:/Users/naoki/anaconda_work/Faster-R-CNN-pytorch-main/data/ori_data/drama_clip/811/clip.mp4\n",
      "Moviepy - Building video C:/Users/naoki/anaconda_work/Faster-R-CNN-pytorch-main/data/ori_data/drama_clip/812/clip.mp4.\n",
      "Moviepy - Writing video C:/Users/naoki/anaconda_work/Faster-R-CNN-pytorch-main/data/ori_data/drama_clip/812/clip.mp4\n",
      "\n"
     ]
    },
    {
     "name": "stderr",
     "output_type": "stream",
     "text": [
      "                                                            \r"
     ]
    },
    {
     "name": "stdout",
     "output_type": "stream",
     "text": [
      "Moviepy - Done !\n",
      "Moviepy - video ready C:/Users/naoki/anaconda_work/Faster-R-CNN-pytorch-main/data/ori_data/drama_clip/812/clip.mp4\n",
      "Moviepy - Building video C:/Users/naoki/anaconda_work/Faster-R-CNN-pytorch-main/data/ori_data/drama_clip/813/clip.mp4.\n",
      "Moviepy - Writing video C:/Users/naoki/anaconda_work/Faster-R-CNN-pytorch-main/data/ori_data/drama_clip/813/clip.mp4\n",
      "\n"
     ]
    },
    {
     "name": "stderr",
     "output_type": "stream",
     "text": [
      "                                                            \r"
     ]
    },
    {
     "name": "stdout",
     "output_type": "stream",
     "text": [
      "Moviepy - Done !\n",
      "Moviepy - video ready C:/Users/naoki/anaconda_work/Faster-R-CNN-pytorch-main/data/ori_data/drama_clip/813/clip.mp4\n",
      "Moviepy - Building video C:/Users/naoki/anaconda_work/Faster-R-CNN-pytorch-main/data/ori_data/drama_clip/814/clip.mp4.\n",
      "Moviepy - Writing video C:/Users/naoki/anaconda_work/Faster-R-CNN-pytorch-main/data/ori_data/drama_clip/814/clip.mp4\n",
      "\n"
     ]
    },
    {
     "name": "stderr",
     "output_type": "stream",
     "text": [
      "                                                            \r"
     ]
    },
    {
     "name": "stdout",
     "output_type": "stream",
     "text": [
      "Moviepy - Done !\n",
      "Moviepy - video ready C:/Users/naoki/anaconda_work/Faster-R-CNN-pytorch-main/data/ori_data/drama_clip/814/clip.mp4\n",
      "Moviepy - Building video C:/Users/naoki/anaconda_work/Faster-R-CNN-pytorch-main/data/ori_data/drama_clip/815/clip.mp4.\n",
      "Moviepy - Writing video C:/Users/naoki/anaconda_work/Faster-R-CNN-pytorch-main/data/ori_data/drama_clip/815/clip.mp4\n",
      "\n"
     ]
    },
    {
     "name": "stderr",
     "output_type": "stream",
     "text": [
      "                                                            \r"
     ]
    },
    {
     "name": "stdout",
     "output_type": "stream",
     "text": [
      "Moviepy - Done !\n",
      "Moviepy - video ready C:/Users/naoki/anaconda_work/Faster-R-CNN-pytorch-main/data/ori_data/drama_clip/815/clip.mp4\n",
      "Moviepy - Building video C:/Users/naoki/anaconda_work/Faster-R-CNN-pytorch-main/data/ori_data/drama_clip/816/clip.mp4.\n",
      "Moviepy - Writing video C:/Users/naoki/anaconda_work/Faster-R-CNN-pytorch-main/data/ori_data/drama_clip/816/clip.mp4\n",
      "\n"
     ]
    },
    {
     "name": "stderr",
     "output_type": "stream",
     "text": [
      "                                                            \r"
     ]
    },
    {
     "name": "stdout",
     "output_type": "stream",
     "text": [
      "Moviepy - Done !\n",
      "Moviepy - video ready C:/Users/naoki/anaconda_work/Faster-R-CNN-pytorch-main/data/ori_data/drama_clip/816/clip.mp4\n",
      "Moviepy - Building video C:/Users/naoki/anaconda_work/Faster-R-CNN-pytorch-main/data/ori_data/drama_clip/817/clip.mp4.\n",
      "Moviepy - Writing video C:/Users/naoki/anaconda_work/Faster-R-CNN-pytorch-main/data/ori_data/drama_clip/817/clip.mp4\n",
      "\n"
     ]
    },
    {
     "name": "stderr",
     "output_type": "stream",
     "text": [
      "                                                            \r"
     ]
    },
    {
     "name": "stdout",
     "output_type": "stream",
     "text": [
      "Moviepy - Done !\n",
      "Moviepy - video ready C:/Users/naoki/anaconda_work/Faster-R-CNN-pytorch-main/data/ori_data/drama_clip/817/clip.mp4\n",
      "Moviepy - Building video C:/Users/naoki/anaconda_work/Faster-R-CNN-pytorch-main/data/ori_data/drama_clip/818/clip.mp4.\n",
      "Moviepy - Writing video C:/Users/naoki/anaconda_work/Faster-R-CNN-pytorch-main/data/ori_data/drama_clip/818/clip.mp4\n",
      "\n"
     ]
    },
    {
     "name": "stderr",
     "output_type": "stream",
     "text": [
      "                                                            \r"
     ]
    },
    {
     "name": "stdout",
     "output_type": "stream",
     "text": [
      "Moviepy - Done !\n",
      "Moviepy - video ready C:/Users/naoki/anaconda_work/Faster-R-CNN-pytorch-main/data/ori_data/drama_clip/818/clip.mp4\n",
      "Moviepy - Building video C:/Users/naoki/anaconda_work/Faster-R-CNN-pytorch-main/data/ori_data/drama_clip/819/clip.mp4.\n",
      "Moviepy - Writing video C:/Users/naoki/anaconda_work/Faster-R-CNN-pytorch-main/data/ori_data/drama_clip/819/clip.mp4\n",
      "\n"
     ]
    },
    {
     "name": "stderr",
     "output_type": "stream",
     "text": [
      "                                                            \r"
     ]
    },
    {
     "name": "stdout",
     "output_type": "stream",
     "text": [
      "Moviepy - Done !\n",
      "Moviepy - video ready C:/Users/naoki/anaconda_work/Faster-R-CNN-pytorch-main/data/ori_data/drama_clip/819/clip.mp4\n",
      "Moviepy - Building video C:/Users/naoki/anaconda_work/Faster-R-CNN-pytorch-main/data/ori_data/drama_clip/820/clip.mp4.\n",
      "Moviepy - Writing video C:/Users/naoki/anaconda_work/Faster-R-CNN-pytorch-main/data/ori_data/drama_clip/820/clip.mp4\n",
      "\n"
     ]
    },
    {
     "name": "stderr",
     "output_type": "stream",
     "text": [
      "                                                            \r"
     ]
    },
    {
     "name": "stdout",
     "output_type": "stream",
     "text": [
      "Moviepy - Done !\n",
      "Moviepy - video ready C:/Users/naoki/anaconda_work/Faster-R-CNN-pytorch-main/data/ori_data/drama_clip/820/clip.mp4\n",
      "Moviepy - Building video C:/Users/naoki/anaconda_work/Faster-R-CNN-pytorch-main/data/ori_data/drama_clip/821/clip.mp4.\n",
      "Moviepy - Writing video C:/Users/naoki/anaconda_work/Faster-R-CNN-pytorch-main/data/ori_data/drama_clip/821/clip.mp4\n",
      "\n"
     ]
    },
    {
     "name": "stderr",
     "output_type": "stream",
     "text": [
      "                                                            \r"
     ]
    },
    {
     "name": "stdout",
     "output_type": "stream",
     "text": [
      "Moviepy - Done !\n",
      "Moviepy - video ready C:/Users/naoki/anaconda_work/Faster-R-CNN-pytorch-main/data/ori_data/drama_clip/821/clip.mp4\n",
      "Moviepy - Building video C:/Users/naoki/anaconda_work/Faster-R-CNN-pytorch-main/data/ori_data/drama_clip/822/clip.mp4.\n",
      "Moviepy - Writing video C:/Users/naoki/anaconda_work/Faster-R-CNN-pytorch-main/data/ori_data/drama_clip/822/clip.mp4\n",
      "\n"
     ]
    },
    {
     "name": "stderr",
     "output_type": "stream",
     "text": [
      "                                                            \r"
     ]
    },
    {
     "name": "stdout",
     "output_type": "stream",
     "text": [
      "Moviepy - Done !\n",
      "Moviepy - video ready C:/Users/naoki/anaconda_work/Faster-R-CNN-pytorch-main/data/ori_data/drama_clip/822/clip.mp4\n",
      "Moviepy - Building video C:/Users/naoki/anaconda_work/Faster-R-CNN-pytorch-main/data/ori_data/drama_clip/823/clip.mp4.\n",
      "Moviepy - Writing video C:/Users/naoki/anaconda_work/Faster-R-CNN-pytorch-main/data/ori_data/drama_clip/823/clip.mp4\n",
      "\n"
     ]
    },
    {
     "name": "stderr",
     "output_type": "stream",
     "text": [
      "                                                            \r"
     ]
    },
    {
     "name": "stdout",
     "output_type": "stream",
     "text": [
      "Moviepy - Done !\n",
      "Moviepy - video ready C:/Users/naoki/anaconda_work/Faster-R-CNN-pytorch-main/data/ori_data/drama_clip/823/clip.mp4\n",
      "Moviepy - Building video C:/Users/naoki/anaconda_work/Faster-R-CNN-pytorch-main/data/ori_data/drama_clip/824/clip.mp4.\n",
      "Moviepy - Writing video C:/Users/naoki/anaconda_work/Faster-R-CNN-pytorch-main/data/ori_data/drama_clip/824/clip.mp4\n",
      "\n"
     ]
    },
    {
     "name": "stderr",
     "output_type": "stream",
     "text": [
      "                                                            \r"
     ]
    },
    {
     "name": "stdout",
     "output_type": "stream",
     "text": [
      "Moviepy - Done !\n",
      "Moviepy - video ready C:/Users/naoki/anaconda_work/Faster-R-CNN-pytorch-main/data/ori_data/drama_clip/824/clip.mp4\n",
      "Moviepy - Building video C:/Users/naoki/anaconda_work/Faster-R-CNN-pytorch-main/data/ori_data/drama_clip/825/clip.mp4.\n",
      "Moviepy - Writing video C:/Users/naoki/anaconda_work/Faster-R-CNN-pytorch-main/data/ori_data/drama_clip/825/clip.mp4\n",
      "\n"
     ]
    },
    {
     "name": "stderr",
     "output_type": "stream",
     "text": [
      "                                                            \r"
     ]
    },
    {
     "name": "stdout",
     "output_type": "stream",
     "text": [
      "Moviepy - Done !\n",
      "Moviepy - video ready C:/Users/naoki/anaconda_work/Faster-R-CNN-pytorch-main/data/ori_data/drama_clip/825/clip.mp4\n",
      "Moviepy - Building video C:/Users/naoki/anaconda_work/Faster-R-CNN-pytorch-main/data/ori_data/drama_clip/826/clip.mp4.\n",
      "Moviepy - Writing video C:/Users/naoki/anaconda_work/Faster-R-CNN-pytorch-main/data/ori_data/drama_clip/826/clip.mp4\n",
      "\n"
     ]
    },
    {
     "name": "stderr",
     "output_type": "stream",
     "text": [
      "                                                            \r"
     ]
    },
    {
     "name": "stdout",
     "output_type": "stream",
     "text": [
      "Moviepy - Done !\n",
      "Moviepy - video ready C:/Users/naoki/anaconda_work/Faster-R-CNN-pytorch-main/data/ori_data/drama_clip/826/clip.mp4\n",
      "Moviepy - Building video C:/Users/naoki/anaconda_work/Faster-R-CNN-pytorch-main/data/ori_data/drama_clip/827/clip.mp4.\n",
      "Moviepy - Writing video C:/Users/naoki/anaconda_work/Faster-R-CNN-pytorch-main/data/ori_data/drama_clip/827/clip.mp4\n",
      "\n"
     ]
    },
    {
     "name": "stderr",
     "output_type": "stream",
     "text": [
      "                                                            \r"
     ]
    },
    {
     "name": "stdout",
     "output_type": "stream",
     "text": [
      "Moviepy - Done !\n",
      "Moviepy - video ready C:/Users/naoki/anaconda_work/Faster-R-CNN-pytorch-main/data/ori_data/drama_clip/827/clip.mp4\n",
      "Moviepy - Building video C:/Users/naoki/anaconda_work/Faster-R-CNN-pytorch-main/data/ori_data/drama_clip/828/clip.mp4.\n",
      "Moviepy - Writing video C:/Users/naoki/anaconda_work/Faster-R-CNN-pytorch-main/data/ori_data/drama_clip/828/clip.mp4\n",
      "\n"
     ]
    },
    {
     "name": "stderr",
     "output_type": "stream",
     "text": [
      "                                                            \r"
     ]
    },
    {
     "name": "stdout",
     "output_type": "stream",
     "text": [
      "Moviepy - Done !\n",
      "Moviepy - video ready C:/Users/naoki/anaconda_work/Faster-R-CNN-pytorch-main/data/ori_data/drama_clip/828/clip.mp4\n",
      "Moviepy - Building video C:/Users/naoki/anaconda_work/Faster-R-CNN-pytorch-main/data/ori_data/drama_clip/829/clip.mp4.\n",
      "Moviepy - Writing video C:/Users/naoki/anaconda_work/Faster-R-CNN-pytorch-main/data/ori_data/drama_clip/829/clip.mp4\n",
      "\n"
     ]
    },
    {
     "name": "stderr",
     "output_type": "stream",
     "text": [
      "                                                            \r"
     ]
    },
    {
     "name": "stdout",
     "output_type": "stream",
     "text": [
      "Moviepy - Done !\n",
      "Moviepy - video ready C:/Users/naoki/anaconda_work/Faster-R-CNN-pytorch-main/data/ori_data/drama_clip/829/clip.mp4\n",
      "Moviepy - Building video C:/Users/naoki/anaconda_work/Faster-R-CNN-pytorch-main/data/ori_data/drama_clip/830/clip.mp4.\n",
      "Moviepy - Writing video C:/Users/naoki/anaconda_work/Faster-R-CNN-pytorch-main/data/ori_data/drama_clip/830/clip.mp4\n",
      "\n"
     ]
    },
    {
     "name": "stderr",
     "output_type": "stream",
     "text": [
      "                                                            \r"
     ]
    },
    {
     "name": "stdout",
     "output_type": "stream",
     "text": [
      "Moviepy - Done !\n",
      "Moviepy - video ready C:/Users/naoki/anaconda_work/Faster-R-CNN-pytorch-main/data/ori_data/drama_clip/830/clip.mp4\n",
      "Moviepy - Building video C:/Users/naoki/anaconda_work/Faster-R-CNN-pytorch-main/data/ori_data/drama_clip/831/clip.mp4.\n",
      "Moviepy - Writing video C:/Users/naoki/anaconda_work/Faster-R-CNN-pytorch-main/data/ori_data/drama_clip/831/clip.mp4\n",
      "\n"
     ]
    },
    {
     "name": "stderr",
     "output_type": "stream",
     "text": [
      "                                                            \r"
     ]
    },
    {
     "name": "stdout",
     "output_type": "stream",
     "text": [
      "Moviepy - Done !\n",
      "Moviepy - video ready C:/Users/naoki/anaconda_work/Faster-R-CNN-pytorch-main/data/ori_data/drama_clip/831/clip.mp4\n",
      "Moviepy - Building video C:/Users/naoki/anaconda_work/Faster-R-CNN-pytorch-main/data/ori_data/drama_clip/832/clip.mp4.\n",
      "Moviepy - Writing video C:/Users/naoki/anaconda_work/Faster-R-CNN-pytorch-main/data/ori_data/drama_clip/832/clip.mp4\n",
      "\n"
     ]
    },
    {
     "name": "stderr",
     "output_type": "stream",
     "text": [
      "                                                            \r"
     ]
    },
    {
     "name": "stdout",
     "output_type": "stream",
     "text": [
      "Moviepy - Done !\n",
      "Moviepy - video ready C:/Users/naoki/anaconda_work/Faster-R-CNN-pytorch-main/data/ori_data/drama_clip/832/clip.mp4\n",
      "Moviepy - Building video C:/Users/naoki/anaconda_work/Faster-R-CNN-pytorch-main/data/ori_data/drama_clip/833/clip.mp4.\n",
      "Moviepy - Writing video C:/Users/naoki/anaconda_work/Faster-R-CNN-pytorch-main/data/ori_data/drama_clip/833/clip.mp4\n",
      "\n"
     ]
    },
    {
     "name": "stderr",
     "output_type": "stream",
     "text": [
      "                                                            \r"
     ]
    },
    {
     "name": "stdout",
     "output_type": "stream",
     "text": [
      "Moviepy - Done !\n",
      "Moviepy - video ready C:/Users/naoki/anaconda_work/Faster-R-CNN-pytorch-main/data/ori_data/drama_clip/833/clip.mp4\n",
      "Moviepy - Building video C:/Users/naoki/anaconda_work/Faster-R-CNN-pytorch-main/data/ori_data/drama_clip/834/clip.mp4.\n",
      "Moviepy - Writing video C:/Users/naoki/anaconda_work/Faster-R-CNN-pytorch-main/data/ori_data/drama_clip/834/clip.mp4\n",
      "\n"
     ]
    },
    {
     "name": "stderr",
     "output_type": "stream",
     "text": [
      "                                                            \r"
     ]
    },
    {
     "name": "stdout",
     "output_type": "stream",
     "text": [
      "Moviepy - Done !\n",
      "Moviepy - video ready C:/Users/naoki/anaconda_work/Faster-R-CNN-pytorch-main/data/ori_data/drama_clip/834/clip.mp4\n",
      "Moviepy - Building video C:/Users/naoki/anaconda_work/Faster-R-CNN-pytorch-main/data/ori_data/drama_clip/835/clip.mp4.\n",
      "Moviepy - Writing video C:/Users/naoki/anaconda_work/Faster-R-CNN-pytorch-main/data/ori_data/drama_clip/835/clip.mp4\n",
      "\n"
     ]
    },
    {
     "name": "stderr",
     "output_type": "stream",
     "text": [
      "                                                            \r"
     ]
    },
    {
     "name": "stdout",
     "output_type": "stream",
     "text": [
      "Moviepy - Done !\n",
      "Moviepy - video ready C:/Users/naoki/anaconda_work/Faster-R-CNN-pytorch-main/data/ori_data/drama_clip/835/clip.mp4\n",
      "Moviepy - Building video C:/Users/naoki/anaconda_work/Faster-R-CNN-pytorch-main/data/ori_data/drama_clip/836/clip.mp4.\n",
      "Moviepy - Writing video C:/Users/naoki/anaconda_work/Faster-R-CNN-pytorch-main/data/ori_data/drama_clip/836/clip.mp4\n",
      "\n"
     ]
    },
    {
     "name": "stderr",
     "output_type": "stream",
     "text": [
      "                                                            \r"
     ]
    },
    {
     "name": "stdout",
     "output_type": "stream",
     "text": [
      "Moviepy - Done !\n",
      "Moviepy - video ready C:/Users/naoki/anaconda_work/Faster-R-CNN-pytorch-main/data/ori_data/drama_clip/836/clip.mp4\n",
      "Moviepy - Building video C:/Users/naoki/anaconda_work/Faster-R-CNN-pytorch-main/data/ori_data/drama_clip/837/clip.mp4.\n",
      "Moviepy - Writing video C:/Users/naoki/anaconda_work/Faster-R-CNN-pytorch-main/data/ori_data/drama_clip/837/clip.mp4\n",
      "\n"
     ]
    },
    {
     "name": "stderr",
     "output_type": "stream",
     "text": [
      "                                                            \r"
     ]
    },
    {
     "name": "stdout",
     "output_type": "stream",
     "text": [
      "Moviepy - Done !\n",
      "Moviepy - video ready C:/Users/naoki/anaconda_work/Faster-R-CNN-pytorch-main/data/ori_data/drama_clip/837/clip.mp4\n",
      "Moviepy - Building video C:/Users/naoki/anaconda_work/Faster-R-CNN-pytorch-main/data/ori_data/drama_clip/838/clip.mp4.\n",
      "Moviepy - Writing video C:/Users/naoki/anaconda_work/Faster-R-CNN-pytorch-main/data/ori_data/drama_clip/838/clip.mp4\n",
      "\n"
     ]
    },
    {
     "name": "stderr",
     "output_type": "stream",
     "text": [
      "                                                            \r"
     ]
    },
    {
     "name": "stdout",
     "output_type": "stream",
     "text": [
      "Moviepy - Done !\n",
      "Moviepy - video ready C:/Users/naoki/anaconda_work/Faster-R-CNN-pytorch-main/data/ori_data/drama_clip/838/clip.mp4\n",
      "Moviepy - Building video C:/Users/naoki/anaconda_work/Faster-R-CNN-pytorch-main/data/ori_data/drama_clip/839/clip.mp4.\n",
      "Moviepy - Writing video C:/Users/naoki/anaconda_work/Faster-R-CNN-pytorch-main/data/ori_data/drama_clip/839/clip.mp4\n",
      "\n"
     ]
    },
    {
     "name": "stderr",
     "output_type": "stream",
     "text": [
      "                                                            \r"
     ]
    },
    {
     "name": "stdout",
     "output_type": "stream",
     "text": [
      "Moviepy - Done !\n",
      "Moviepy - video ready C:/Users/naoki/anaconda_work/Faster-R-CNN-pytorch-main/data/ori_data/drama_clip/839/clip.mp4\n",
      "Moviepy - Building video C:/Users/naoki/anaconda_work/Faster-R-CNN-pytorch-main/data/ori_data/drama_clip/840/clip.mp4.\n",
      "Moviepy - Writing video C:/Users/naoki/anaconda_work/Faster-R-CNN-pytorch-main/data/ori_data/drama_clip/840/clip.mp4\n",
      "\n"
     ]
    },
    {
     "name": "stderr",
     "output_type": "stream",
     "text": [
      "                                                            \r"
     ]
    },
    {
     "name": "stdout",
     "output_type": "stream",
     "text": [
      "Moviepy - Done !\n",
      "Moviepy - video ready C:/Users/naoki/anaconda_work/Faster-R-CNN-pytorch-main/data/ori_data/drama_clip/840/clip.mp4\n",
      "Moviepy - Building video C:/Users/naoki/anaconda_work/Faster-R-CNN-pytorch-main/data/ori_data/drama_clip/841/clip.mp4.\n",
      "Moviepy - Writing video C:/Users/naoki/anaconda_work/Faster-R-CNN-pytorch-main/data/ori_data/drama_clip/841/clip.mp4\n",
      "\n"
     ]
    },
    {
     "name": "stderr",
     "output_type": "stream",
     "text": [
      "                                                            \r"
     ]
    },
    {
     "name": "stdout",
     "output_type": "stream",
     "text": [
      "Moviepy - Done !\n",
      "Moviepy - video ready C:/Users/naoki/anaconda_work/Faster-R-CNN-pytorch-main/data/ori_data/drama_clip/841/clip.mp4\n",
      "Moviepy - Building video C:/Users/naoki/anaconda_work/Faster-R-CNN-pytorch-main/data/ori_data/drama_clip/842/clip.mp4.\n",
      "Moviepy - Writing video C:/Users/naoki/anaconda_work/Faster-R-CNN-pytorch-main/data/ori_data/drama_clip/842/clip.mp4\n",
      "\n"
     ]
    },
    {
     "name": "stderr",
     "output_type": "stream",
     "text": [
      "                                                            \r"
     ]
    },
    {
     "name": "stdout",
     "output_type": "stream",
     "text": [
      "Moviepy - Done !\n",
      "Moviepy - video ready C:/Users/naoki/anaconda_work/Faster-R-CNN-pytorch-main/data/ori_data/drama_clip/842/clip.mp4\n",
      "Moviepy - Building video C:/Users/naoki/anaconda_work/Faster-R-CNN-pytorch-main/data/ori_data/drama_clip/843/clip.mp4.\n",
      "Moviepy - Writing video C:/Users/naoki/anaconda_work/Faster-R-CNN-pytorch-main/data/ori_data/drama_clip/843/clip.mp4\n",
      "\n"
     ]
    },
    {
     "name": "stderr",
     "output_type": "stream",
     "text": [
      "                                                            \r"
     ]
    },
    {
     "name": "stdout",
     "output_type": "stream",
     "text": [
      "Moviepy - Done !\n",
      "Moviepy - video ready C:/Users/naoki/anaconda_work/Faster-R-CNN-pytorch-main/data/ori_data/drama_clip/843/clip.mp4\n",
      "Moviepy - Building video C:/Users/naoki/anaconda_work/Faster-R-CNN-pytorch-main/data/ori_data/drama_clip/844/clip.mp4.\n",
      "Moviepy - Writing video C:/Users/naoki/anaconda_work/Faster-R-CNN-pytorch-main/data/ori_data/drama_clip/844/clip.mp4\n",
      "\n"
     ]
    },
    {
     "name": "stderr",
     "output_type": "stream",
     "text": [
      "                                                            \r"
     ]
    },
    {
     "name": "stdout",
     "output_type": "stream",
     "text": [
      "Moviepy - Done !\n",
      "Moviepy - video ready C:/Users/naoki/anaconda_work/Faster-R-CNN-pytorch-main/data/ori_data/drama_clip/844/clip.mp4\n",
      "Moviepy - Building video C:/Users/naoki/anaconda_work/Faster-R-CNN-pytorch-main/data/ori_data/drama_clip/845/clip.mp4.\n",
      "Moviepy - Writing video C:/Users/naoki/anaconda_work/Faster-R-CNN-pytorch-main/data/ori_data/drama_clip/845/clip.mp4\n",
      "\n"
     ]
    },
    {
     "name": "stderr",
     "output_type": "stream",
     "text": [
      "                                                            \r"
     ]
    },
    {
     "name": "stdout",
     "output_type": "stream",
     "text": [
      "Moviepy - Done !\n",
      "Moviepy - video ready C:/Users/naoki/anaconda_work/Faster-R-CNN-pytorch-main/data/ori_data/drama_clip/845/clip.mp4\n",
      "Moviepy - Building video C:/Users/naoki/anaconda_work/Faster-R-CNN-pytorch-main/data/ori_data/drama_clip/846/clip.mp4.\n",
      "Moviepy - Writing video C:/Users/naoki/anaconda_work/Faster-R-CNN-pytorch-main/data/ori_data/drama_clip/846/clip.mp4\n",
      "\n"
     ]
    },
    {
     "name": "stderr",
     "output_type": "stream",
     "text": [
      "                                                            \r"
     ]
    },
    {
     "name": "stdout",
     "output_type": "stream",
     "text": [
      "Moviepy - Done !\n",
      "Moviepy - video ready C:/Users/naoki/anaconda_work/Faster-R-CNN-pytorch-main/data/ori_data/drama_clip/846/clip.mp4\n",
      "Moviepy - Building video C:/Users/naoki/anaconda_work/Faster-R-CNN-pytorch-main/data/ori_data/drama_clip/847/clip.mp4.\n",
      "Moviepy - Writing video C:/Users/naoki/anaconda_work/Faster-R-CNN-pytorch-main/data/ori_data/drama_clip/847/clip.mp4\n",
      "\n"
     ]
    },
    {
     "name": "stderr",
     "output_type": "stream",
     "text": [
      "                                                            \r"
     ]
    },
    {
     "name": "stdout",
     "output_type": "stream",
     "text": [
      "Moviepy - Done !\n",
      "Moviepy - video ready C:/Users/naoki/anaconda_work/Faster-R-CNN-pytorch-main/data/ori_data/drama_clip/847/clip.mp4\n",
      "Moviepy - Building video C:/Users/naoki/anaconda_work/Faster-R-CNN-pytorch-main/data/ori_data/drama_clip/848/clip.mp4.\n",
      "Moviepy - Writing video C:/Users/naoki/anaconda_work/Faster-R-CNN-pytorch-main/data/ori_data/drama_clip/848/clip.mp4\n",
      "\n"
     ]
    },
    {
     "name": "stderr",
     "output_type": "stream",
     "text": [
      "                                                            \r"
     ]
    },
    {
     "name": "stdout",
     "output_type": "stream",
     "text": [
      "Moviepy - Done !\n",
      "Moviepy - video ready C:/Users/naoki/anaconda_work/Faster-R-CNN-pytorch-main/data/ori_data/drama_clip/848/clip.mp4\n",
      "Moviepy - Building video C:/Users/naoki/anaconda_work/Faster-R-CNN-pytorch-main/data/ori_data/drama_clip/849/clip.mp4.\n",
      "Moviepy - Writing video C:/Users/naoki/anaconda_work/Faster-R-CNN-pytorch-main/data/ori_data/drama_clip/849/clip.mp4\n",
      "\n"
     ]
    },
    {
     "name": "stderr",
     "output_type": "stream",
     "text": [
      "                                                            \r"
     ]
    },
    {
     "name": "stdout",
     "output_type": "stream",
     "text": [
      "Moviepy - Done !\n",
      "Moviepy - video ready C:/Users/naoki/anaconda_work/Faster-R-CNN-pytorch-main/data/ori_data/drama_clip/849/clip.mp4\n",
      "Moviepy - Building video C:/Users/naoki/anaconda_work/Faster-R-CNN-pytorch-main/data/ori_data/drama_clip/850/clip.mp4.\n",
      "Moviepy - Writing video C:/Users/naoki/anaconda_work/Faster-R-CNN-pytorch-main/data/ori_data/drama_clip/850/clip.mp4\n",
      "\n"
     ]
    },
    {
     "name": "stderr",
     "output_type": "stream",
     "text": [
      "                                                            \r"
     ]
    },
    {
     "name": "stdout",
     "output_type": "stream",
     "text": [
      "Moviepy - Done !\n",
      "Moviepy - video ready C:/Users/naoki/anaconda_work/Faster-R-CNN-pytorch-main/data/ori_data/drama_clip/850/clip.mp4\n",
      "Moviepy - Building video C:/Users/naoki/anaconda_work/Faster-R-CNN-pytorch-main/data/ori_data/drama_clip/851/clip.mp4.\n",
      "Moviepy - Writing video C:/Users/naoki/anaconda_work/Faster-R-CNN-pytorch-main/data/ori_data/drama_clip/851/clip.mp4\n",
      "\n"
     ]
    },
    {
     "name": "stderr",
     "output_type": "stream",
     "text": [
      "                                                            \r"
     ]
    },
    {
     "name": "stdout",
     "output_type": "stream",
     "text": [
      "Moviepy - Done !\n",
      "Moviepy - video ready C:/Users/naoki/anaconda_work/Faster-R-CNN-pytorch-main/data/ori_data/drama_clip/851/clip.mp4\n",
      "Moviepy - Building video C:/Users/naoki/anaconda_work/Faster-R-CNN-pytorch-main/data/ori_data/drama_clip/852/clip.mp4.\n",
      "Moviepy - Writing video C:/Users/naoki/anaconda_work/Faster-R-CNN-pytorch-main/data/ori_data/drama_clip/852/clip.mp4\n",
      "\n"
     ]
    },
    {
     "name": "stderr",
     "output_type": "stream",
     "text": [
      "                                                            \r"
     ]
    },
    {
     "name": "stdout",
     "output_type": "stream",
     "text": [
      "Moviepy - Done !\n",
      "Moviepy - video ready C:/Users/naoki/anaconda_work/Faster-R-CNN-pytorch-main/data/ori_data/drama_clip/852/clip.mp4\n",
      "Moviepy - Building video C:/Users/naoki/anaconda_work/Faster-R-CNN-pytorch-main/data/ori_data/drama_clip/853/clip.mp4.\n",
      "Moviepy - Writing video C:/Users/naoki/anaconda_work/Faster-R-CNN-pytorch-main/data/ori_data/drama_clip/853/clip.mp4\n",
      "\n"
     ]
    },
    {
     "name": "stderr",
     "output_type": "stream",
     "text": [
      "                                                            \r"
     ]
    },
    {
     "name": "stdout",
     "output_type": "stream",
     "text": [
      "Moviepy - Done !\n",
      "Moviepy - video ready C:/Users/naoki/anaconda_work/Faster-R-CNN-pytorch-main/data/ori_data/drama_clip/853/clip.mp4\n",
      "Moviepy - Building video C:/Users/naoki/anaconda_work/Faster-R-CNN-pytorch-main/data/ori_data/drama_clip/854/clip.mp4.\n",
      "Moviepy - Writing video C:/Users/naoki/anaconda_work/Faster-R-CNN-pytorch-main/data/ori_data/drama_clip/854/clip.mp4\n",
      "\n"
     ]
    },
    {
     "name": "stderr",
     "output_type": "stream",
     "text": [
      "                                                            \r"
     ]
    },
    {
     "name": "stdout",
     "output_type": "stream",
     "text": [
      "Moviepy - Done !\n",
      "Moviepy - video ready C:/Users/naoki/anaconda_work/Faster-R-CNN-pytorch-main/data/ori_data/drama_clip/854/clip.mp4\n",
      "Moviepy - Building video C:/Users/naoki/anaconda_work/Faster-R-CNN-pytorch-main/data/ori_data/drama_clip/855/clip.mp4.\n",
      "Moviepy - Writing video C:/Users/naoki/anaconda_work/Faster-R-CNN-pytorch-main/data/ori_data/drama_clip/855/clip.mp4\n",
      "\n"
     ]
    },
    {
     "name": "stderr",
     "output_type": "stream",
     "text": [
      "                                                            \r"
     ]
    },
    {
     "name": "stdout",
     "output_type": "stream",
     "text": [
      "Moviepy - Done !\n",
      "Moviepy - video ready C:/Users/naoki/anaconda_work/Faster-R-CNN-pytorch-main/data/ori_data/drama_clip/855/clip.mp4\n",
      "Moviepy - Building video C:/Users/naoki/anaconda_work/Faster-R-CNN-pytorch-main/data/ori_data/drama_clip/856/clip.mp4.\n",
      "Moviepy - Writing video C:/Users/naoki/anaconda_work/Faster-R-CNN-pytorch-main/data/ori_data/drama_clip/856/clip.mp4\n",
      "\n"
     ]
    },
    {
     "name": "stderr",
     "output_type": "stream",
     "text": [
      "                                                            \r"
     ]
    },
    {
     "name": "stdout",
     "output_type": "stream",
     "text": [
      "Moviepy - Done !\n",
      "Moviepy - video ready C:/Users/naoki/anaconda_work/Faster-R-CNN-pytorch-main/data/ori_data/drama_clip/856/clip.mp4\n",
      "Moviepy - Building video C:/Users/naoki/anaconda_work/Faster-R-CNN-pytorch-main/data/ori_data/drama_clip/857/clip.mp4.\n",
      "Moviepy - Writing video C:/Users/naoki/anaconda_work/Faster-R-CNN-pytorch-main/data/ori_data/drama_clip/857/clip.mp4\n",
      "\n"
     ]
    },
    {
     "name": "stderr",
     "output_type": "stream",
     "text": [
      "                                                            \r"
     ]
    },
    {
     "name": "stdout",
     "output_type": "stream",
     "text": [
      "Moviepy - Done !\n",
      "Moviepy - video ready C:/Users/naoki/anaconda_work/Faster-R-CNN-pytorch-main/data/ori_data/drama_clip/857/clip.mp4\n",
      "Moviepy - Building video C:/Users/naoki/anaconda_work/Faster-R-CNN-pytorch-main/data/ori_data/drama_clip/858/clip.mp4.\n",
      "Moviepy - Writing video C:/Users/naoki/anaconda_work/Faster-R-CNN-pytorch-main/data/ori_data/drama_clip/858/clip.mp4\n",
      "\n"
     ]
    },
    {
     "name": "stderr",
     "output_type": "stream",
     "text": [
      "                                                            \r"
     ]
    },
    {
     "name": "stdout",
     "output_type": "stream",
     "text": [
      "Moviepy - Done !\n",
      "Moviepy - video ready C:/Users/naoki/anaconda_work/Faster-R-CNN-pytorch-main/data/ori_data/drama_clip/858/clip.mp4\n",
      "Moviepy - Building video C:/Users/naoki/anaconda_work/Faster-R-CNN-pytorch-main/data/ori_data/drama_clip/859/clip.mp4.\n",
      "Moviepy - Writing video C:/Users/naoki/anaconda_work/Faster-R-CNN-pytorch-main/data/ori_data/drama_clip/859/clip.mp4\n",
      "\n"
     ]
    },
    {
     "name": "stderr",
     "output_type": "stream",
     "text": [
      "                                                            \r"
     ]
    },
    {
     "name": "stdout",
     "output_type": "stream",
     "text": [
      "Moviepy - Done !\n",
      "Moviepy - video ready C:/Users/naoki/anaconda_work/Faster-R-CNN-pytorch-main/data/ori_data/drama_clip/859/clip.mp4\n",
      "Moviepy - Building video C:/Users/naoki/anaconda_work/Faster-R-CNN-pytorch-main/data/ori_data/drama_clip/860/clip.mp4.\n",
      "Moviepy - Writing video C:/Users/naoki/anaconda_work/Faster-R-CNN-pytorch-main/data/ori_data/drama_clip/860/clip.mp4\n",
      "\n"
     ]
    },
    {
     "name": "stderr",
     "output_type": "stream",
     "text": [
      "                                                            \r"
     ]
    },
    {
     "name": "stdout",
     "output_type": "stream",
     "text": [
      "Moviepy - Done !\n",
      "Moviepy - video ready C:/Users/naoki/anaconda_work/Faster-R-CNN-pytorch-main/data/ori_data/drama_clip/860/clip.mp4\n",
      "Moviepy - Building video C:/Users/naoki/anaconda_work/Faster-R-CNN-pytorch-main/data/ori_data/drama_clip/861/clip.mp4.\n",
      "Moviepy - Writing video C:/Users/naoki/anaconda_work/Faster-R-CNN-pytorch-main/data/ori_data/drama_clip/861/clip.mp4\n",
      "\n"
     ]
    },
    {
     "name": "stderr",
     "output_type": "stream",
     "text": [
      "                                                            \r"
     ]
    },
    {
     "name": "stdout",
     "output_type": "stream",
     "text": [
      "Moviepy - Done !\n",
      "Moviepy - video ready C:/Users/naoki/anaconda_work/Faster-R-CNN-pytorch-main/data/ori_data/drama_clip/861/clip.mp4\n",
      "Moviepy - Building video C:/Users/naoki/anaconda_work/Faster-R-CNN-pytorch-main/data/ori_data/drama_clip/862/clip.mp4.\n",
      "Moviepy - Writing video C:/Users/naoki/anaconda_work/Faster-R-CNN-pytorch-main/data/ori_data/drama_clip/862/clip.mp4\n",
      "\n"
     ]
    },
    {
     "name": "stderr",
     "output_type": "stream",
     "text": [
      "                                                            \r"
     ]
    },
    {
     "name": "stdout",
     "output_type": "stream",
     "text": [
      "Moviepy - Done !\n",
      "Moviepy - video ready C:/Users/naoki/anaconda_work/Faster-R-CNN-pytorch-main/data/ori_data/drama_clip/862/clip.mp4\n",
      "Moviepy - Building video C:/Users/naoki/anaconda_work/Faster-R-CNN-pytorch-main/data/ori_data/drama_clip/863/clip.mp4.\n",
      "Moviepy - Writing video C:/Users/naoki/anaconda_work/Faster-R-CNN-pytorch-main/data/ori_data/drama_clip/863/clip.mp4\n",
      "\n"
     ]
    },
    {
     "name": "stderr",
     "output_type": "stream",
     "text": [
      "                                                            \r"
     ]
    },
    {
     "name": "stdout",
     "output_type": "stream",
     "text": [
      "Moviepy - Done !\n",
      "Moviepy - video ready C:/Users/naoki/anaconda_work/Faster-R-CNN-pytorch-main/data/ori_data/drama_clip/863/clip.mp4\n",
      "Moviepy - Building video C:/Users/naoki/anaconda_work/Faster-R-CNN-pytorch-main/data/ori_data/drama_clip/864/clip.mp4.\n",
      "Moviepy - Writing video C:/Users/naoki/anaconda_work/Faster-R-CNN-pytorch-main/data/ori_data/drama_clip/864/clip.mp4\n",
      "\n"
     ]
    },
    {
     "name": "stderr",
     "output_type": "stream",
     "text": [
      "                                                            \r"
     ]
    },
    {
     "name": "stdout",
     "output_type": "stream",
     "text": [
      "Moviepy - Done !\n",
      "Moviepy - video ready C:/Users/naoki/anaconda_work/Faster-R-CNN-pytorch-main/data/ori_data/drama_clip/864/clip.mp4\n",
      "Moviepy - Building video C:/Users/naoki/anaconda_work/Faster-R-CNN-pytorch-main/data/ori_data/drama_clip/865/clip.mp4.\n",
      "Moviepy - Writing video C:/Users/naoki/anaconda_work/Faster-R-CNN-pytorch-main/data/ori_data/drama_clip/865/clip.mp4\n",
      "\n"
     ]
    },
    {
     "name": "stderr",
     "output_type": "stream",
     "text": [
      "                                                            \r"
     ]
    },
    {
     "name": "stdout",
     "output_type": "stream",
     "text": [
      "Moviepy - Done !\n",
      "Moviepy - video ready C:/Users/naoki/anaconda_work/Faster-R-CNN-pytorch-main/data/ori_data/drama_clip/865/clip.mp4\n",
      "Moviepy - Building video C:/Users/naoki/anaconda_work/Faster-R-CNN-pytorch-main/data/ori_data/drama_clip/866/clip.mp4.\n",
      "Moviepy - Writing video C:/Users/naoki/anaconda_work/Faster-R-CNN-pytorch-main/data/ori_data/drama_clip/866/clip.mp4\n",
      "\n"
     ]
    },
    {
     "name": "stderr",
     "output_type": "stream",
     "text": [
      "                                                            \r"
     ]
    },
    {
     "name": "stdout",
     "output_type": "stream",
     "text": [
      "Moviepy - Done !\n",
      "Moviepy - video ready C:/Users/naoki/anaconda_work/Faster-R-CNN-pytorch-main/data/ori_data/drama_clip/866/clip.mp4\n",
      "Moviepy - Building video C:/Users/naoki/anaconda_work/Faster-R-CNN-pytorch-main/data/ori_data/drama_clip/867/clip.mp4.\n",
      "Moviepy - Writing video C:/Users/naoki/anaconda_work/Faster-R-CNN-pytorch-main/data/ori_data/drama_clip/867/clip.mp4\n",
      "\n"
     ]
    },
    {
     "name": "stderr",
     "output_type": "stream",
     "text": [
      "                                                            \r"
     ]
    },
    {
     "name": "stdout",
     "output_type": "stream",
     "text": [
      "Moviepy - Done !\n",
      "Moviepy - video ready C:/Users/naoki/anaconda_work/Faster-R-CNN-pytorch-main/data/ori_data/drama_clip/867/clip.mp4\n",
      "Moviepy - Building video C:/Users/naoki/anaconda_work/Faster-R-CNN-pytorch-main/data/ori_data/drama_clip/868/clip.mp4.\n",
      "Moviepy - Writing video C:/Users/naoki/anaconda_work/Faster-R-CNN-pytorch-main/data/ori_data/drama_clip/868/clip.mp4\n",
      "\n"
     ]
    },
    {
     "name": "stderr",
     "output_type": "stream",
     "text": [
      "                                                            \r"
     ]
    },
    {
     "name": "stdout",
     "output_type": "stream",
     "text": [
      "Moviepy - Done !\n",
      "Moviepy - video ready C:/Users/naoki/anaconda_work/Faster-R-CNN-pytorch-main/data/ori_data/drama_clip/868/clip.mp4\n",
      "Moviepy - Building video C:/Users/naoki/anaconda_work/Faster-R-CNN-pytorch-main/data/ori_data/drama_clip/869/clip.mp4.\n",
      "Moviepy - Writing video C:/Users/naoki/anaconda_work/Faster-R-CNN-pytorch-main/data/ori_data/drama_clip/869/clip.mp4\n",
      "\n"
     ]
    },
    {
     "name": "stderr",
     "output_type": "stream",
     "text": [
      "                                                            \r"
     ]
    },
    {
     "name": "stdout",
     "output_type": "stream",
     "text": [
      "Moviepy - Done !\n",
      "Moviepy - video ready C:/Users/naoki/anaconda_work/Faster-R-CNN-pytorch-main/data/ori_data/drama_clip/869/clip.mp4\n",
      "Moviepy - Building video C:/Users/naoki/anaconda_work/Faster-R-CNN-pytorch-main/data/ori_data/drama_clip/870/clip.mp4.\n",
      "Moviepy - Writing video C:/Users/naoki/anaconda_work/Faster-R-CNN-pytorch-main/data/ori_data/drama_clip/870/clip.mp4\n",
      "\n"
     ]
    },
    {
     "name": "stderr",
     "output_type": "stream",
     "text": [
      "                                                            \r"
     ]
    },
    {
     "name": "stdout",
     "output_type": "stream",
     "text": [
      "Moviepy - Done !\n",
      "Moviepy - video ready C:/Users/naoki/anaconda_work/Faster-R-CNN-pytorch-main/data/ori_data/drama_clip/870/clip.mp4\n",
      "Moviepy - Building video C:/Users/naoki/anaconda_work/Faster-R-CNN-pytorch-main/data/ori_data/drama_clip/871/clip.mp4.\n",
      "Moviepy - Writing video C:/Users/naoki/anaconda_work/Faster-R-CNN-pytorch-main/data/ori_data/drama_clip/871/clip.mp4\n",
      "\n"
     ]
    },
    {
     "name": "stderr",
     "output_type": "stream",
     "text": [
      "                                                            \r"
     ]
    },
    {
     "name": "stdout",
     "output_type": "stream",
     "text": [
      "Moviepy - Done !\n",
      "Moviepy - video ready C:/Users/naoki/anaconda_work/Faster-R-CNN-pytorch-main/data/ori_data/drama_clip/871/clip.mp4\n",
      "Moviepy - Building video C:/Users/naoki/anaconda_work/Faster-R-CNN-pytorch-main/data/ori_data/drama_clip/872/clip.mp4.\n",
      "Moviepy - Writing video C:/Users/naoki/anaconda_work/Faster-R-CNN-pytorch-main/data/ori_data/drama_clip/872/clip.mp4\n",
      "\n"
     ]
    },
    {
     "name": "stderr",
     "output_type": "stream",
     "text": [
      "                                                            \r"
     ]
    },
    {
     "name": "stdout",
     "output_type": "stream",
     "text": [
      "Moviepy - Done !\n",
      "Moviepy - video ready C:/Users/naoki/anaconda_work/Faster-R-CNN-pytorch-main/data/ori_data/drama_clip/872/clip.mp4\n",
      "Moviepy - Building video C:/Users/naoki/anaconda_work/Faster-R-CNN-pytorch-main/data/ori_data/drama_clip/873/clip.mp4.\n",
      "Moviepy - Writing video C:/Users/naoki/anaconda_work/Faster-R-CNN-pytorch-main/data/ori_data/drama_clip/873/clip.mp4\n",
      "\n"
     ]
    },
    {
     "name": "stderr",
     "output_type": "stream",
     "text": [
      "                                                            \r"
     ]
    },
    {
     "name": "stdout",
     "output_type": "stream",
     "text": [
      "Moviepy - Done !\n",
      "Moviepy - video ready C:/Users/naoki/anaconda_work/Faster-R-CNN-pytorch-main/data/ori_data/drama_clip/873/clip.mp4\n",
      "Moviepy - Building video C:/Users/naoki/anaconda_work/Faster-R-CNN-pytorch-main/data/ori_data/drama_clip/874/clip.mp4.\n",
      "Moviepy - Writing video C:/Users/naoki/anaconda_work/Faster-R-CNN-pytorch-main/data/ori_data/drama_clip/874/clip.mp4\n",
      "\n"
     ]
    },
    {
     "name": "stderr",
     "output_type": "stream",
     "text": [
      "                                                            \r"
     ]
    },
    {
     "name": "stdout",
     "output_type": "stream",
     "text": [
      "Moviepy - Done !\n",
      "Moviepy - video ready C:/Users/naoki/anaconda_work/Faster-R-CNN-pytorch-main/data/ori_data/drama_clip/874/clip.mp4\n",
      "Moviepy - Building video C:/Users/naoki/anaconda_work/Faster-R-CNN-pytorch-main/data/ori_data/drama_clip/875/clip.mp4.\n",
      "Moviepy - Writing video C:/Users/naoki/anaconda_work/Faster-R-CNN-pytorch-main/data/ori_data/drama_clip/875/clip.mp4\n",
      "\n"
     ]
    },
    {
     "name": "stderr",
     "output_type": "stream",
     "text": [
      "                                                            \r"
     ]
    },
    {
     "name": "stdout",
     "output_type": "stream",
     "text": [
      "Moviepy - Done !\n",
      "Moviepy - video ready C:/Users/naoki/anaconda_work/Faster-R-CNN-pytorch-main/data/ori_data/drama_clip/875/clip.mp4\n",
      "Moviepy - Building video C:/Users/naoki/anaconda_work/Faster-R-CNN-pytorch-main/data/ori_data/drama_clip/876/clip.mp4.\n",
      "Moviepy - Writing video C:/Users/naoki/anaconda_work/Faster-R-CNN-pytorch-main/data/ori_data/drama_clip/876/clip.mp4\n",
      "\n"
     ]
    },
    {
     "name": "stderr",
     "output_type": "stream",
     "text": [
      "                                                            \r"
     ]
    },
    {
     "name": "stdout",
     "output_type": "stream",
     "text": [
      "Moviepy - Done !\n",
      "Moviepy - video ready C:/Users/naoki/anaconda_work/Faster-R-CNN-pytorch-main/data/ori_data/drama_clip/876/clip.mp4\n",
      "Moviepy - Building video C:/Users/naoki/anaconda_work/Faster-R-CNN-pytorch-main/data/ori_data/drama_clip/877/clip.mp4.\n",
      "Moviepy - Writing video C:/Users/naoki/anaconda_work/Faster-R-CNN-pytorch-main/data/ori_data/drama_clip/877/clip.mp4\n",
      "\n"
     ]
    },
    {
     "name": "stderr",
     "output_type": "stream",
     "text": [
      "                                                            \r"
     ]
    },
    {
     "name": "stdout",
     "output_type": "stream",
     "text": [
      "Moviepy - Done !\n",
      "Moviepy - video ready C:/Users/naoki/anaconda_work/Faster-R-CNN-pytorch-main/data/ori_data/drama_clip/877/clip.mp4\n",
      "Moviepy - Building video C:/Users/naoki/anaconda_work/Faster-R-CNN-pytorch-main/data/ori_data/drama_clip/878/clip.mp4.\n",
      "Moviepy - Writing video C:/Users/naoki/anaconda_work/Faster-R-CNN-pytorch-main/data/ori_data/drama_clip/878/clip.mp4\n",
      "\n"
     ]
    },
    {
     "name": "stderr",
     "output_type": "stream",
     "text": [
      "                                                            \r"
     ]
    },
    {
     "name": "stdout",
     "output_type": "stream",
     "text": [
      "Moviepy - Done !\n",
      "Moviepy - video ready C:/Users/naoki/anaconda_work/Faster-R-CNN-pytorch-main/data/ori_data/drama_clip/878/clip.mp4\n",
      "Moviepy - Building video C:/Users/naoki/anaconda_work/Faster-R-CNN-pytorch-main/data/ori_data/drama_clip/879/clip.mp4.\n",
      "Moviepy - Writing video C:/Users/naoki/anaconda_work/Faster-R-CNN-pytorch-main/data/ori_data/drama_clip/879/clip.mp4\n",
      "\n"
     ]
    },
    {
     "name": "stderr",
     "output_type": "stream",
     "text": [
      "                                                            \r"
     ]
    },
    {
     "name": "stdout",
     "output_type": "stream",
     "text": [
      "Moviepy - Done !\n",
      "Moviepy - video ready C:/Users/naoki/anaconda_work/Faster-R-CNN-pytorch-main/data/ori_data/drama_clip/879/clip.mp4\n",
      "Moviepy - Building video C:/Users/naoki/anaconda_work/Faster-R-CNN-pytorch-main/data/ori_data/drama_clip/880/clip.mp4.\n",
      "Moviepy - Writing video C:/Users/naoki/anaconda_work/Faster-R-CNN-pytorch-main/data/ori_data/drama_clip/880/clip.mp4\n",
      "\n"
     ]
    },
    {
     "name": "stderr",
     "output_type": "stream",
     "text": [
      "                                                            \r"
     ]
    },
    {
     "name": "stdout",
     "output_type": "stream",
     "text": [
      "Moviepy - Done !\n",
      "Moviepy - video ready C:/Users/naoki/anaconda_work/Faster-R-CNN-pytorch-main/data/ori_data/drama_clip/880/clip.mp4\n",
      "Moviepy - Building video C:/Users/naoki/anaconda_work/Faster-R-CNN-pytorch-main/data/ori_data/drama_clip/881/clip.mp4.\n",
      "Moviepy - Writing video C:/Users/naoki/anaconda_work/Faster-R-CNN-pytorch-main/data/ori_data/drama_clip/881/clip.mp4\n",
      "\n"
     ]
    },
    {
     "name": "stderr",
     "output_type": "stream",
     "text": [
      "                                                            \r"
     ]
    },
    {
     "name": "stdout",
     "output_type": "stream",
     "text": [
      "Moviepy - Done !\n",
      "Moviepy - video ready C:/Users/naoki/anaconda_work/Faster-R-CNN-pytorch-main/data/ori_data/drama_clip/881/clip.mp4\n",
      "Moviepy - Building video C:/Users/naoki/anaconda_work/Faster-R-CNN-pytorch-main/data/ori_data/drama_clip/882/clip.mp4.\n",
      "Moviepy - Writing video C:/Users/naoki/anaconda_work/Faster-R-CNN-pytorch-main/data/ori_data/drama_clip/882/clip.mp4\n",
      "\n"
     ]
    },
    {
     "name": "stderr",
     "output_type": "stream",
     "text": [
      "                                                            \r"
     ]
    },
    {
     "name": "stdout",
     "output_type": "stream",
     "text": [
      "Moviepy - Done !\n",
      "Moviepy - video ready C:/Users/naoki/anaconda_work/Faster-R-CNN-pytorch-main/data/ori_data/drama_clip/882/clip.mp4\n",
      "Moviepy - Building video C:/Users/naoki/anaconda_work/Faster-R-CNN-pytorch-main/data/ori_data/drama_clip/883/clip.mp4.\n",
      "Moviepy - Writing video C:/Users/naoki/anaconda_work/Faster-R-CNN-pytorch-main/data/ori_data/drama_clip/883/clip.mp4\n",
      "\n"
     ]
    },
    {
     "name": "stderr",
     "output_type": "stream",
     "text": [
      "                                                            \r"
     ]
    },
    {
     "name": "stdout",
     "output_type": "stream",
     "text": [
      "Moviepy - Done !\n",
      "Moviepy - video ready C:/Users/naoki/anaconda_work/Faster-R-CNN-pytorch-main/data/ori_data/drama_clip/883/clip.mp4\n",
      "Moviepy - Building video C:/Users/naoki/anaconda_work/Faster-R-CNN-pytorch-main/data/ori_data/drama_clip/884/clip.mp4.\n",
      "Moviepy - Writing video C:/Users/naoki/anaconda_work/Faster-R-CNN-pytorch-main/data/ori_data/drama_clip/884/clip.mp4\n",
      "\n"
     ]
    },
    {
     "name": "stderr",
     "output_type": "stream",
     "text": [
      "                                                            \r"
     ]
    },
    {
     "name": "stdout",
     "output_type": "stream",
     "text": [
      "Moviepy - Done !\n",
      "Moviepy - video ready C:/Users/naoki/anaconda_work/Faster-R-CNN-pytorch-main/data/ori_data/drama_clip/884/clip.mp4\n",
      "Moviepy - Building video C:/Users/naoki/anaconda_work/Faster-R-CNN-pytorch-main/data/ori_data/drama_clip/885/clip.mp4.\n",
      "Moviepy - Writing video C:/Users/naoki/anaconda_work/Faster-R-CNN-pytorch-main/data/ori_data/drama_clip/885/clip.mp4\n",
      "\n"
     ]
    },
    {
     "name": "stderr",
     "output_type": "stream",
     "text": [
      "                                                            \r"
     ]
    },
    {
     "name": "stdout",
     "output_type": "stream",
     "text": [
      "Moviepy - Done !\n",
      "Moviepy - video ready C:/Users/naoki/anaconda_work/Faster-R-CNN-pytorch-main/data/ori_data/drama_clip/885/clip.mp4\n",
      "Moviepy - Building video C:/Users/naoki/anaconda_work/Faster-R-CNN-pytorch-main/data/ori_data/drama_clip/886/clip.mp4.\n",
      "Moviepy - Writing video C:/Users/naoki/anaconda_work/Faster-R-CNN-pytorch-main/data/ori_data/drama_clip/886/clip.mp4\n",
      "\n"
     ]
    },
    {
     "name": "stderr",
     "output_type": "stream",
     "text": [
      "                                                            \r"
     ]
    },
    {
     "name": "stdout",
     "output_type": "stream",
     "text": [
      "Moviepy - Done !\n",
      "Moviepy - video ready C:/Users/naoki/anaconda_work/Faster-R-CNN-pytorch-main/data/ori_data/drama_clip/886/clip.mp4\n",
      "Moviepy - Building video C:/Users/naoki/anaconda_work/Faster-R-CNN-pytorch-main/data/ori_data/drama_clip/887/clip.mp4.\n",
      "Moviepy - Writing video C:/Users/naoki/anaconda_work/Faster-R-CNN-pytorch-main/data/ori_data/drama_clip/887/clip.mp4\n",
      "\n"
     ]
    },
    {
     "name": "stderr",
     "output_type": "stream",
     "text": [
      "                                                            \r"
     ]
    },
    {
     "name": "stdout",
     "output_type": "stream",
     "text": [
      "Moviepy - Done !\n",
      "Moviepy - video ready C:/Users/naoki/anaconda_work/Faster-R-CNN-pytorch-main/data/ori_data/drama_clip/887/clip.mp4\n",
      "Moviepy - Building video C:/Users/naoki/anaconda_work/Faster-R-CNN-pytorch-main/data/ori_data/drama_clip/888/clip.mp4.\n",
      "Moviepy - Writing video C:/Users/naoki/anaconda_work/Faster-R-CNN-pytorch-main/data/ori_data/drama_clip/888/clip.mp4\n",
      "\n"
     ]
    },
    {
     "name": "stderr",
     "output_type": "stream",
     "text": [
      "                                                            \r"
     ]
    },
    {
     "name": "stdout",
     "output_type": "stream",
     "text": [
      "Moviepy - Done !\n",
      "Moviepy - video ready C:/Users/naoki/anaconda_work/Faster-R-CNN-pytorch-main/data/ori_data/drama_clip/888/clip.mp4\n",
      "Moviepy - Building video C:/Users/naoki/anaconda_work/Faster-R-CNN-pytorch-main/data/ori_data/drama_clip/889/clip.mp4.\n",
      "Moviepy - Writing video C:/Users/naoki/anaconda_work/Faster-R-CNN-pytorch-main/data/ori_data/drama_clip/889/clip.mp4\n",
      "\n"
     ]
    },
    {
     "name": "stderr",
     "output_type": "stream",
     "text": [
      "                                                            \r"
     ]
    },
    {
     "name": "stdout",
     "output_type": "stream",
     "text": [
      "Moviepy - Done !\n",
      "Moviepy - video ready C:/Users/naoki/anaconda_work/Faster-R-CNN-pytorch-main/data/ori_data/drama_clip/889/clip.mp4\n",
      "Moviepy - Building video C:/Users/naoki/anaconda_work/Faster-R-CNN-pytorch-main/data/ori_data/drama_clip/890/clip.mp4.\n",
      "Moviepy - Writing video C:/Users/naoki/anaconda_work/Faster-R-CNN-pytorch-main/data/ori_data/drama_clip/890/clip.mp4\n",
      "\n"
     ]
    },
    {
     "name": "stderr",
     "output_type": "stream",
     "text": [
      "                                                            \r"
     ]
    },
    {
     "name": "stdout",
     "output_type": "stream",
     "text": [
      "Moviepy - Done !\n",
      "Moviepy - video ready C:/Users/naoki/anaconda_work/Faster-R-CNN-pytorch-main/data/ori_data/drama_clip/890/clip.mp4\n",
      "Moviepy - Building video C:/Users/naoki/anaconda_work/Faster-R-CNN-pytorch-main/data/ori_data/drama_clip/891/clip.mp4.\n",
      "Moviepy - Writing video C:/Users/naoki/anaconda_work/Faster-R-CNN-pytorch-main/data/ori_data/drama_clip/891/clip.mp4\n",
      "\n"
     ]
    },
    {
     "name": "stderr",
     "output_type": "stream",
     "text": [
      "                                                            \r"
     ]
    },
    {
     "name": "stdout",
     "output_type": "stream",
     "text": [
      "Moviepy - Done !\n",
      "Moviepy - video ready C:/Users/naoki/anaconda_work/Faster-R-CNN-pytorch-main/data/ori_data/drama_clip/891/clip.mp4\n",
      "Moviepy - Building video C:/Users/naoki/anaconda_work/Faster-R-CNN-pytorch-main/data/ori_data/drama_clip/892/clip.mp4.\n",
      "Moviepy - Writing video C:/Users/naoki/anaconda_work/Faster-R-CNN-pytorch-main/data/ori_data/drama_clip/892/clip.mp4\n",
      "\n"
     ]
    },
    {
     "name": "stderr",
     "output_type": "stream",
     "text": [
      "                                                            \r"
     ]
    },
    {
     "name": "stdout",
     "output_type": "stream",
     "text": [
      "Moviepy - Done !\n",
      "Moviepy - video ready C:/Users/naoki/anaconda_work/Faster-R-CNN-pytorch-main/data/ori_data/drama_clip/892/clip.mp4\n",
      "Moviepy - Building video C:/Users/naoki/anaconda_work/Faster-R-CNN-pytorch-main/data/ori_data/drama_clip/893/clip.mp4.\n",
      "Moviepy - Writing video C:/Users/naoki/anaconda_work/Faster-R-CNN-pytorch-main/data/ori_data/drama_clip/893/clip.mp4\n",
      "\n"
     ]
    },
    {
     "name": "stderr",
     "output_type": "stream",
     "text": [
      "                                                            \r"
     ]
    },
    {
     "name": "stdout",
     "output_type": "stream",
     "text": [
      "Moviepy - Done !\n",
      "Moviepy - video ready C:/Users/naoki/anaconda_work/Faster-R-CNN-pytorch-main/data/ori_data/drama_clip/893/clip.mp4\n",
      "Moviepy - Building video C:/Users/naoki/anaconda_work/Faster-R-CNN-pytorch-main/data/ori_data/drama_clip/894/clip.mp4.\n",
      "Moviepy - Writing video C:/Users/naoki/anaconda_work/Faster-R-CNN-pytorch-main/data/ori_data/drama_clip/894/clip.mp4\n",
      "\n"
     ]
    },
    {
     "name": "stderr",
     "output_type": "stream",
     "text": [
      "                                                            \r"
     ]
    },
    {
     "name": "stdout",
     "output_type": "stream",
     "text": [
      "Moviepy - Done !\n",
      "Moviepy - video ready C:/Users/naoki/anaconda_work/Faster-R-CNN-pytorch-main/data/ori_data/drama_clip/894/clip.mp4\n",
      "Moviepy - Building video C:/Users/naoki/anaconda_work/Faster-R-CNN-pytorch-main/data/ori_data/drama_clip/895/clip.mp4.\n",
      "Moviepy - Writing video C:/Users/naoki/anaconda_work/Faster-R-CNN-pytorch-main/data/ori_data/drama_clip/895/clip.mp4\n",
      "\n"
     ]
    },
    {
     "name": "stderr",
     "output_type": "stream",
     "text": [
      "                                                            \r"
     ]
    },
    {
     "name": "stdout",
     "output_type": "stream",
     "text": [
      "Moviepy - Done !\n",
      "Moviepy - video ready C:/Users/naoki/anaconda_work/Faster-R-CNN-pytorch-main/data/ori_data/drama_clip/895/clip.mp4\n",
      "Moviepy - Building video C:/Users/naoki/anaconda_work/Faster-R-CNN-pytorch-main/data/ori_data/drama_clip/896/clip.mp4.\n",
      "Moviepy - Writing video C:/Users/naoki/anaconda_work/Faster-R-CNN-pytorch-main/data/ori_data/drama_clip/896/clip.mp4\n",
      "\n"
     ]
    },
    {
     "name": "stderr",
     "output_type": "stream",
     "text": [
      "                                                            \r"
     ]
    },
    {
     "name": "stdout",
     "output_type": "stream",
     "text": [
      "Moviepy - Done !\n",
      "Moviepy - video ready C:/Users/naoki/anaconda_work/Faster-R-CNN-pytorch-main/data/ori_data/drama_clip/896/clip.mp4\n",
      "Moviepy - Building video C:/Users/naoki/anaconda_work/Faster-R-CNN-pytorch-main/data/ori_data/drama_clip/897/clip.mp4.\n",
      "Moviepy - Writing video C:/Users/naoki/anaconda_work/Faster-R-CNN-pytorch-main/data/ori_data/drama_clip/897/clip.mp4\n",
      "\n"
     ]
    },
    {
     "name": "stderr",
     "output_type": "stream",
     "text": [
      "                                                            \r"
     ]
    },
    {
     "name": "stdout",
     "output_type": "stream",
     "text": [
      "Moviepy - Done !\n",
      "Moviepy - video ready C:/Users/naoki/anaconda_work/Faster-R-CNN-pytorch-main/data/ori_data/drama_clip/897/clip.mp4\n",
      "Moviepy - Building video C:/Users/naoki/anaconda_work/Faster-R-CNN-pytorch-main/data/ori_data/drama_clip/898/clip.mp4.\n",
      "Moviepy - Writing video C:/Users/naoki/anaconda_work/Faster-R-CNN-pytorch-main/data/ori_data/drama_clip/898/clip.mp4\n",
      "\n"
     ]
    },
    {
     "name": "stderr",
     "output_type": "stream",
     "text": [
      "                                                            \r"
     ]
    },
    {
     "name": "stdout",
     "output_type": "stream",
     "text": [
      "Moviepy - Done !\n",
      "Moviepy - video ready C:/Users/naoki/anaconda_work/Faster-R-CNN-pytorch-main/data/ori_data/drama_clip/898/clip.mp4\n",
      "Moviepy - Building video C:/Users/naoki/anaconda_work/Faster-R-CNN-pytorch-main/data/ori_data/drama_clip/899/clip.mp4.\n",
      "Moviepy - Writing video C:/Users/naoki/anaconda_work/Faster-R-CNN-pytorch-main/data/ori_data/drama_clip/899/clip.mp4\n",
      "\n"
     ]
    },
    {
     "name": "stderr",
     "output_type": "stream",
     "text": [
      "                                                            \r"
     ]
    },
    {
     "name": "stdout",
     "output_type": "stream",
     "text": [
      "Moviepy - Done !\n",
      "Moviepy - video ready C:/Users/naoki/anaconda_work/Faster-R-CNN-pytorch-main/data/ori_data/drama_clip/899/clip.mp4\n",
      "Moviepy - Building video C:/Users/naoki/anaconda_work/Faster-R-CNN-pytorch-main/data/ori_data/drama_clip/900/clip.mp4.\n",
      "Moviepy - Writing video C:/Users/naoki/anaconda_work/Faster-R-CNN-pytorch-main/data/ori_data/drama_clip/900/clip.mp4\n",
      "\n"
     ]
    },
    {
     "name": "stderr",
     "output_type": "stream",
     "text": [
      "                                                            \r"
     ]
    },
    {
     "name": "stdout",
     "output_type": "stream",
     "text": [
      "Moviepy - Done !\n",
      "Moviepy - video ready C:/Users/naoki/anaconda_work/Faster-R-CNN-pytorch-main/data/ori_data/drama_clip/900/clip.mp4\n",
      "Moviepy - Building video C:/Users/naoki/anaconda_work/Faster-R-CNN-pytorch-main/data/ori_data/drama_clip/901/clip.mp4.\n",
      "Moviepy - Writing video C:/Users/naoki/anaconda_work/Faster-R-CNN-pytorch-main/data/ori_data/drama_clip/901/clip.mp4\n",
      "\n"
     ]
    },
    {
     "name": "stderr",
     "output_type": "stream",
     "text": [
      "                                                            \r"
     ]
    },
    {
     "name": "stdout",
     "output_type": "stream",
     "text": [
      "Moviepy - Done !\n",
      "Moviepy - video ready C:/Users/naoki/anaconda_work/Faster-R-CNN-pytorch-main/data/ori_data/drama_clip/901/clip.mp4\n",
      "Moviepy - Building video C:/Users/naoki/anaconda_work/Faster-R-CNN-pytorch-main/data/ori_data/drama_clip/902/clip.mp4.\n",
      "Moviepy - Writing video C:/Users/naoki/anaconda_work/Faster-R-CNN-pytorch-main/data/ori_data/drama_clip/902/clip.mp4\n",
      "\n"
     ]
    },
    {
     "name": "stderr",
     "output_type": "stream",
     "text": [
      "                                                            \r"
     ]
    },
    {
     "name": "stdout",
     "output_type": "stream",
     "text": [
      "Moviepy - Done !\n",
      "Moviepy - video ready C:/Users/naoki/anaconda_work/Faster-R-CNN-pytorch-main/data/ori_data/drama_clip/902/clip.mp4\n",
      "Moviepy - Building video C:/Users/naoki/anaconda_work/Faster-R-CNN-pytorch-main/data/ori_data/drama_clip/903/clip.mp4.\n",
      "Moviepy - Writing video C:/Users/naoki/anaconda_work/Faster-R-CNN-pytorch-main/data/ori_data/drama_clip/903/clip.mp4\n",
      "\n"
     ]
    },
    {
     "name": "stderr",
     "output_type": "stream",
     "text": [
      "                                                            \r"
     ]
    },
    {
     "name": "stdout",
     "output_type": "stream",
     "text": [
      "Moviepy - Done !\n",
      "Moviepy - video ready C:/Users/naoki/anaconda_work/Faster-R-CNN-pytorch-main/data/ori_data/drama_clip/903/clip.mp4\n",
      "Moviepy - Building video C:/Users/naoki/anaconda_work/Faster-R-CNN-pytorch-main/data/ori_data/drama_clip/904/clip.mp4.\n",
      "Moviepy - Writing video C:/Users/naoki/anaconda_work/Faster-R-CNN-pytorch-main/data/ori_data/drama_clip/904/clip.mp4\n",
      "\n"
     ]
    },
    {
     "name": "stderr",
     "output_type": "stream",
     "text": [
      "                                                            \r"
     ]
    },
    {
     "name": "stdout",
     "output_type": "stream",
     "text": [
      "Moviepy - Done !\n",
      "Moviepy - video ready C:/Users/naoki/anaconda_work/Faster-R-CNN-pytorch-main/data/ori_data/drama_clip/904/clip.mp4\n",
      "Moviepy - Building video C:/Users/naoki/anaconda_work/Faster-R-CNN-pytorch-main/data/ori_data/drama_clip/905/clip.mp4.\n",
      "Moviepy - Writing video C:/Users/naoki/anaconda_work/Faster-R-CNN-pytorch-main/data/ori_data/drama_clip/905/clip.mp4\n",
      "\n"
     ]
    },
    {
     "name": "stderr",
     "output_type": "stream",
     "text": [
      "                                                            \r"
     ]
    },
    {
     "name": "stdout",
     "output_type": "stream",
     "text": [
      "Moviepy - Done !\n",
      "Moviepy - video ready C:/Users/naoki/anaconda_work/Faster-R-CNN-pytorch-main/data/ori_data/drama_clip/905/clip.mp4\n",
      "Moviepy - Building video C:/Users/naoki/anaconda_work/Faster-R-CNN-pytorch-main/data/ori_data/drama_clip/906/clip.mp4.\n",
      "Moviepy - Writing video C:/Users/naoki/anaconda_work/Faster-R-CNN-pytorch-main/data/ori_data/drama_clip/906/clip.mp4\n",
      "\n"
     ]
    },
    {
     "name": "stderr",
     "output_type": "stream",
     "text": [
      "                                                            \r"
     ]
    },
    {
     "name": "stdout",
     "output_type": "stream",
     "text": [
      "Moviepy - Done !\n",
      "Moviepy - video ready C:/Users/naoki/anaconda_work/Faster-R-CNN-pytorch-main/data/ori_data/drama_clip/906/clip.mp4\n",
      "Moviepy - Building video C:/Users/naoki/anaconda_work/Faster-R-CNN-pytorch-main/data/ori_data/drama_clip/907/clip.mp4.\n",
      "Moviepy - Writing video C:/Users/naoki/anaconda_work/Faster-R-CNN-pytorch-main/data/ori_data/drama_clip/907/clip.mp4\n",
      "\n"
     ]
    },
    {
     "name": "stderr",
     "output_type": "stream",
     "text": [
      "                                                            \r"
     ]
    },
    {
     "name": "stdout",
     "output_type": "stream",
     "text": [
      "Moviepy - Done !\n",
      "Moviepy - video ready C:/Users/naoki/anaconda_work/Faster-R-CNN-pytorch-main/data/ori_data/drama_clip/907/clip.mp4\n",
      "Moviepy - Building video C:/Users/naoki/anaconda_work/Faster-R-CNN-pytorch-main/data/ori_data/drama_clip/908/clip.mp4.\n",
      "Moviepy - Writing video C:/Users/naoki/anaconda_work/Faster-R-CNN-pytorch-main/data/ori_data/drama_clip/908/clip.mp4\n",
      "\n"
     ]
    },
    {
     "name": "stderr",
     "output_type": "stream",
     "text": [
      "                                                            \r"
     ]
    },
    {
     "name": "stdout",
     "output_type": "stream",
     "text": [
      "Moviepy - Done !\n",
      "Moviepy - video ready C:/Users/naoki/anaconda_work/Faster-R-CNN-pytorch-main/data/ori_data/drama_clip/908/clip.mp4\n",
      "Moviepy - Building video C:/Users/naoki/anaconda_work/Faster-R-CNN-pytorch-main/data/ori_data/drama_clip/909/clip.mp4.\n",
      "Moviepy - Writing video C:/Users/naoki/anaconda_work/Faster-R-CNN-pytorch-main/data/ori_data/drama_clip/909/clip.mp4\n",
      "\n"
     ]
    },
    {
     "name": "stderr",
     "output_type": "stream",
     "text": [
      "                                                            \r"
     ]
    },
    {
     "name": "stdout",
     "output_type": "stream",
     "text": [
      "Moviepy - Done !\n",
      "Moviepy - video ready C:/Users/naoki/anaconda_work/Faster-R-CNN-pytorch-main/data/ori_data/drama_clip/909/clip.mp4\n",
      "Moviepy - Building video C:/Users/naoki/anaconda_work/Faster-R-CNN-pytorch-main/data/ori_data/drama_clip/910/clip.mp4.\n",
      "Moviepy - Writing video C:/Users/naoki/anaconda_work/Faster-R-CNN-pytorch-main/data/ori_data/drama_clip/910/clip.mp4\n",
      "\n"
     ]
    },
    {
     "name": "stderr",
     "output_type": "stream",
     "text": [
      "                                                            \r"
     ]
    },
    {
     "name": "stdout",
     "output_type": "stream",
     "text": [
      "Moviepy - Done !\n",
      "Moviepy - video ready C:/Users/naoki/anaconda_work/Faster-R-CNN-pytorch-main/data/ori_data/drama_clip/910/clip.mp4\n",
      "Moviepy - Building video C:/Users/naoki/anaconda_work/Faster-R-CNN-pytorch-main/data/ori_data/drama_clip/911/clip.mp4.\n",
      "Moviepy - Writing video C:/Users/naoki/anaconda_work/Faster-R-CNN-pytorch-main/data/ori_data/drama_clip/911/clip.mp4\n",
      "\n"
     ]
    },
    {
     "name": "stderr",
     "output_type": "stream",
     "text": [
      "                                                            \r"
     ]
    },
    {
     "name": "stdout",
     "output_type": "stream",
     "text": [
      "Moviepy - Done !\n",
      "Moviepy - video ready C:/Users/naoki/anaconda_work/Faster-R-CNN-pytorch-main/data/ori_data/drama_clip/911/clip.mp4\n",
      "Moviepy - Building video C:/Users/naoki/anaconda_work/Faster-R-CNN-pytorch-main/data/ori_data/drama_clip/912/clip.mp4.\n",
      "Moviepy - Writing video C:/Users/naoki/anaconda_work/Faster-R-CNN-pytorch-main/data/ori_data/drama_clip/912/clip.mp4\n",
      "\n"
     ]
    },
    {
     "name": "stderr",
     "output_type": "stream",
     "text": [
      "                                                            \r"
     ]
    },
    {
     "name": "stdout",
     "output_type": "stream",
     "text": [
      "Moviepy - Done !\n",
      "Moviepy - video ready C:/Users/naoki/anaconda_work/Faster-R-CNN-pytorch-main/data/ori_data/drama_clip/912/clip.mp4\n",
      "Moviepy - Building video C:/Users/naoki/anaconda_work/Faster-R-CNN-pytorch-main/data/ori_data/drama_clip/913/clip.mp4.\n",
      "Moviepy - Writing video C:/Users/naoki/anaconda_work/Faster-R-CNN-pytorch-main/data/ori_data/drama_clip/913/clip.mp4\n",
      "\n"
     ]
    },
    {
     "name": "stderr",
     "output_type": "stream",
     "text": [
      "                                                            \r"
     ]
    },
    {
     "name": "stdout",
     "output_type": "stream",
     "text": [
      "Moviepy - Done !\n",
      "Moviepy - video ready C:/Users/naoki/anaconda_work/Faster-R-CNN-pytorch-main/data/ori_data/drama_clip/913/clip.mp4\n",
      "Moviepy - Building video C:/Users/naoki/anaconda_work/Faster-R-CNN-pytorch-main/data/ori_data/drama_clip/914/clip.mp4.\n",
      "Moviepy - Writing video C:/Users/naoki/anaconda_work/Faster-R-CNN-pytorch-main/data/ori_data/drama_clip/914/clip.mp4\n",
      "\n"
     ]
    },
    {
     "name": "stderr",
     "output_type": "stream",
     "text": [
      "                                                            \r"
     ]
    },
    {
     "name": "stdout",
     "output_type": "stream",
     "text": [
      "Moviepy - Done !\n",
      "Moviepy - video ready C:/Users/naoki/anaconda_work/Faster-R-CNN-pytorch-main/data/ori_data/drama_clip/914/clip.mp4\n",
      "Moviepy - Building video C:/Users/naoki/anaconda_work/Faster-R-CNN-pytorch-main/data/ori_data/drama_clip/915/clip.mp4.\n",
      "Moviepy - Writing video C:/Users/naoki/anaconda_work/Faster-R-CNN-pytorch-main/data/ori_data/drama_clip/915/clip.mp4\n",
      "\n"
     ]
    },
    {
     "name": "stderr",
     "output_type": "stream",
     "text": [
      "                                                            \r"
     ]
    },
    {
     "name": "stdout",
     "output_type": "stream",
     "text": [
      "Moviepy - Done !\n",
      "Moviepy - video ready C:/Users/naoki/anaconda_work/Faster-R-CNN-pytorch-main/data/ori_data/drama_clip/915/clip.mp4\n",
      "Moviepy - Building video C:/Users/naoki/anaconda_work/Faster-R-CNN-pytorch-main/data/ori_data/drama_clip/916/clip.mp4.\n",
      "Moviepy - Writing video C:/Users/naoki/anaconda_work/Faster-R-CNN-pytorch-main/data/ori_data/drama_clip/916/clip.mp4\n",
      "\n"
     ]
    },
    {
     "name": "stderr",
     "output_type": "stream",
     "text": [
      "                                                            \r"
     ]
    },
    {
     "name": "stdout",
     "output_type": "stream",
     "text": [
      "Moviepy - Done !\n",
      "Moviepy - video ready C:/Users/naoki/anaconda_work/Faster-R-CNN-pytorch-main/data/ori_data/drama_clip/916/clip.mp4\n",
      "Moviepy - Building video C:/Users/naoki/anaconda_work/Faster-R-CNN-pytorch-main/data/ori_data/drama_clip/917/clip.mp4.\n",
      "Moviepy - Writing video C:/Users/naoki/anaconda_work/Faster-R-CNN-pytorch-main/data/ori_data/drama_clip/917/clip.mp4\n",
      "\n"
     ]
    },
    {
     "name": "stderr",
     "output_type": "stream",
     "text": [
      "                                                            \r"
     ]
    },
    {
     "name": "stdout",
     "output_type": "stream",
     "text": [
      "Moviepy - Done !\n",
      "Moviepy - video ready C:/Users/naoki/anaconda_work/Faster-R-CNN-pytorch-main/data/ori_data/drama_clip/917/clip.mp4\n",
      "Moviepy - Building video C:/Users/naoki/anaconda_work/Faster-R-CNN-pytorch-main/data/ori_data/drama_clip/918/clip.mp4.\n",
      "Moviepy - Writing video C:/Users/naoki/anaconda_work/Faster-R-CNN-pytorch-main/data/ori_data/drama_clip/918/clip.mp4\n",
      "\n"
     ]
    },
    {
     "name": "stderr",
     "output_type": "stream",
     "text": [
      "                                                            \r"
     ]
    },
    {
     "name": "stdout",
     "output_type": "stream",
     "text": [
      "Moviepy - Done !\n",
      "Moviepy - video ready C:/Users/naoki/anaconda_work/Faster-R-CNN-pytorch-main/data/ori_data/drama_clip/918/clip.mp4\n",
      "Moviepy - Building video C:/Users/naoki/anaconda_work/Faster-R-CNN-pytorch-main/data/ori_data/drama_clip/919/clip.mp4.\n",
      "Moviepy - Writing video C:/Users/naoki/anaconda_work/Faster-R-CNN-pytorch-main/data/ori_data/drama_clip/919/clip.mp4\n",
      "\n"
     ]
    },
    {
     "name": "stderr",
     "output_type": "stream",
     "text": [
      "                                                            \r"
     ]
    },
    {
     "name": "stdout",
     "output_type": "stream",
     "text": [
      "Moviepy - Done !\n",
      "Moviepy - video ready C:/Users/naoki/anaconda_work/Faster-R-CNN-pytorch-main/data/ori_data/drama_clip/919/clip.mp4\n",
      "Moviepy - Building video C:/Users/naoki/anaconda_work/Faster-R-CNN-pytorch-main/data/ori_data/drama_clip/920/clip.mp4.\n",
      "Moviepy - Writing video C:/Users/naoki/anaconda_work/Faster-R-CNN-pytorch-main/data/ori_data/drama_clip/920/clip.mp4\n",
      "\n"
     ]
    },
    {
     "name": "stderr",
     "output_type": "stream",
     "text": [
      "                                                            \r"
     ]
    },
    {
     "name": "stdout",
     "output_type": "stream",
     "text": [
      "Moviepy - Done !\n",
      "Moviepy - video ready C:/Users/naoki/anaconda_work/Faster-R-CNN-pytorch-main/data/ori_data/drama_clip/920/clip.mp4\n",
      "Moviepy - Building video C:/Users/naoki/anaconda_work/Faster-R-CNN-pytorch-main/data/ori_data/drama_clip/921/clip.mp4.\n",
      "Moviepy - Writing video C:/Users/naoki/anaconda_work/Faster-R-CNN-pytorch-main/data/ori_data/drama_clip/921/clip.mp4\n",
      "\n"
     ]
    },
    {
     "name": "stderr",
     "output_type": "stream",
     "text": [
      "                                                            \r"
     ]
    },
    {
     "name": "stdout",
     "output_type": "stream",
     "text": [
      "Moviepy - Done !\n",
      "Moviepy - video ready C:/Users/naoki/anaconda_work/Faster-R-CNN-pytorch-main/data/ori_data/drama_clip/921/clip.mp4\n",
      "Moviepy - Building video C:/Users/naoki/anaconda_work/Faster-R-CNN-pytorch-main/data/ori_data/drama_clip/922/clip.mp4.\n",
      "Moviepy - Writing video C:/Users/naoki/anaconda_work/Faster-R-CNN-pytorch-main/data/ori_data/drama_clip/922/clip.mp4\n",
      "\n"
     ]
    },
    {
     "name": "stderr",
     "output_type": "stream",
     "text": [
      "                                                            \r"
     ]
    },
    {
     "name": "stdout",
     "output_type": "stream",
     "text": [
      "Moviepy - Done !\n",
      "Moviepy - video ready C:/Users/naoki/anaconda_work/Faster-R-CNN-pytorch-main/data/ori_data/drama_clip/922/clip.mp4\n",
      "Moviepy - Building video C:/Users/naoki/anaconda_work/Faster-R-CNN-pytorch-main/data/ori_data/drama_clip/923/clip.mp4.\n",
      "Moviepy - Writing video C:/Users/naoki/anaconda_work/Faster-R-CNN-pytorch-main/data/ori_data/drama_clip/923/clip.mp4\n",
      "\n"
     ]
    },
    {
     "name": "stderr",
     "output_type": "stream",
     "text": [
      "                                                            \r"
     ]
    },
    {
     "name": "stdout",
     "output_type": "stream",
     "text": [
      "Moviepy - Done !\n",
      "Moviepy - video ready C:/Users/naoki/anaconda_work/Faster-R-CNN-pytorch-main/data/ori_data/drama_clip/923/clip.mp4\n",
      "Moviepy - Building video C:/Users/naoki/anaconda_work/Faster-R-CNN-pytorch-main/data/ori_data/drama_clip/924/clip.mp4.\n",
      "Moviepy - Writing video C:/Users/naoki/anaconda_work/Faster-R-CNN-pytorch-main/data/ori_data/drama_clip/924/clip.mp4\n",
      "\n"
     ]
    },
    {
     "name": "stderr",
     "output_type": "stream",
     "text": [
      "                                                            \r"
     ]
    },
    {
     "name": "stdout",
     "output_type": "stream",
     "text": [
      "Moviepy - Done !\n",
      "Moviepy - video ready C:/Users/naoki/anaconda_work/Faster-R-CNN-pytorch-main/data/ori_data/drama_clip/924/clip.mp4\n",
      "Moviepy - Building video C:/Users/naoki/anaconda_work/Faster-R-CNN-pytorch-main/data/ori_data/drama_clip/925/clip.mp4.\n",
      "Moviepy - Writing video C:/Users/naoki/anaconda_work/Faster-R-CNN-pytorch-main/data/ori_data/drama_clip/925/clip.mp4\n",
      "\n"
     ]
    },
    {
     "name": "stderr",
     "output_type": "stream",
     "text": [
      "                                                            \r"
     ]
    },
    {
     "name": "stdout",
     "output_type": "stream",
     "text": [
      "Moviepy - Done !\n",
      "Moviepy - video ready C:/Users/naoki/anaconda_work/Faster-R-CNN-pytorch-main/data/ori_data/drama_clip/925/clip.mp4\n",
      "Moviepy - Building video C:/Users/naoki/anaconda_work/Faster-R-CNN-pytorch-main/data/ori_data/drama_clip/926/clip.mp4.\n",
      "Moviepy - Writing video C:/Users/naoki/anaconda_work/Faster-R-CNN-pytorch-main/data/ori_data/drama_clip/926/clip.mp4\n",
      "\n"
     ]
    },
    {
     "name": "stderr",
     "output_type": "stream",
     "text": [
      "                                                            \r"
     ]
    },
    {
     "name": "stdout",
     "output_type": "stream",
     "text": [
      "Moviepy - Done !\n",
      "Moviepy - video ready C:/Users/naoki/anaconda_work/Faster-R-CNN-pytorch-main/data/ori_data/drama_clip/926/clip.mp4\n",
      "Moviepy - Building video C:/Users/naoki/anaconda_work/Faster-R-CNN-pytorch-main/data/ori_data/drama_clip/927/clip.mp4.\n",
      "Moviepy - Writing video C:/Users/naoki/anaconda_work/Faster-R-CNN-pytorch-main/data/ori_data/drama_clip/927/clip.mp4\n",
      "\n"
     ]
    },
    {
     "name": "stderr",
     "output_type": "stream",
     "text": [
      "                                                            \r"
     ]
    },
    {
     "name": "stdout",
     "output_type": "stream",
     "text": [
      "Moviepy - Done !\n",
      "Moviepy - video ready C:/Users/naoki/anaconda_work/Faster-R-CNN-pytorch-main/data/ori_data/drama_clip/927/clip.mp4\n",
      "Moviepy - Building video C:/Users/naoki/anaconda_work/Faster-R-CNN-pytorch-main/data/ori_data/drama_clip/928/clip.mp4.\n",
      "Moviepy - Writing video C:/Users/naoki/anaconda_work/Faster-R-CNN-pytorch-main/data/ori_data/drama_clip/928/clip.mp4\n",
      "\n"
     ]
    },
    {
     "name": "stderr",
     "output_type": "stream",
     "text": [
      "                                                            \r"
     ]
    },
    {
     "name": "stdout",
     "output_type": "stream",
     "text": [
      "Moviepy - Done !\n",
      "Moviepy - video ready C:/Users/naoki/anaconda_work/Faster-R-CNN-pytorch-main/data/ori_data/drama_clip/928/clip.mp4\n",
      "Moviepy - Building video C:/Users/naoki/anaconda_work/Faster-R-CNN-pytorch-main/data/ori_data/drama_clip/929/clip.mp4.\n",
      "Moviepy - Writing video C:/Users/naoki/anaconda_work/Faster-R-CNN-pytorch-main/data/ori_data/drama_clip/929/clip.mp4\n",
      "\n"
     ]
    },
    {
     "name": "stderr",
     "output_type": "stream",
     "text": [
      "                                                            \r"
     ]
    },
    {
     "name": "stdout",
     "output_type": "stream",
     "text": [
      "Moviepy - Done !\n",
      "Moviepy - video ready C:/Users/naoki/anaconda_work/Faster-R-CNN-pytorch-main/data/ori_data/drama_clip/929/clip.mp4\n",
      "Moviepy - Building video C:/Users/naoki/anaconda_work/Faster-R-CNN-pytorch-main/data/ori_data/drama_clip/930/clip.mp4.\n",
      "Moviepy - Writing video C:/Users/naoki/anaconda_work/Faster-R-CNN-pytorch-main/data/ori_data/drama_clip/930/clip.mp4\n",
      "\n"
     ]
    },
    {
     "name": "stderr",
     "output_type": "stream",
     "text": [
      "                                                            \r"
     ]
    },
    {
     "name": "stdout",
     "output_type": "stream",
     "text": [
      "Moviepy - Done !\n",
      "Moviepy - video ready C:/Users/naoki/anaconda_work/Faster-R-CNN-pytorch-main/data/ori_data/drama_clip/930/clip.mp4\n",
      "Moviepy - Building video C:/Users/naoki/anaconda_work/Faster-R-CNN-pytorch-main/data/ori_data/drama_clip/931/clip.mp4.\n",
      "Moviepy - Writing video C:/Users/naoki/anaconda_work/Faster-R-CNN-pytorch-main/data/ori_data/drama_clip/931/clip.mp4\n",
      "\n"
     ]
    },
    {
     "name": "stderr",
     "output_type": "stream",
     "text": [
      "                                                            \r"
     ]
    },
    {
     "name": "stdout",
     "output_type": "stream",
     "text": [
      "Moviepy - Done !\n",
      "Moviepy - video ready C:/Users/naoki/anaconda_work/Faster-R-CNN-pytorch-main/data/ori_data/drama_clip/931/clip.mp4\n",
      "Moviepy - Building video C:/Users/naoki/anaconda_work/Faster-R-CNN-pytorch-main/data/ori_data/drama_clip/932/clip.mp4.\n",
      "Moviepy - Writing video C:/Users/naoki/anaconda_work/Faster-R-CNN-pytorch-main/data/ori_data/drama_clip/932/clip.mp4\n",
      "\n"
     ]
    },
    {
     "name": "stderr",
     "output_type": "stream",
     "text": [
      "                                                            \r"
     ]
    },
    {
     "name": "stdout",
     "output_type": "stream",
     "text": [
      "Moviepy - Done !\n",
      "Moviepy - video ready C:/Users/naoki/anaconda_work/Faster-R-CNN-pytorch-main/data/ori_data/drama_clip/932/clip.mp4\n",
      "Moviepy - Building video C:/Users/naoki/anaconda_work/Faster-R-CNN-pytorch-main/data/ori_data/drama_clip/933/clip.mp4.\n",
      "Moviepy - Writing video C:/Users/naoki/anaconda_work/Faster-R-CNN-pytorch-main/data/ori_data/drama_clip/933/clip.mp4\n",
      "\n"
     ]
    },
    {
     "name": "stderr",
     "output_type": "stream",
     "text": [
      "                                                            \r"
     ]
    },
    {
     "name": "stdout",
     "output_type": "stream",
     "text": [
      "Moviepy - Done !\n",
      "Moviepy - video ready C:/Users/naoki/anaconda_work/Faster-R-CNN-pytorch-main/data/ori_data/drama_clip/933/clip.mp4\n",
      "Moviepy - Building video C:/Users/naoki/anaconda_work/Faster-R-CNN-pytorch-main/data/ori_data/drama_clip/934/clip.mp4.\n",
      "Moviepy - Writing video C:/Users/naoki/anaconda_work/Faster-R-CNN-pytorch-main/data/ori_data/drama_clip/934/clip.mp4\n",
      "\n"
     ]
    },
    {
     "name": "stderr",
     "output_type": "stream",
     "text": [
      "                                                            \r"
     ]
    },
    {
     "name": "stdout",
     "output_type": "stream",
     "text": [
      "Moviepy - Done !\n",
      "Moviepy - video ready C:/Users/naoki/anaconda_work/Faster-R-CNN-pytorch-main/data/ori_data/drama_clip/934/clip.mp4\n",
      "Moviepy - Building video C:/Users/naoki/anaconda_work/Faster-R-CNN-pytorch-main/data/ori_data/drama_clip/935/clip.mp4.\n",
      "Moviepy - Writing video C:/Users/naoki/anaconda_work/Faster-R-CNN-pytorch-main/data/ori_data/drama_clip/935/clip.mp4\n",
      "\n"
     ]
    },
    {
     "name": "stderr",
     "output_type": "stream",
     "text": [
      "                                                            \r"
     ]
    },
    {
     "name": "stdout",
     "output_type": "stream",
     "text": [
      "Moviepy - Done !\n",
      "Moviepy - video ready C:/Users/naoki/anaconda_work/Faster-R-CNN-pytorch-main/data/ori_data/drama_clip/935/clip.mp4\n",
      "Moviepy - Building video C:/Users/naoki/anaconda_work/Faster-R-CNN-pytorch-main/data/ori_data/drama_clip/936/clip.mp4.\n",
      "Moviepy - Writing video C:/Users/naoki/anaconda_work/Faster-R-CNN-pytorch-main/data/ori_data/drama_clip/936/clip.mp4\n",
      "\n"
     ]
    },
    {
     "name": "stderr",
     "output_type": "stream",
     "text": [
      "                                                            \r"
     ]
    },
    {
     "name": "stdout",
     "output_type": "stream",
     "text": [
      "Moviepy - Done !\n",
      "Moviepy - video ready C:/Users/naoki/anaconda_work/Faster-R-CNN-pytorch-main/data/ori_data/drama_clip/936/clip.mp4\n",
      "Moviepy - Building video C:/Users/naoki/anaconda_work/Faster-R-CNN-pytorch-main/data/ori_data/drama_clip/937/clip.mp4.\n",
      "Moviepy - Writing video C:/Users/naoki/anaconda_work/Faster-R-CNN-pytorch-main/data/ori_data/drama_clip/937/clip.mp4\n",
      "\n"
     ]
    },
    {
     "name": "stderr",
     "output_type": "stream",
     "text": [
      "                                                            \r"
     ]
    },
    {
     "name": "stdout",
     "output_type": "stream",
     "text": [
      "Moviepy - Done !\n",
      "Moviepy - video ready C:/Users/naoki/anaconda_work/Faster-R-CNN-pytorch-main/data/ori_data/drama_clip/937/clip.mp4\n",
      "Moviepy - Building video C:/Users/naoki/anaconda_work/Faster-R-CNN-pytorch-main/data/ori_data/drama_clip/938/clip.mp4.\n",
      "Moviepy - Writing video C:/Users/naoki/anaconda_work/Faster-R-CNN-pytorch-main/data/ori_data/drama_clip/938/clip.mp4\n",
      "\n"
     ]
    },
    {
     "name": "stderr",
     "output_type": "stream",
     "text": [
      "                                                            \r"
     ]
    },
    {
     "name": "stdout",
     "output_type": "stream",
     "text": [
      "Moviepy - Done !\n",
      "Moviepy - video ready C:/Users/naoki/anaconda_work/Faster-R-CNN-pytorch-main/data/ori_data/drama_clip/938/clip.mp4\n",
      "Moviepy - Building video C:/Users/naoki/anaconda_work/Faster-R-CNN-pytorch-main/data/ori_data/drama_clip/939/clip.mp4.\n",
      "Moviepy - Writing video C:/Users/naoki/anaconda_work/Faster-R-CNN-pytorch-main/data/ori_data/drama_clip/939/clip.mp4\n",
      "\n"
     ]
    },
    {
     "name": "stderr",
     "output_type": "stream",
     "text": [
      "                                                            \r"
     ]
    },
    {
     "name": "stdout",
     "output_type": "stream",
     "text": [
      "Moviepy - Done !\n",
      "Moviepy - video ready C:/Users/naoki/anaconda_work/Faster-R-CNN-pytorch-main/data/ori_data/drama_clip/939/clip.mp4\n",
      "Moviepy - Building video C:/Users/naoki/anaconda_work/Faster-R-CNN-pytorch-main/data/ori_data/drama_clip/940/clip.mp4.\n",
      "Moviepy - Writing video C:/Users/naoki/anaconda_work/Faster-R-CNN-pytorch-main/data/ori_data/drama_clip/940/clip.mp4\n",
      "\n"
     ]
    },
    {
     "name": "stderr",
     "output_type": "stream",
     "text": [
      "                                                            \r"
     ]
    },
    {
     "name": "stdout",
     "output_type": "stream",
     "text": [
      "Moviepy - Done !\n",
      "Moviepy - video ready C:/Users/naoki/anaconda_work/Faster-R-CNN-pytorch-main/data/ori_data/drama_clip/940/clip.mp4\n",
      "Moviepy - Building video C:/Users/naoki/anaconda_work/Faster-R-CNN-pytorch-main/data/ori_data/drama_clip/941/clip.mp4.\n",
      "Moviepy - Writing video C:/Users/naoki/anaconda_work/Faster-R-CNN-pytorch-main/data/ori_data/drama_clip/941/clip.mp4\n",
      "\n"
     ]
    },
    {
     "name": "stderr",
     "output_type": "stream",
     "text": [
      "                                                            \r"
     ]
    },
    {
     "name": "stdout",
     "output_type": "stream",
     "text": [
      "Moviepy - Done !\n",
      "Moviepy - video ready C:/Users/naoki/anaconda_work/Faster-R-CNN-pytorch-main/data/ori_data/drama_clip/941/clip.mp4\n",
      "Moviepy - Building video C:/Users/naoki/anaconda_work/Faster-R-CNN-pytorch-main/data/ori_data/drama_clip/942/clip.mp4.\n",
      "Moviepy - Writing video C:/Users/naoki/anaconda_work/Faster-R-CNN-pytorch-main/data/ori_data/drama_clip/942/clip.mp4\n",
      "\n"
     ]
    },
    {
     "name": "stderr",
     "output_type": "stream",
     "text": [
      "                                                            \r"
     ]
    },
    {
     "name": "stdout",
     "output_type": "stream",
     "text": [
      "Moviepy - Done !\n",
      "Moviepy - video ready C:/Users/naoki/anaconda_work/Faster-R-CNN-pytorch-main/data/ori_data/drama_clip/942/clip.mp4\n",
      "Moviepy - Building video C:/Users/naoki/anaconda_work/Faster-R-CNN-pytorch-main/data/ori_data/drama_clip/943/clip.mp4.\n",
      "Moviepy - Writing video C:/Users/naoki/anaconda_work/Faster-R-CNN-pytorch-main/data/ori_data/drama_clip/943/clip.mp4\n",
      "\n"
     ]
    },
    {
     "name": "stderr",
     "output_type": "stream",
     "text": [
      "                                                            \r"
     ]
    },
    {
     "name": "stdout",
     "output_type": "stream",
     "text": [
      "Moviepy - Done !\n",
      "Moviepy - video ready C:/Users/naoki/anaconda_work/Faster-R-CNN-pytorch-main/data/ori_data/drama_clip/943/clip.mp4\n",
      "Moviepy - Building video C:/Users/naoki/anaconda_work/Faster-R-CNN-pytorch-main/data/ori_data/drama_clip/944/clip.mp4.\n",
      "Moviepy - Writing video C:/Users/naoki/anaconda_work/Faster-R-CNN-pytorch-main/data/ori_data/drama_clip/944/clip.mp4\n",
      "\n"
     ]
    },
    {
     "name": "stderr",
     "output_type": "stream",
     "text": [
      "                                                            \r"
     ]
    },
    {
     "name": "stdout",
     "output_type": "stream",
     "text": [
      "Moviepy - Done !\n",
      "Moviepy - video ready C:/Users/naoki/anaconda_work/Faster-R-CNN-pytorch-main/data/ori_data/drama_clip/944/clip.mp4\n",
      "Moviepy - Building video C:/Users/naoki/anaconda_work/Faster-R-CNN-pytorch-main/data/ori_data/drama_clip/945/clip.mp4.\n",
      "Moviepy - Writing video C:/Users/naoki/anaconda_work/Faster-R-CNN-pytorch-main/data/ori_data/drama_clip/945/clip.mp4\n",
      "\n"
     ]
    },
    {
     "name": "stderr",
     "output_type": "stream",
     "text": [
      "                                                            \r"
     ]
    },
    {
     "name": "stdout",
     "output_type": "stream",
     "text": [
      "Moviepy - Done !\n",
      "Moviepy - video ready C:/Users/naoki/anaconda_work/Faster-R-CNN-pytorch-main/data/ori_data/drama_clip/945/clip.mp4\n",
      "Moviepy - Building video C:/Users/naoki/anaconda_work/Faster-R-CNN-pytorch-main/data/ori_data/drama_clip/946/clip.mp4.\n",
      "Moviepy - Writing video C:/Users/naoki/anaconda_work/Faster-R-CNN-pytorch-main/data/ori_data/drama_clip/946/clip.mp4\n",
      "\n"
     ]
    },
    {
     "name": "stderr",
     "output_type": "stream",
     "text": [
      "                                                            \r"
     ]
    },
    {
     "name": "stdout",
     "output_type": "stream",
     "text": [
      "Moviepy - Done !\n",
      "Moviepy - video ready C:/Users/naoki/anaconda_work/Faster-R-CNN-pytorch-main/data/ori_data/drama_clip/946/clip.mp4\n",
      "Moviepy - Building video C:/Users/naoki/anaconda_work/Faster-R-CNN-pytorch-main/data/ori_data/drama_clip/947/clip.mp4.\n",
      "Moviepy - Writing video C:/Users/naoki/anaconda_work/Faster-R-CNN-pytorch-main/data/ori_data/drama_clip/947/clip.mp4\n",
      "\n"
     ]
    },
    {
     "name": "stderr",
     "output_type": "stream",
     "text": [
      "                                                            \r"
     ]
    },
    {
     "name": "stdout",
     "output_type": "stream",
     "text": [
      "Moviepy - Done !\n",
      "Moviepy - video ready C:/Users/naoki/anaconda_work/Faster-R-CNN-pytorch-main/data/ori_data/drama_clip/947/clip.mp4\n",
      "Moviepy - Building video C:/Users/naoki/anaconda_work/Faster-R-CNN-pytorch-main/data/ori_data/drama_clip/948/clip.mp4.\n",
      "Moviepy - Writing video C:/Users/naoki/anaconda_work/Faster-R-CNN-pytorch-main/data/ori_data/drama_clip/948/clip.mp4\n",
      "\n"
     ]
    },
    {
     "name": "stderr",
     "output_type": "stream",
     "text": [
      "                                                            \r"
     ]
    },
    {
     "name": "stdout",
     "output_type": "stream",
     "text": [
      "Moviepy - Done !\n",
      "Moviepy - video ready C:/Users/naoki/anaconda_work/Faster-R-CNN-pytorch-main/data/ori_data/drama_clip/948/clip.mp4\n",
      "Moviepy - Building video C:/Users/naoki/anaconda_work/Faster-R-CNN-pytorch-main/data/ori_data/drama_clip/949/clip.mp4.\n",
      "Moviepy - Writing video C:/Users/naoki/anaconda_work/Faster-R-CNN-pytorch-main/data/ori_data/drama_clip/949/clip.mp4\n",
      "\n"
     ]
    },
    {
     "name": "stderr",
     "output_type": "stream",
     "text": [
      "                                                            \r"
     ]
    },
    {
     "name": "stdout",
     "output_type": "stream",
     "text": [
      "Moviepy - Done !\n",
      "Moviepy - video ready C:/Users/naoki/anaconda_work/Faster-R-CNN-pytorch-main/data/ori_data/drama_clip/949/clip.mp4\n",
      "Moviepy - Building video C:/Users/naoki/anaconda_work/Faster-R-CNN-pytorch-main/data/ori_data/drama_clip/950/clip.mp4.\n",
      "Moviepy - Writing video C:/Users/naoki/anaconda_work/Faster-R-CNN-pytorch-main/data/ori_data/drama_clip/950/clip.mp4\n",
      "\n"
     ]
    },
    {
     "name": "stderr",
     "output_type": "stream",
     "text": [
      "                                                            \r"
     ]
    },
    {
     "name": "stdout",
     "output_type": "stream",
     "text": [
      "Moviepy - Done !\n",
      "Moviepy - video ready C:/Users/naoki/anaconda_work/Faster-R-CNN-pytorch-main/data/ori_data/drama_clip/950/clip.mp4\n",
      "Moviepy - Building video C:/Users/naoki/anaconda_work/Faster-R-CNN-pytorch-main/data/ori_data/drama_clip/951/clip.mp4.\n",
      "Moviepy - Writing video C:/Users/naoki/anaconda_work/Faster-R-CNN-pytorch-main/data/ori_data/drama_clip/951/clip.mp4\n",
      "\n"
     ]
    },
    {
     "name": "stderr",
     "output_type": "stream",
     "text": [
      "                                                            \r"
     ]
    },
    {
     "name": "stdout",
     "output_type": "stream",
     "text": [
      "Moviepy - Done !\n",
      "Moviepy - video ready C:/Users/naoki/anaconda_work/Faster-R-CNN-pytorch-main/data/ori_data/drama_clip/951/clip.mp4\n",
      "Moviepy - Building video C:/Users/naoki/anaconda_work/Faster-R-CNN-pytorch-main/data/ori_data/drama_clip/952/clip.mp4.\n",
      "Moviepy - Writing video C:/Users/naoki/anaconda_work/Faster-R-CNN-pytorch-main/data/ori_data/drama_clip/952/clip.mp4\n",
      "\n"
     ]
    },
    {
     "name": "stderr",
     "output_type": "stream",
     "text": [
      "                                                            \r"
     ]
    },
    {
     "name": "stdout",
     "output_type": "stream",
     "text": [
      "Moviepy - Done !\n",
      "Moviepy - video ready C:/Users/naoki/anaconda_work/Faster-R-CNN-pytorch-main/data/ori_data/drama_clip/952/clip.mp4\n",
      "Moviepy - Building video C:/Users/naoki/anaconda_work/Faster-R-CNN-pytorch-main/data/ori_data/drama_clip/953/clip.mp4.\n",
      "Moviepy - Writing video C:/Users/naoki/anaconda_work/Faster-R-CNN-pytorch-main/data/ori_data/drama_clip/953/clip.mp4\n",
      "\n"
     ]
    },
    {
     "name": "stderr",
     "output_type": "stream",
     "text": [
      "                                                            \r"
     ]
    },
    {
     "name": "stdout",
     "output_type": "stream",
     "text": [
      "Moviepy - Done !\n",
      "Moviepy - video ready C:/Users/naoki/anaconda_work/Faster-R-CNN-pytorch-main/data/ori_data/drama_clip/953/clip.mp4\n",
      "Moviepy - Building video C:/Users/naoki/anaconda_work/Faster-R-CNN-pytorch-main/data/ori_data/drama_clip/954/clip.mp4.\n",
      "Moviepy - Writing video C:/Users/naoki/anaconda_work/Faster-R-CNN-pytorch-main/data/ori_data/drama_clip/954/clip.mp4\n",
      "\n"
     ]
    },
    {
     "name": "stderr",
     "output_type": "stream",
     "text": [
      "                                                            \r"
     ]
    },
    {
     "name": "stdout",
     "output_type": "stream",
     "text": [
      "Moviepy - Done !\n",
      "Moviepy - video ready C:/Users/naoki/anaconda_work/Faster-R-CNN-pytorch-main/data/ori_data/drama_clip/954/clip.mp4\n",
      "Moviepy - Building video C:/Users/naoki/anaconda_work/Faster-R-CNN-pytorch-main/data/ori_data/drama_clip/955/clip.mp4.\n",
      "Moviepy - Writing video C:/Users/naoki/anaconda_work/Faster-R-CNN-pytorch-main/data/ori_data/drama_clip/955/clip.mp4\n",
      "\n"
     ]
    },
    {
     "name": "stderr",
     "output_type": "stream",
     "text": [
      "                                                            \r"
     ]
    },
    {
     "name": "stdout",
     "output_type": "stream",
     "text": [
      "Moviepy - Done !\n",
      "Moviepy - video ready C:/Users/naoki/anaconda_work/Faster-R-CNN-pytorch-main/data/ori_data/drama_clip/955/clip.mp4\n",
      "Moviepy - Building video C:/Users/naoki/anaconda_work/Faster-R-CNN-pytorch-main/data/ori_data/drama_clip/956/clip.mp4.\n",
      "Moviepy - Writing video C:/Users/naoki/anaconda_work/Faster-R-CNN-pytorch-main/data/ori_data/drama_clip/956/clip.mp4\n",
      "\n"
     ]
    },
    {
     "name": "stderr",
     "output_type": "stream",
     "text": [
      "                                                            \r"
     ]
    },
    {
     "name": "stdout",
     "output_type": "stream",
     "text": [
      "Moviepy - Done !\n",
      "Moviepy - video ready C:/Users/naoki/anaconda_work/Faster-R-CNN-pytorch-main/data/ori_data/drama_clip/956/clip.mp4\n",
      "Moviepy - Building video C:/Users/naoki/anaconda_work/Faster-R-CNN-pytorch-main/data/ori_data/drama_clip/957/clip.mp4.\n",
      "Moviepy - Writing video C:/Users/naoki/anaconda_work/Faster-R-CNN-pytorch-main/data/ori_data/drama_clip/957/clip.mp4\n",
      "\n"
     ]
    },
    {
     "name": "stderr",
     "output_type": "stream",
     "text": [
      "                                                            \r"
     ]
    },
    {
     "name": "stdout",
     "output_type": "stream",
     "text": [
      "Moviepy - Done !\n",
      "Moviepy - video ready C:/Users/naoki/anaconda_work/Faster-R-CNN-pytorch-main/data/ori_data/drama_clip/957/clip.mp4\n",
      "Moviepy - Building video C:/Users/naoki/anaconda_work/Faster-R-CNN-pytorch-main/data/ori_data/drama_clip/958/clip.mp4.\n",
      "Moviepy - Writing video C:/Users/naoki/anaconda_work/Faster-R-CNN-pytorch-main/data/ori_data/drama_clip/958/clip.mp4\n",
      "\n"
     ]
    },
    {
     "name": "stderr",
     "output_type": "stream",
     "text": [
      "                                                            \r"
     ]
    },
    {
     "name": "stdout",
     "output_type": "stream",
     "text": [
      "Moviepy - Done !\n",
      "Moviepy - video ready C:/Users/naoki/anaconda_work/Faster-R-CNN-pytorch-main/data/ori_data/drama_clip/958/clip.mp4\n",
      "Moviepy - Building video C:/Users/naoki/anaconda_work/Faster-R-CNN-pytorch-main/data/ori_data/drama_clip/959/clip.mp4.\n",
      "Moviepy - Writing video C:/Users/naoki/anaconda_work/Faster-R-CNN-pytorch-main/data/ori_data/drama_clip/959/clip.mp4\n",
      "\n"
     ]
    },
    {
     "name": "stderr",
     "output_type": "stream",
     "text": [
      "                                                            \r"
     ]
    },
    {
     "name": "stdout",
     "output_type": "stream",
     "text": [
      "Moviepy - Done !\n",
      "Moviepy - video ready C:/Users/naoki/anaconda_work/Faster-R-CNN-pytorch-main/data/ori_data/drama_clip/959/clip.mp4\n",
      "Moviepy - Building video C:/Users/naoki/anaconda_work/Faster-R-CNN-pytorch-main/data/ori_data/drama_clip/960/clip.mp4.\n",
      "Moviepy - Writing video C:/Users/naoki/anaconda_work/Faster-R-CNN-pytorch-main/data/ori_data/drama_clip/960/clip.mp4\n",
      "\n"
     ]
    },
    {
     "name": "stderr",
     "output_type": "stream",
     "text": [
      "                                                            \r"
     ]
    },
    {
     "name": "stdout",
     "output_type": "stream",
     "text": [
      "Moviepy - Done !\n",
      "Moviepy - video ready C:/Users/naoki/anaconda_work/Faster-R-CNN-pytorch-main/data/ori_data/drama_clip/960/clip.mp4\n",
      "Moviepy - Building video C:/Users/naoki/anaconda_work/Faster-R-CNN-pytorch-main/data/ori_data/drama_clip/961/clip.mp4.\n",
      "Moviepy - Writing video C:/Users/naoki/anaconda_work/Faster-R-CNN-pytorch-main/data/ori_data/drama_clip/961/clip.mp4\n",
      "\n"
     ]
    },
    {
     "name": "stderr",
     "output_type": "stream",
     "text": [
      "                                                            \r"
     ]
    },
    {
     "name": "stdout",
     "output_type": "stream",
     "text": [
      "Moviepy - Done !\n",
      "Moviepy - video ready C:/Users/naoki/anaconda_work/Faster-R-CNN-pytorch-main/data/ori_data/drama_clip/961/clip.mp4\n",
      "Moviepy - Building video C:/Users/naoki/anaconda_work/Faster-R-CNN-pytorch-main/data/ori_data/drama_clip/962/clip.mp4.\n",
      "Moviepy - Writing video C:/Users/naoki/anaconda_work/Faster-R-CNN-pytorch-main/data/ori_data/drama_clip/962/clip.mp4\n",
      "\n"
     ]
    },
    {
     "name": "stderr",
     "output_type": "stream",
     "text": [
      "                                                            \r"
     ]
    },
    {
     "name": "stdout",
     "output_type": "stream",
     "text": [
      "Moviepy - Done !\n",
      "Moviepy - video ready C:/Users/naoki/anaconda_work/Faster-R-CNN-pytorch-main/data/ori_data/drama_clip/962/clip.mp4\n",
      "Moviepy - Building video C:/Users/naoki/anaconda_work/Faster-R-CNN-pytorch-main/data/ori_data/drama_clip/963/clip.mp4.\n",
      "Moviepy - Writing video C:/Users/naoki/anaconda_work/Faster-R-CNN-pytorch-main/data/ori_data/drama_clip/963/clip.mp4\n",
      "\n"
     ]
    },
    {
     "name": "stderr",
     "output_type": "stream",
     "text": [
      "                                                            \r"
     ]
    },
    {
     "name": "stdout",
     "output_type": "stream",
     "text": [
      "Moviepy - Done !\n",
      "Moviepy - video ready C:/Users/naoki/anaconda_work/Faster-R-CNN-pytorch-main/data/ori_data/drama_clip/963/clip.mp4\n",
      "Moviepy - Building video C:/Users/naoki/anaconda_work/Faster-R-CNN-pytorch-main/data/ori_data/drama_clip/964/clip.mp4.\n",
      "Moviepy - Writing video C:/Users/naoki/anaconda_work/Faster-R-CNN-pytorch-main/data/ori_data/drama_clip/964/clip.mp4\n",
      "\n"
     ]
    },
    {
     "name": "stderr",
     "output_type": "stream",
     "text": [
      "                                                            \r"
     ]
    },
    {
     "name": "stdout",
     "output_type": "stream",
     "text": [
      "Moviepy - Done !\n",
      "Moviepy - video ready C:/Users/naoki/anaconda_work/Faster-R-CNN-pytorch-main/data/ori_data/drama_clip/964/clip.mp4\n",
      "Moviepy - Building video C:/Users/naoki/anaconda_work/Faster-R-CNN-pytorch-main/data/ori_data/drama_clip/965/clip.mp4.\n",
      "Moviepy - Writing video C:/Users/naoki/anaconda_work/Faster-R-CNN-pytorch-main/data/ori_data/drama_clip/965/clip.mp4\n",
      "\n"
     ]
    },
    {
     "name": "stderr",
     "output_type": "stream",
     "text": [
      "                                                            \r"
     ]
    },
    {
     "name": "stdout",
     "output_type": "stream",
     "text": [
      "Moviepy - Done !\n",
      "Moviepy - video ready C:/Users/naoki/anaconda_work/Faster-R-CNN-pytorch-main/data/ori_data/drama_clip/965/clip.mp4\n",
      "Moviepy - Building video C:/Users/naoki/anaconda_work/Faster-R-CNN-pytorch-main/data/ori_data/drama_clip/966/clip.mp4.\n",
      "Moviepy - Writing video C:/Users/naoki/anaconda_work/Faster-R-CNN-pytorch-main/data/ori_data/drama_clip/966/clip.mp4\n",
      "\n"
     ]
    },
    {
     "name": "stderr",
     "output_type": "stream",
     "text": [
      "                                                            \r"
     ]
    },
    {
     "name": "stdout",
     "output_type": "stream",
     "text": [
      "Moviepy - Done !\n",
      "Moviepy - video ready C:/Users/naoki/anaconda_work/Faster-R-CNN-pytorch-main/data/ori_data/drama_clip/966/clip.mp4\n",
      "Moviepy - Building video C:/Users/naoki/anaconda_work/Faster-R-CNN-pytorch-main/data/ori_data/drama_clip/967/clip.mp4.\n",
      "Moviepy - Writing video C:/Users/naoki/anaconda_work/Faster-R-CNN-pytorch-main/data/ori_data/drama_clip/967/clip.mp4\n",
      "\n"
     ]
    },
    {
     "name": "stderr",
     "output_type": "stream",
     "text": [
      "                                                            \r"
     ]
    },
    {
     "name": "stdout",
     "output_type": "stream",
     "text": [
      "Moviepy - Done !\n",
      "Moviepy - video ready C:/Users/naoki/anaconda_work/Faster-R-CNN-pytorch-main/data/ori_data/drama_clip/967/clip.mp4\n",
      "Moviepy - Building video C:/Users/naoki/anaconda_work/Faster-R-CNN-pytorch-main/data/ori_data/drama_clip/968/clip.mp4.\n",
      "Moviepy - Writing video C:/Users/naoki/anaconda_work/Faster-R-CNN-pytorch-main/data/ori_data/drama_clip/968/clip.mp4\n",
      "\n"
     ]
    },
    {
     "name": "stderr",
     "output_type": "stream",
     "text": [
      "                                                            \r"
     ]
    },
    {
     "name": "stdout",
     "output_type": "stream",
     "text": [
      "Moviepy - Done !\n",
      "Moviepy - video ready C:/Users/naoki/anaconda_work/Faster-R-CNN-pytorch-main/data/ori_data/drama_clip/968/clip.mp4\n",
      "Moviepy - Building video C:/Users/naoki/anaconda_work/Faster-R-CNN-pytorch-main/data/ori_data/drama_clip/969/clip.mp4.\n",
      "Moviepy - Writing video C:/Users/naoki/anaconda_work/Faster-R-CNN-pytorch-main/data/ori_data/drama_clip/969/clip.mp4\n",
      "\n"
     ]
    },
    {
     "name": "stderr",
     "output_type": "stream",
     "text": [
      "                                                             \r"
     ]
    },
    {
     "name": "stdout",
     "output_type": "stream",
     "text": [
      "Moviepy - Done !\n",
      "Moviepy - video ready C:/Users/naoki/anaconda_work/Faster-R-CNN-pytorch-main/data/ori_data/drama_clip/969/clip.mp4\n",
      "Moviepy - Building video C:/Users/naoki/anaconda_work/Faster-R-CNN-pytorch-main/data/ori_data/drama_clip/970/clip.mp4.\n",
      "Moviepy - Writing video C:/Users/naoki/anaconda_work/Faster-R-CNN-pytorch-main/data/ori_data/drama_clip/970/clip.mp4\n",
      "\n"
     ]
    },
    {
     "name": "stderr",
     "output_type": "stream",
     "text": [
      "                                                            \r"
     ]
    },
    {
     "name": "stdout",
     "output_type": "stream",
     "text": [
      "Moviepy - Done !\n",
      "Moviepy - video ready C:/Users/naoki/anaconda_work/Faster-R-CNN-pytorch-main/data/ori_data/drama_clip/970/clip.mp4\n",
      "Moviepy - Building video C:/Users/naoki/anaconda_work/Faster-R-CNN-pytorch-main/data/ori_data/drama_clip/971/clip.mp4.\n",
      "Moviepy - Writing video C:/Users/naoki/anaconda_work/Faster-R-CNN-pytorch-main/data/ori_data/drama_clip/971/clip.mp4\n",
      "\n"
     ]
    },
    {
     "name": "stderr",
     "output_type": "stream",
     "text": [
      "                                                            \r"
     ]
    },
    {
     "name": "stdout",
     "output_type": "stream",
     "text": [
      "Moviepy - Done !\n",
      "Moviepy - video ready C:/Users/naoki/anaconda_work/Faster-R-CNN-pytorch-main/data/ori_data/drama_clip/971/clip.mp4\n",
      "Moviepy - Building video C:/Users/naoki/anaconda_work/Faster-R-CNN-pytorch-main/data/ori_data/drama_clip/972/clip.mp4.\n",
      "Moviepy - Writing video C:/Users/naoki/anaconda_work/Faster-R-CNN-pytorch-main/data/ori_data/drama_clip/972/clip.mp4\n",
      "\n"
     ]
    },
    {
     "name": "stderr",
     "output_type": "stream",
     "text": [
      "                                                            \r"
     ]
    },
    {
     "name": "stdout",
     "output_type": "stream",
     "text": [
      "Moviepy - Done !\n",
      "Moviepy - video ready C:/Users/naoki/anaconda_work/Faster-R-CNN-pytorch-main/data/ori_data/drama_clip/972/clip.mp4\n",
      "Moviepy - Building video C:/Users/naoki/anaconda_work/Faster-R-CNN-pytorch-main/data/ori_data/drama_clip/973/clip.mp4.\n",
      "Moviepy - Writing video C:/Users/naoki/anaconda_work/Faster-R-CNN-pytorch-main/data/ori_data/drama_clip/973/clip.mp4\n",
      "\n"
     ]
    },
    {
     "name": "stderr",
     "output_type": "stream",
     "text": [
      "                                                            \r"
     ]
    },
    {
     "name": "stdout",
     "output_type": "stream",
     "text": [
      "Moviepy - Done !\n",
      "Moviepy - video ready C:/Users/naoki/anaconda_work/Faster-R-CNN-pytorch-main/data/ori_data/drama_clip/973/clip.mp4\n",
      "Moviepy - Building video C:/Users/naoki/anaconda_work/Faster-R-CNN-pytorch-main/data/ori_data/drama_clip/974/clip.mp4.\n",
      "Moviepy - Writing video C:/Users/naoki/anaconda_work/Faster-R-CNN-pytorch-main/data/ori_data/drama_clip/974/clip.mp4\n",
      "\n"
     ]
    },
    {
     "name": "stderr",
     "output_type": "stream",
     "text": [
      "                                                            \r"
     ]
    },
    {
     "name": "stdout",
     "output_type": "stream",
     "text": [
      "Moviepy - Done !\n",
      "Moviepy - video ready C:/Users/naoki/anaconda_work/Faster-R-CNN-pytorch-main/data/ori_data/drama_clip/974/clip.mp4\n",
      "Moviepy - Building video C:/Users/naoki/anaconda_work/Faster-R-CNN-pytorch-main/data/ori_data/drama_clip/975/clip.mp4.\n",
      "Moviepy - Writing video C:/Users/naoki/anaconda_work/Faster-R-CNN-pytorch-main/data/ori_data/drama_clip/975/clip.mp4\n",
      "\n"
     ]
    },
    {
     "name": "stderr",
     "output_type": "stream",
     "text": [
      "                                                            \r"
     ]
    },
    {
     "name": "stdout",
     "output_type": "stream",
     "text": [
      "Moviepy - Done !\n",
      "Moviepy - video ready C:/Users/naoki/anaconda_work/Faster-R-CNN-pytorch-main/data/ori_data/drama_clip/975/clip.mp4\n",
      "Moviepy - Building video C:/Users/naoki/anaconda_work/Faster-R-CNN-pytorch-main/data/ori_data/drama_clip/976/clip.mp4.\n",
      "Moviepy - Writing video C:/Users/naoki/anaconda_work/Faster-R-CNN-pytorch-main/data/ori_data/drama_clip/976/clip.mp4\n",
      "\n"
     ]
    },
    {
     "name": "stderr",
     "output_type": "stream",
     "text": [
      "                                                            \r"
     ]
    },
    {
     "name": "stdout",
     "output_type": "stream",
     "text": [
      "Moviepy - Done !\n",
      "Moviepy - video ready C:/Users/naoki/anaconda_work/Faster-R-CNN-pytorch-main/data/ori_data/drama_clip/976/clip.mp4\n",
      "Moviepy - Building video C:/Users/naoki/anaconda_work/Faster-R-CNN-pytorch-main/data/ori_data/drama_clip/977/clip.mp4.\n",
      "Moviepy - Writing video C:/Users/naoki/anaconda_work/Faster-R-CNN-pytorch-main/data/ori_data/drama_clip/977/clip.mp4\n",
      "\n"
     ]
    },
    {
     "name": "stderr",
     "output_type": "stream",
     "text": [
      "                                                            \r"
     ]
    },
    {
     "name": "stdout",
     "output_type": "stream",
     "text": [
      "Moviepy - Done !\n",
      "Moviepy - video ready C:/Users/naoki/anaconda_work/Faster-R-CNN-pytorch-main/data/ori_data/drama_clip/977/clip.mp4\n",
      "Moviepy - Building video C:/Users/naoki/anaconda_work/Faster-R-CNN-pytorch-main/data/ori_data/drama_clip/978/clip.mp4.\n",
      "Moviepy - Writing video C:/Users/naoki/anaconda_work/Faster-R-CNN-pytorch-main/data/ori_data/drama_clip/978/clip.mp4\n",
      "\n"
     ]
    },
    {
     "name": "stderr",
     "output_type": "stream",
     "text": [
      "                                                            \r"
     ]
    },
    {
     "name": "stdout",
     "output_type": "stream",
     "text": [
      "Moviepy - Done !\n",
      "Moviepy - video ready C:/Users/naoki/anaconda_work/Faster-R-CNN-pytorch-main/data/ori_data/drama_clip/978/clip.mp4\n",
      "Moviepy - Building video C:/Users/naoki/anaconda_work/Faster-R-CNN-pytorch-main/data/ori_data/drama_clip/979/clip.mp4.\n",
      "Moviepy - Writing video C:/Users/naoki/anaconda_work/Faster-R-CNN-pytorch-main/data/ori_data/drama_clip/979/clip.mp4\n",
      "\n"
     ]
    },
    {
     "name": "stderr",
     "output_type": "stream",
     "text": [
      "                                                            \r"
     ]
    },
    {
     "name": "stdout",
     "output_type": "stream",
     "text": [
      "Moviepy - Done !\n",
      "Moviepy - video ready C:/Users/naoki/anaconda_work/Faster-R-CNN-pytorch-main/data/ori_data/drama_clip/979/clip.mp4\n",
      "Moviepy - Building video C:/Users/naoki/anaconda_work/Faster-R-CNN-pytorch-main/data/ori_data/drama_clip/980/clip.mp4.\n",
      "Moviepy - Writing video C:/Users/naoki/anaconda_work/Faster-R-CNN-pytorch-main/data/ori_data/drama_clip/980/clip.mp4\n",
      "\n"
     ]
    },
    {
     "name": "stderr",
     "output_type": "stream",
     "text": [
      "                                                            \r"
     ]
    },
    {
     "name": "stdout",
     "output_type": "stream",
     "text": [
      "Moviepy - Done !\n",
      "Moviepy - video ready C:/Users/naoki/anaconda_work/Faster-R-CNN-pytorch-main/data/ori_data/drama_clip/980/clip.mp4\n",
      "Moviepy - Building video C:/Users/naoki/anaconda_work/Faster-R-CNN-pytorch-main/data/ori_data/drama_clip/981/clip.mp4.\n",
      "Moviepy - Writing video C:/Users/naoki/anaconda_work/Faster-R-CNN-pytorch-main/data/ori_data/drama_clip/981/clip.mp4\n",
      "\n"
     ]
    },
    {
     "name": "stderr",
     "output_type": "stream",
     "text": [
      "                                                            \r"
     ]
    },
    {
     "name": "stdout",
     "output_type": "stream",
     "text": [
      "Moviepy - Done !\n",
      "Moviepy - video ready C:/Users/naoki/anaconda_work/Faster-R-CNN-pytorch-main/data/ori_data/drama_clip/981/clip.mp4\n",
      "Moviepy - Building video C:/Users/naoki/anaconda_work/Faster-R-CNN-pytorch-main/data/ori_data/drama_clip/982/clip.mp4.\n",
      "Moviepy - Writing video C:/Users/naoki/anaconda_work/Faster-R-CNN-pytorch-main/data/ori_data/drama_clip/982/clip.mp4\n",
      "\n"
     ]
    },
    {
     "name": "stderr",
     "output_type": "stream",
     "text": [
      "                                                            \r"
     ]
    },
    {
     "name": "stdout",
     "output_type": "stream",
     "text": [
      "Moviepy - Done !\n",
      "Moviepy - video ready C:/Users/naoki/anaconda_work/Faster-R-CNN-pytorch-main/data/ori_data/drama_clip/982/clip.mp4\n",
      "Moviepy - Building video C:/Users/naoki/anaconda_work/Faster-R-CNN-pytorch-main/data/ori_data/drama_clip/983/clip.mp4.\n",
      "Moviepy - Writing video C:/Users/naoki/anaconda_work/Faster-R-CNN-pytorch-main/data/ori_data/drama_clip/983/clip.mp4\n",
      "\n"
     ]
    },
    {
     "name": "stderr",
     "output_type": "stream",
     "text": [
      "                                                            \r"
     ]
    },
    {
     "name": "stdout",
     "output_type": "stream",
     "text": [
      "Moviepy - Done !\n",
      "Moviepy - video ready C:/Users/naoki/anaconda_work/Faster-R-CNN-pytorch-main/data/ori_data/drama_clip/983/clip.mp4\n",
      "Moviepy - Building video C:/Users/naoki/anaconda_work/Faster-R-CNN-pytorch-main/data/ori_data/drama_clip/984/clip.mp4.\n",
      "Moviepy - Writing video C:/Users/naoki/anaconda_work/Faster-R-CNN-pytorch-main/data/ori_data/drama_clip/984/clip.mp4\n",
      "\n"
     ]
    },
    {
     "name": "stderr",
     "output_type": "stream",
     "text": [
      "                                                            \r"
     ]
    },
    {
     "name": "stdout",
     "output_type": "stream",
     "text": [
      "Moviepy - Done !\n",
      "Moviepy - video ready C:/Users/naoki/anaconda_work/Faster-R-CNN-pytorch-main/data/ori_data/drama_clip/984/clip.mp4\n",
      "Moviepy - Building video C:/Users/naoki/anaconda_work/Faster-R-CNN-pytorch-main/data/ori_data/drama_clip/985/clip.mp4.\n",
      "Moviepy - Writing video C:/Users/naoki/anaconda_work/Faster-R-CNN-pytorch-main/data/ori_data/drama_clip/985/clip.mp4\n",
      "\n"
     ]
    },
    {
     "name": "stderr",
     "output_type": "stream",
     "text": [
      "                                                            \r"
     ]
    },
    {
     "name": "stdout",
     "output_type": "stream",
     "text": [
      "Moviepy - Done !\n",
      "Moviepy - video ready C:/Users/naoki/anaconda_work/Faster-R-CNN-pytorch-main/data/ori_data/drama_clip/985/clip.mp4\n",
      "Moviepy - Building video C:/Users/naoki/anaconda_work/Faster-R-CNN-pytorch-main/data/ori_data/drama_clip/986/clip.mp4.\n",
      "Moviepy - Writing video C:/Users/naoki/anaconda_work/Faster-R-CNN-pytorch-main/data/ori_data/drama_clip/986/clip.mp4\n",
      "\n"
     ]
    },
    {
     "name": "stderr",
     "output_type": "stream",
     "text": [
      "                                                            \r"
     ]
    },
    {
     "name": "stdout",
     "output_type": "stream",
     "text": [
      "Moviepy - Done !\n",
      "Moviepy - video ready C:/Users/naoki/anaconda_work/Faster-R-CNN-pytorch-main/data/ori_data/drama_clip/986/clip.mp4\n",
      "Moviepy - Building video C:/Users/naoki/anaconda_work/Faster-R-CNN-pytorch-main/data/ori_data/drama_clip/987/clip.mp4.\n",
      "Moviepy - Writing video C:/Users/naoki/anaconda_work/Faster-R-CNN-pytorch-main/data/ori_data/drama_clip/987/clip.mp4\n",
      "\n"
     ]
    },
    {
     "name": "stderr",
     "output_type": "stream",
     "text": [
      "                                                            \r"
     ]
    },
    {
     "name": "stdout",
     "output_type": "stream",
     "text": [
      "Moviepy - Done !\n",
      "Moviepy - video ready C:/Users/naoki/anaconda_work/Faster-R-CNN-pytorch-main/data/ori_data/drama_clip/987/clip.mp4\n",
      "Moviepy - Building video C:/Users/naoki/anaconda_work/Faster-R-CNN-pytorch-main/data/ori_data/drama_clip/988/clip.mp4.\n",
      "Moviepy - Writing video C:/Users/naoki/anaconda_work/Faster-R-CNN-pytorch-main/data/ori_data/drama_clip/988/clip.mp4\n",
      "\n"
     ]
    },
    {
     "name": "stderr",
     "output_type": "stream",
     "text": [
      "                                                            \r"
     ]
    },
    {
     "name": "stdout",
     "output_type": "stream",
     "text": [
      "Moviepy - Done !\n",
      "Moviepy - video ready C:/Users/naoki/anaconda_work/Faster-R-CNN-pytorch-main/data/ori_data/drama_clip/988/clip.mp4\n",
      "Moviepy - Building video C:/Users/naoki/anaconda_work/Faster-R-CNN-pytorch-main/data/ori_data/drama_clip/989/clip.mp4.\n",
      "Moviepy - Writing video C:/Users/naoki/anaconda_work/Faster-R-CNN-pytorch-main/data/ori_data/drama_clip/989/clip.mp4\n",
      "\n"
     ]
    },
    {
     "name": "stderr",
     "output_type": "stream",
     "text": [
      "                                                            \r"
     ]
    },
    {
     "name": "stdout",
     "output_type": "stream",
     "text": [
      "Moviepy - Done !\n",
      "Moviepy - video ready C:/Users/naoki/anaconda_work/Faster-R-CNN-pytorch-main/data/ori_data/drama_clip/989/clip.mp4\n",
      "Moviepy - Building video C:/Users/naoki/anaconda_work/Faster-R-CNN-pytorch-main/data/ori_data/drama_clip/990/clip.mp4.\n",
      "Moviepy - Writing video C:/Users/naoki/anaconda_work/Faster-R-CNN-pytorch-main/data/ori_data/drama_clip/990/clip.mp4\n",
      "\n"
     ]
    },
    {
     "name": "stderr",
     "output_type": "stream",
     "text": [
      "                                                            \r"
     ]
    },
    {
     "name": "stdout",
     "output_type": "stream",
     "text": [
      "Moviepy - Done !\n",
      "Moviepy - video ready C:/Users/naoki/anaconda_work/Faster-R-CNN-pytorch-main/data/ori_data/drama_clip/990/clip.mp4\n",
      "Moviepy - Building video C:/Users/naoki/anaconda_work/Faster-R-CNN-pytorch-main/data/ori_data/drama_clip/991/clip.mp4.\n",
      "Moviepy - Writing video C:/Users/naoki/anaconda_work/Faster-R-CNN-pytorch-main/data/ori_data/drama_clip/991/clip.mp4\n",
      "\n"
     ]
    },
    {
     "name": "stderr",
     "output_type": "stream",
     "text": [
      "                                                            \r"
     ]
    },
    {
     "name": "stdout",
     "output_type": "stream",
     "text": [
      "Moviepy - Done !\n",
      "Moviepy - video ready C:/Users/naoki/anaconda_work/Faster-R-CNN-pytorch-main/data/ori_data/drama_clip/991/clip.mp4\n",
      "Moviepy - Building video C:/Users/naoki/anaconda_work/Faster-R-CNN-pytorch-main/data/ori_data/drama_clip/992/clip.mp4.\n",
      "Moviepy - Writing video C:/Users/naoki/anaconda_work/Faster-R-CNN-pytorch-main/data/ori_data/drama_clip/992/clip.mp4\n",
      "\n"
     ]
    },
    {
     "name": "stderr",
     "output_type": "stream",
     "text": [
      "                                                            \r"
     ]
    },
    {
     "name": "stdout",
     "output_type": "stream",
     "text": [
      "Moviepy - Done !\n",
      "Moviepy - video ready C:/Users/naoki/anaconda_work/Faster-R-CNN-pytorch-main/data/ori_data/drama_clip/992/clip.mp4\n",
      "Moviepy - Building video C:/Users/naoki/anaconda_work/Faster-R-CNN-pytorch-main/data/ori_data/drama_clip/993/clip.mp4.\n",
      "Moviepy - Writing video C:/Users/naoki/anaconda_work/Faster-R-CNN-pytorch-main/data/ori_data/drama_clip/993/clip.mp4\n",
      "\n"
     ]
    },
    {
     "name": "stderr",
     "output_type": "stream",
     "text": [
      "                                                            \r"
     ]
    },
    {
     "name": "stdout",
     "output_type": "stream",
     "text": [
      "Moviepy - Done !\n",
      "Moviepy - video ready C:/Users/naoki/anaconda_work/Faster-R-CNN-pytorch-main/data/ori_data/drama_clip/993/clip.mp4\n",
      "Moviepy - Building video C:/Users/naoki/anaconda_work/Faster-R-CNN-pytorch-main/data/ori_data/drama_clip/994/clip.mp4.\n",
      "Moviepy - Writing video C:/Users/naoki/anaconda_work/Faster-R-CNN-pytorch-main/data/ori_data/drama_clip/994/clip.mp4\n",
      "\n"
     ]
    },
    {
     "name": "stderr",
     "output_type": "stream",
     "text": [
      "                                                            \r"
     ]
    },
    {
     "name": "stdout",
     "output_type": "stream",
     "text": [
      "Moviepy - Done !\n",
      "Moviepy - video ready C:/Users/naoki/anaconda_work/Faster-R-CNN-pytorch-main/data/ori_data/drama_clip/994/clip.mp4\n",
      "Moviepy - Building video C:/Users/naoki/anaconda_work/Faster-R-CNN-pytorch-main/data/ori_data/drama_clip/995/clip.mp4.\n",
      "Moviepy - Writing video C:/Users/naoki/anaconda_work/Faster-R-CNN-pytorch-main/data/ori_data/drama_clip/995/clip.mp4\n",
      "\n"
     ]
    },
    {
     "name": "stderr",
     "output_type": "stream",
     "text": [
      "                                                            \r"
     ]
    },
    {
     "name": "stdout",
     "output_type": "stream",
     "text": [
      "Moviepy - Done !\n",
      "Moviepy - video ready C:/Users/naoki/anaconda_work/Faster-R-CNN-pytorch-main/data/ori_data/drama_clip/995/clip.mp4\n",
      "Moviepy - Building video C:/Users/naoki/anaconda_work/Faster-R-CNN-pytorch-main/data/ori_data/drama_clip/996/clip.mp4.\n",
      "Moviepy - Writing video C:/Users/naoki/anaconda_work/Faster-R-CNN-pytorch-main/data/ori_data/drama_clip/996/clip.mp4\n",
      "\n"
     ]
    },
    {
     "name": "stderr",
     "output_type": "stream",
     "text": [
      "                                                            \r"
     ]
    },
    {
     "name": "stdout",
     "output_type": "stream",
     "text": [
      "Moviepy - Done !\n",
      "Moviepy - video ready C:/Users/naoki/anaconda_work/Faster-R-CNN-pytorch-main/data/ori_data/drama_clip/996/clip.mp4\n",
      "Moviepy - Building video C:/Users/naoki/anaconda_work/Faster-R-CNN-pytorch-main/data/ori_data/drama_clip/997/clip.mp4.\n",
      "Moviepy - Writing video C:/Users/naoki/anaconda_work/Faster-R-CNN-pytorch-main/data/ori_data/drama_clip/997/clip.mp4\n",
      "\n"
     ]
    },
    {
     "name": "stderr",
     "output_type": "stream",
     "text": [
      "                                                            \r"
     ]
    },
    {
     "name": "stdout",
     "output_type": "stream",
     "text": [
      "Moviepy - Done !\n",
      "Moviepy - video ready C:/Users/naoki/anaconda_work/Faster-R-CNN-pytorch-main/data/ori_data/drama_clip/997/clip.mp4\n",
      "Moviepy - Building video C:/Users/naoki/anaconda_work/Faster-R-CNN-pytorch-main/data/ori_data/drama_clip/998/clip.mp4.\n",
      "Moviepy - Writing video C:/Users/naoki/anaconda_work/Faster-R-CNN-pytorch-main/data/ori_data/drama_clip/998/clip.mp4\n",
      "\n"
     ]
    },
    {
     "name": "stderr",
     "output_type": "stream",
     "text": [
      "                                                            \r"
     ]
    },
    {
     "name": "stdout",
     "output_type": "stream",
     "text": [
      "Moviepy - Done !\n",
      "Moviepy - video ready C:/Users/naoki/anaconda_work/Faster-R-CNN-pytorch-main/data/ori_data/drama_clip/998/clip.mp4\n",
      "Moviepy - Building video C:/Users/naoki/anaconda_work/Faster-R-CNN-pytorch-main/data/ori_data/drama_clip/999/clip.mp4.\n",
      "Moviepy - Writing video C:/Users/naoki/anaconda_work/Faster-R-CNN-pytorch-main/data/ori_data/drama_clip/999/clip.mp4\n",
      "\n"
     ]
    },
    {
     "name": "stderr",
     "output_type": "stream",
     "text": [
      "                                                            \r"
     ]
    },
    {
     "name": "stdout",
     "output_type": "stream",
     "text": [
      "Moviepy - Done !\n",
      "Moviepy - video ready C:/Users/naoki/anaconda_work/Faster-R-CNN-pytorch-main/data/ori_data/drama_clip/999/clip.mp4\n"
     ]
    }
   ],
   "source": [
    "import moviepy.editor as mp\n",
    "from natsort import natsorted\n",
    "from glob import glob\n",
    "import os\n",
    "#gif動画ファイルの読み込み\n",
    "\n",
    "for i in range(0,1000):\n",
    "    path = 'C:/Users/naoki/anaconda_work/Faster-R-CNN-pytorch-main/data/ori_data/drama_clip/{}'.format(i)\n",
    "    gif_files = natsorted(glob(os.path.join(path, '*.gif')))\n",
    "    #print(gif_files)\n",
    "    movie_file=mp.VideoFileClip(gif_files[0])\n",
    "    #mp4動画ファイルの保存\n",
    "    movie_file.write_videofile('C:/Users/naoki/anaconda_work/Faster-R-CNN-pytorch-main/data/ori_data/drama_clip/{}/clip.mp4'.format(i))\n",
    "#movie_file.close()"
   ]
  }
 ],
 "metadata": {
  "kernelspec": {
   "display_name": "my_study",
   "language": "python",
   "name": "python3"
  },
  "language_info": {
   "codemirror_mode": {
    "name": "ipython",
    "version": 3
   },
   "file_extension": ".py",
   "mimetype": "text/x-python",
   "name": "python",
   "nbconvert_exporter": "python",
   "pygments_lexer": "ipython3",
   "version": "3.9.16"
  },
  "orig_nbformat": 4
 },
 "nbformat": 4,
 "nbformat_minor": 2
}
