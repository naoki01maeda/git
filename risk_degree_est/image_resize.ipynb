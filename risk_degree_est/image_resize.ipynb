{
 "cells": [
  {
   "cell_type": "code",
   "execution_count": 1,
   "metadata": {},
   "outputs": [],
   "source": [
    "import glob\t\t\n",
    "import cv2\t\t\n",
    "\t\t\n",
    "# glob.glob(パス)で取得して、img_listというリストに格納する。\t\t\n",
    "img_list = glob.glob(\"C:/Users/naoki/anaconda_work/Faster-R-CNN-pytorch-main/data/ori_test_data/*.png\")\t\t\n",
    "img_list.extend(glob.glob(\"C:/Users/naoki/anaconda_work/Faster-R-CNN-pytorch-main/data/ori_test_data/*.png\"))\t\t\n",
    "\t\t\n",
    "for i,img in enumerate(img_list):\t\t\n",
    "\t#img_listの中身を一つずつimgに格納する。\t\n",
    "\t#imgを読み込む。\t\n",
    "\toriginal_img = cv2.imread(img)\t\n",
    "\t\t\n",
    "\t#リサイズする\t\n",
    "\tresized_img = cv2.resize(original_img,(1000, 740))\t\n",
    "\t\t\n",
    "\t#保存する\t\n",
    "\tcv2.imwrite(\"C:/Users/naoki/anaconda_work/Faster-R-CNN-pytorch-main/data/processing_image/ori_test_data\" + str(i) + \".jpg\", resized_img)"
   ]
  },
  {
   "cell_type": "code",
   "execution_count": null,
   "metadata": {},
   "outputs": [],
   "source": []
  }
 ],
 "metadata": {
  "kernelspec": {
   "display_name": "my_study",
   "language": "python",
   "name": "python3"
  },
  "language_info": {
   "codemirror_mode": {
    "name": "ipython",
    "version": 3
   },
   "file_extension": ".py",
   "mimetype": "text/x-python",
   "name": "python",
   "nbconvert_exporter": "python",
   "pygments_lexer": "ipython3",
   "version": "3.9.16"
  },
  "orig_nbformat": 4,
  "vscode": {
   "interpreter": {
    "hash": "b5820871c137c7564f7070d1d3e5ae6c7e29d732b1aa0856a35d442c9732a27c"
   }
  }
 },
 "nbformat": 4,
 "nbformat_minor": 2
}
