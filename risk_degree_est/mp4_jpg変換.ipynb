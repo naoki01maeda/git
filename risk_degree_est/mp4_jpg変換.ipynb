{
 "cells": [
  {
   "cell_type": "code",
   "execution_count": 2,
   "metadata": {},
   "outputs": [],
   "source": [
    "import cv2\n",
    "import os\n",
    "\n",
    "def save_all_frames(video_path, dir_path, basename, ext='jpg'):\n",
    "    cap = cv2.VideoCapture(video_path)\n",
    "\n",
    "    if not cap.isOpened():\n",
    "        return\n",
    "\n",
    "    os.makedirs(dir_path, exist_ok=True)\n",
    "    base_path = os.path.join(dir_path, basename)\n",
    "\n",
    "    digit = len(str(int(cap.get(cv2.CAP_PROP_FRAME_COUNT))))\n",
    "\n",
    "    n = 0\n",
    "\n",
    "    while True:\n",
    "        ret, frame = cap.read()\n",
    "        if ret:\n",
    "            resized_img = cv2.resize(frame,(1000, 740))\t\n",
    "            cv2.imwrite('{}_{}.{}'.format(base_path, str(n).zfill(digit), ext), resized_img)\n",
    "            n += 1\n",
    "        else:\n",
    "            return\n",
    "\n",
    "save_all_frames('C:/Users/naoki/anaconda_work/Faster-R-CNN-pytorch-main/data/ori_movie/jaf_test.mp4',\n",
    "                'C:/Users/naoki/anaconda_work/Faster-R-CNN-pytorch-main/data/processing_movie', 'sample_video_img')\n",
    "\n",
    "#save_all_frames('data/temp/sample_video.mp4', 'data/temp/result_png', 'sample_video_img', 'png')"
   ]
  }
 ],
 "metadata": {
  "kernelspec": {
   "display_name": "my_study",
   "language": "python",
   "name": "python3"
  },
  "language_info": {
   "codemirror_mode": {
    "name": "ipython",
    "version": 3
   },
   "file_extension": ".py",
   "mimetype": "text/x-python",
   "name": "python",
   "nbconvert_exporter": "python",
   "pygments_lexer": "ipython3",
   "version": "3.9.16"
  },
  "orig_nbformat": 4,
  "vscode": {
   "interpreter": {
    "hash": "b5820871c137c7564f7070d1d3e5ae6c7e29d732b1aa0856a35d442c9732a27c"
   }
  }
 },
 "nbformat": 4,
 "nbformat_minor": 2
}
